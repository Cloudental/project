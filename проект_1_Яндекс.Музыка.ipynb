{
 "cells": [
  {
   "cell_type": "markdown",
   "metadata": {
    "id": "E0vqbgi9ay0H"
   },
   "source": [
    "# Яндекс.Музыка"
   ]
  },
  {
   "cell_type": "markdown",
   "metadata": {
    "id": "VUC88oWjTJw2"
   },
   "source": [
    "Сравнение Москвы и Петербурга окружено мифами. Например:\n",
    " * Москва — мегаполис, подчинённый жёсткому ритму рабочей недели;\n",
    " * Петербург — культурная столица, со своими вкусами.\n",
    "\n",
    "На данных Яндекс.Музыки вы сравните поведение пользователей двух столиц.\n",
    "\n",
    "**Цель исследования** — проверьте три гипотезы:\n",
    "1. Активность пользователей зависит от дня недели. Причём в Москве и Петербурге это проявляется по-разному.\n",
    "2. В понедельник утром в Москве преобладают одни жанры, а в Петербурге — другие. Так же и вечером пятницы преобладают разные жанры — в зависимости от города. \n",
    "3. Москва и Петербург предпочитают разные жанры музыки. В Москве чаще слушают поп-музыку, в Петербурге — русский рэп.\n",
    "\n",
    "**Ход исследования**\n",
    "\n",
    "Данные о поведении пользователей вы получите из файла `yandex_music_project.csv`. О качестве данных ничего не известно. Поэтому перед проверкой гипотез понадобится обзор данных. \n",
    "\n",
    "Вы проверите данные на ошибки и оцените их влияние на исследование. Затем, на этапе предобработки вы поищете возможность исправить самые критичные ошибки данных.\n",
    " \n",
    "Таким образом, исследование пройдёт в три этапа:\n",
    " 1. Обзор данных.\n",
    " 2. Предобработка данных.\n",
    " 3. Проверка гипотез.\n",
    "\n"
   ]
  },
  {
   "cell_type": "markdown",
   "metadata": {
    "id": "Ml1hmfXC_Zcs"
   },
   "source": [
    "## Обзор данных\n",
    "\n",
    "Составьте первое представление о данных Яндекс.Музыки.\n",
    "\n",
    "\n"
   ]
  },
  {
   "cell_type": "markdown",
   "metadata": {
    "id": "57eAOGIz_Zcs"
   },
   "source": [
    "Основной инструмент аналитика — `pandas`. Импортируйте эту библиотеку."
   ]
  },
  {
   "cell_type": "code",
   "execution_count": 1,
   "metadata": {
    "id": "AXN7PHPN_Zcs"
   },
   "outputs": [],
   "source": [
    "# импорт библиотеки pandas\n",
    "import pandas as pd "
   ]
  },
  {
   "cell_type": "markdown",
   "metadata": {
    "id": "SG23P8tt_Zcs"
   },
   "source": [
    "Прочитайте файл `yandex_music_project.csv` из папки `/datasets` и сохраните его в переменной `df`:"
   ]
  },
  {
   "cell_type": "code",
   "execution_count": 2,
   "metadata": {
    "id": "fFVu7vqh_Zct"
   },
   "outputs": [],
   "source": [
    "# чтение файла с данными и сохранение в df\n",
    "df = pd.read_csv('/datasets/yandex_music_project.csv') "
   ]
  },
  {
   "cell_type": "markdown",
   "metadata": {
    "id": "rDoOMd3uTqnZ"
   },
   "source": [
    "Выведите на экран первые десять строк таблицы:"
   ]
  },
  {
   "cell_type": "code",
   "execution_count": 3,
   "metadata": {
    "id": "oWTVX3gW_Zct"
   },
   "outputs": [
    {
     "data": {
      "text/html": [
       "<div>\n",
       "<style scoped>\n",
       "    .dataframe tbody tr th:only-of-type {\n",
       "        vertical-align: middle;\n",
       "    }\n",
       "\n",
       "    .dataframe tbody tr th {\n",
       "        vertical-align: top;\n",
       "    }\n",
       "\n",
       "    .dataframe thead th {\n",
       "        text-align: right;\n",
       "    }\n",
       "</style>\n",
       "<table border=\"1\" class=\"dataframe\">\n",
       "  <thead>\n",
       "    <tr style=\"text-align: right;\">\n",
       "      <th></th>\n",
       "      <th>userID</th>\n",
       "      <th>Track</th>\n",
       "      <th>artist</th>\n",
       "      <th>genre</th>\n",
       "      <th>City</th>\n",
       "      <th>time</th>\n",
       "      <th>Day</th>\n",
       "    </tr>\n",
       "  </thead>\n",
       "  <tbody>\n",
       "    <tr>\n",
       "      <th>0</th>\n",
       "      <td>FFB692EC</td>\n",
       "      <td>Kamigata To Boots</td>\n",
       "      <td>The Mass Missile</td>\n",
       "      <td>rock</td>\n",
       "      <td>Saint-Petersburg</td>\n",
       "      <td>20:28:33</td>\n",
       "      <td>Wednesday</td>\n",
       "    </tr>\n",
       "    <tr>\n",
       "      <th>1</th>\n",
       "      <td>55204538</td>\n",
       "      <td>Delayed Because of Accident</td>\n",
       "      <td>Andreas Rönnberg</td>\n",
       "      <td>rock</td>\n",
       "      <td>Moscow</td>\n",
       "      <td>14:07:09</td>\n",
       "      <td>Friday</td>\n",
       "    </tr>\n",
       "    <tr>\n",
       "      <th>2</th>\n",
       "      <td>20EC38</td>\n",
       "      <td>Funiculì funiculà</td>\n",
       "      <td>Mario Lanza</td>\n",
       "      <td>pop</td>\n",
       "      <td>Saint-Petersburg</td>\n",
       "      <td>20:58:07</td>\n",
       "      <td>Wednesday</td>\n",
       "    </tr>\n",
       "    <tr>\n",
       "      <th>3</th>\n",
       "      <td>A3DD03C9</td>\n",
       "      <td>Dragons in the Sunset</td>\n",
       "      <td>Fire + Ice</td>\n",
       "      <td>folk</td>\n",
       "      <td>Saint-Petersburg</td>\n",
       "      <td>08:37:09</td>\n",
       "      <td>Monday</td>\n",
       "    </tr>\n",
       "    <tr>\n",
       "      <th>4</th>\n",
       "      <td>E2DC1FAE</td>\n",
       "      <td>Soul People</td>\n",
       "      <td>Space Echo</td>\n",
       "      <td>dance</td>\n",
       "      <td>Moscow</td>\n",
       "      <td>08:34:34</td>\n",
       "      <td>Monday</td>\n",
       "    </tr>\n",
       "    <tr>\n",
       "      <th>5</th>\n",
       "      <td>842029A1</td>\n",
       "      <td>Преданная</td>\n",
       "      <td>IMPERVTOR</td>\n",
       "      <td>rusrap</td>\n",
       "      <td>Saint-Petersburg</td>\n",
       "      <td>13:09:41</td>\n",
       "      <td>Friday</td>\n",
       "    </tr>\n",
       "    <tr>\n",
       "      <th>6</th>\n",
       "      <td>4CB90AA5</td>\n",
       "      <td>True</td>\n",
       "      <td>Roman Messer</td>\n",
       "      <td>dance</td>\n",
       "      <td>Moscow</td>\n",
       "      <td>13:00:07</td>\n",
       "      <td>Wednesday</td>\n",
       "    </tr>\n",
       "    <tr>\n",
       "      <th>7</th>\n",
       "      <td>F03E1C1F</td>\n",
       "      <td>Feeling This Way</td>\n",
       "      <td>Polina Griffith</td>\n",
       "      <td>dance</td>\n",
       "      <td>Moscow</td>\n",
       "      <td>20:47:49</td>\n",
       "      <td>Wednesday</td>\n",
       "    </tr>\n",
       "    <tr>\n",
       "      <th>8</th>\n",
       "      <td>8FA1D3BE</td>\n",
       "      <td>И вновь продолжается бой</td>\n",
       "      <td>NaN</td>\n",
       "      <td>ruspop</td>\n",
       "      <td>Moscow</td>\n",
       "      <td>09:17:40</td>\n",
       "      <td>Friday</td>\n",
       "    </tr>\n",
       "    <tr>\n",
       "      <th>9</th>\n",
       "      <td>E772D5C0</td>\n",
       "      <td>Pessimist</td>\n",
       "      <td>NaN</td>\n",
       "      <td>dance</td>\n",
       "      <td>Saint-Petersburg</td>\n",
       "      <td>21:20:49</td>\n",
       "      <td>Wednesday</td>\n",
       "    </tr>\n",
       "  </tbody>\n",
       "</table>\n",
       "</div>"
      ],
      "text/plain": [
       "     userID                        Track            artist   genre  \\\n",
       "0  FFB692EC            Kamigata To Boots  The Mass Missile    rock   \n",
       "1  55204538  Delayed Because of Accident  Andreas Rönnberg    rock   \n",
       "2    20EC38            Funiculì funiculà       Mario Lanza     pop   \n",
       "3  A3DD03C9        Dragons in the Sunset        Fire + Ice    folk   \n",
       "4  E2DC1FAE                  Soul People        Space Echo   dance   \n",
       "5  842029A1                    Преданная         IMPERVTOR  rusrap   \n",
       "6  4CB90AA5                         True      Roman Messer   dance   \n",
       "7  F03E1C1F             Feeling This Way   Polina Griffith   dance   \n",
       "8  8FA1D3BE     И вновь продолжается бой               NaN  ruspop   \n",
       "9  E772D5C0                    Pessimist               NaN   dance   \n",
       "\n",
       "             City        time        Day  \n",
       "0  Saint-Petersburg  20:28:33  Wednesday  \n",
       "1            Moscow  14:07:09     Friday  \n",
       "2  Saint-Petersburg  20:58:07  Wednesday  \n",
       "3  Saint-Petersburg  08:37:09     Monday  \n",
       "4            Moscow  08:34:34     Monday  \n",
       "5  Saint-Petersburg  13:09:41     Friday  \n",
       "6            Moscow  13:00:07  Wednesday  \n",
       "7            Moscow  20:47:49  Wednesday  \n",
       "8            Moscow  09:17:40     Friday  \n",
       "9  Saint-Petersburg  21:20:49  Wednesday  "
      ]
     },
     "execution_count": 3,
     "metadata": {},
     "output_type": "execute_result"
    }
   ],
   "source": [
    "# получение первых 10 строк таблицы df\n",
    "df.head(10)"
   ]
  },
  {
   "cell_type": "markdown",
   "metadata": {
    "id": "EO73Kwic_Zct"
   },
   "source": [
    "Одной командой получить общую информацию о таблице:"
   ]
  },
  {
   "cell_type": "code",
   "execution_count": 4,
   "metadata": {
    "id": "DSf2kIb-_Zct"
   },
   "outputs": [
    {
     "name": "stdout",
     "output_type": "stream",
     "text": [
      "<class 'pandas.core.frame.DataFrame'>\n",
      "RangeIndex: 65079 entries, 0 to 65078\n",
      "Data columns (total 7 columns):\n",
      " #   Column    Non-Null Count  Dtype \n",
      "---  ------    --------------  ----- \n",
      " 0     userID  65079 non-null  object\n",
      " 1   Track     63848 non-null  object\n",
      " 2   artist    57876 non-null  object\n",
      " 3   genre     63881 non-null  object\n",
      " 4     City    65079 non-null  object\n",
      " 5   time      65079 non-null  object\n",
      " 6   Day       65079 non-null  object\n",
      "dtypes: object(7)\n",
      "memory usage: 3.5+ MB\n"
     ]
    }
   ],
   "source": [
    "# получение общей информации о данных в таблице df\n",
    "df.info()"
   ]
  },
  {
   "cell_type": "markdown",
   "metadata": {
    "id": "TaQ2Iwbr_Zct"
   },
   "source": [
    "Итак, в таблице семь столбцов. Тип данных во всех столбцах — `object`.\n",
    "\n",
    "Согласно документации к данным:\n",
    "* `userID` — идентификатор пользователя;\n",
    "* `Track` — название трека;  \n",
    "* `artist` — имя исполнителя;\n",
    "* `genre` — название жанра;\n",
    "* `City` — город пользователя;\n",
    "* `time` — время начала прослушивания;\n",
    "* `Day` — день недели.\n",
    "\n",
    "В названиях колонок видны три нарушения стиля:\n",
    "1. Строчные буквы сочетаются с прописными.\n",
    "2. Встречаются пробелы.\n",
    "3. Пропущен змеиный регистр.\n",
    "\n",
    "\n",
    "\n",
    "Количество значений в столбцах различается. Значит, в данных есть пропущенные значения.\n"
   ]
  },
  {
   "cell_type": "markdown",
   "metadata": {
    "id": "MCB6-dXG_Zct"
   },
   "source": [
    "**Выводы**\n",
    "\n",
    "В каждой строке таблицы — данные о прослушанном треке. Часть колонок описывает саму композицию: название, исполнителя и жанр. Остальные данные рассказывают о пользователе: из какого он города, когда он слушал музыку. \n",
    "\n",
    "Предварительно можно утверждать, что, данных достаточно для проверки гипотез. Но встречаются пропуски в данных, а в названиях колонок — расхождения с хорошим стилем.\n",
    "\n",
    "Чтобы двигаться дальше, нужно устранить проблемы в данных."
   ]
  },
  {
   "cell_type": "markdown",
   "metadata": {
    "id": "SjYF6Ub9_Zct"
   },
   "source": [
    "## Предобработка данных\n",
    "Исправьте стиль в заголовках столбцов, исключите пропуски. Затем проверьте данные на дубликаты."
   ]
  },
  {
   "cell_type": "markdown",
   "metadata": {
    "id": "dIaKXr29_Zct"
   },
   "source": [
    "### Стиль заголовков\n",
    "Выведите на экран названия столбцов:"
   ]
  },
  {
   "cell_type": "code",
   "execution_count": 5,
   "metadata": {
    "id": "oKOTdF_Q_Zct"
   },
   "outputs": [
    {
     "data": {
      "text/plain": [
       "Index(['  userID', 'Track', 'artist', 'genre', '  City  ', 'time', 'Day'], dtype='object')"
      ]
     },
     "execution_count": 5,
     "metadata": {},
     "output_type": "execute_result"
    }
   ],
   "source": [
    "# перечень названий столбцов таблицы df\n",
    "df.columns"
   ]
  },
  {
   "cell_type": "markdown",
   "metadata": {
    "id": "FPZA3ki8xe7T"
   },
   "source": [
    "Index(['  userID', 'Track', 'artist', 'genre', '  City  ', 'time', 'Day'], dtype='object')"
   ]
  },
  {
   "cell_type": "markdown",
   "metadata": {
    "id": "zj5534cv_Zct"
   },
   "source": [
    "Приведите названия в соответствие с хорошим стилем:\n",
    "* несколько слов в названии запишите в «змеином_регистре»,\n",
    "* все символы сделайте строчными,\n",
    "* устраните пробелы.\n",
    "\n",
    "Для этого переименуйте колонки так:\n",
    "* `'  userID'` → `'user_id'`;\n",
    "* `'Track'` → `'track'`;\n",
    "* `'  City  '` → `'city'`;\n",
    "* `'Day'` → `'day'`."
   ]
  },
  {
   "cell_type": "code",
   "execution_count": 6,
   "metadata": {
    "id": "ISlFqs5y_Zct"
   },
   "outputs": [],
   "source": [
    "df = df.rename(\n",
    "columns={\n",
    "    '  userID': 'user_id',\n",
    "    'Track': 'track',\n",
    "    '  City  ': 'city',\n",
    "    'Day': 'day',\n",
    "    }\n",
    ")"
   ]
  },
  {
   "cell_type": "markdown",
   "metadata": {
    "id": "1dqbh00J_Zct"
   },
   "source": [
    "Проверьте результат. Для этого ещё раз выведите на экран названия столбцов:"
   ]
  },
  {
   "cell_type": "code",
   "execution_count": 7,
   "metadata": {
    "id": "d4NOAmTW_Zct"
   },
   "outputs": [
    {
     "data": {
      "text/plain": [
       "['user_id', 'track', 'artist', 'genre', 'city', 'time', 'day']"
      ]
     },
     "execution_count": 7,
     "metadata": {},
     "output_type": "execute_result"
    }
   ],
   "source": [
    "# проверка результатов - перечень названий столбцов\n",
    "list(df)"
   ]
  },
  {
   "cell_type": "markdown",
   "metadata": {
    "id": "5ISfbcfY_Zct"
   },
   "source": [
    "### Пропуски значений\n",
    "Сначала посчитайте, сколько в таблице пропущенных значений. Для этого достаточно двух методов `pandas`:"
   ]
  },
  {
   "cell_type": "code",
   "execution_count": 8,
   "metadata": {
    "id": "RskX29qr_Zct"
   },
   "outputs": [
    {
     "data": {
      "text/plain": [
       "user_id       0\n",
       "track      1231\n",
       "artist     7203\n",
       "genre      1198\n",
       "city          0\n",
       "time          0\n",
       "day           0\n",
       "dtype: int64"
      ]
     },
     "execution_count": 8,
     "metadata": {},
     "output_type": "execute_result"
    }
   ],
   "source": [
    "# подсчёт пропусков\n",
    "df.isna().sum()"
   ]
  },
  {
   "cell_type": "markdown",
   "metadata": {
    "id": "qubhgnlO_Zct"
   },
   "source": [
    "Не все пропущенные значения влияют на исследование. Так в `track` и `artist` пропуски не важны для вашей работы. Достаточно заменить их явными обозначениями.\n",
    "\n",
    "Но пропуски в `genre` могут помешать сравнению музыкальных вкусов в Москве и Санкт-Петербурге. На практике было бы правильно установить причину пропусков и восстановить данные. Такой возможности нет в учебном проекте. Придётся:\n",
    "* заполнить и эти пропуски явными обозначениями,\n",
    "* оценить, насколько они повредят расчётам. "
   ]
  },
  {
   "cell_type": "markdown",
   "metadata": {
    "id": "fSv2laPA_Zct"
   },
   "source": [
    "Замените пропущенные значения в столбцах `track`, `artist` и `genre` на строку `'unknown'`. Для этого создайте список `columns_to_replace`, переберите его элементы циклом `for` и для каждого столбца выполните замену пропущенных значений:"
   ]
  },
  {
   "cell_type": "code",
   "execution_count": 9,
   "metadata": {
    "id": "KplB5qWs_Zct"
   },
   "outputs": [],
   "source": [
    "# перебор названий столбцов в цикле и замена пропущенных значений на 'unknown'\n",
    "columns_to_replace = ['track', 'artist', 'genre']\n",
    "for i in columns_to_replace:\n",
    "    df[i] = df[i].fillna('unknown')"
   ]
  },
  {
   "cell_type": "markdown",
   "metadata": {
    "id": "Ilsm-MZo_Zct"
   },
   "source": [
    "Убедитесь, что в таблице не осталось пропусков. Для этого ещё раз посчитайте пропущенные значения."
   ]
  },
  {
   "cell_type": "code",
   "execution_count": 10,
   "metadata": {
    "id": "Tq4nYRX4_Zct"
   },
   "outputs": [
    {
     "data": {
      "text/plain": [
       "user_id    0\n",
       "track      0\n",
       "artist     0\n",
       "genre      0\n",
       "city       0\n",
       "time       0\n",
       "day        0\n",
       "dtype: int64"
      ]
     },
     "execution_count": 10,
     "metadata": {},
     "output_type": "execute_result"
    }
   ],
   "source": [
    " # подсчёт пропусков\n",
    "df.isnull().sum()"
   ]
  },
  {
   "cell_type": "markdown",
   "metadata": {
    "id": "BWKRtBJ3_Zct"
   },
   "source": [
    "### Дубликаты\n",
    "Посчитайте явные дубликаты в таблице одной командой:"
   ]
  },
  {
   "cell_type": "code",
   "execution_count": 11,
   "metadata": {
    "id": "36eES_S0_Zct"
   },
   "outputs": [
    {
     "data": {
      "text/plain": [
       "3826"
      ]
     },
     "execution_count": 11,
     "metadata": {},
     "output_type": "execute_result"
    }
   ],
   "source": [
    "# подсчёт явных дубликатов\n",
    "df.duplicated().sum()"
   ]
  },
  {
   "cell_type": "markdown",
   "metadata": {
    "id": "Ot25h6XR_Zct"
   },
   "source": [
    "Вызовите специальный метод `pandas`, чтобы удалить явные дубликаты:"
   ]
  },
  {
   "cell_type": "code",
   "execution_count": 12,
   "metadata": {
    "id": "exFHq6tt_Zct"
   },
   "outputs": [],
   "source": [
    "# удаление явных дубликатов (с удалением старых индексов и формированием новых)\n",
    "df = df.drop_duplicates().reset_index(drop=True)"
   ]
  },
  {
   "cell_type": "markdown",
   "metadata": {
    "id": "Im2YwBEG_Zct"
   },
   "source": [
    "Ещё раз посчитайте явные дубликаты в таблице — убедитесь, что полностью от них избавились:"
   ]
  },
  {
   "cell_type": "code",
   "execution_count": 13,
   "metadata": {
    "id": "-8PuNWQ0_Zct"
   },
   "outputs": [
    {
     "data": {
      "text/plain": [
       "0"
      ]
     },
     "execution_count": 13,
     "metadata": {},
     "output_type": "execute_result"
    }
   ],
   "source": [
    "# проверка на отсутствие дубликатов\n",
    "df.duplicated().sum()"
   ]
  },
  {
   "cell_type": "markdown",
   "metadata": {
    "id": "QlFBsxAr_Zct"
   },
   "source": [
    "Теперь избавьтесь от неявных дубликатов в колонке `genre`. Например, название одного и того же жанра может быть записано немного по-разному. Такие ошибки тоже повлияют на результат исследования."
   ]
  },
  {
   "cell_type": "markdown",
   "metadata": {
    "id": "eSjWwsOh_Zct"
   },
   "source": [
    "Выведите на экран список уникальных названий жанров, отсортированный в алфавитном порядке. Для этого:\n",
    "* извлеките нужный столбец датафрейма, \n",
    "* примените к нему метод сортировки,\n",
    "* для отсортированного столбца вызовите метод, который вернёт уникальные значения из столбца."
   ]
  },
  {
   "cell_type": "code",
   "execution_count": 14,
   "metadata": {
    "id": "JIUcqzZN_Zct",
    "scrolled": false
   },
   "outputs": [
    {
     "data": {
      "text/plain": [
       "array(['acid', 'acoustic', 'action', 'adult', 'africa', 'afrikaans',\n",
       "       'alternative', 'alternativepunk', 'ambient', 'americana',\n",
       "       'animated', 'anime', 'arabesk', 'arabic', 'arena',\n",
       "       'argentinetango', 'art', 'audiobook', 'author', 'avantgarde',\n",
       "       'axé', 'baile', 'balkan', 'beats', 'bigroom', 'black', 'bluegrass',\n",
       "       'blues', 'bollywood', 'bossa', 'brazilian', 'breakbeat', 'breaks',\n",
       "       'broadway', 'cantautori', 'cantopop', 'canzone', 'caribbean',\n",
       "       'caucasian', 'celtic', 'chamber', 'chanson', 'children', 'chill',\n",
       "       'chinese', 'choral', 'christian', 'christmas', 'classical',\n",
       "       'classicmetal', 'club', 'colombian', 'comedy', 'conjazz',\n",
       "       'contemporary', 'country', 'cuban', 'dance', 'dancehall',\n",
       "       'dancepop', 'dark', 'death', 'deep', 'deutschrock', 'deutschspr',\n",
       "       'dirty', 'disco', 'dnb', 'documentary', 'downbeat', 'downtempo',\n",
       "       'drum', 'dub', 'dubstep', 'eastern', 'easy', 'electronic',\n",
       "       'electropop', 'emo', 'entehno', 'epicmetal', 'estrada', 'ethnic',\n",
       "       'eurofolk', 'european', 'experimental', 'extrememetal', 'fado',\n",
       "       'fairytail', 'film', 'fitness', 'flamenco', 'folk', 'folklore',\n",
       "       'folkmetal', 'folkrock', 'folktronica', 'forró', 'frankreich',\n",
       "       'französisch', 'french', 'funk', 'future', 'gangsta', 'garage',\n",
       "       'german', 'ghazal', 'gitarre', 'glitch', 'gospel', 'gothic',\n",
       "       'grime', 'grunge', 'gypsy', 'handsup', \"hard'n'heavy\", 'hardcore',\n",
       "       'hardstyle', 'hardtechno', 'hip', 'hip-hop', 'hiphop',\n",
       "       'historisch', 'holiday', 'hop', 'horror', 'house', 'hymn', 'idm',\n",
       "       'independent', 'indian', 'indie', 'indipop', 'industrial',\n",
       "       'inspirational', 'instrumental', 'international', 'irish', 'jam',\n",
       "       'japanese', 'jazz', 'jewish', 'jpop', 'jungle', 'k-pop',\n",
       "       'karadeniz', 'karaoke', 'kayokyoku', 'korean', 'laiko', 'latin',\n",
       "       'latino', 'leftfield', 'local', 'lounge', 'loungeelectronic',\n",
       "       'lovers', 'malaysian', 'mandopop', 'marschmusik', 'meditative',\n",
       "       'mediterranean', 'melodic', 'metal', 'metalcore', 'mexican',\n",
       "       'middle', 'minimal', 'miscellaneous', 'modern', 'mood', 'mpb',\n",
       "       'muslim', 'native', 'neoklassik', 'neue', 'new', 'newage',\n",
       "       'newwave', 'nu', 'nujazz', 'numetal', 'oceania', 'old', 'opera',\n",
       "       'orchestral', 'other', 'piano', 'podcasts', 'pop', 'popdance',\n",
       "       'popelectronic', 'popeurodance', 'poprussian', 'post',\n",
       "       'posthardcore', 'postrock', 'power', 'progmetal', 'progressive',\n",
       "       'psychedelic', 'punjabi', 'punk', 'quebecois', 'ragga', 'ram',\n",
       "       'rancheras', 'rap', 'rave', 'reggae', 'reggaeton', 'regional',\n",
       "       'relax', 'religious', 'retro', 'rhythm', 'rnb', 'rnr', 'rock',\n",
       "       'rockabilly', 'rockalternative', 'rockindie', 'rockother',\n",
       "       'romance', 'roots', 'ruspop', 'rusrap', 'rusrock', 'russian',\n",
       "       'salsa', 'samba', 'scenic', 'schlager', 'self', 'sertanejo',\n",
       "       'shanson', 'shoegazing', 'showtunes', 'singer', 'ska', 'skarock',\n",
       "       'slow', 'smooth', 'soft', 'soul', 'soulful', 'sound', 'soundtrack',\n",
       "       'southern', 'specialty', 'speech', 'spiritual', 'sport',\n",
       "       'stonerrock', 'surf', 'swing', 'synthpop', 'synthrock',\n",
       "       'sängerportrait', 'tango', 'tanzorchester', 'taraftar', 'tatar',\n",
       "       'tech', 'techno', 'teen', 'thrash', 'top', 'traditional',\n",
       "       'tradjazz', 'trance', 'tribal', 'trip', 'triphop', 'tropical',\n",
       "       'türk', 'türkçe', 'ukrrock', 'unknown', 'urban', 'uzbek',\n",
       "       'variété', 'vi', 'videogame', 'vocal', 'western', 'world',\n",
       "       'worldbeat', 'ïîï', 'электроника'], dtype=object)"
      ]
     },
     "execution_count": 14,
     "metadata": {},
     "output_type": "execute_result"
    }
   ],
   "source": [
    "# Просмотр уникальных названий жанров\n",
    "genre_data = df['genre']\n",
    "genre_data_sorted = genre_data.sort_values()\n",
    "df['genre'].sort_values().unique()"
   ]
  },
  {
   "cell_type": "markdown",
   "metadata": {
    "id": "qej-Qmuo_Zct"
   },
   "source": [
    "Просмотрите список и найдите неявные дубликаты названия `hiphop`. Это могут быть названия с ошибками или альтернативные названия того же жанра.\n",
    "\n",
    "Вы увидите следующие неявные дубликаты:\n",
    "* *hip*,\n",
    "* *hop*,\n",
    "* *hip-hop*.\n",
    "\n",
    "Чтобы очистить от них таблицу, напишите функцию `replace_wrong_genres()` с двумя параметрами: \n",
    "* `wrong_genres` — список дубликатов,\n",
    "* `correct_genre` — строка с правильным значением.\n",
    "\n",
    "Функция должна исправить колонку `genre` в таблице `df`: заменить каждое значение из списка `wrong_genres` на значение из `correct_genre`."
   ]
  },
  {
   "cell_type": "code",
   "execution_count": 15,
   "metadata": {
    "id": "ErNDkmns_Zct"
   },
   "outputs": [],
   "source": [
    "# Функция для замены неявных дубликатов\n",
    "def replace_wrong_genres(wrong_genres, correct_genre):\n",
    "    for wrong_genre in wrong_genres:\n",
    "        df['genre'] = df['genre'].replace(wrong_genre, correct_genre)"
   ]
  },
  {
   "cell_type": "markdown",
   "metadata": {
    "id": "aDoBJxbA_Zct"
   },
   "source": [
    "Вызовите `replace_wrong_genres()` и передайте ей такие аргументы, чтобы она устранила неявные дубликаты: вместо `hip`, `hop` и `hip-hop` в таблице должно быть значение `hiphop`:"
   ]
  },
  {
   "cell_type": "code",
   "execution_count": 16,
   "metadata": {
    "id": "YN5i2hpmSo09"
   },
   "outputs": [],
   "source": [
    "# Устранение неявных дубликатов\n",
    "replace_wrong_genres(('hip','hop','hip-hop'),'hiphop')"
   ]
  },
  {
   "cell_type": "markdown",
   "metadata": {
    "id": "zQKF16_RG15m"
   },
   "source": [
    "Проверьте, что заменили неправильные названия:\n",
    "\n",
    "*   hip\n",
    "*   hop\n",
    "*   hip-hop\n",
    "\n",
    "Выведите отсортированный список уникальных значений столбца `genre`:"
   ]
  },
  {
   "cell_type": "code",
   "execution_count": 17,
   "metadata": {
    "id": "wvixALnFG15m"
   },
   "outputs": [
    {
     "data": {
      "text/plain": [
       "array(['acid', 'acoustic', 'action', 'adult', 'africa', 'afrikaans',\n",
       "       'alternative', 'alternativepunk', 'ambient', 'americana',\n",
       "       'animated', 'anime', 'arabesk', 'arabic', 'arena',\n",
       "       'argentinetango', 'art', 'audiobook', 'author', 'avantgarde',\n",
       "       'axé', 'baile', 'balkan', 'beats', 'bigroom', 'black', 'bluegrass',\n",
       "       'blues', 'bollywood', 'bossa', 'brazilian', 'breakbeat', 'breaks',\n",
       "       'broadway', 'cantautori', 'cantopop', 'canzone', 'caribbean',\n",
       "       'caucasian', 'celtic', 'chamber', 'chanson', 'children', 'chill',\n",
       "       'chinese', 'choral', 'christian', 'christmas', 'classical',\n",
       "       'classicmetal', 'club', 'colombian', 'comedy', 'conjazz',\n",
       "       'contemporary', 'country', 'cuban', 'dance', 'dancehall',\n",
       "       'dancepop', 'dark', 'death', 'deep', 'deutschrock', 'deutschspr',\n",
       "       'dirty', 'disco', 'dnb', 'documentary', 'downbeat', 'downtempo',\n",
       "       'drum', 'dub', 'dubstep', 'eastern', 'easy', 'electronic',\n",
       "       'electropop', 'emo', 'entehno', 'epicmetal', 'estrada', 'ethnic',\n",
       "       'eurofolk', 'european', 'experimental', 'extrememetal', 'fado',\n",
       "       'fairytail', 'film', 'fitness', 'flamenco', 'folk', 'folklore',\n",
       "       'folkmetal', 'folkrock', 'folktronica', 'forró', 'frankreich',\n",
       "       'französisch', 'french', 'funk', 'future', 'gangsta', 'garage',\n",
       "       'german', 'ghazal', 'gitarre', 'glitch', 'gospel', 'gothic',\n",
       "       'grime', 'grunge', 'gypsy', 'handsup', \"hard'n'heavy\", 'hardcore',\n",
       "       'hardstyle', 'hardtechno', 'hiphop', 'historisch', 'holiday',\n",
       "       'horror', 'house', 'hymn', 'idm', 'independent', 'indian', 'indie',\n",
       "       'indipop', 'industrial', 'inspirational', 'instrumental',\n",
       "       'international', 'irish', 'jam', 'japanese', 'jazz', 'jewish',\n",
       "       'jpop', 'jungle', 'k-pop', 'karadeniz', 'karaoke', 'kayokyoku',\n",
       "       'korean', 'laiko', 'latin', 'latino', 'leftfield', 'local',\n",
       "       'lounge', 'loungeelectronic', 'lovers', 'malaysian', 'mandopop',\n",
       "       'marschmusik', 'meditative', 'mediterranean', 'melodic', 'metal',\n",
       "       'metalcore', 'mexican', 'middle', 'minimal', 'miscellaneous',\n",
       "       'modern', 'mood', 'mpb', 'muslim', 'native', 'neoklassik', 'neue',\n",
       "       'new', 'newage', 'newwave', 'nu', 'nujazz', 'numetal', 'oceania',\n",
       "       'old', 'opera', 'orchestral', 'other', 'piano', 'podcasts', 'pop',\n",
       "       'popdance', 'popelectronic', 'popeurodance', 'poprussian', 'post',\n",
       "       'posthardcore', 'postrock', 'power', 'progmetal', 'progressive',\n",
       "       'psychedelic', 'punjabi', 'punk', 'quebecois', 'ragga', 'ram',\n",
       "       'rancheras', 'rap', 'rave', 'reggae', 'reggaeton', 'regional',\n",
       "       'relax', 'religious', 'retro', 'rhythm', 'rnb', 'rnr', 'rock',\n",
       "       'rockabilly', 'rockalternative', 'rockindie', 'rockother',\n",
       "       'romance', 'roots', 'ruspop', 'rusrap', 'rusrock', 'russian',\n",
       "       'salsa', 'samba', 'scenic', 'schlager', 'self', 'sertanejo',\n",
       "       'shanson', 'shoegazing', 'showtunes', 'singer', 'ska', 'skarock',\n",
       "       'slow', 'smooth', 'soft', 'soul', 'soulful', 'sound', 'soundtrack',\n",
       "       'southern', 'specialty', 'speech', 'spiritual', 'sport',\n",
       "       'stonerrock', 'surf', 'swing', 'synthpop', 'synthrock',\n",
       "       'sängerportrait', 'tango', 'tanzorchester', 'taraftar', 'tatar',\n",
       "       'tech', 'techno', 'teen', 'thrash', 'top', 'traditional',\n",
       "       'tradjazz', 'trance', 'tribal', 'trip', 'triphop', 'tropical',\n",
       "       'türk', 'türkçe', 'ukrrock', 'unknown', 'urban', 'uzbek',\n",
       "       'variété', 'vi', 'videogame', 'vocal', 'western', 'world',\n",
       "       'worldbeat', 'ïîï', 'электроника'], dtype=object)"
      ]
     },
     "execution_count": 17,
     "metadata": {},
     "output_type": "execute_result"
    }
   ],
   "source": [
    "# Проверка на неявные дубликаты\n",
    "genre_data = df['genre']\n",
    "genre_data_sorted = genre_data.sort_values()\n",
    "genre_data_sorted.unique()"
   ]
  },
  {
   "cell_type": "markdown",
   "metadata": {
    "id": "jz6a9-7HQUDd"
   },
   "source": [
    "**Выводы**\n",
    "\n",
    "Предобработка обнаружила три проблемы в данных:\n",
    "\n",
    "- нарушения в стиле заголовков,\n",
    "- пропущенные значения,\n",
    "- дубликаты — явные и неявные.\n",
    "\n",
    "Вы исправили заголовки, чтобы упростить работу с таблицей. Без дубликатов исследование станет более точным.\n",
    "\n",
    "Пропущенные значения вы заменили на `'unknown'`. Ещё предстоит увидеть, не повредят ли исследованию пропуски в колонке `genre`.\n",
    "\n",
    "Теперь можно перейти к проверке гипотез. "
   ]
  },
  {
   "cell_type": "markdown",
   "metadata": {
    "id": "WttZHXH0SqKk"
   },
   "source": [
    "## Проверка гипотез"
   ]
  },
  {
   "cell_type": "markdown",
   "metadata": {
    "id": "Im936VVi_Zcu"
   },
   "source": [
    "### Сравнение поведения пользователей двух столиц"
   ]
  },
  {
   "cell_type": "markdown",
   "metadata": {
    "id": "nwt_MuaL_Zcu"
   },
   "source": [
    "Первая гипотеза утверждает, что пользователи по-разному слушают музыку в Москве и Санкт-Петербурге. Проверьте это предположение по данным о трёх днях недели — понедельнике, среде и пятнице. Для этого:\n",
    "\n",
    "* Разделите пользователей Москвы и Санкт-Петербурга\n",
    "* Сравните, сколько треков послушала каждая группа пользователей в понедельник, среду и пятницу.\n"
   ]
  },
  {
   "cell_type": "markdown",
   "metadata": {
    "id": "8Dw_YMmT_Zcu"
   },
   "source": [
    "Для тренировки сначала выполните каждый из расчётов по отдельности. \n",
    "\n",
    "Оцените активность пользователей в каждом городе. Сгруппируйте данные по городу и посчитайте прослушивания в каждой группе.\n",
    "\n"
   ]
  },
  {
   "cell_type": "code",
   "execution_count": 18,
   "metadata": {
    "id": "0_Qs96oh_Zcu"
   },
   "outputs": [
    {
     "data": {
      "text/plain": [
       "city\n",
       "Moscow              42741\n",
       "Saint-Petersburg    18512\n",
       "Name: genre, dtype: int64"
      ]
     },
     "execution_count": 18,
     "metadata": {},
     "output_type": "execute_result"
    }
   ],
   "source": [
    "# Подсчёт прослушиваний в каждом городе\n",
    "df.groupby('city')['genre'].count()"
   ]
  },
  {
   "cell_type": "markdown",
   "metadata": {
    "id": "dzli3w8o_Zcu"
   },
   "source": [
    "В Москве прослушиваний больше, чем в Петербурге. Из этого не следует, что московские пользователи чаще слушают музыку. Просто самих пользователей в Москве больше.\n",
    "\n",
    "Теперь сгруппируйте данные по дню недели и подсчитайте прослушивания в понедельник, среду и пятницу. Учтите, что в данных есть информация о прослушиваниях только за эти дни.\n"
   ]
  },
  {
   "cell_type": "code",
   "execution_count": 19,
   "metadata": {
    "id": "uZMKjiJz_Zcu"
   },
   "outputs": [
    {
     "data": {
      "text/plain": [
       "day\n",
       "Friday       21840\n",
       "Monday       21354\n",
       "Wednesday    18059\n",
       "Name: genre, dtype: int64"
      ]
     },
     "execution_count": 19,
     "metadata": {},
     "output_type": "execute_result"
    }
   ],
   "source": [
    "# Подсчёт прослушиваний в каждый из трёх дней\n",
    "df.groupby('day')['genre'].count()"
   ]
  },
  {
   "cell_type": "markdown",
   "metadata": {
    "id": "cC2tNrlL_Zcu"
   },
   "source": [
    "В среднем пользователи из двух городов менее активны по средам. Но картина может измениться, если рассмотреть каждый город в отдельности."
   ]
  },
  {
   "cell_type": "markdown",
   "metadata": {
    "id": "POzs8bGa_Zcu"
   },
   "source": [
    "Вы видели, как работает группировка по городу и по дням недели. Теперь напишите функцию, которая объединит два эти расчёта.\n",
    "\n",
    "Создайте функцию `number_tracks()`, которая посчитает прослушивания для заданного дня и города. Ей понадобятся два параметра:\n",
    "* день недели,\n",
    "* название города.\n",
    "\n",
    "В функции сохраните в переменную строки исходной таблицы, у которых значение:\n",
    "  * в колонке `day` равно параметру `day`,\n",
    "  * в колонке `city` равно параметру `city`.\n",
    "\n",
    "Для этого примените последовательную фильтрацию с логической индексацией.\n",
    "\n",
    "Затем посчитайте значения в столбце `user_id` получившейся таблицы. Результат сохраните в новую переменную. Верните эту переменную из функции."
   ]
  },
  {
   "cell_type": "code",
   "execution_count": 20,
   "metadata": {
    "id": "Nz3GdQB1_Zcu"
   },
   "outputs": [],
   "source": [
    "# <создание функции number_tracks()>\n",
    "# Объявляется функция с двумя параметрами: day, city.\n",
    "# В переменной track_list сохраняются те строки таблицы df, для которых \n",
    "# значение в столбце 'day' равно параметру day и одновременно значение\n",
    "# в столбце 'city' равно параметру city (используйте последовательную фильтрацию\n",
    "# с помощью логической индексации).\n",
    "# В переменной track_list_count сохраняется число значений столбца 'user_id',\n",
    "# рассчитанное методом count() для таблицы track_list.\n",
    "# Функция возвращает число - значение track_list_count.\n",
    "def number_tracks(day, city):\n",
    "    track_list = df[(df['day'] == day) & (df['city'] == city)]\n",
    "    track_list_count = track_list['user_id'].count()\n",
    "    return track_list_count\n",
    "# Функция для подсчёта прослушиваний для конкретного города и дня.\n",
    "# С помощью последовательной фильтрации с логической индексацией она \n",
    "# сначала получит из исходной таблицы строки с нужным днём,\n",
    "# затем из результата отфильтрует строки с нужным городом,\n",
    "# методом count() посчитает количество значений в колонке user_id. \n",
    "# Это количество функция вернёт в качестве результата"
   ]
  },
  {
   "cell_type": "markdown",
   "metadata": {
    "id": "ytf7xFrFJQ2r"
   },
   "source": [
    "Вызовите `number_tracks()` шесть раз, меняя значение параметров — так, чтобы получить данные для каждого города в каждый из трёх дней."
   ]
  },
  {
   "cell_type": "code",
   "execution_count": 21,
   "metadata": {
    "id": "rJcRATNQ_Zcu"
   },
   "outputs": [
    {
     "data": {
      "text/plain": [
       "15740"
      ]
     },
     "execution_count": 21,
     "metadata": {},
     "output_type": "execute_result"
    }
   ],
   "source": [
    "# количество прослушиваний в Москве по понедельникам\n",
    "number_tracks('Monday', 'Moscow')"
   ]
  },
  {
   "cell_type": "code",
   "execution_count": 22,
   "metadata": {
    "id": "hq_ncZ5T_Zcu"
   },
   "outputs": [
    {
     "data": {
      "text/plain": [
       "5614"
      ]
     },
     "execution_count": 22,
     "metadata": {},
     "output_type": "execute_result"
    }
   ],
   "source": [
    "# количество прослушиваний в Санкт-Петербурге по понедельникам\n",
    "number_tracks('Monday', 'Saint-Petersburg')"
   ]
  },
  {
   "cell_type": "code",
   "execution_count": 23,
   "metadata": {
    "id": "_NTy2VPU_Zcu"
   },
   "outputs": [
    {
     "data": {
      "text/plain": [
       "11056"
      ]
     },
     "execution_count": 23,
     "metadata": {},
     "output_type": "execute_result"
    }
   ],
   "source": [
    "# количество прослушиваний в Москве по средам\n",
    "number_tracks('Wednesday', 'Moscow')"
   ]
  },
  {
   "cell_type": "code",
   "execution_count": 24,
   "metadata": {
    "id": "j2y3TAwo_Zcu"
   },
   "outputs": [
    {
     "data": {
      "text/plain": [
       "7003"
      ]
     },
     "execution_count": 24,
     "metadata": {},
     "output_type": "execute_result"
    }
   ],
   "source": [
    "# количество прослушиваний в Санкт-Петербурге по средам\n",
    "number_tracks('Wednesday', 'Saint-Petersburg')"
   ]
  },
  {
   "cell_type": "code",
   "execution_count": 25,
   "metadata": {
    "id": "vYDw5u_K_Zcu"
   },
   "outputs": [
    {
     "data": {
      "text/plain": [
       "15945"
      ]
     },
     "execution_count": 25,
     "metadata": {},
     "output_type": "execute_result"
    }
   ],
   "source": [
    "# количество прослушиваний в Москве по пятницам\n",
    "number_tracks('Friday', 'Moscow')"
   ]
  },
  {
   "cell_type": "code",
   "execution_count": 26,
   "metadata": {
    "id": "8_yzFtW3_Zcu"
   },
   "outputs": [
    {
     "data": {
      "text/plain": [
       "5895"
      ]
     },
     "execution_count": 26,
     "metadata": {},
     "output_type": "execute_result"
    }
   ],
   "source": [
    "# количество прослушиваний в Санкт-Петербурге по пятницам\n",
    "number_tracks('Friday', 'Saint-Petersburg')"
   ]
  },
  {
   "cell_type": "markdown",
   "metadata": {
    "id": "7QXffbO-_Zcu"
   },
   "source": [
    "Создайте c помощью конструктора `pd.DataFrame` таблицу, где\n",
    "* названия колонок — `['city', 'monday', 'wednesday', 'friday']`;\n",
    "* данные — результаты, которые вы получили с помощью `number_tracks`."
   ]
  },
  {
   "cell_type": "code",
   "execution_count": 27,
   "metadata": {
    "id": "APAcLpOr_Zcu"
   },
   "outputs": [
    {
     "data": {
      "text/html": [
       "<div>\n",
       "<style scoped>\n",
       "    .dataframe tbody tr th:only-of-type {\n",
       "        vertical-align: middle;\n",
       "    }\n",
       "\n",
       "    .dataframe tbody tr th {\n",
       "        vertical-align: top;\n",
       "    }\n",
       "\n",
       "    .dataframe thead th {\n",
       "        text-align: right;\n",
       "    }\n",
       "</style>\n",
       "<table border=\"1\" class=\"dataframe\">\n",
       "  <thead>\n",
       "    <tr style=\"text-align: right;\">\n",
       "      <th></th>\n",
       "      <th>city</th>\n",
       "      <th>monday</th>\n",
       "      <th>wednesday</th>\n",
       "      <th>friday</th>\n",
       "    </tr>\n",
       "  </thead>\n",
       "  <tbody>\n",
       "    <tr>\n",
       "      <th>0</th>\n",
       "      <td>Moscow</td>\n",
       "      <td>15740</td>\n",
       "      <td>11056</td>\n",
       "      <td>15945</td>\n",
       "    </tr>\n",
       "    <tr>\n",
       "      <th>1</th>\n",
       "      <td>Saint-Petersburg</td>\n",
       "      <td>5614</td>\n",
       "      <td>7003</td>\n",
       "      <td>5895</td>\n",
       "    </tr>\n",
       "  </tbody>\n",
       "</table>\n",
       "</div>"
      ],
      "text/plain": [
       "               city  monday  wednesday  friday\n",
       "0            Moscow   15740      11056   15945\n",
       "1  Saint-Petersburg    5614       7003    5895"
      ]
     },
     "execution_count": 27,
     "metadata": {},
     "output_type": "execute_result"
    }
   ],
   "source": [
    "# Таблица с результатами\n",
    "data = [['Moscow', 15740, 11056, 15945],\n",
    "       ['Saint-Petersburg', 5614, 7003, 5895]]\n",
    "columns = ['city','monday','wednesday','friday']\n",
    "city_day_music_result = pd.DataFrame(data = data, columns = columns)\n",
    "city_day_music_result"
   ]
  },
  {
   "cell_type": "markdown",
   "metadata": {
    "id": "-EgPIHYu_Zcu"
   },
   "source": [
    "**Выводы**\n",
    "\n",
    "Данные показывают разницу поведения пользователей:\n",
    "\n",
    "- В Москве пик прослушиваний приходится на понедельник и пятницу, а в среду заметен спад.\n",
    "- В Петербурге, наоборот, больше слушают музыку по средам. Активность в понедельник и пятницу здесь почти в равной мере уступает среде.\n",
    "\n",
    "Значит, данные говорят в пользу первой гипотезы."
   ]
  },
  {
   "cell_type": "markdown",
   "metadata": {
    "id": "atZAxtq4_Zcu"
   },
   "source": [
    "### Музыка в начале и в конце недели"
   ]
  },
  {
   "cell_type": "markdown",
   "metadata": {
    "id": "eXrQqXFH_Zcu"
   },
   "source": [
    "Согласно второй гипотезе, утром в понедельник в Москве преобладают одни жанры, а в Петербурге — другие. Так же и вечером пятницы преобладают разные жанры — в зависимости от города."
   ]
  },
  {
   "cell_type": "markdown",
   "metadata": {
    "id": "S8UcW6Hw_Zcu"
   },
   "source": [
    "Сохраните таблицы с данными в две переменные:\n",
    "* по Москве — в `moscow_general`;\n",
    "* по Санкт-Петербургу — в `spb_general`."
   ]
  },
  {
   "cell_type": "code",
   "execution_count": 28,
   "metadata": {
    "id": "qeaFfM_P_Zcu"
   },
   "outputs": [],
   "source": [
    "# получение таблицы moscow_general из тех строк таблицы df, \n",
    "# для которых значение в столбце 'city' равно 'Moscow'\n",
    "moscow_general = df[df['city'] == 'Moscow']"
   ]
  },
  {
   "cell_type": "code",
   "execution_count": 29,
   "metadata": {
    "id": "ORaVRKto_Zcu"
   },
   "outputs": [],
   "source": [
    "# получение таблицы spb_general из тех строк таблицы df,\n",
    "# для которых значение в столбце 'city' равно 'Saint-Petersburg'\n",
    "spb_general = df[df['city'] == 'Saint-Petersburg']"
   ]
  },
  {
   "cell_type": "markdown",
   "metadata": {
    "id": "MEJV-CX2_Zcu"
   },
   "source": [
    "Создайте функцию `genre_weekday()` с четырьмя параметрами:\n",
    "* таблица (датафрейм) с данными,\n",
    "* день недели,\n",
    "* начальная временная метка в формате 'hh:mm', \n",
    "* последняя временная метка в формате 'hh:mm'.\n",
    "\n",
    "Функция должна вернуть информацию о топ-10 жанров тех треков, которые прослушивали в указанный день, в промежутке между двумя отметками времени."
   ]
  },
  {
   "cell_type": "code",
   "execution_count": 30,
   "metadata": {
    "id": "laJT9BYl_Zcu"
   },
   "outputs": [],
   "source": [
    "# Объявление функции genre_weekday() с параметрами table, day, time1, time2,\n",
    "# которая возвращает информацию о самых популярных жанрах в указанный день в\n",
    "# заданное время:\n",
    "# 1) в переменную genre_df сохраняются те строки переданного датафрейма table, для\n",
    "#    которых одновременно:\n",
    "#    - значение в столбце day равно значению аргумента day\n",
    "#    - значение в столбце time больше значения аргумента time1\n",
    "#    - значение в столбце time меньше значения аргумента time2\n",
    "#    Используйте последовательную фильтрацию с помощью логической индексации.\n",
    "# 2) сгруппировать датафрейм genre_df по столбцу genre, взять один из его\n",
    "#    столбцов и посчитать методом count() количество записей для каждого из\n",
    "#    присутствующих жанров, получившийся Series записать в переменную\n",
    "#    genre_df_count\n",
    "# 3) отсортировать genre_df_count по убыванию встречаемости и сохранить\n",
    "#    в переменную genre_df_sorted\n",
    "# 4) вернуть Series из 10 первых значений genre_df_sorted, это будут топ-10\n",
    "#    популярных жанров (в указанный день, в заданное время)\n",
    "def genre_weekday(table, day, time1, time2):\n",
    "    genre_df = table[(table['day'] == day) & (table['time'] > time1) & (table['time'] < time2)]\n",
    "    genre_df_count = genre_df.groupby('genre')['day'].count().reset_index()\n",
    "    genre_df_sorted = genre_df_count.sort_values(by='day', ascending=False)\n",
    "    return genre_df_sorted.head(10)"
   ]
  },
  {
   "cell_type": "markdown",
   "metadata": {
    "id": "la2s2_PF_Zcu"
   },
   "source": [
    "Cравните результаты функции `genre_weekday()` для Москвы и Санкт-Петербурга в понедельник утром (с 7:00 до 11:00) и в пятницу вечером (с 17:00 до 23:00):"
   ]
  },
  {
   "cell_type": "code",
   "execution_count": 31,
   "metadata": {
    "id": "yz7itPUQ_Zcu"
   },
   "outputs": [
    {
     "data": {
      "text/html": [
       "<div>\n",
       "<style scoped>\n",
       "    .dataframe tbody tr th:only-of-type {\n",
       "        vertical-align: middle;\n",
       "    }\n",
       "\n",
       "    .dataframe tbody tr th {\n",
       "        vertical-align: top;\n",
       "    }\n",
       "\n",
       "    .dataframe thead th {\n",
       "        text-align: right;\n",
       "    }\n",
       "</style>\n",
       "<table border=\"1\" class=\"dataframe\">\n",
       "  <thead>\n",
       "    <tr style=\"text-align: right;\">\n",
       "      <th></th>\n",
       "      <th>genre</th>\n",
       "      <th>day</th>\n",
       "    </tr>\n",
       "  </thead>\n",
       "  <tbody>\n",
       "    <tr>\n",
       "      <th>97</th>\n",
       "      <td>pop</td>\n",
       "      <td>781</td>\n",
       "    </tr>\n",
       "    <tr>\n",
       "      <th>31</th>\n",
       "      <td>dance</td>\n",
       "      <td>549</td>\n",
       "    </tr>\n",
       "    <tr>\n",
       "      <th>43</th>\n",
       "      <td>electronic</td>\n",
       "      <td>480</td>\n",
       "    </tr>\n",
       "    <tr>\n",
       "      <th>113</th>\n",
       "      <td>rock</td>\n",
       "      <td>474</td>\n",
       "    </tr>\n",
       "    <tr>\n",
       "      <th>65</th>\n",
       "      <td>hiphop</td>\n",
       "      <td>286</td>\n",
       "    </tr>\n",
       "    <tr>\n",
       "      <th>116</th>\n",
       "      <td>ruspop</td>\n",
       "      <td>186</td>\n",
       "    </tr>\n",
       "    <tr>\n",
       "      <th>151</th>\n",
       "      <td>world</td>\n",
       "      <td>181</td>\n",
       "    </tr>\n",
       "    <tr>\n",
       "      <th>117</th>\n",
       "      <td>rusrap</td>\n",
       "      <td>175</td>\n",
       "    </tr>\n",
       "    <tr>\n",
       "      <th>2</th>\n",
       "      <td>alternative</td>\n",
       "      <td>164</td>\n",
       "    </tr>\n",
       "    <tr>\n",
       "      <th>144</th>\n",
       "      <td>unknown</td>\n",
       "      <td>161</td>\n",
       "    </tr>\n",
       "  </tbody>\n",
       "</table>\n",
       "</div>"
      ],
      "text/plain": [
       "           genre  day\n",
       "97           pop  781\n",
       "31         dance  549\n",
       "43    electronic  480\n",
       "113         rock  474\n",
       "65        hiphop  286\n",
       "116       ruspop  186\n",
       "151        world  181\n",
       "117       rusrap  175\n",
       "2    alternative  164\n",
       "144      unknown  161"
      ]
     },
     "execution_count": 31,
     "metadata": {},
     "output_type": "execute_result"
    }
   ],
   "source": [
    "# вызов функции для утра понедельника в Москве (вместо df — таблица moscow_general)\n",
    "# объекты, хранящие время, являются строками и сравниваются как строки\n",
    "# пример вызова: genre_weekday(moscow_general, 'Monday', '07:00', '11:00')\n",
    "genre_weekday(moscow_general, 'Monday', '07:00', '11:00')"
   ]
  },
  {
   "cell_type": "code",
   "execution_count": 32,
   "metadata": {
    "id": "kwUcHPdy_Zcu"
   },
   "outputs": [
    {
     "data": {
      "text/html": [
       "<div>\n",
       "<style scoped>\n",
       "    .dataframe tbody tr th:only-of-type {\n",
       "        vertical-align: middle;\n",
       "    }\n",
       "\n",
       "    .dataframe tbody tr th {\n",
       "        vertical-align: top;\n",
       "    }\n",
       "\n",
       "    .dataframe thead th {\n",
       "        text-align: right;\n",
       "    }\n",
       "</style>\n",
       "<table border=\"1\" class=\"dataframe\">\n",
       "  <thead>\n",
       "    <tr style=\"text-align: right;\">\n",
       "      <th></th>\n",
       "      <th>genre</th>\n",
       "      <th>day</th>\n",
       "    </tr>\n",
       "  </thead>\n",
       "  <tbody>\n",
       "    <tr>\n",
       "      <th>68</th>\n",
       "      <td>pop</td>\n",
       "      <td>218</td>\n",
       "    </tr>\n",
       "    <tr>\n",
       "      <th>19</th>\n",
       "      <td>dance</td>\n",
       "      <td>182</td>\n",
       "    </tr>\n",
       "    <tr>\n",
       "      <th>81</th>\n",
       "      <td>rock</td>\n",
       "      <td>162</td>\n",
       "    </tr>\n",
       "    <tr>\n",
       "      <th>29</th>\n",
       "      <td>electronic</td>\n",
       "      <td>147</td>\n",
       "    </tr>\n",
       "    <tr>\n",
       "      <th>47</th>\n",
       "      <td>hiphop</td>\n",
       "      <td>80</td>\n",
       "    </tr>\n",
       "    <tr>\n",
       "      <th>83</th>\n",
       "      <td>ruspop</td>\n",
       "      <td>64</td>\n",
       "    </tr>\n",
       "    <tr>\n",
       "      <th>1</th>\n",
       "      <td>alternative</td>\n",
       "      <td>58</td>\n",
       "    </tr>\n",
       "    <tr>\n",
       "      <th>84</th>\n",
       "      <td>rusrap</td>\n",
       "      <td>55</td>\n",
       "    </tr>\n",
       "    <tr>\n",
       "      <th>53</th>\n",
       "      <td>jazz</td>\n",
       "      <td>44</td>\n",
       "    </tr>\n",
       "    <tr>\n",
       "      <th>14</th>\n",
       "      <td>classical</td>\n",
       "      <td>40</td>\n",
       "    </tr>\n",
       "  </tbody>\n",
       "</table>\n",
       "</div>"
      ],
      "text/plain": [
       "          genre  day\n",
       "68          pop  218\n",
       "19        dance  182\n",
       "81         rock  162\n",
       "29   electronic  147\n",
       "47       hiphop   80\n",
       "83       ruspop   64\n",
       "1   alternative   58\n",
       "84       rusrap   55\n",
       "53         jazz   44\n",
       "14    classical   40"
      ]
     },
     "execution_count": 32,
     "metadata": {},
     "output_type": "execute_result"
    }
   ],
   "source": [
    "# вызов функции для утра понедельника в Петербурге (вместо df — таблица spb_general)\n",
    "genre_weekday(spb_general, 'Monday', '07:00', '11:00')"
   ]
  },
  {
   "cell_type": "code",
   "execution_count": 33,
   "metadata": {
    "id": "EzXVRE1o_Zcu"
   },
   "outputs": [
    {
     "data": {
      "text/html": [
       "<div>\n",
       "<style scoped>\n",
       "    .dataframe tbody tr th:only-of-type {\n",
       "        vertical-align: middle;\n",
       "    }\n",
       "\n",
       "    .dataframe tbody tr th {\n",
       "        vertical-align: top;\n",
       "    }\n",
       "\n",
       "    .dataframe thead th {\n",
       "        text-align: right;\n",
       "    }\n",
       "</style>\n",
       "<table border=\"1\" class=\"dataframe\">\n",
       "  <thead>\n",
       "    <tr style=\"text-align: right;\">\n",
       "      <th></th>\n",
       "      <th>genre</th>\n",
       "      <th>day</th>\n",
       "    </tr>\n",
       "  </thead>\n",
       "  <tbody>\n",
       "    <tr>\n",
       "      <th>109</th>\n",
       "      <td>pop</td>\n",
       "      <td>713</td>\n",
       "    </tr>\n",
       "    <tr>\n",
       "      <th>125</th>\n",
       "      <td>rock</td>\n",
       "      <td>517</td>\n",
       "    </tr>\n",
       "    <tr>\n",
       "      <th>36</th>\n",
       "      <td>dance</td>\n",
       "      <td>495</td>\n",
       "    </tr>\n",
       "    <tr>\n",
       "      <th>48</th>\n",
       "      <td>electronic</td>\n",
       "      <td>482</td>\n",
       "    </tr>\n",
       "    <tr>\n",
       "      <th>74</th>\n",
       "      <td>hiphop</td>\n",
       "      <td>273</td>\n",
       "    </tr>\n",
       "    <tr>\n",
       "      <th>163</th>\n",
       "      <td>world</td>\n",
       "      <td>208</td>\n",
       "    </tr>\n",
       "    <tr>\n",
       "      <th>128</th>\n",
       "      <td>ruspop</td>\n",
       "      <td>170</td>\n",
       "    </tr>\n",
       "    <tr>\n",
       "      <th>2</th>\n",
       "      <td>alternative</td>\n",
       "      <td>163</td>\n",
       "    </tr>\n",
       "    <tr>\n",
       "      <th>27</th>\n",
       "      <td>classical</td>\n",
       "      <td>163</td>\n",
       "    </tr>\n",
       "    <tr>\n",
       "      <th>129</th>\n",
       "      <td>rusrap</td>\n",
       "      <td>142</td>\n",
       "    </tr>\n",
       "  </tbody>\n",
       "</table>\n",
       "</div>"
      ],
      "text/plain": [
       "           genre  day\n",
       "109          pop  713\n",
       "125         rock  517\n",
       "36         dance  495\n",
       "48    electronic  482\n",
       "74        hiphop  273\n",
       "163        world  208\n",
       "128       ruspop  170\n",
       "2    alternative  163\n",
       "27     classical  163\n",
       "129       rusrap  142"
      ]
     },
     "execution_count": 33,
     "metadata": {},
     "output_type": "execute_result"
    }
   ],
   "source": [
    "# вызов функции для вечера пятницы в Москве\n",
    "genre_weekday(moscow_general, 'Friday', '17:00', '23:00')"
   ]
  },
  {
   "cell_type": "code",
   "execution_count": 34,
   "metadata": {
    "id": "JZaEKu5v_Zcu"
   },
   "outputs": [
    {
     "data": {
      "text/html": [
       "<div>\n",
       "<style scoped>\n",
       "    .dataframe tbody tr th:only-of-type {\n",
       "        vertical-align: middle;\n",
       "    }\n",
       "\n",
       "    .dataframe tbody tr th {\n",
       "        vertical-align: top;\n",
       "    }\n",
       "\n",
       "    .dataframe thead th {\n",
       "        text-align: right;\n",
       "    }\n",
       "</style>\n",
       "<table border=\"1\" class=\"dataframe\">\n",
       "  <thead>\n",
       "    <tr style=\"text-align: right;\">\n",
       "      <th></th>\n",
       "      <th>genre</th>\n",
       "      <th>day</th>\n",
       "    </tr>\n",
       "  </thead>\n",
       "  <tbody>\n",
       "    <tr>\n",
       "      <th>82</th>\n",
       "      <td>pop</td>\n",
       "      <td>256</td>\n",
       "    </tr>\n",
       "    <tr>\n",
       "      <th>37</th>\n",
       "      <td>electronic</td>\n",
       "      <td>216</td>\n",
       "    </tr>\n",
       "    <tr>\n",
       "      <th>97</th>\n",
       "      <td>rock</td>\n",
       "      <td>216</td>\n",
       "    </tr>\n",
       "    <tr>\n",
       "      <th>26</th>\n",
       "      <td>dance</td>\n",
       "      <td>210</td>\n",
       "    </tr>\n",
       "    <tr>\n",
       "      <th>54</th>\n",
       "      <td>hiphop</td>\n",
       "      <td>97</td>\n",
       "    </tr>\n",
       "    <tr>\n",
       "      <th>2</th>\n",
       "      <td>alternative</td>\n",
       "      <td>63</td>\n",
       "    </tr>\n",
       "    <tr>\n",
       "      <th>61</th>\n",
       "      <td>jazz</td>\n",
       "      <td>61</td>\n",
       "    </tr>\n",
       "    <tr>\n",
       "      <th>21</th>\n",
       "      <td>classical</td>\n",
       "      <td>60</td>\n",
       "    </tr>\n",
       "    <tr>\n",
       "      <th>101</th>\n",
       "      <td>rusrap</td>\n",
       "      <td>59</td>\n",
       "    </tr>\n",
       "    <tr>\n",
       "      <th>126</th>\n",
       "      <td>world</td>\n",
       "      <td>54</td>\n",
       "    </tr>\n",
       "  </tbody>\n",
       "</table>\n",
       "</div>"
      ],
      "text/plain": [
       "           genre  day\n",
       "82           pop  256\n",
       "37    electronic  216\n",
       "97          rock  216\n",
       "26         dance  210\n",
       "54        hiphop   97\n",
       "2    alternative   63\n",
       "61          jazz   61\n",
       "21     classical   60\n",
       "101       rusrap   59\n",
       "126        world   54"
      ]
     },
     "execution_count": 34,
     "metadata": {},
     "output_type": "execute_result"
    }
   ],
   "source": [
    "# вызов функции для вечера пятницы в Петербурге\n",
    "genre_weekday(spb_general, 'Friday', '17:00', '23:00')"
   ]
  },
  {
   "cell_type": "markdown",
   "metadata": {
    "id": "wrCe4MNX_Zcu"
   },
   "source": [
    "**Выводы**\n",
    "\n",
    "Если сравнить топ-10 жанров в понедельник утром, можно сделать такие выводы:\n",
    "\n",
    "1. В Москве и Петербурге слушают похожую музыку. Единственное отличие — в московский рейтинг вошёл жанр “world”, а в петербургский — джаз и классика.\n",
    "\n",
    "2. В Москве пропущенных значений оказалось так много, что значение `'unknown'` заняло десятое место среди самых популярных жанров. Значит, пропущенные значения занимают существенную долю в данных и угрожают достоверности исследования.\n",
    "\n",
    "Вечер пятницы не меняет эту картину. Некоторые жанры поднимаются немного выше, другие спускаются, но в целом топ-10 остаётся тем же самым.\n",
    "\n",
    "Таким образом, вторая гипотеза подтвердилась лишь частично:\n",
    "* Пользователи слушают похожую музыку в начале недели и в конце.\n",
    "* Разница между Москвой и Петербургом не слишком выражена. В Москве чаще слушают русскую популярную музыку, в Петербурге — джаз.\n",
    "\n",
    "Однако пропуски в данных ставят под сомнение этот результат. В Москве их так много, что рейтинг топ-10 мог бы выглядеть иначе, если бы не утерянные  данные о жанрах."
   ]
  },
  {
   "cell_type": "markdown",
   "metadata": {
    "id": "JolODAqr_Zcu"
   },
   "source": [
    "### Жанровые предпочтения в Москве и Петербурге\n",
    "\n",
    "Гипотеза: Петербург — столица рэпа, музыку этого жанра там слушают чаще, чем в Москве.  А Москва — город контрастов, в котором, тем не менее, преобладает поп-музыка."
   ]
  },
  {
   "cell_type": "markdown",
   "metadata": {
    "id": "DlegSvaT_Zcu"
   },
   "source": [
    "Сгруппируйте таблицу `moscow_general` по жанру и посчитайте прослушивания треков каждого жанра методом `count()`. Затем отсортируйте результат в порядке убывания и сохраните его в таблице `moscow_genres`."
   ]
  },
  {
   "cell_type": "code",
   "execution_count": 35,
   "metadata": {
    "id": "r19lIPke_Zcu"
   },
   "outputs": [],
   "source": [
    "# одной строкой: группировка таблицы moscow_general по столбцу 'genre', \n",
    "# подсчёт числа значений 'genre' в этой группировке методом count(), \n",
    "# сортировка получившегося Series в порядке убывания и сохранение в moscow_genres\n",
    "moscow_genres = moscow_general.groupby('genre')['genre'].count().sort_values(ascending = False)"
   ]
  },
  {
   "cell_type": "markdown",
   "metadata": {
    "id": "6kMuomxTiIr8"
   },
   "source": [
    "Выведите на экран первые десять строк `moscow_genres`:"
   ]
  },
  {
   "cell_type": "code",
   "execution_count": 36,
   "metadata": {
    "id": "WhCSooF8_Zcv"
   },
   "outputs": [
    {
     "data": {
      "text/plain": [
       "genre\n",
       "pop            5892\n",
       "dance          4435\n",
       "rock           3965\n",
       "electronic     3786\n",
       "hiphop         2096\n",
       "classical      1616\n",
       "world          1432\n",
       "alternative    1379\n",
       "ruspop         1372\n",
       "rusrap         1161\n",
       "Name: genre, dtype: int64"
      ]
     },
     "execution_count": 36,
     "metadata": {},
     "output_type": "execute_result"
    }
   ],
   "source": [
    "# просмотр первых 10 строк moscow_genres\n",
    "moscow_genres.head(10)"
   ]
  },
  {
   "cell_type": "markdown",
   "metadata": {
    "id": "cnPG2vnN_Zcv"
   },
   "source": [
    "Теперь повторите то же и для Петербурга.\n",
    "\n",
    "Сгруппируйте таблицу `spb_general` по жанру. Посчитайте прослушивания треков каждого жанра. Результат отсортируйте в порядке убывания и сохраните в таблице `spb_genres`:\n"
   ]
  },
  {
   "cell_type": "code",
   "execution_count": 37,
   "metadata": {
    "id": "gluLIpE7_Zcv"
   },
   "outputs": [],
   "source": [
    "# одной строкой: группировка таблицы spb_general по столбцу 'genre', \n",
    "# подсчёт числа значений 'genre' в этой группировке методом count(), \n",
    "# сортировка получившегося Series в порядке убывания и сохранение в spb_genres\n",
    "spb_genres = spb_general.groupby('genre')['genre'].count().sort_values(ascending = False)"
   ]
  },
  {
   "cell_type": "markdown",
   "metadata": {
    "id": "5Doha_ODgyQ8"
   },
   "source": [
    "Выведите на экран первые десять строк `spb_genres`:"
   ]
  },
  {
   "cell_type": "code",
   "execution_count": 38,
   "metadata": {
    "id": "uaGJHjVU_Zcv"
   },
   "outputs": [
    {
     "data": {
      "text/plain": [
       "genre\n",
       "pop            2431\n",
       "dance          1932\n",
       "rock           1879\n",
       "electronic     1736\n",
       "hiphop          960\n",
       "alternative     649\n",
       "classical       646\n",
       "rusrap          564\n",
       "ruspop          538\n",
       "world           515\n",
       "Name: genre, dtype: int64"
      ]
     },
     "execution_count": 38,
     "metadata": {},
     "output_type": "execute_result"
    }
   ],
   "source": [
    "# просмотр первых 10 строк spb_genres\n",
    "spb_genres.head(10)"
   ]
  },
  {
   "cell_type": "markdown",
   "metadata": {
    "id": "RY51YJYu_Zcv"
   },
   "source": [
    "**Выводы**"
   ]
  },
  {
   "cell_type": "markdown",
   "metadata": {
    "id": "nVhnJEm__Zcv"
   },
   "source": [
    "Гипотеза частично подтвердилась:\n",
    "* Поп-музыка — самый популярный жанр в Москве, как и предполагала гипотеза. Более того, в топ-10 жанров встречается близкий жанр — русская популярная музыка.\n",
    "* Вопреки ожиданиям, рэп одинаково популярен в Москве и Петербурге. \n"
   ]
  },
  {
   "cell_type": "markdown",
   "metadata": {
    "id": "ykKQ0N65_Zcv"
   },
   "source": [
    "## Итоги исследования"
   ]
  },
  {
   "cell_type": "markdown",
   "metadata": {
    "id": "tjUwbHb3_Zcv"
   },
   "source": [
    "Вы проверили три гипотезы и установили:\n",
    "\n",
    "1. День недели по-разному влияет на активность пользователей в Москве и Петербурге. \n",
    "\n",
    "Первая гипотеза полностью подтвердилась.\n",
    "\n",
    "2. Музыкальные предпочтения не сильно меняются в течение недели — будь то Москва или Петербург. Небольшие различия заметны в начале недели, по понедельникам:\n",
    "* в Москве слушают музыку жанра “world”,\n",
    "* в Петербурге — джаз и классику.\n",
    "\n",
    "Таким образом, вторая гипотеза подтвердилась лишь отчасти. Этот результат мог оказаться иным, если бы не пропуски в данных.\n",
    "\n",
    "3. Во вкусах пользователей Москвы и Петербурга больше общего чем различий. Вопреки ожиданиям, предпочтения жанров в Петербурге напоминают московские.\n",
    "\n",
    "Третья гипотеза не подтвердилась. Если различия в предпочтениях и существуют, на основной массе пользователей они незаметны.\n",
    "\n",
    "**На практике исследования содержат проверки статистических гипотез.**\n",
    "Из данных одного сервиса не всегда можно сделать вывод о всех жителях города.\n",
    "Проверки статистических гипотез покажут, насколько они достоверны, исходя из имеющихся данных. \n",
    "С методами проверок гипотез вы ещё познакомитесь в следующих темах."
   ]
  }
 ],
 "metadata": {
  "ExecuteTimeLog": [
   {
    "duration": 800,
    "start_time": "2022-03-27T11:15:11.100Z"
   },
   {
    "duration": 4,
    "start_time": "2022-03-27T11:15:15.997Z"
   },
   {
    "duration": 217,
    "start_time": "2022-03-27T11:30:38.519Z"
   },
   {
    "duration": 47,
    "start_time": "2022-03-27T11:31:23.817Z"
   },
   {
    "duration": 163,
    "start_time": "2022-03-27T11:57:35.094Z"
   },
   {
    "duration": 68,
    "start_time": "2022-03-27T11:57:52.126Z"
   },
   {
    "duration": 6,
    "start_time": "2022-03-27T12:04:48.378Z"
   },
   {
    "duration": 6,
    "start_time": "2022-03-27T12:05:41.418Z"
   },
   {
    "duration": 121,
    "start_time": "2022-03-27T12:12:48.210Z"
   },
   {
    "duration": 14,
    "start_time": "2022-03-27T12:19:38.331Z"
   },
   {
    "duration": 16,
    "start_time": "2022-03-27T12:19:40.243Z"
   },
   {
    "duration": 14,
    "start_time": "2022-03-27T12:19:58.813Z"
   },
   {
    "duration": 5,
    "start_time": "2022-03-27T12:20:03.613Z"
   },
   {
    "duration": 33,
    "start_time": "2022-03-27T12:22:01.402Z"
   },
   {
    "duration": 35,
    "start_time": "2022-03-27T12:22:32.608Z"
   },
   {
    "duration": 518,
    "start_time": "2022-03-27T12:36:34.587Z"
   },
   {
    "duration": 213,
    "start_time": "2022-03-27T12:36:35.108Z"
   },
   {
    "duration": 21,
    "start_time": "2022-03-27T12:36:35.366Z"
   },
   {
    "duration": 40,
    "start_time": "2022-03-27T12:36:46.223Z"
   },
   {
    "duration": 402,
    "start_time": "2022-03-27T12:36:50.103Z"
   },
   {
    "duration": 5,
    "start_time": "2022-03-27T12:36:56.152Z"
   },
   {
    "duration": 5,
    "start_time": "2022-03-27T12:37:02.232Z"
   },
   {
    "duration": 13,
    "start_time": "2022-03-27T12:37:06.576Z"
   },
   {
    "duration": 5,
    "start_time": "2022-03-27T12:37:08.712Z"
   },
   {
    "duration": 35,
    "start_time": "2022-03-27T12:37:12.914Z"
   },
   {
    "duration": 25,
    "start_time": "2022-03-27T12:37:17.799Z"
   },
   {
    "duration": 33,
    "start_time": "2022-03-27T12:37:40.128Z"
   },
   {
    "duration": 99,
    "start_time": "2022-03-27T12:38:14.658Z"
   },
   {
    "duration": 112,
    "start_time": "2022-03-27T12:40:17.261Z"
   },
   {
    "duration": 4,
    "start_time": "2022-03-27T12:40:23.485Z"
   },
   {
    "duration": 93,
    "start_time": "2022-03-27T12:40:27.309Z"
   },
   {
    "duration": 133,
    "start_time": "2022-03-27T12:46:59.620Z"
   },
   {
    "duration": 2092,
    "start_time": "2022-03-27T12:47:14.994Z"
   },
   {
    "duration": 2064,
    "start_time": "2022-03-27T12:47:17.210Z"
   },
   {
    "duration": 54,
    "start_time": "2022-03-27T12:48:31.045Z"
   },
   {
    "duration": 2449,
    "start_time": "2022-03-27T12:48:57.764Z"
   },
   {
    "duration": 53,
    "start_time": "2022-03-27T12:49:16.190Z"
   },
   {
    "duration": 10,
    "start_time": "2022-03-27T12:51:33.906Z"
   },
   {
    "duration": 9,
    "start_time": "2022-03-27T12:54:45.606Z"
   },
   {
    "duration": 15,
    "start_time": "2022-03-27T12:55:56.258Z"
   },
   {
    "duration": 15,
    "start_time": "2022-03-27T12:56:06.345Z"
   },
   {
    "duration": 14,
    "start_time": "2022-03-27T12:56:39.883Z"
   },
   {
    "duration": 15,
    "start_time": "2022-03-27T12:58:33.422Z"
   },
   {
    "duration": 14,
    "start_time": "2022-03-27T12:58:58.573Z"
   },
   {
    "duration": 11,
    "start_time": "2022-03-27T12:59:06.726Z"
   },
   {
    "duration": 45,
    "start_time": "2022-03-27T13:04:59.560Z"
   },
   {
    "duration": 54,
    "start_time": "2022-03-27T13:05:28.513Z"
   },
   {
    "duration": 8,
    "start_time": "2022-03-27T13:06:16.690Z"
   },
   {
    "duration": 4,
    "start_time": "2022-03-27T13:14:46.129Z"
   },
   {
    "duration": 13,
    "start_time": "2022-03-27T13:16:28.508Z"
   },
   {
    "duration": 4,
    "start_time": "2022-03-27T13:16:59.662Z"
   },
   {
    "duration": 17,
    "start_time": "2022-03-27T13:17:01.727Z"
   },
   {
    "duration": 4,
    "start_time": "2022-03-27T13:18:08.985Z"
   },
   {
    "duration": 19,
    "start_time": "2022-03-27T13:18:10.880Z"
   },
   {
    "duration": 4,
    "start_time": "2022-03-27T13:20:10.909Z"
   },
   {
    "duration": 15,
    "start_time": "2022-03-27T13:20:13.115Z"
   },
   {
    "duration": 16,
    "start_time": "2022-03-27T13:20:14.884Z"
   },
   {
    "duration": 15,
    "start_time": "2022-03-27T13:21:26.293Z"
   },
   {
    "duration": 54,
    "start_time": "2022-03-27T13:23:56.146Z"
   },
   {
    "duration": 4,
    "start_time": "2022-03-27T13:24:04.386Z"
   },
   {
    "duration": 14,
    "start_time": "2022-03-27T13:24:06.914Z"
   },
   {
    "duration": 14,
    "start_time": "2022-03-27T13:25:03.611Z"
   },
   {
    "duration": 12,
    "start_time": "2022-03-27T13:25:06.251Z"
   },
   {
    "duration": 3,
    "start_time": "2022-03-27T13:25:17.211Z"
   },
   {
    "duration": 16,
    "start_time": "2022-03-27T13:26:23.294Z"
   },
   {
    "duration": 12,
    "start_time": "2022-03-27T13:26:49.622Z"
   },
   {
    "duration": 50,
    "start_time": "2022-03-27T13:27:08.174Z"
   },
   {
    "duration": 3,
    "start_time": "2022-03-27T13:30:06.716Z"
   },
   {
    "duration": 13,
    "start_time": "2022-03-27T13:30:10.955Z"
   },
   {
    "duration": 16,
    "start_time": "2022-03-27T13:30:17.796Z"
   },
   {
    "duration": 15,
    "start_time": "2022-03-27T13:32:01.784Z"
   },
   {
    "duration": 6,
    "start_time": "2022-03-27T13:38:26.083Z"
   },
   {
    "duration": 5,
    "start_time": "2022-03-27T13:38:50.995Z"
   },
   {
    "duration": 32,
    "start_time": "2022-03-27T13:39:46.029Z"
   },
   {
    "duration": 6,
    "start_time": "2022-03-27T13:42:07.257Z"
   },
   {
    "duration": 27,
    "start_time": "2022-03-27T13:42:09.960Z"
   },
   {
    "duration": 5,
    "start_time": "2022-03-27T13:46:53.202Z"
   },
   {
    "duration": 21,
    "start_time": "2022-03-27T13:46:55.601Z"
   },
   {
    "duration": 18,
    "start_time": "2022-03-27T13:47:51.300Z"
   },
   {
    "duration": 20,
    "start_time": "2022-03-27T13:48:13.339Z"
   },
   {
    "duration": 18,
    "start_time": "2022-03-27T13:48:27.020Z"
   },
   {
    "duration": 22,
    "start_time": "2022-03-27T13:51:39.026Z"
   },
   {
    "duration": 19,
    "start_time": "2022-03-27T13:51:55.002Z"
   },
   {
    "duration": 13,
    "start_time": "2022-03-27T13:54:41.837Z"
   },
   {
    "duration": 10,
    "start_time": "2022-03-27T13:57:18.924Z"
   },
   {
    "duration": 15,
    "start_time": "2022-03-27T13:57:24.203Z"
   },
   {
    "duration": 17,
    "start_time": "2022-03-27T13:57:55.916Z"
   },
   {
    "duration": 7,
    "start_time": "2022-03-27T14:12:36.447Z"
   },
   {
    "duration": 2683,
    "start_time": "2022-03-27T14:13:09.737Z"
   },
   {
    "duration": 8,
    "start_time": "2022-03-27T14:14:30.265Z"
   },
   {
    "duration": 2822,
    "start_time": "2022-03-27T14:14:35.649Z"
   },
   {
    "duration": 8,
    "start_time": "2022-03-27T14:18:20.073Z"
   },
   {
    "duration": 37,
    "start_time": "2022-03-27T14:18:23.816Z"
   },
   {
    "duration": 6,
    "start_time": "2022-03-27T14:19:10.566Z"
   },
   {
    "duration": 27,
    "start_time": "2022-03-27T14:19:13.517Z"
   },
   {
    "duration": 22,
    "start_time": "2022-03-27T14:20:22.747Z"
   },
   {
    "duration": 17,
    "start_time": "2022-03-27T14:21:34.991Z"
   },
   {
    "duration": 5,
    "start_time": "2022-03-27T14:22:42.776Z"
   },
   {
    "duration": 26,
    "start_time": "2022-03-27T14:22:45.631Z"
   },
   {
    "duration": 403,
    "start_time": "2022-03-27T14:39:48.943Z"
   },
   {
    "duration": 153,
    "start_time": "2022-03-27T14:39:49.348Z"
   },
   {
    "duration": 15,
    "start_time": "2022-03-27T14:39:49.503Z"
   },
   {
    "duration": 32,
    "start_time": "2022-03-27T14:39:49.520Z"
   },
   {
    "duration": 4,
    "start_time": "2022-03-27T14:39:49.554Z"
   },
   {
    "duration": 15,
    "start_time": "2022-03-27T14:39:49.559Z"
   },
   {
    "duration": 8,
    "start_time": "2022-03-27T14:39:49.576Z"
   },
   {
    "duration": 49,
    "start_time": "2022-03-27T14:39:49.585Z"
   },
   {
    "duration": 29,
    "start_time": "2022-03-27T14:39:49.636Z"
   },
   {
    "duration": 31,
    "start_time": "2022-03-27T14:39:49.668Z"
   },
   {
    "duration": 88,
    "start_time": "2022-03-27T14:39:49.701Z"
   },
   {
    "duration": 87,
    "start_time": "2022-03-27T14:39:49.791Z"
   },
   {
    "duration": 68,
    "start_time": "2022-03-27T14:39:49.880Z"
   },
   {
    "duration": 46,
    "start_time": "2022-03-27T14:39:49.952Z"
   },
   {
    "duration": 4,
    "start_time": "2022-03-27T14:39:49.999Z"
   },
   {
    "duration": 29,
    "start_time": "2022-03-27T14:39:50.004Z"
   },
   {
    "duration": 40,
    "start_time": "2022-03-27T14:39:50.035Z"
   },
   {
    "duration": 11,
    "start_time": "2022-03-27T14:39:50.077Z"
   },
   {
    "duration": 15,
    "start_time": "2022-03-27T14:39:50.089Z"
   },
   {
    "duration": 30,
    "start_time": "2022-03-27T14:39:50.106Z"
   },
   {
    "duration": 27,
    "start_time": "2022-03-27T14:39:50.137Z"
   },
   {
    "duration": 15,
    "start_time": "2022-03-27T14:39:50.166Z"
   },
   {
    "duration": 18,
    "start_time": "2022-03-27T14:39:50.182Z"
   },
   {
    "duration": 31,
    "start_time": "2022-03-27T14:39:50.201Z"
   },
   {
    "duration": 26,
    "start_time": "2022-03-27T14:39:50.233Z"
   },
   {
    "duration": 15,
    "start_time": "2022-03-27T14:39:50.261Z"
   },
   {
    "duration": 9,
    "start_time": "2022-03-27T14:39:50.277Z"
   },
   {
    "duration": 17,
    "start_time": "2022-03-27T14:39:50.287Z"
   },
   {
    "duration": 32,
    "start_time": "2022-03-27T14:39:50.305Z"
   },
   {
    "duration": 4,
    "start_time": "2022-03-27T14:39:50.339Z"
   },
   {
    "duration": 89,
    "start_time": "2022-03-27T14:39:50.344Z"
   },
   {
    "duration": 0,
    "start_time": "2022-03-27T14:39:50.434Z"
   },
   {
    "duration": 0,
    "start_time": "2022-03-27T14:39:50.436Z"
   },
   {
    "duration": 0,
    "start_time": "2022-03-27T14:39:50.437Z"
   },
   {
    "duration": 0,
    "start_time": "2022-03-27T14:39:50.438Z"
   },
   {
    "duration": 0,
    "start_time": "2022-03-27T14:39:50.439Z"
   },
   {
    "duration": 0,
    "start_time": "2022-03-27T14:39:50.440Z"
   },
   {
    "duration": 0,
    "start_time": "2022-03-27T14:39:50.441Z"
   },
   {
    "duration": 19,
    "start_time": "2022-03-27T14:40:11.495Z"
   },
   {
    "duration": 12,
    "start_time": "2022-03-27T14:41:11.073Z"
   },
   {
    "duration": 24,
    "start_time": "2022-03-27T14:41:30.569Z"
   },
   {
    "duration": 5,
    "start_time": "2022-03-27T14:45:30.848Z"
   },
   {
    "duration": 32,
    "start_time": "2022-03-27T14:45:32.815Z"
   },
   {
    "duration": 3,
    "start_time": "2022-03-27T14:45:55.817Z"
   },
   {
    "duration": 182,
    "start_time": "2022-03-27T14:45:55.822Z"
   },
   {
    "duration": 10,
    "start_time": "2022-03-27T14:45:56.006Z"
   },
   {
    "duration": 42,
    "start_time": "2022-03-27T14:45:56.018Z"
   },
   {
    "duration": 4,
    "start_time": "2022-03-27T14:45:56.062Z"
   },
   {
    "duration": 12,
    "start_time": "2022-03-27T14:45:56.067Z"
   },
   {
    "duration": 8,
    "start_time": "2022-03-27T14:45:56.080Z"
   },
   {
    "duration": 56,
    "start_time": "2022-03-27T14:45:56.090Z"
   },
   {
    "duration": 19,
    "start_time": "2022-03-27T14:45:56.148Z"
   },
   {
    "duration": 30,
    "start_time": "2022-03-27T14:45:56.169Z"
   },
   {
    "duration": 85,
    "start_time": "2022-03-27T14:45:56.202Z"
   },
   {
    "duration": 84,
    "start_time": "2022-03-27T14:45:56.289Z"
   },
   {
    "duration": 67,
    "start_time": "2022-03-27T14:45:56.375Z"
   },
   {
    "duration": 42,
    "start_time": "2022-03-27T14:45:56.443Z"
   },
   {
    "duration": 3,
    "start_time": "2022-03-27T14:45:56.487Z"
   },
   {
    "duration": 40,
    "start_time": "2022-03-27T14:45:56.493Z"
   },
   {
    "duration": 72,
    "start_time": "2022-03-27T14:45:56.536Z"
   },
   {
    "duration": 31,
    "start_time": "2022-03-27T14:45:56.610Z"
   },
   {
    "duration": 18,
    "start_time": "2022-03-27T14:45:56.643Z"
   },
   {
    "duration": 5,
    "start_time": "2022-03-27T14:45:56.664Z"
   },
   {
    "duration": 36,
    "start_time": "2022-03-27T14:45:56.671Z"
   },
   {
    "duration": 30,
    "start_time": "2022-03-27T14:45:56.708Z"
   },
   {
    "duration": 23,
    "start_time": "2022-03-27T14:45:56.739Z"
   },
   {
    "duration": 18,
    "start_time": "2022-03-27T14:45:56.763Z"
   },
   {
    "duration": 20,
    "start_time": "2022-03-27T14:45:56.782Z"
   },
   {
    "duration": 31,
    "start_time": "2022-03-27T14:45:56.803Z"
   },
   {
    "duration": 12,
    "start_time": "2022-03-27T14:45:56.836Z"
   },
   {
    "duration": 16,
    "start_time": "2022-03-27T14:45:56.850Z"
   },
   {
    "duration": 10,
    "start_time": "2022-03-27T14:45:56.869Z"
   },
   {
    "duration": 4,
    "start_time": "2022-03-27T14:45:56.881Z"
   },
   {
    "duration": 48,
    "start_time": "2022-03-27T14:45:56.886Z"
   },
   {
    "duration": 0,
    "start_time": "2022-03-27T14:45:56.936Z"
   },
   {
    "duration": 0,
    "start_time": "2022-03-27T14:45:56.937Z"
   },
   {
    "duration": 0,
    "start_time": "2022-03-27T14:45:56.939Z"
   },
   {
    "duration": 0,
    "start_time": "2022-03-27T14:45:56.940Z"
   },
   {
    "duration": 0,
    "start_time": "2022-03-27T14:45:56.942Z"
   },
   {
    "duration": 0,
    "start_time": "2022-03-27T14:45:56.944Z"
   },
   {
    "duration": 0,
    "start_time": "2022-03-27T14:45:56.945Z"
   },
   {
    "duration": 8,
    "start_time": "2022-03-27T14:46:39.591Z"
   },
   {
    "duration": 22,
    "start_time": "2022-03-27T14:46:42.005Z"
   },
   {
    "duration": 6,
    "start_time": "2022-03-27T14:47:27.731Z"
   },
   {
    "duration": 20,
    "start_time": "2022-03-27T14:47:30.154Z"
   },
   {
    "duration": 4,
    "start_time": "2022-03-27T14:48:17.300Z"
   },
   {
    "duration": 22,
    "start_time": "2022-03-27T14:48:19.473Z"
   },
   {
    "duration": 3,
    "start_time": "2022-03-27T14:48:30.380Z"
   },
   {
    "duration": 21,
    "start_time": "2022-03-27T14:48:32.571Z"
   },
   {
    "duration": 14,
    "start_time": "2022-03-27T14:49:06.180Z"
   },
   {
    "duration": 19,
    "start_time": "2022-03-27T15:03:09.025Z"
   },
   {
    "duration": 16,
    "start_time": "2022-03-27T15:19:44.551Z"
   },
   {
    "duration": 9,
    "start_time": "2022-03-27T15:45:37.718Z"
   },
   {
    "duration": 5,
    "start_time": "2022-03-27T15:46:59.933Z"
   },
   {
    "duration": 7,
    "start_time": "2022-03-27T15:48:24.792Z"
   },
   {
    "duration": 4,
    "start_time": "2022-03-27T15:48:38.438Z"
   },
   {
    "duration": 428,
    "start_time": "2022-04-07T11:05:00.974Z"
   },
   {
    "duration": 195,
    "start_time": "2022-04-07T11:05:01.405Z"
   },
   {
    "duration": 28,
    "start_time": "2022-04-07T11:05:01.602Z"
   },
   {
    "duration": 27,
    "start_time": "2022-04-07T11:05:01.632Z"
   },
   {
    "duration": 19,
    "start_time": "2022-04-07T11:05:01.662Z"
   },
   {
    "duration": 60,
    "start_time": "2022-04-07T11:05:01.683Z"
   },
   {
    "duration": 29,
    "start_time": "2022-04-07T11:05:01.745Z"
   },
   {
    "duration": 56,
    "start_time": "2022-04-07T11:05:01.776Z"
   },
   {
    "duration": 25,
    "start_time": "2022-04-07T11:05:01.834Z"
   },
   {
    "duration": 22,
    "start_time": "2022-04-07T11:05:01.861Z"
   },
   {
    "duration": 86,
    "start_time": "2022-04-07T11:05:01.885Z"
   },
   {
    "duration": 77,
    "start_time": "2022-04-07T11:05:01.972Z"
   },
   {
    "duration": 57,
    "start_time": "2022-04-07T11:05:02.050Z"
   },
   {
    "duration": 52,
    "start_time": "2022-04-07T11:05:02.111Z"
   },
   {
    "duration": 3,
    "start_time": "2022-04-07T11:05:02.165Z"
   },
   {
    "duration": 12,
    "start_time": "2022-04-07T11:05:02.170Z"
   },
   {
    "duration": 53,
    "start_time": "2022-04-07T11:05:02.184Z"
   },
   {
    "duration": 12,
    "start_time": "2022-04-07T11:05:02.239Z"
   },
   {
    "duration": 10,
    "start_time": "2022-04-07T11:05:02.253Z"
   },
   {
    "duration": 3,
    "start_time": "2022-04-07T11:05:02.264Z"
   },
   {
    "duration": 22,
    "start_time": "2022-04-07T11:05:02.268Z"
   },
   {
    "duration": 13,
    "start_time": "2022-04-07T11:05:02.291Z"
   },
   {
    "duration": 14,
    "start_time": "2022-04-07T11:05:02.329Z"
   },
   {
    "duration": 17,
    "start_time": "2022-04-07T11:05:02.345Z"
   },
   {
    "duration": 14,
    "start_time": "2022-04-07T11:05:02.364Z"
   },
   {
    "duration": 12,
    "start_time": "2022-04-07T11:05:02.379Z"
   },
   {
    "duration": 8,
    "start_time": "2022-04-07T11:05:02.392Z"
   },
   {
    "duration": 31,
    "start_time": "2022-04-07T11:05:02.402Z"
   },
   {
    "duration": 19,
    "start_time": "2022-04-07T11:05:02.435Z"
   },
   {
    "duration": 11,
    "start_time": "2022-04-07T11:05:02.456Z"
   },
   {
    "duration": 23,
    "start_time": "2022-04-07T11:05:02.469Z"
   },
   {
    "duration": 14,
    "start_time": "2022-04-07T11:05:02.494Z"
   },
   {
    "duration": 26,
    "start_time": "2022-04-07T11:05:02.509Z"
   },
   {
    "duration": 13,
    "start_time": "2022-04-07T11:05:02.537Z"
   },
   {
    "duration": 12,
    "start_time": "2022-04-07T11:05:02.551Z"
   },
   {
    "duration": 4,
    "start_time": "2022-04-07T11:05:02.565Z"
   },
   {
    "duration": 7,
    "start_time": "2022-04-07T11:05:02.570Z"
   },
   {
    "duration": 9,
    "start_time": "2022-04-07T11:05:02.579Z"
   },
   {
    "duration": 46,
    "start_time": "2022-04-07T18:07:28.296Z"
   },
   {
    "duration": 10,
    "start_time": "2022-04-07T18:07:49.727Z"
   },
   {
    "duration": 6,
    "start_time": "2022-04-07T18:07:50.721Z"
   },
   {
    "duration": 6,
    "start_time": "2022-04-07T18:08:10.218Z"
   },
   {
    "duration": 6,
    "start_time": "2022-04-07T18:08:11.010Z"
   },
   {
    "duration": 6,
    "start_time": "2022-04-07T18:08:11.250Z"
   },
   {
    "duration": 350,
    "start_time": "2022-04-07T18:08:39.398Z"
   },
   {
    "duration": 130,
    "start_time": "2022-04-07T18:08:39.750Z"
   },
   {
    "duration": 16,
    "start_time": "2022-04-07T18:08:39.881Z"
   },
   {
    "duration": 34,
    "start_time": "2022-04-07T18:08:39.898Z"
   },
   {
    "duration": 5,
    "start_time": "2022-04-07T18:08:39.934Z"
   },
   {
    "duration": 23,
    "start_time": "2022-04-07T18:08:39.941Z"
   },
   {
    "duration": 7,
    "start_time": "2022-04-07T18:08:39.966Z"
   },
   {
    "duration": 37,
    "start_time": "2022-04-07T18:08:39.975Z"
   },
   {
    "duration": 33,
    "start_time": "2022-04-07T18:08:40.014Z"
   },
   {
    "duration": 22,
    "start_time": "2022-04-07T18:08:40.050Z"
   },
   {
    "duration": 74,
    "start_time": "2022-04-07T18:08:40.073Z"
   },
   {
    "duration": 65,
    "start_time": "2022-04-07T18:08:40.148Z"
   },
   {
    "duration": 66,
    "start_time": "2022-04-07T18:08:40.215Z"
   },
   {
    "duration": 79,
    "start_time": "2022-04-07T18:08:40.283Z"
   },
   {
    "duration": 3,
    "start_time": "2022-04-07T18:08:40.364Z"
   },
   {
    "duration": 12,
    "start_time": "2022-04-07T18:08:40.369Z"
   },
   {
    "duration": 34,
    "start_time": "2022-04-07T18:08:40.383Z"
   },
   {
    "duration": 17,
    "start_time": "2022-04-07T18:08:40.418Z"
   },
   {
    "duration": 13,
    "start_time": "2022-04-07T18:08:40.436Z"
   },
   {
    "duration": 5,
    "start_time": "2022-04-07T18:08:40.450Z"
   },
   {
    "duration": 19,
    "start_time": "2022-04-07T18:08:40.457Z"
   },
   {
    "duration": 12,
    "start_time": "2022-04-07T18:08:40.478Z"
   },
   {
    "duration": 46,
    "start_time": "2022-04-07T18:08:40.492Z"
   },
   {
    "duration": 17,
    "start_time": "2022-04-07T18:08:40.540Z"
   },
   {
    "duration": 19,
    "start_time": "2022-04-07T18:08:40.559Z"
   },
   {
    "duration": 16,
    "start_time": "2022-04-07T18:08:40.580Z"
   },
   {
    "duration": 10,
    "start_time": "2022-04-07T18:08:40.598Z"
   },
   {
    "duration": 13,
    "start_time": "2022-04-07T18:08:40.629Z"
   },
   {
    "duration": 13,
    "start_time": "2022-04-07T18:08:40.644Z"
   },
   {
    "duration": 4,
    "start_time": "2022-04-07T18:08:40.658Z"
   },
   {
    "duration": 22,
    "start_time": "2022-04-07T18:08:40.663Z"
   },
   {
    "duration": 12,
    "start_time": "2022-04-07T18:08:40.686Z"
   },
   {
    "duration": 45,
    "start_time": "2022-04-07T18:08:40.699Z"
   },
   {
    "duration": 11,
    "start_time": "2022-04-07T18:08:40.746Z"
   },
   {
    "duration": 7,
    "start_time": "2022-04-07T18:08:40.758Z"
   },
   {
    "duration": 4,
    "start_time": "2022-04-07T18:08:40.766Z"
   },
   {
    "duration": 9,
    "start_time": "2022-04-07T18:08:40.771Z"
   },
   {
    "duration": 4,
    "start_time": "2022-04-07T18:08:40.782Z"
   },
   {
    "duration": 56,
    "start_time": "2022-04-07T18:09:26.126Z"
   },
   {
    "duration": 68,
    "start_time": "2022-04-07T18:09:34.118Z"
   },
   {
    "duration": 58,
    "start_time": "2022-04-07T18:09:41.447Z"
   },
   {
    "duration": 70,
    "start_time": "2022-04-07T18:10:03.599Z"
   },
   {
    "duration": 105,
    "start_time": "2022-04-07T18:10:40.129Z"
   },
   {
    "duration": 58,
    "start_time": "2022-04-07T18:14:01.058Z"
   },
   {
    "duration": 58,
    "start_time": "2022-04-07T18:16:45.577Z"
   },
   {
    "duration": 58,
    "start_time": "2022-04-07T18:16:48.202Z"
   },
   {
    "duration": 14,
    "start_time": "2022-04-07T18:21:33.646Z"
   },
   {
    "duration": 100,
    "start_time": "2022-04-07T18:23:44.836Z"
   },
   {
    "duration": 94,
    "start_time": "2022-04-07T18:23:47.460Z"
   },
   {
    "duration": 97,
    "start_time": "2022-04-07T18:23:48.884Z"
   },
   {
    "duration": 407,
    "start_time": "2022-04-08T16:46:00.571Z"
   },
   {
    "duration": 162,
    "start_time": "2022-04-08T16:46:00.980Z"
   },
   {
    "duration": 23,
    "start_time": "2022-04-08T16:46:01.144Z"
   },
   {
    "duration": 31,
    "start_time": "2022-04-08T16:46:01.169Z"
   },
   {
    "duration": 12,
    "start_time": "2022-04-08T16:46:01.202Z"
   },
   {
    "duration": 13,
    "start_time": "2022-04-08T16:46:01.215Z"
   },
   {
    "duration": 16,
    "start_time": "2022-04-08T16:46:01.229Z"
   },
   {
    "duration": 34,
    "start_time": "2022-04-08T16:46:01.247Z"
   },
   {
    "duration": 32,
    "start_time": "2022-04-08T16:46:01.283Z"
   },
   {
    "duration": 51,
    "start_time": "2022-04-08T16:46:01.316Z"
   },
   {
    "duration": 72,
    "start_time": "2022-04-08T16:46:01.369Z"
   },
   {
    "duration": 99,
    "start_time": "2022-04-08T16:46:01.442Z"
   },
   {
    "duration": 73,
    "start_time": "2022-04-08T16:46:01.543Z"
   },
   {
    "duration": 86,
    "start_time": "2022-04-08T16:46:01.621Z"
   },
   {
    "duration": 3,
    "start_time": "2022-04-08T16:46:01.709Z"
   },
   {
    "duration": 19,
    "start_time": "2022-04-08T16:46:01.714Z"
   },
   {
    "duration": 48,
    "start_time": "2022-04-08T16:46:01.735Z"
   },
   {
    "duration": 12,
    "start_time": "2022-04-08T16:46:01.784Z"
   },
   {
    "duration": 98,
    "start_time": "2022-04-08T16:46:01.798Z"
   },
   {
    "duration": 15,
    "start_time": "2022-04-08T16:46:01.897Z"
   },
   {
    "duration": 29,
    "start_time": "2022-04-08T16:46:01.913Z"
   },
   {
    "duration": 26,
    "start_time": "2022-04-08T16:46:01.943Z"
   },
   {
    "duration": 31,
    "start_time": "2022-04-08T16:46:01.971Z"
   },
   {
    "duration": 104,
    "start_time": "2022-04-08T16:46:02.004Z"
   },
   {
    "duration": 22,
    "start_time": "2022-04-08T16:46:02.109Z"
   },
   {
    "duration": 16,
    "start_time": "2022-04-08T16:46:02.132Z"
   },
   {
    "duration": 12,
    "start_time": "2022-04-08T16:46:02.149Z"
   },
   {
    "duration": 16,
    "start_time": "2022-04-08T16:46:02.163Z"
   },
   {
    "duration": 13,
    "start_time": "2022-04-08T16:46:02.181Z"
   },
   {
    "duration": 11,
    "start_time": "2022-04-08T16:46:02.196Z"
   },
   {
    "duration": 28,
    "start_time": "2022-04-08T16:46:02.209Z"
   },
   {
    "duration": 23,
    "start_time": "2022-04-08T16:46:02.238Z"
   },
   {
    "duration": 24,
    "start_time": "2022-04-08T16:46:02.263Z"
   },
   {
    "duration": 17,
    "start_time": "2022-04-08T16:46:02.289Z"
   },
   {
    "duration": 10,
    "start_time": "2022-04-08T16:46:02.307Z"
   },
   {
    "duration": 11,
    "start_time": "2022-04-08T16:46:02.319Z"
   },
   {
    "duration": 32,
    "start_time": "2022-04-08T16:46:02.332Z"
   },
   {
    "duration": 11,
    "start_time": "2022-04-08T16:46:02.365Z"
   }
  ],
  "colab": {
   "collapsed_sections": [
    "E0vqbgi9ay0H",
    "VUC88oWjTJw2"
   ],
   "name": "yandex_music_project.ipynb",
   "provenance": []
  },
  "kernelspec": {
   "display_name": "Python 3 (ipykernel)",
   "language": "python",
   "name": "python3"
  },
  "language_info": {
   "codemirror_mode": {
    "name": "ipython",
    "version": 3
   },
   "file_extension": ".py",
   "mimetype": "text/x-python",
   "name": "python",
   "nbconvert_exporter": "python",
   "pygments_lexer": "ipython3",
   "version": "3.9.7"
  },
  "toc": {
   "base_numbering": 1,
   "nav_menu": {
    "height": "78px",
    "width": "320px"
   },
   "number_sections": true,
   "sideBar": true,
   "skip_h1_title": true,
   "title_cell": "Table of Contents",
   "title_sidebar": "Contents",
   "toc_cell": false,
   "toc_position": {
    "height": "calc(100% - 180px)",
    "left": "10px",
    "top": "150px",
    "width": "165px"
   },
   "toc_section_display": true,
   "toc_window_display": true
  }
 },
 "nbformat": 4,
 "nbformat_minor": 1
}
