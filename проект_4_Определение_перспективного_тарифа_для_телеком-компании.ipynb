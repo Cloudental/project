{
 "cells": [
  {
   "cell_type": "markdown",
   "metadata": {},
   "source": [
    "# Определение перспективного тарифа для телеком-компании.\n"
   ]
  },
  {
   "cell_type": "markdown",
   "metadata": {},
   "source": [
    "## Описание проекта.\n",
    "\n",
    "Вы аналитик компании «Мегалайн» — федерального оператора сотовой связи. Клиентам предлагают два тарифных плана: «Смарт» и «Ультра». Чтобы скорректировать рекламный бюджет, коммерческий департамент хочет понять, какой тариф приносит больше денег.\n",
    "\n",
    "Вам предстоит сделать предварительный анализ тарифов на небольшой выборке клиентов. В вашем распоряжении данные 500 пользователей «Мегалайна»: кто они, откуда, каким тарифом пользуются, сколько звонков и сообщений каждый отправил за 2018 год. Нужно проанализировать поведение клиентов и сделать вывод — какой тариф лучше."
   ]
  },
  {
   "cell_type": "markdown",
   "metadata": {},
   "source": [
    "## Описание тарифов.\n",
    "### Тариф «Смарт»\n",
    "1. Ежемесячная плата: 550 рублей\n",
    "2. Включено 500 минут разговора, 50 сообщений и 15 Гб интернет-трафика\n",
    "3. Стоимость услуг сверх тарифного пакета:\n",
    "* минута разговора: 3 рубля\n",
    "* сообщение: 3 рубля\n",
    "* 1 Гб интернет-трафика: 200 рублей\n",
    "\n",
    "### Тариф «Ультра»\n",
    "1. Ежемесячная плата: 1950 рублей\n",
    "2. Включено 3000 минут разговора, 1000 сообщений и 30 Гб интернет-трафика\n",
    "3. Стоимость услуг сверх тарифного пакета:\n",
    "* минута разговора: 1 рубль\n",
    "* сообщение: 1 рубль\n",
    "* 1 Гб интернет-трафика: 150 рублей"
   ]
  },
  {
   "cell_type": "markdown",
   "metadata": {},
   "source": [
    "## Изучение данных из файла."
   ]
  },
  {
   "cell_type": "code",
   "execution_count": 1,
   "metadata": {},
   "outputs": [
    {
     "name": "stdout",
     "output_type": "stream",
     "text": [
      "       id   call_date  duration  user_id\n",
      "0  1000_0  2018-07-25      0.00     1000\n",
      "1  1000_1  2018-08-17      0.00     1000\n",
      "2  1000_2  2018-06-11      2.85     1000\n",
      "3  1000_3  2018-09-21     13.80     1000\n",
      "4  1000_4  2018-12-15      5.18     1000\n",
      "--------------\n",
      "       id  mb_used session_date  user_id\n",
      "0  1000_0   112.95   2018-11-25     1000\n",
      "1  1000_1  1052.81   2018-09-07     1000\n",
      "2  1000_2  1197.26   2018-06-25     1000\n",
      "3  1000_3   550.27   2018-08-22     1000\n",
      "4  1000_4   302.56   2018-09-24     1000\n",
      "--------------\n",
      "       id message_date  user_id\n",
      "0  1000_0   2018-06-27     1000\n",
      "1  1000_1   2018-10-08     1000\n",
      "2  1000_2   2018-08-04     1000\n",
      "3  1000_3   2018-06-16     1000\n",
      "4  1000_4   2018-12-05     1000\n",
      "--------------\n",
      "   messages_included  mb_per_month_included  minutes_included  \\\n",
      "0                 50                  15360               500   \n",
      "1               1000                  30720              3000   \n",
      "\n",
      "   rub_monthly_fee  rub_per_gb  rub_per_message  rub_per_minute tariff_name  \n",
      "0              550         200                3               3       smart  \n",
      "1             1950         150                1               1       ultra  \n",
      "--------------\n",
      "   user_id  age churn_date         city first_name  last_name    reg_date  \\\n",
      "0     1000   52        NaN    Краснодар     Рафаил  Верещагин  2018-05-25   \n",
      "1     1001   41        NaN       Москва       Иван       Ежов  2018-11-01   \n",
      "2     1002   59        NaN  Стерлитамак    Евгений  Абрамович  2018-06-17   \n",
      "3     1003   23        NaN       Москва      Белла   Белякова  2018-08-17   \n",
      "4     1004   68        NaN  Новокузнецк    Татьяна   Авдеенко  2018-05-14   \n",
      "\n",
      "  tariff  \n",
      "0  ultra  \n",
      "1  smart  \n",
      "2  smart  \n",
      "3  ultra  \n",
      "4  ultra  \n",
      "--------------\n"
     ]
    }
   ],
   "source": [
    "# импорт библиотек\n",
    "# получение первых 5 строк таблиц\n",
    "import pandas as pd\n",
    "import numpy as np\n",
    "from scipy import stats as st\n",
    "import matplotlib.pyplot as plt\n",
    "import plotly.express as px\n",
    "\n",
    "calls = pd.read_csv('/datasets/calls.csv')\n",
    "internet = pd.read_csv('/datasets/internet.csv', index_col=0)\n",
    "messages = pd.read_csv('/datasets/messages.csv')\n",
    "tariffs = pd.read_csv('/datasets/tariffs.csv')\n",
    "users = pd.read_csv('/datasets/users.csv')\n",
    "\n",
    "for data in [calls, internet, messages, tariffs, users]: \n",
    "    print(data.head(), end='\\n--------------\\n')"
   ]
  },
  {
   "cell_type": "code",
   "execution_count": 2,
   "metadata": {},
   "outputs": [
    {
     "name": "stdout",
     "output_type": "stream",
     "text": [
      "<class 'pandas.core.frame.DataFrame'>\n",
      "RangeIndex: 202607 entries, 0 to 202606\n",
      "Data columns (total 4 columns):\n",
      " #   Column     Non-Null Count   Dtype  \n",
      "---  ------     --------------   -----  \n",
      " 0   id         202607 non-null  object \n",
      " 1   call_date  202607 non-null  object \n",
      " 2   duration   202607 non-null  float64\n",
      " 3   user_id    202607 non-null  int64  \n",
      "dtypes: float64(1), int64(1), object(2)\n",
      "memory usage: 6.2+ MB\n",
      "None\n",
      "\n",
      "<class 'pandas.core.frame.DataFrame'>\n",
      "Int64Index: 149396 entries, 0 to 149395\n",
      "Data columns (total 4 columns):\n",
      " #   Column        Non-Null Count   Dtype  \n",
      "---  ------        --------------   -----  \n",
      " 0   id            149396 non-null  object \n",
      " 1   mb_used       149396 non-null  float64\n",
      " 2   session_date  149396 non-null  object \n",
      " 3   user_id       149396 non-null  int64  \n",
      "dtypes: float64(1), int64(1), object(2)\n",
      "memory usage: 5.7+ MB\n",
      "None\n",
      "\n",
      "<class 'pandas.core.frame.DataFrame'>\n",
      "RangeIndex: 123036 entries, 0 to 123035\n",
      "Data columns (total 3 columns):\n",
      " #   Column        Non-Null Count   Dtype \n",
      "---  ------        --------------   ----- \n",
      " 0   id            123036 non-null  object\n",
      " 1   message_date  123036 non-null  object\n",
      " 2   user_id       123036 non-null  int64 \n",
      "dtypes: int64(1), object(2)\n",
      "memory usage: 2.8+ MB\n",
      "None\n",
      "\n",
      "<class 'pandas.core.frame.DataFrame'>\n",
      "RangeIndex: 2 entries, 0 to 1\n",
      "Data columns (total 8 columns):\n",
      " #   Column                 Non-Null Count  Dtype \n",
      "---  ------                 --------------  ----- \n",
      " 0   messages_included      2 non-null      int64 \n",
      " 1   mb_per_month_included  2 non-null      int64 \n",
      " 2   minutes_included       2 non-null      int64 \n",
      " 3   rub_monthly_fee        2 non-null      int64 \n",
      " 4   rub_per_gb             2 non-null      int64 \n",
      " 5   rub_per_message        2 non-null      int64 \n",
      " 6   rub_per_minute         2 non-null      int64 \n",
      " 7   tariff_name            2 non-null      object\n",
      "dtypes: int64(7), object(1)\n",
      "memory usage: 256.0+ bytes\n",
      "None\n",
      "\n",
      "<class 'pandas.core.frame.DataFrame'>\n",
      "RangeIndex: 500 entries, 0 to 499\n",
      "Data columns (total 8 columns):\n",
      " #   Column      Non-Null Count  Dtype \n",
      "---  ------      --------------  ----- \n",
      " 0   user_id     500 non-null    int64 \n",
      " 1   age         500 non-null    int64 \n",
      " 2   churn_date  38 non-null     object\n",
      " 3   city        500 non-null    object\n",
      " 4   first_name  500 non-null    object\n",
      " 5   last_name   500 non-null    object\n",
      " 6   reg_date    500 non-null    object\n",
      " 7   tariff      500 non-null    object\n",
      "dtypes: int64(2), object(6)\n",
      "memory usage: 31.4+ KB\n",
      "None\n",
      "\n"
     ]
    }
   ],
   "source": [
    "# получение общей информации о данных в таблицах\n",
    "for data in [calls, internet, messages, tariffs, users]: \n",
    "    print(data.info(), end='\\n\\n')"
   ]
  },
  {
   "cell_type": "markdown",
   "metadata": {},
   "source": [
    "Таблица `calls` (информация о звонках):\n",
    "* id — уникальный номер звонка\n",
    "* call_date — дата звонка\n",
    "* duration — длительность звонка в минутах\n",
    "* user_id — идентификатор пользователя, сделавшего звонок\n",
    "\n",
    "Таблица `internet` (информация об интернет-сессиях):\n",
    "* id — уникальный номер сессии\n",
    "* mb_used — объём потраченного за сессию интернет-трафика (в мегабайтах)\n",
    "* session_date — дата интернет-сессии\n",
    "* user_id — идентификатор пользователя\n",
    "\n",
    "Таблица `messages` (информация о сообщениях):\n",
    "* id — уникальный номер сообщения\n",
    "* message_date — дата сообщения\n",
    "* user_id — идентификатор пользователя, отправившего сообщение\n",
    "\n",
    "Таблица `tariffs` (информация о тарифах):\n",
    "* tariff_name — название тарифа\n",
    "* rub_monthly_fee — ежемесячная абонентская плата в рублях\n",
    "* minutes_included — количество минут разговора в месяц, включённых в абонентскую плату\n",
    "* messages_included — количество сообщений в месяц, включённых в абонентскую плату\n",
    "* mb_per_month_included — объём интернет-трафика, включённого в абонентскую плату (в мегабайтах)\n",
    "* rub_per_minute — стоимость минуты разговора сверх тарифного пакета (например, если в тарифе 100 минут разговора в месяц, то со 101 минуты будет взиматься плата)\n",
    "* rub_per_message — стоимость отправки сообщения сверх тарифного пакета\n",
    "* rub_per_gb — стоимость дополнительного гигабайта интернет-трафика сверх тарифного пакета (1 гигабайт = 1024 мегабайта)\n",
    "\n",
    "Таблица `users` (информация о пользователях):\n",
    "* user_id — уникальный идентификатор пользователя\n",
    "* first_name — имя пользователя\n",
    "* last_name — фамилия пользователя\n",
    "* age — возраст пользователя (годы)\n",
    "* reg_date — дата подключения тарифа (день, месяц, год)\n",
    "* churn_date — дата прекращения пользования тарифом (если значение пропущено, то тариф ещё действовал на момент выгрузки данных)\n",
    "* city — город проживания пользователя\n",
    "* tariff — название тарифного плана"
   ]
  },
  {
   "cell_type": "code",
   "execution_count": 3,
   "metadata": {},
   "outputs": [
    {
     "name": "stdout",
     "output_type": "stream",
     "text": [
      "            duration        user_id\n",
      "count  202607.000000  202607.000000\n",
      "mean        6.755887    1253.940619\n",
      "std         5.843365     144.722751\n",
      "min         0.000000    1000.000000\n",
      "25%         1.300000    1126.000000\n",
      "50%         6.000000    1260.000000\n",
      "75%        10.700000    1379.000000\n",
      "max        38.000000    1499.000000\n",
      "--------------\n",
      "             mb_used        user_id\n",
      "count  149396.000000  149396.000000\n",
      "mean      370.192426    1252.099842\n",
      "std       278.300951     144.050823\n",
      "min         0.000000    1000.000000\n",
      "25%       138.187500    1130.000000\n",
      "50%       348.015000    1251.000000\n",
      "75%       559.552500    1380.000000\n",
      "max      1724.830000    1499.000000\n",
      "--------------\n",
      "       messages_included  mb_per_month_included  minutes_included  \\\n",
      "count           2.000000               2.000000          2.000000   \n",
      "mean          525.000000           23040.000000       1750.000000   \n",
      "std           671.751442           10861.160159       1767.766953   \n",
      "min            50.000000           15360.000000        500.000000   \n",
      "25%           287.500000           19200.000000       1125.000000   \n",
      "50%           525.000000           23040.000000       1750.000000   \n",
      "75%           762.500000           26880.000000       2375.000000   \n",
      "max          1000.000000           30720.000000       3000.000000   \n",
      "\n",
      "       rub_monthly_fee  rub_per_gb  rub_per_message  rub_per_minute  \n",
      "count         2.000000    2.000000         2.000000        2.000000  \n",
      "mean       1250.000000  175.000000         2.000000        2.000000  \n",
      "std         989.949494   35.355339         1.414214        1.414214  \n",
      "min         550.000000  150.000000         1.000000        1.000000  \n",
      "25%         900.000000  162.500000         1.500000        1.500000  \n",
      "50%        1250.000000  175.000000         2.000000        2.000000  \n",
      "75%        1600.000000  187.500000         2.500000        2.500000  \n",
      "max        1950.000000  200.000000         3.000000        3.000000  \n",
      "--------------\n",
      "           user_id        age\n",
      "count   500.000000  500.00000\n",
      "mean   1249.500000   46.58800\n",
      "std     144.481833   16.66763\n",
      "min    1000.000000   18.00000\n",
      "25%    1124.750000   32.00000\n",
      "50%    1249.500000   46.00000\n",
      "75%    1374.250000   62.00000\n",
      "max    1499.000000   75.00000\n",
      "--------------\n"
     ]
    }
   ],
   "source": [
    "# описательная статистика\n",
    "for data in [calls, internet, tariffs, users]: \n",
    "    print(data.describe(), end='\\n--------------\\n')"
   ]
  },
  {
   "cell_type": "markdown",
   "metadata": {},
   "source": [
    "### Вывод."
   ]
  },
  {
   "cell_type": "markdown",
   "metadata": {},
   "source": [
    "На первый вгляд в данных есть некоторые неточности:\n",
    "1. Нулевые значения в `duration` и `mb_used`.\n",
    "2. Тип данных в `call_date`, `session_date`, `message_date`, `reg_date`, `churn_date` должен быть datetime.\n",
    "    \n",
    "Количество значений в столбце **users** различается, в данных есть пропущенные значения. Данные пропущены в дате прекращения пользования тарифом, значит тариф ещё действовал на момент выгрузки данных. Не будем их трогать."
   ]
  },
  {
   "cell_type": "markdown",
   "metadata": {},
   "source": [
    "## Подготовим данные."
   ]
  },
  {
   "cell_type": "markdown",
   "metadata": {},
   "source": [
    "Приведем данные к нужным типам."
   ]
  },
  {
   "cell_type": "code",
   "execution_count": 4,
   "metadata": {},
   "outputs": [],
   "source": [
    "calls['call_date'] = pd.to_datetime(calls['call_date'], format = '%Y-%m-%d')\n",
    "internet['session_date'] = pd.to_datetime(internet['session_date'], format = '%Y-%m-%d')\n",
    "messages['message_date'] = pd.to_datetime(messages['message_date'], format = '%Y-%m-%d')\n",
    "users['reg_date'] = pd.to_datetime(users['reg_date'], format = '%Y-%m-%d')\n",
    "users['churn_date'] = pd.to_datetime(users['churn_date'], format = '%Y-%m-%d')"
   ]
  },
  {
   "cell_type": "markdown",
   "metadata": {},
   "source": [
    "Нулевые значения в `duration` — длительность звонка в минутах, заменять не будем, это пропущенные звонки. Нулевые значения в `mb_used` — объём потраченного за сессию интернет-трафика (в мегабайтах) оставим без изменений.\n",
    "\n",
    "«Мегалайн» округляет секунды до минут, а мегабайты — до гигабайт. Для веб-трафика отдельные сессии не считаются. Вместо этого общая сумма за месяц округляется в бо́льшую сторону, поэтому округлим минуты в большую сторону для каждого звонка, а интеренет трафик округлим по месяцам."
   ]
  },
  {
   "cell_type": "code",
   "execution_count": 5,
   "metadata": {},
   "outputs": [
    {
     "data": {
      "text/html": [
       "<div>\n",
       "<style scoped>\n",
       "    .dataframe tbody tr th:only-of-type {\n",
       "        vertical-align: middle;\n",
       "    }\n",
       "\n",
       "    .dataframe tbody tr th {\n",
       "        vertical-align: top;\n",
       "    }\n",
       "\n",
       "    .dataframe thead th {\n",
       "        text-align: right;\n",
       "    }\n",
       "</style>\n",
       "<table border=\"1\" class=\"dataframe\">\n",
       "  <thead>\n",
       "    <tr style=\"text-align: right;\">\n",
       "      <th></th>\n",
       "      <th></th>\n",
       "      <th>mb_used</th>\n",
       "    </tr>\n",
       "    <tr>\n",
       "      <th>user_id</th>\n",
       "      <th>month</th>\n",
       "      <th></th>\n",
       "    </tr>\n",
       "  </thead>\n",
       "  <tbody>\n",
       "    <tr>\n",
       "      <th rowspan=\"5\" valign=\"top\">1000</th>\n",
       "      <th>5</th>\n",
       "      <td>2254.0</td>\n",
       "    </tr>\n",
       "    <tr>\n",
       "      <th>6</th>\n",
       "      <td>23234.0</td>\n",
       "    </tr>\n",
       "    <tr>\n",
       "      <th>7</th>\n",
       "      <td>14004.0</td>\n",
       "    </tr>\n",
       "    <tr>\n",
       "      <th>8</th>\n",
       "      <td>14056.0</td>\n",
       "    </tr>\n",
       "    <tr>\n",
       "      <th>9</th>\n",
       "      <td>14569.0</td>\n",
       "    </tr>\n",
       "    <tr>\n",
       "      <th>...</th>\n",
       "      <th>...</th>\n",
       "      <td>...</td>\n",
       "    </tr>\n",
       "    <tr>\n",
       "      <th>1498</th>\n",
       "      <th>10</th>\n",
       "      <td>20580.0</td>\n",
       "    </tr>\n",
       "    <tr>\n",
       "      <th rowspan=\"4\" valign=\"top\">1499</th>\n",
       "      <th>9</th>\n",
       "      <td>1846.0</td>\n",
       "    </tr>\n",
       "    <tr>\n",
       "      <th>10</th>\n",
       "      <td>17789.0</td>\n",
       "    </tr>\n",
       "    <tr>\n",
       "      <th>11</th>\n",
       "      <td>17964.0</td>\n",
       "    </tr>\n",
       "    <tr>\n",
       "      <th>12</th>\n",
       "      <td>13056.0</td>\n",
       "    </tr>\n",
       "  </tbody>\n",
       "</table>\n",
       "<p>3203 rows × 1 columns</p>\n",
       "</div>"
      ],
      "text/plain": [
       "               mb_used\n",
       "user_id month         \n",
       "1000    5       2254.0\n",
       "        6      23234.0\n",
       "        7      14004.0\n",
       "        8      14056.0\n",
       "        9      14569.0\n",
       "...                ...\n",
       "1498    10     20580.0\n",
       "1499    9       1846.0\n",
       "        10     17789.0\n",
       "        11     17964.0\n",
       "        12     13056.0\n",
       "\n",
       "[3203 rows x 1 columns]"
      ]
     },
     "metadata": {},
     "output_type": "display_data"
    }
   ],
   "source": [
    "# округление значений в большую сторону\n",
    "calls['duration'] = np.ceil(calls['duration'])\n",
    "# добавим столбец с месяцами\n",
    "internet['month'] = internet['session_date'].dt.month\n",
    "# сгруппируем обьем потраченного трафика по месяцам для каждого клиента\n",
    "internet_grouped = internet.pivot_table(index=['user_id', 'month'], values='mb_used', aggfunc='sum')\n",
    "# переименуем столбец\n",
    "internet_grouped.columns = ['mb_used']\n",
    "# округлим значения в большую сторону\n",
    "internet_grouped['mb_used'] = np.ceil(internet_grouped['mb_used'])\n",
    "display(internet_grouped)"
   ]
  },
  {
   "cell_type": "markdown",
   "metadata": {},
   "source": [
    "Посчитаем для каждого пользователя:\n",
    "* количество сделанных звонков и израсходованных минут разговора по месяцам;\n",
    "* количество отправленных сообщений по месяцам;\n",
    "* объем израсходованного интернет-трафика по месяцам;\n",
    "* помесячную выручку с каждого пользователя (вычтите бесплатный лимит из суммарного количества звонков, сообщений и интернет-трафика; остаток умножьте на значение из тарифного плана; прибавьте абонентскую плату, соответствующую тарифному плану)."
   ]
  },
  {
   "cell_type": "code",
   "execution_count": 6,
   "metadata": {},
   "outputs": [
    {
     "data": {
      "text/html": [
       "<div>\n",
       "<style scoped>\n",
       "    .dataframe tbody tr th:only-of-type {\n",
       "        vertical-align: middle;\n",
       "    }\n",
       "\n",
       "    .dataframe tbody tr th {\n",
       "        vertical-align: top;\n",
       "    }\n",
       "\n",
       "    .dataframe thead th {\n",
       "        text-align: right;\n",
       "    }\n",
       "</style>\n",
       "<table border=\"1\" class=\"dataframe\">\n",
       "  <thead>\n",
       "    <tr style=\"text-align: right;\">\n",
       "      <th></th>\n",
       "      <th></th>\n",
       "      <th>calls</th>\n",
       "      <th>duration</th>\n",
       "    </tr>\n",
       "    <tr>\n",
       "      <th>user_id</th>\n",
       "      <th>month</th>\n",
       "      <th></th>\n",
       "      <th></th>\n",
       "    </tr>\n",
       "  </thead>\n",
       "  <tbody>\n",
       "    <tr>\n",
       "      <th rowspan=\"5\" valign=\"top\">1000</th>\n",
       "      <th>5</th>\n",
       "      <td>22</td>\n",
       "      <td>159.0</td>\n",
       "    </tr>\n",
       "    <tr>\n",
       "      <th>6</th>\n",
       "      <td>43</td>\n",
       "      <td>172.0</td>\n",
       "    </tr>\n",
       "    <tr>\n",
       "      <th>7</th>\n",
       "      <td>47</td>\n",
       "      <td>340.0</td>\n",
       "    </tr>\n",
       "    <tr>\n",
       "      <th>8</th>\n",
       "      <td>52</td>\n",
       "      <td>408.0</td>\n",
       "    </tr>\n",
       "    <tr>\n",
       "      <th>9</th>\n",
       "      <td>58</td>\n",
       "      <td>466.0</td>\n",
       "    </tr>\n",
       "    <tr>\n",
       "      <th>...</th>\n",
       "      <th>...</th>\n",
       "      <td>...</td>\n",
       "      <td>...</td>\n",
       "    </tr>\n",
       "    <tr>\n",
       "      <th>1498</th>\n",
       "      <th>10</th>\n",
       "      <td>41</td>\n",
       "      <td>247.0</td>\n",
       "    </tr>\n",
       "    <tr>\n",
       "      <th rowspan=\"4\" valign=\"top\">1499</th>\n",
       "      <th>9</th>\n",
       "      <td>9</td>\n",
       "      <td>70.0</td>\n",
       "    </tr>\n",
       "    <tr>\n",
       "      <th>10</th>\n",
       "      <td>68</td>\n",
       "      <td>449.0</td>\n",
       "    </tr>\n",
       "    <tr>\n",
       "      <th>11</th>\n",
       "      <td>74</td>\n",
       "      <td>612.0</td>\n",
       "    </tr>\n",
       "    <tr>\n",
       "      <th>12</th>\n",
       "      <td>69</td>\n",
       "      <td>492.0</td>\n",
       "    </tr>\n",
       "  </tbody>\n",
       "</table>\n",
       "<p>3174 rows × 2 columns</p>\n",
       "</div>"
      ],
      "text/plain": [
       "               calls  duration\n",
       "user_id month                 \n",
       "1000    5         22     159.0\n",
       "        6         43     172.0\n",
       "        7         47     340.0\n",
       "        8         52     408.0\n",
       "        9         58     466.0\n",
       "...              ...       ...\n",
       "1498    10        41     247.0\n",
       "1499    9          9      70.0\n",
       "        10        68     449.0\n",
       "        11        74     612.0\n",
       "        12        69     492.0\n",
       "\n",
       "[3174 rows x 2 columns]"
      ]
     },
     "metadata": {},
     "output_type": "display_data"
    }
   ],
   "source": [
    "# добавим месяц\n",
    "calls['month'] = calls['call_date'].dt.month\n",
    "# количество сделанных звонков и израсходованных минут разговора по месяцам\n",
    "calls_grouped = calls.pivot_table(index=['user_id', 'month'], values='duration', aggfunc=['count', 'sum'])\n",
    "calls_grouped.columns = ['calls', 'duration']\n",
    "display(calls_grouped)"
   ]
  },
  {
   "cell_type": "code",
   "execution_count": 7,
   "metadata": {},
   "outputs": [
    {
     "data": {
      "text/html": [
       "<div>\n",
       "<style scoped>\n",
       "    .dataframe tbody tr th:only-of-type {\n",
       "        vertical-align: middle;\n",
       "    }\n",
       "\n",
       "    .dataframe tbody tr th {\n",
       "        vertical-align: top;\n",
       "    }\n",
       "\n",
       "    .dataframe thead th {\n",
       "        text-align: right;\n",
       "    }\n",
       "</style>\n",
       "<table border=\"1\" class=\"dataframe\">\n",
       "  <thead>\n",
       "    <tr style=\"text-align: right;\">\n",
       "      <th></th>\n",
       "      <th></th>\n",
       "      <th>messages</th>\n",
       "    </tr>\n",
       "    <tr>\n",
       "      <th>user_id</th>\n",
       "      <th>month</th>\n",
       "      <th></th>\n",
       "    </tr>\n",
       "  </thead>\n",
       "  <tbody>\n",
       "    <tr>\n",
       "      <th rowspan=\"5\" valign=\"top\">1000</th>\n",
       "      <th>5</th>\n",
       "      <td>22</td>\n",
       "    </tr>\n",
       "    <tr>\n",
       "      <th>6</th>\n",
       "      <td>60</td>\n",
       "    </tr>\n",
       "    <tr>\n",
       "      <th>7</th>\n",
       "      <td>75</td>\n",
       "    </tr>\n",
       "    <tr>\n",
       "      <th>8</th>\n",
       "      <td>81</td>\n",
       "    </tr>\n",
       "    <tr>\n",
       "      <th>9</th>\n",
       "      <td>57</td>\n",
       "    </tr>\n",
       "    <tr>\n",
       "      <th>...</th>\n",
       "      <th>...</th>\n",
       "      <td>...</td>\n",
       "    </tr>\n",
       "    <tr>\n",
       "      <th>1498</th>\n",
       "      <th>10</th>\n",
       "      <td>42</td>\n",
       "    </tr>\n",
       "    <tr>\n",
       "      <th rowspan=\"4\" valign=\"top\">1499</th>\n",
       "      <th>9</th>\n",
       "      <td>11</td>\n",
       "    </tr>\n",
       "    <tr>\n",
       "      <th>10</th>\n",
       "      <td>48</td>\n",
       "    </tr>\n",
       "    <tr>\n",
       "      <th>11</th>\n",
       "      <td>59</td>\n",
       "    </tr>\n",
       "    <tr>\n",
       "      <th>12</th>\n",
       "      <td>66</td>\n",
       "    </tr>\n",
       "  </tbody>\n",
       "</table>\n",
       "<p>2717 rows × 1 columns</p>\n",
       "</div>"
      ],
      "text/plain": [
       "               messages\n",
       "user_id month          \n",
       "1000    5            22\n",
       "        6            60\n",
       "        7            75\n",
       "        8            81\n",
       "        9            57\n",
       "...                 ...\n",
       "1498    10           42\n",
       "1499    9            11\n",
       "        10           48\n",
       "        11           59\n",
       "        12           66\n",
       "\n",
       "[2717 rows x 1 columns]"
      ]
     },
     "metadata": {},
     "output_type": "display_data"
    }
   ],
   "source": [
    "# добавим месяц\n",
    "messages['month'] = messages['message_date'].dt.month\n",
    "# количество отправленных сообщений по месяцам\n",
    "messages_grouped = messages.pivot_table(index=['user_id', 'month'], values='id', aggfunc='count')\n",
    "messages_grouped.columns = ['messages']\n",
    "display(messages_grouped)"
   ]
  },
  {
   "cell_type": "markdown",
   "metadata": {},
   "source": [
    "Объем израсходованного интернет-трафика по месяцам мы уже имеем, напомним его."
   ]
  },
  {
   "cell_type": "code",
   "execution_count": 8,
   "metadata": {},
   "outputs": [
    {
     "data": {
      "text/html": [
       "<div>\n",
       "<style scoped>\n",
       "    .dataframe tbody tr th:only-of-type {\n",
       "        vertical-align: middle;\n",
       "    }\n",
       "\n",
       "    .dataframe tbody tr th {\n",
       "        vertical-align: top;\n",
       "    }\n",
       "\n",
       "    .dataframe thead th {\n",
       "        text-align: right;\n",
       "    }\n",
       "</style>\n",
       "<table border=\"1\" class=\"dataframe\">\n",
       "  <thead>\n",
       "    <tr style=\"text-align: right;\">\n",
       "      <th></th>\n",
       "      <th></th>\n",
       "      <th>mb_used</th>\n",
       "    </tr>\n",
       "    <tr>\n",
       "      <th>user_id</th>\n",
       "      <th>month</th>\n",
       "      <th></th>\n",
       "    </tr>\n",
       "  </thead>\n",
       "  <tbody>\n",
       "    <tr>\n",
       "      <th rowspan=\"5\" valign=\"top\">1000</th>\n",
       "      <th>5</th>\n",
       "      <td>2254.0</td>\n",
       "    </tr>\n",
       "    <tr>\n",
       "      <th>6</th>\n",
       "      <td>23234.0</td>\n",
       "    </tr>\n",
       "    <tr>\n",
       "      <th>7</th>\n",
       "      <td>14004.0</td>\n",
       "    </tr>\n",
       "    <tr>\n",
       "      <th>8</th>\n",
       "      <td>14056.0</td>\n",
       "    </tr>\n",
       "    <tr>\n",
       "      <th>9</th>\n",
       "      <td>14569.0</td>\n",
       "    </tr>\n",
       "    <tr>\n",
       "      <th>...</th>\n",
       "      <th>...</th>\n",
       "      <td>...</td>\n",
       "    </tr>\n",
       "    <tr>\n",
       "      <th>1498</th>\n",
       "      <th>10</th>\n",
       "      <td>20580.0</td>\n",
       "    </tr>\n",
       "    <tr>\n",
       "      <th rowspan=\"4\" valign=\"top\">1499</th>\n",
       "      <th>9</th>\n",
       "      <td>1846.0</td>\n",
       "    </tr>\n",
       "    <tr>\n",
       "      <th>10</th>\n",
       "      <td>17789.0</td>\n",
       "    </tr>\n",
       "    <tr>\n",
       "      <th>11</th>\n",
       "      <td>17964.0</td>\n",
       "    </tr>\n",
       "    <tr>\n",
       "      <th>12</th>\n",
       "      <td>13056.0</td>\n",
       "    </tr>\n",
       "  </tbody>\n",
       "</table>\n",
       "<p>3203 rows × 1 columns</p>\n",
       "</div>"
      ],
      "text/plain": [
       "               mb_used\n",
       "user_id month         \n",
       "1000    5       2254.0\n",
       "        6      23234.0\n",
       "        7      14004.0\n",
       "        8      14056.0\n",
       "        9      14569.0\n",
       "...                ...\n",
       "1498    10     20580.0\n",
       "1499    9       1846.0\n",
       "        10     17789.0\n",
       "        11     17964.0\n",
       "        12     13056.0\n",
       "\n",
       "[3203 rows x 1 columns]"
      ]
     },
     "metadata": {},
     "output_type": "display_data"
    }
   ],
   "source": [
    "display(internet_grouped)"
   ]
  },
  {
   "cell_type": "markdown",
   "metadata": {},
   "source": [
    "Посчитаем помесячную выручку с каждого пользователя."
   ]
  },
  {
   "cell_type": "code",
   "execution_count": 9,
   "metadata": {},
   "outputs": [
    {
     "data": {
      "text/html": [
       "<div>\n",
       "<style scoped>\n",
       "    .dataframe tbody tr th:only-of-type {\n",
       "        vertical-align: middle;\n",
       "    }\n",
       "\n",
       "    .dataframe tbody tr th {\n",
       "        vertical-align: top;\n",
       "    }\n",
       "\n",
       "    .dataframe thead th {\n",
       "        text-align: right;\n",
       "    }\n",
       "</style>\n",
       "<table border=\"1\" class=\"dataframe\">\n",
       "  <thead>\n",
       "    <tr style=\"text-align: right;\">\n",
       "      <th></th>\n",
       "      <th></th>\n",
       "      <th>calls</th>\n",
       "      <th>duration</th>\n",
       "      <th>messages</th>\n",
       "      <th>mb_used</th>\n",
       "      <th>tariff</th>\n",
       "    </tr>\n",
       "    <tr>\n",
       "      <th>user_id</th>\n",
       "      <th>month</th>\n",
       "      <th></th>\n",
       "      <th></th>\n",
       "      <th></th>\n",
       "      <th></th>\n",
       "      <th></th>\n",
       "    </tr>\n",
       "  </thead>\n",
       "  <tbody>\n",
       "    <tr>\n",
       "      <th rowspan=\"5\" valign=\"top\">1000</th>\n",
       "      <th>5</th>\n",
       "      <td>22.0</td>\n",
       "      <td>159.0</td>\n",
       "      <td>22.0</td>\n",
       "      <td>2254.0</td>\n",
       "      <td>ultra</td>\n",
       "    </tr>\n",
       "    <tr>\n",
       "      <th>6</th>\n",
       "      <td>43.0</td>\n",
       "      <td>172.0</td>\n",
       "      <td>60.0</td>\n",
       "      <td>23234.0</td>\n",
       "      <td>ultra</td>\n",
       "    </tr>\n",
       "    <tr>\n",
       "      <th>7</th>\n",
       "      <td>47.0</td>\n",
       "      <td>340.0</td>\n",
       "      <td>75.0</td>\n",
       "      <td>14004.0</td>\n",
       "      <td>ultra</td>\n",
       "    </tr>\n",
       "    <tr>\n",
       "      <th>8</th>\n",
       "      <td>52.0</td>\n",
       "      <td>408.0</td>\n",
       "      <td>81.0</td>\n",
       "      <td>14056.0</td>\n",
       "      <td>ultra</td>\n",
       "    </tr>\n",
       "    <tr>\n",
       "      <th>9</th>\n",
       "      <td>58.0</td>\n",
       "      <td>466.0</td>\n",
       "      <td>57.0</td>\n",
       "      <td>14569.0</td>\n",
       "      <td>ultra</td>\n",
       "    </tr>\n",
       "    <tr>\n",
       "      <th>...</th>\n",
       "      <th>...</th>\n",
       "      <td>...</td>\n",
       "      <td>...</td>\n",
       "      <td>...</td>\n",
       "      <td>...</td>\n",
       "      <td>...</td>\n",
       "    </tr>\n",
       "    <tr>\n",
       "      <th rowspan=\"4\" valign=\"top\">1489</th>\n",
       "      <th>9</th>\n",
       "      <td>NaN</td>\n",
       "      <td>NaN</td>\n",
       "      <td>32.0</td>\n",
       "      <td>17207.0</td>\n",
       "      <td>smart</td>\n",
       "    </tr>\n",
       "    <tr>\n",
       "      <th>10</th>\n",
       "      <td>NaN</td>\n",
       "      <td>NaN</td>\n",
       "      <td>21.0</td>\n",
       "      <td>19560.0</td>\n",
       "      <td>smart</td>\n",
       "    </tr>\n",
       "    <tr>\n",
       "      <th>11</th>\n",
       "      <td>NaN</td>\n",
       "      <td>NaN</td>\n",
       "      <td>20.0</td>\n",
       "      <td>17492.0</td>\n",
       "      <td>smart</td>\n",
       "    </tr>\n",
       "    <tr>\n",
       "      <th>12</th>\n",
       "      <td>NaN</td>\n",
       "      <td>NaN</td>\n",
       "      <td>35.0</td>\n",
       "      <td>17323.0</td>\n",
       "      <td>smart</td>\n",
       "    </tr>\n",
       "    <tr>\n",
       "      <th>1476</th>\n",
       "      <th>4</th>\n",
       "      <td>NaN</td>\n",
       "      <td>NaN</td>\n",
       "      <td>NaN</td>\n",
       "      <td>531.0</td>\n",
       "      <td>ultra</td>\n",
       "    </tr>\n",
       "  </tbody>\n",
       "</table>\n",
       "<p>3214 rows × 5 columns</p>\n",
       "</div>"
      ],
      "text/plain": [
       "               calls  duration  messages  mb_used tariff\n",
       "user_id month                                           \n",
       "1000    5       22.0     159.0      22.0   2254.0  ultra\n",
       "        6       43.0     172.0      60.0  23234.0  ultra\n",
       "        7       47.0     340.0      75.0  14004.0  ultra\n",
       "        8       52.0     408.0      81.0  14056.0  ultra\n",
       "        9       58.0     466.0      57.0  14569.0  ultra\n",
       "...              ...       ...       ...      ...    ...\n",
       "1489    9        NaN       NaN      32.0  17207.0  smart\n",
       "        10       NaN       NaN      21.0  19560.0  smart\n",
       "        11       NaN       NaN      20.0  17492.0  smart\n",
       "        12       NaN       NaN      35.0  17323.0  smart\n",
       "1476    4        NaN       NaN       NaN    531.0  ultra\n",
       "\n",
       "[3214 rows x 5 columns]"
      ]
     },
     "metadata": {},
     "output_type": "display_data"
    }
   ],
   "source": [
    "# объединим сводные таблицы\n",
    "data_grouped = calls_grouped.merge(messages_grouped, on=['user_id', 'month'], how='outer')\n",
    "data_grouped = data_grouped.merge(internet_grouped, on=['user_id', 'month'], how='outer')\n",
    "# добавим тариф для каждого пользователя\n",
    "for user in data_grouped.index:\n",
    "    data_grouped.loc[user, 'tariff'] = users.loc[user[0]-1000, 'tariff']\n",
    "\n",
    "display(data_grouped)"
   ]
  },
  {
   "cell_type": "markdown",
   "metadata": {},
   "source": [
    "Видим, что появились пустые значения. Они могли появиться, если пользователь использовал не все виды связи. Заменим пустые значения на 0."
   ]
  },
  {
   "cell_type": "code",
   "execution_count": 10,
   "metadata": {},
   "outputs": [
    {
     "name": "stdout",
     "output_type": "stream",
     "text": [
      "Количество пропусков до замены: \n",
      "calls        40\n",
      "duration     40\n",
      "messages    497\n",
      "mb_used      11\n",
      "tariff        0\n",
      "dtype: int64\n",
      "Количество пропусков после замены:\n",
      "calls       0\n",
      "duration    0\n",
      "messages    0\n",
      "mb_used     0\n",
      "tariff      0\n",
      "dtype: int64\n"
     ]
    }
   ],
   "source": [
    "print('Количество пропусков до замены: \\n', data_grouped.isna().sum(), sep='')\n",
    "# для каждого столбца заменим пустые значения на 0\n",
    "for column in data_grouped.columns.values.tolist():\n",
    "    data_grouped.loc[data_grouped[column].isna(), column] = 0\n",
    "print('Количество пропусков после замены:\\n', data_grouped.isna().sum(), sep='')"
   ]
  },
  {
   "cell_type": "code",
   "execution_count": 24,
   "metadata": {},
   "outputs": [
    {
     "data": {
      "text/html": [
       "<div>\n",
       "<style scoped>\n",
       "    .dataframe tbody tr th:only-of-type {\n",
       "        vertical-align: middle;\n",
       "    }\n",
       "\n",
       "    .dataframe tbody tr th {\n",
       "        vertical-align: top;\n",
       "    }\n",
       "\n",
       "    .dataframe thead th {\n",
       "        text-align: right;\n",
       "    }\n",
       "</style>\n",
       "<table border=\"1\" class=\"dataframe\">\n",
       "  <thead>\n",
       "    <tr style=\"text-align: right;\">\n",
       "      <th></th>\n",
       "      <th>user_id</th>\n",
       "      <th>month</th>\n",
       "      <th>calls</th>\n",
       "      <th>duration</th>\n",
       "      <th>messages</th>\n",
       "      <th>mb_used</th>\n",
       "      <th>tariff_твой_способ</th>\n",
       "      <th>revenue</th>\n",
       "      <th>city</th>\n",
       "      <th>region</th>\n",
       "      <th>tariff_c_помощью_merge</th>\n",
       "    </tr>\n",
       "  </thead>\n",
       "  <tbody>\n",
       "    <tr>\n",
       "      <th>0</th>\n",
       "      <td>1000</td>\n",
       "      <td>5</td>\n",
       "      <td>22.0</td>\n",
       "      <td>159.0</td>\n",
       "      <td>22.0</td>\n",
       "      <td>2254.0</td>\n",
       "      <td>ultra</td>\n",
       "      <td>1950.00</td>\n",
       "      <td>Краснодар</td>\n",
       "      <td>Другие регионы</td>\n",
       "      <td>ultra</td>\n",
       "    </tr>\n",
       "    <tr>\n",
       "      <th>1</th>\n",
       "      <td>1000</td>\n",
       "      <td>6</td>\n",
       "      <td>43.0</td>\n",
       "      <td>172.0</td>\n",
       "      <td>60.0</td>\n",
       "      <td>23234.0</td>\n",
       "      <td>ultra</td>\n",
       "      <td>1950.00</td>\n",
       "      <td>Краснодар</td>\n",
       "      <td>Другие регионы</td>\n",
       "      <td>ultra</td>\n",
       "    </tr>\n",
       "    <tr>\n",
       "      <th>2</th>\n",
       "      <td>1000</td>\n",
       "      <td>7</td>\n",
       "      <td>47.0</td>\n",
       "      <td>340.0</td>\n",
       "      <td>75.0</td>\n",
       "      <td>14004.0</td>\n",
       "      <td>ultra</td>\n",
       "      <td>1950.00</td>\n",
       "      <td>Краснодар</td>\n",
       "      <td>Другие регионы</td>\n",
       "      <td>ultra</td>\n",
       "    </tr>\n",
       "    <tr>\n",
       "      <th>3</th>\n",
       "      <td>1000</td>\n",
       "      <td>8</td>\n",
       "      <td>52.0</td>\n",
       "      <td>408.0</td>\n",
       "      <td>81.0</td>\n",
       "      <td>14056.0</td>\n",
       "      <td>ultra</td>\n",
       "      <td>1950.00</td>\n",
       "      <td>Краснодар</td>\n",
       "      <td>Другие регионы</td>\n",
       "      <td>ultra</td>\n",
       "    </tr>\n",
       "    <tr>\n",
       "      <th>4</th>\n",
       "      <td>1000</td>\n",
       "      <td>9</td>\n",
       "      <td>58.0</td>\n",
       "      <td>466.0</td>\n",
       "      <td>57.0</td>\n",
       "      <td>14569.0</td>\n",
       "      <td>ultra</td>\n",
       "      <td>1950.00</td>\n",
       "      <td>Краснодар</td>\n",
       "      <td>Другие регионы</td>\n",
       "      <td>ultra</td>\n",
       "    </tr>\n",
       "    <tr>\n",
       "      <th>...</th>\n",
       "      <td>...</td>\n",
       "      <td>...</td>\n",
       "      <td>...</td>\n",
       "      <td>...</td>\n",
       "      <td>...</td>\n",
       "      <td>...</td>\n",
       "      <td>...</td>\n",
       "      <td>...</td>\n",
       "      <td>...</td>\n",
       "      <td>...</td>\n",
       "      <td>...</td>\n",
       "    </tr>\n",
       "    <tr>\n",
       "      <th>3209</th>\n",
       "      <td>1489</td>\n",
       "      <td>9</td>\n",
       "      <td>0.0</td>\n",
       "      <td>0.0</td>\n",
       "      <td>32.0</td>\n",
       "      <td>17207.0</td>\n",
       "      <td>smart</td>\n",
       "      <td>910.74</td>\n",
       "      <td>Санкт-Петербург</td>\n",
       "      <td>Другие регионы</td>\n",
       "      <td>smart</td>\n",
       "    </tr>\n",
       "    <tr>\n",
       "      <th>3210</th>\n",
       "      <td>1489</td>\n",
       "      <td>10</td>\n",
       "      <td>0.0</td>\n",
       "      <td>0.0</td>\n",
       "      <td>21.0</td>\n",
       "      <td>19560.0</td>\n",
       "      <td>smart</td>\n",
       "      <td>1370.31</td>\n",
       "      <td>Санкт-Петербург</td>\n",
       "      <td>Другие регионы</td>\n",
       "      <td>smart</td>\n",
       "    </tr>\n",
       "    <tr>\n",
       "      <th>3211</th>\n",
       "      <td>1489</td>\n",
       "      <td>11</td>\n",
       "      <td>0.0</td>\n",
       "      <td>0.0</td>\n",
       "      <td>20.0</td>\n",
       "      <td>17492.0</td>\n",
       "      <td>smart</td>\n",
       "      <td>966.41</td>\n",
       "      <td>Санкт-Петербург</td>\n",
       "      <td>Другие регионы</td>\n",
       "      <td>smart</td>\n",
       "    </tr>\n",
       "    <tr>\n",
       "      <th>3212</th>\n",
       "      <td>1489</td>\n",
       "      <td>12</td>\n",
       "      <td>0.0</td>\n",
       "      <td>0.0</td>\n",
       "      <td>35.0</td>\n",
       "      <td>17323.0</td>\n",
       "      <td>smart</td>\n",
       "      <td>933.40</td>\n",
       "      <td>Санкт-Петербург</td>\n",
       "      <td>Другие регионы</td>\n",
       "      <td>smart</td>\n",
       "    </tr>\n",
       "    <tr>\n",
       "      <th>3213</th>\n",
       "      <td>1476</td>\n",
       "      <td>4</td>\n",
       "      <td>0.0</td>\n",
       "      <td>0.0</td>\n",
       "      <td>0.0</td>\n",
       "      <td>531.0</td>\n",
       "      <td>ultra</td>\n",
       "      <td>1950.00</td>\n",
       "      <td>Москва</td>\n",
       "      <td>Москва</td>\n",
       "      <td>ultra</td>\n",
       "    </tr>\n",
       "  </tbody>\n",
       "</table>\n",
       "<p>3214 rows × 11 columns</p>\n",
       "</div>"
      ],
      "text/plain": [
       "      user_id  month  calls  duration  messages  mb_used tariff_твой_способ  \\\n",
       "0        1000      5   22.0     159.0      22.0   2254.0              ultra   \n",
       "1        1000      6   43.0     172.0      60.0  23234.0              ultra   \n",
       "2        1000      7   47.0     340.0      75.0  14004.0              ultra   \n",
       "3        1000      8   52.0     408.0      81.0  14056.0              ultra   \n",
       "4        1000      9   58.0     466.0      57.0  14569.0              ultra   \n",
       "...       ...    ...    ...       ...       ...      ...                ...   \n",
       "3209     1489      9    0.0       0.0      32.0  17207.0              smart   \n",
       "3210     1489     10    0.0       0.0      21.0  19560.0              smart   \n",
       "3211     1489     11    0.0       0.0      20.0  17492.0              smart   \n",
       "3212     1489     12    0.0       0.0      35.0  17323.0              smart   \n",
       "3213     1476      4    0.0       0.0       0.0    531.0              ultra   \n",
       "\n",
       "      revenue             city          region tariff_c_помощью_merge  \n",
       "0     1950.00        Краснодар  Другие регионы                  ultra  \n",
       "1     1950.00        Краснодар  Другие регионы                  ultra  \n",
       "2     1950.00        Краснодар  Другие регионы                  ultra  \n",
       "3     1950.00        Краснодар  Другие регионы                  ultra  \n",
       "4     1950.00        Краснодар  Другие регионы                  ultra  \n",
       "...       ...              ...             ...                    ...  \n",
       "3209   910.74  Санкт-Петербург  Другие регионы                  smart  \n",
       "3210  1370.31  Санкт-Петербург  Другие регионы                  smart  \n",
       "3211   966.41  Санкт-Петербург  Другие регионы                  smart  \n",
       "3212   933.40  Санкт-Петербург  Другие регионы                  smart  \n",
       "3213  1950.00           Москва          Москва                  ultra  \n",
       "\n",
       "[3214 rows x 11 columns]"
      ]
     },
     "execution_count": 24,
     "metadata": {},
     "output_type": "execute_result"
    }
   ],
   "source": [
    "# Код ревьювера\n",
    "data_grouped.reset_index() \\\n",
    "    .merge(users[['user_id','tariff']],\n",
    "           how='left', on = 'user_id',\n",
    "           suffixes = ['_твой_способ','_c_помощью_merge'])"
   ]
  },
  {
   "cell_type": "markdown",
   "metadata": {},
   "source": [
    "Теперь займемся вычислениями."
   ]
  },
  {
   "cell_type": "code",
   "execution_count": 11,
   "metadata": {},
   "outputs": [
    {
     "data": {
      "text/html": [
       "<div>\n",
       "<style scoped>\n",
       "    .dataframe tbody tr th:only-of-type {\n",
       "        vertical-align: middle;\n",
       "    }\n",
       "\n",
       "    .dataframe tbody tr th {\n",
       "        vertical-align: top;\n",
       "    }\n",
       "\n",
       "    .dataframe thead th {\n",
       "        text-align: right;\n",
       "    }\n",
       "</style>\n",
       "<table border=\"1\" class=\"dataframe\">\n",
       "  <thead>\n",
       "    <tr style=\"text-align: right;\">\n",
       "      <th></th>\n",
       "      <th></th>\n",
       "      <th>calls</th>\n",
       "      <th>duration</th>\n",
       "      <th>messages</th>\n",
       "      <th>mb_used</th>\n",
       "      <th>tariff</th>\n",
       "      <th>revenue</th>\n",
       "    </tr>\n",
       "    <tr>\n",
       "      <th>user_id</th>\n",
       "      <th>month</th>\n",
       "      <th></th>\n",
       "      <th></th>\n",
       "      <th></th>\n",
       "      <th></th>\n",
       "      <th></th>\n",
       "      <th></th>\n",
       "    </tr>\n",
       "  </thead>\n",
       "  <tbody>\n",
       "    <tr>\n",
       "      <th rowspan=\"5\" valign=\"top\">1000</th>\n",
       "      <th>5</th>\n",
       "      <td>22.0</td>\n",
       "      <td>159.0</td>\n",
       "      <td>22.0</td>\n",
       "      <td>2254.0</td>\n",
       "      <td>ultra</td>\n",
       "      <td>1950.0</td>\n",
       "    </tr>\n",
       "    <tr>\n",
       "      <th>6</th>\n",
       "      <td>43.0</td>\n",
       "      <td>172.0</td>\n",
       "      <td>60.0</td>\n",
       "      <td>23234.0</td>\n",
       "      <td>ultra</td>\n",
       "      <td>1950.0</td>\n",
       "    </tr>\n",
       "    <tr>\n",
       "      <th>7</th>\n",
       "      <td>47.0</td>\n",
       "      <td>340.0</td>\n",
       "      <td>75.0</td>\n",
       "      <td>14004.0</td>\n",
       "      <td>ultra</td>\n",
       "      <td>1950.0</td>\n",
       "    </tr>\n",
       "    <tr>\n",
       "      <th>8</th>\n",
       "      <td>52.0</td>\n",
       "      <td>408.0</td>\n",
       "      <td>81.0</td>\n",
       "      <td>14056.0</td>\n",
       "      <td>ultra</td>\n",
       "      <td>1950.0</td>\n",
       "    </tr>\n",
       "    <tr>\n",
       "      <th>9</th>\n",
       "      <td>58.0</td>\n",
       "      <td>466.0</td>\n",
       "      <td>57.0</td>\n",
       "      <td>14569.0</td>\n",
       "      <td>ultra</td>\n",
       "      <td>1950.0</td>\n",
       "    </tr>\n",
       "  </tbody>\n",
       "</table>\n",
       "</div>"
      ],
      "text/plain": [
       "               calls  duration  messages  mb_used tariff  revenue\n",
       "user_id month                                                    \n",
       "1000    5       22.0     159.0      22.0   2254.0  ultra   1950.0\n",
       "        6       43.0     172.0      60.0  23234.0  ultra   1950.0\n",
       "        7       47.0     340.0      75.0  14004.0  ultra   1950.0\n",
       "        8       52.0     408.0      81.0  14056.0  ultra   1950.0\n",
       "        9       58.0     466.0      57.0  14569.0  ultra   1950.0"
      ]
     },
     "execution_count": 11,
     "metadata": {},
     "output_type": "execute_result"
    }
   ],
   "source": [
    "# функция подсчета выручки по месяцам, для каждого пользователя\n",
    "def revenue(row):\n",
    "    calls = row['calls']\n",
    "    duration = row['duration']\n",
    "    messages = row['messages']\n",
    "    mb_used = row['mb_used']\n",
    "    tariff = row['tariff']\n",
    "# вычесть бесплатный лимит из суммарного количества звонков, сообщений и интернет-трафика\n",
    "# остаток умножить на значение из тарифного плана\n",
    "# прибавить абонентскую плату, соответствующую тарифному плану\n",
    "    if tariff == 'smart':\n",
    "        extra_duration = duration - tariffs.loc[0, 'minutes_included']\n",
    "        extra_mb = mb_used - tariffs.loc[0, 'mb_per_month_included']\n",
    "        extra_messages = messages - tariffs.loc[0, 'messages_included']\n",
    "        if extra_duration < 0:\n",
    "            extra_duration = 0\n",
    "        if extra_mb < 0:\n",
    "            extra_mb = 0\n",
    "        if extra_messages < 0:\n",
    "            extra_messages = 0\n",
    "        return (tariffs.loc[0, 'rub_per_message'] * extra_messages + (tariffs.loc[0, 'rub_per_gb'] / 1024) * extra_mb + \n",
    "                   tariffs.loc[0, 'rub_per_minute'] * extra_duration + tariffs.loc[0, 'rub_monthly_fee']\n",
    "               )\n",
    "    else:\n",
    "        extra_duration = duration - tariffs.loc[1, 'minutes_included']\n",
    "        extra_mb = mb_used - tariffs.loc[1, 'mb_per_month_included']\n",
    "        extra_messages = messages - tariffs.loc[1, 'messages_included']\n",
    "        if extra_duration < 0:\n",
    "            extra_duration = 0\n",
    "        if extra_mb < 0:\n",
    "            extra_mb = 0\n",
    "        if extra_messages < 0:\n",
    "            extra_messages = 0\n",
    "        return (tariffs.loc[1, 'rub_per_message'] * extra_messages + (tariffs.loc[1, 'rub_per_gb'] / 1024) * extra_mb + \n",
    "                tariffs.loc[1, 'rub_per_minute'] * extra_duration + tariffs.loc[1, 'rub_monthly_fee']\n",
    "                  )\n",
    "    \n",
    "data_grouped['revenue'] = data_grouped.apply(revenue, axis=1).round(2)\n",
    "data_grouped.head()"
   ]
  },
  {
   "cell_type": "markdown",
   "metadata": {},
   "source": [
    "Теперь данные готовы для анализа и проверки гипотез."
   ]
  },
  {
   "cell_type": "markdown",
   "metadata": {},
   "source": [
    "## Проанализируем данные."
   ]
  },
  {
   "cell_type": "markdown",
   "metadata": {},
   "source": [
    "Опишим поведение клиентов оператора, исходя из выборки. \n",
    "* Сколько минут разговора, сколько сообщений и какой объём интернет-трафика требуется пользователям каждого тарифа в месяц?\n",
    "* Посчитаем среднее количество, дисперсию и стандартное отклонение. \n",
    "* Построем гистограммы и опишим распределения."
   ]
  },
  {
   "cell_type": "markdown",
   "metadata": {},
   "source": [
    "### Тариф «Смарт» и «Ультра»."
   ]
  },
  {
   "cell_type": "code",
   "execution_count": 12,
   "metadata": {
    "scrolled": false
   },
   "outputs": [
    {
     "data": {
      "image/png": "[encoded data removed]",
      "text/plain": [
       "<Figure size 1008x504 with 1 Axes>"
      ]
     },
     "metadata": {
      "needs_background": "light"
     },
     "output_type": "display_data"
    },
    {
     "name": "stdout",
     "output_type": "stream",
     "text": [
      "        Среднее  Дисперсия  Стандартное отклонение\n",
      "tariff                                            \n",
      "smart     417.9    36219.3                   190.3\n",
      "\n",
      "        Среднее  Дисперсия  Стандартное отклонение\n",
      "tariff                                            \n",
      "ultra     526.6   100873.6                   317.6\n"
     ]
    },
    {
     "data": {
      "image/png": "[encoded data removed]",
      "text/plain": [
       "<Figure size 1008x504 with 1 Axes>"
      ]
     },
     "metadata": {
      "needs_background": "light"
     },
     "output_type": "display_data"
    },
    {
     "name": "stdout",
     "output_type": "stream",
     "text": [
      "        Среднее  Дисперсия  Стандартное отклонение\n",
      "tariff                                            \n",
      "smart      33.4      796.8                    28.2\n",
      "\n",
      "        Среднее  Дисперсия  Стандартное отклонение\n",
      "tariff                                            \n",
      "ultra      49.4     2285.3                    47.8\n"
     ]
    },
    {
     "data": {
      "image/png": "[encoded data removed]",
      "text/plain": [
       "<Figure size 1008x504 with 1 Axes>"
      ]
     },
     "metadata": {
      "needs_background": "light"
     },
     "output_type": "display_data"
    },
    {
     "name": "stdout",
     "output_type": "stream",
     "text": [
      "        Среднее   Дисперсия  Стандартное отклонение\n",
      "tariff                                             \n",
      "smart   16208.9  34462562.8                  5870.5\n",
      "\n",
      "        Среднее    Дисперсия  Стандартное отклонение\n",
      "tariff                                              \n",
      "ultra   19469.3  101751558.0                 10087.2\n"
     ]
    },
    {
     "data": {
      "image/png": "[encoded data removed]",
      "text/plain": [
       "<Figure size 1008x504 with 1 Axes>"
      ]
     },
     "metadata": {
      "needs_background": "light"
     },
     "output_type": "display_data"
    },
    {
     "name": "stdout",
     "output_type": "stream",
     "text": [
      "\n"
     ]
    }
   ],
   "source": [
    "# фильтруем датафрейм по тарифу\n",
    "data_grouped_smart = data_grouped[data_grouped['tariff'] == 'smart']\n",
    "data_grouped_smart = data_grouped_smart[['duration','messages','mb_used', 'tariff']]\n",
    "data_grouped_ultra = data_grouped[data_grouped['tariff'] == 'ultra']\n",
    "data_grouped_ultra = data_grouped_ultra[['duration','messages','mb_used', 'tariff']]\n",
    "# строим гистограмму для выбранных столбцов\n",
    "for column in data_grouped_smart.columns.values.tolist() and data_grouped_ultra.columns.values.tolist():\n",
    "    plt.figure(figsize=(14, 7))\n",
    "    plt.hist(data_grouped_smart[column], bins=100, ec='black', label='smart')\n",
    "    plt.hist(data_grouped_ultra[column], bins=100, ec='black', label='ultra')\n",
    "    plt.legend(fontsize=14)\n",
    "    plt.xlabel(column, fontsize=16)\n",
    "    plt.show()\n",
    "    try:\n",
    "        tariff_smart = data_grouped_smart.pivot_table(index='tariff', values=column, aggfunc=['mean', 'var', np.std]).round(1)\n",
    "        tariff_smart.columns = ['Среднее', 'Дисперсия', 'Стандартное отклонение']\n",
    "        print(tariff_smart)\n",
    "        print()\n",
    "        tariff_ultra = data_grouped_ultra.pivot_table(index='tariff', values=column, aggfunc=['mean', 'var', np.std]).round(1)\n",
    "        tariff_ultra.columns = ['Среднее', 'Дисперсия', 'Стандартное отклонение']\n",
    "        print(tariff_ultra)\n",
    "    except:\n",
    "        print()"
   ]
  },
  {
   "cell_type": "markdown",
   "metadata": {},
   "source": [
    "Пользователи тарифа «Смарт» в среднем тратят 418 минут разговора в месяц из 500 входящих в тариф, стандарное отклонение - 190 минут.\n",
    "\n",
    "Пользователи в среднем отправляют 33 сообщения в месяц из 50 входящих в тариф, стандартное отклонение - 28 сообщений.\n",
    "\n",
    "Пользователи потратили в среднем 16217 мб. трафика из 15000 мб. входящих в тариф, стандартное отклонение - 5873 мб.\n",
    "\n",
    "Пользователи тарифа «Смарт» в среднем используют больше трафика и меньще минут, и смс, чем включено в тариф."
   ]
  },
  {
   "cell_type": "markdown",
   "metadata": {},
   "source": [
    "В среднем пользователи тарифа «Ультра» тратят 527 минут в месяц из 3000 входящих в тариф, стандарное отклонение - 318 минут.\n",
    "\n",
    "Пользователи отправляют в среднем 49 сообщений в месяц из 1000 доступных, стандартное отклонение - 48 сообщений. \n",
    "\n",
    "Пользователи потратили в среднем 19471 мб. трафика из 30000 мб. доступных, стандарное отклонение - 10087 мб.\n",
    "\n",
    "Пользователи тарифа «Ультра» почти не пользуются звонками и смс, и не тратят весь доступный лимит."
   ]
  },
  {
   "cell_type": "markdown",
   "metadata": {},
   "source": [
    "## Проверим гипотезы."
   ]
  },
  {
   "cell_type": "markdown",
   "metadata": {},
   "source": [
    "* средняя выручка пользователей тарифов «Ультра» и «Смарт» различаются;\n",
    "* средняя выручка пользователей из Москвы отличается от выручки пользователей из других регионов."
   ]
  },
  {
   "cell_type": "markdown",
   "metadata": {},
   "source": [
    "<i>H<sub>0</sub></i> — средняя выручка пользователей тарифов «Ультра» и «Смарт» равна.\n",
    "\n",
    "<i>H<sub>1</sub></i> — средняя выручка пользователей тарифов «Ультра» и «Смарт» различаются."
   ]
  },
  {
   "cell_type": "code",
   "execution_count": 13,
   "metadata": {},
   "outputs": [
    {
     "name": "stdout",
     "output_type": "stream",
     "text": [
      "p-значение: 1.8160196659202846e-298\n",
      "Отвергаем нулевую гипотезу\n"
     ]
    }
   ],
   "source": [
    "ultra = data_grouped[data_grouped['tariff'] == 'ultra']['revenue']\n",
    "smart = data_grouped[data_grouped['tariff'] == 'smart']['revenue']\n",
    "\n",
    "alpha = 0.05\n",
    "\n",
    "results = st.ttest_ind(ultra, smart, equal_var=False)\n",
    "\n",
    "print('p-значение:', results.pvalue)\n",
    "\n",
    "if (results.pvalue < alpha):\n",
    "    print('Отвергаем нулевую гипотезу')\n",
    "else:\n",
    "    print('Не получилось отвергнуть нулевую гипотезу')"
   ]
  },
  {
   "cell_type": "code",
   "execution_count": 14,
   "metadata": {
    "scrolled": false
   },
   "outputs": [
    {
     "data": {
      "text/plain": [
       "<AxesSubplot:>"
      ]
     },
     "execution_count": 14,
     "metadata": {},
     "output_type": "execute_result"
    },
    {
     "data": {
      "image/png": "[encoded data removed]",
      "text/plain": [
       "<Figure size 1008x504 with 1 Axes>"
      ]
     },
     "metadata": {
      "needs_background": "light"
     },
     "output_type": "display_data"
    }
   ],
   "source": [
    "plt.text(750, 500, \"smart\", fontsize=15)\n",
    "plt.text(2100, 700, \"ultra\", fontsize=15)\n",
    "smart.hist(bins=50, alpha = 0.5, figsize=(14, 7), ec='black')\n",
    "ultra.hist(bins=50, alpha = 0.8, figsize=(14, 7), ec='black')"
   ]
  },
  {
   "cell_type": "code",
   "execution_count": 15,
   "metadata": {},
   "outputs": [
    {
     "data": {
      "text/html": [
       "<div>\n",
       "<style scoped>\n",
       "    .dataframe tbody tr th:only-of-type {\n",
       "        vertical-align: middle;\n",
       "    }\n",
       "\n",
       "    .dataframe tbody tr th {\n",
       "        vertical-align: top;\n",
       "    }\n",
       "\n",
       "    .dataframe thead th {\n",
       "        text-align: right;\n",
       "    }\n",
       "</style>\n",
       "<table border=\"1\" class=\"dataframe\">\n",
       "  <thead>\n",
       "    <tr style=\"text-align: right;\">\n",
       "      <th></th>\n",
       "      <th>revenue</th>\n",
       "    </tr>\n",
       "    <tr>\n",
       "      <th>tariff</th>\n",
       "      <th></th>\n",
       "    </tr>\n",
       "  </thead>\n",
       "  <tbody>\n",
       "    <tr>\n",
       "      <th>smart</th>\n",
       "      <td>958.0</td>\n",
       "    </tr>\n",
       "    <tr>\n",
       "      <th>ultra</th>\n",
       "      <td>1950.0</td>\n",
       "    </tr>\n",
       "  </tbody>\n",
       "</table>\n",
       "</div>"
      ],
      "text/plain": [
       "        revenue\n",
       "tariff         \n",
       "smart     958.0\n",
       "ultra    1950.0"
      ]
     },
     "execution_count": 15,
     "metadata": {},
     "output_type": "execute_result"
    }
   ],
   "source": [
    "data_grouped.pivot_table(index='tariff', values='revenue', aggfunc='median')"
   ]
  },
  {
   "cell_type": "markdown",
   "metadata": {},
   "source": [
    "Гипотеза, что средняя выручка пользователей тарифов «Ультра» и «Смарт» различаются верна. Более того, средние значения выручки по тарифам различаются почти в 2 раза."
   ]
  },
  {
   "cell_type": "markdown",
   "metadata": {},
   "source": [
    "<i>H<sub>0</sub></i> — средняя выручка пользователей из Москвы и из других регионов равна.\n",
    "\n",
    "<i>H<sub>1</sub></i> — средняя выручка пользователей из Москвы отличается от выручки пользователей из других регионов."
   ]
  },
  {
   "cell_type": "code",
   "execution_count": 16,
   "metadata": {},
   "outputs": [
    {
     "name": "stdout",
     "output_type": "stream",
     "text": [
      "p-значение: 0.45044266676645206\n",
      "Не получилось отвергнуть нулевую гипотезу\n"
     ]
    }
   ],
   "source": [
    "for user in data_grouped.index:\n",
    "    data_grouped.loc[user, 'city'] = users.loc[user[0]-1000, 'city']\n",
    "\n",
    "moscow = data_grouped.query('city == \"Москва\"')['revenue']\n",
    "regions = data_grouped.query('city != \"Москва\"')['revenue']\n",
    "\n",
    "alpha = 0.05\n",
    "\n",
    "results = st.ttest_ind(moscow, regions, equal_var=False)\n",
    "\n",
    "print('p-значение:', results.pvalue)\n",
    "\n",
    "if (results.pvalue < alpha):\n",
    "    print(\"Отвергаем нулевую гипотезу\")\n",
    "else:\n",
    "    print(\"Не получилось отвергнуть нулевую гипотезу\")"
   ]
  },
  {
   "cell_type": "code",
   "execution_count": 17,
   "metadata": {},
   "outputs": [
    {
     "data": {
      "text/html": [
       "<div>\n",
       "<style scoped>\n",
       "    .dataframe tbody tr th:only-of-type {\n",
       "        vertical-align: middle;\n",
       "    }\n",
       "\n",
       "    .dataframe tbody tr th {\n",
       "        vertical-align: top;\n",
       "    }\n",
       "\n",
       "    .dataframe thead th {\n",
       "        text-align: right;\n",
       "    }\n",
       "</style>\n",
       "<table border=\"1\" class=\"dataframe\">\n",
       "  <thead>\n",
       "    <tr style=\"text-align: right;\">\n",
       "      <th></th>\n",
       "      <th>revenue</th>\n",
       "    </tr>\n",
       "    <tr>\n",
       "      <th>region</th>\n",
       "      <th></th>\n",
       "    </tr>\n",
       "  </thead>\n",
       "  <tbody>\n",
       "    <tr>\n",
       "      <th>Другие регионы</th>\n",
       "      <td>1513.98</td>\n",
       "    </tr>\n",
       "    <tr>\n",
       "      <th>Москва</th>\n",
       "      <td>1699.36</td>\n",
       "    </tr>\n",
       "  </tbody>\n",
       "</table>\n",
       "</div>"
      ],
      "text/plain": [
       "                revenue\n",
       "region                 \n",
       "Другие регионы  1513.98\n",
       "Москва          1699.36"
      ]
     },
     "execution_count": 17,
     "metadata": {},
     "output_type": "execute_result"
    }
   ],
   "source": [
    "def det_region(city):\n",
    "    if city == 'Москва':\n",
    "        return 'Москва'\n",
    "    else:\n",
    "        return 'Другие регионы'\n",
    "    \n",
    "data_grouped['region'] = data_grouped['city'].apply(det_region)\n",
    "data_grouped.pivot_table(index='region', values='revenue', aggfunc='median')"
   ]
  },
  {
   "cell_type": "markdown",
   "metadata": {},
   "source": [
    "Гипотеза, что выручка пользователей из Москвы и пользователей из других регионов различается не подтвердилась. Выручка в Москве почти не отличается от выручки в регионах."
   ]
  },
  {
   "cell_type": "markdown",
   "metadata": {},
   "source": [
    "Посчитаем, какой тариф, в среднем, приносит больше прибыли."
   ]
  },
  {
   "cell_type": "code",
   "execution_count": 18,
   "metadata": {},
   "outputs": [
    {
     "data": {
      "text/html": [
       "<div>\n",
       "<style scoped>\n",
       "    .dataframe tbody tr th:only-of-type {\n",
       "        vertical-align: middle;\n",
       "    }\n",
       "\n",
       "    .dataframe tbody tr th {\n",
       "        vertical-align: top;\n",
       "    }\n",
       "\n",
       "    .dataframe thead th {\n",
       "        text-align: right;\n",
       "    }\n",
       "</style>\n",
       "<table border=\"1\" class=\"dataframe\">\n",
       "  <thead>\n",
       "    <tr style=\"text-align: right;\">\n",
       "      <th></th>\n",
       "      <th>number of clients</th>\n",
       "      <th>revenue</th>\n",
       "      <th>total profit</th>\n",
       "    </tr>\n",
       "    <tr>\n",
       "      <th>tariff</th>\n",
       "      <th></th>\n",
       "      <th></th>\n",
       "      <th></th>\n",
       "    </tr>\n",
       "  </thead>\n",
       "  <tbody>\n",
       "    <tr>\n",
       "      <th>smart</th>\n",
       "      <td>2229</td>\n",
       "      <td>958.0</td>\n",
       "      <td>2135382.0</td>\n",
       "    </tr>\n",
       "    <tr>\n",
       "      <th>ultra</th>\n",
       "      <td>985</td>\n",
       "      <td>1950.0</td>\n",
       "      <td>1920750.0</td>\n",
       "    </tr>\n",
       "  </tbody>\n",
       "</table>\n",
       "</div>"
      ],
      "text/plain": [
       "        number of clients  revenue  total profit\n",
       "tariff                                          \n",
       "smart                2229    958.0     2135382.0\n",
       "ultra                 985   1950.0     1920750.0"
      ]
     },
     "metadata": {},
     "output_type": "display_data"
    }
   ],
   "source": [
    "conclusion = data_grouped.pivot_table(index='tariff', values='revenue', aggfunc=['count', 'median'])\n",
    "conclusion.columns = ['number of clients', 'revenue']\n",
    "conclusion['total profit'] = conclusion['number of clients'] * conclusion['revenue']\n",
    "display(conclusion)"
   ]
  },
  {
   "cell_type": "markdown",
   "metadata": {},
   "source": [
    "## Общий вывод."
   ]
  },
  {
   "cell_type": "markdown",
   "metadata": {},
   "source": [
    "В среднем, пользователь тарифа «Ультра» приносит почти в двое больше денег, чем пользователь тарифа «Смарт». Cредняя выручка:\n",
    "* «Ультра» - 1950\n",
    "* «Смарт» - 958\n",
    "\n",
    "Не смотря на это, лучшим тарифом для компании является «Смарт». В среднем на нем компания зарабатывает больше на 214 632, чем на тарифе «Ультра», из-за того, что пользователей трифа «Смарт» на 1 244 больше, чем пользователей тарифа «Ультра».\n",
    "\n",
    "Регион никак не влияет на выручку, в Москве и регионах она почти не отличается.Cредняя выручка по регионам:\n",
    "* Москва - 1701\n",
    "* Другие регионы - 1515\n",
    "\n",
    "Пользователи тарифа «Смарт» в среднем используют больше трафика и меньще минут, и смс, чем предусматривает их тариф. От сюда и средняя выручка в 958, при стоимости тарифа в 550.\n",
    "\n",
    "Пользователи тарифа «Ультра» почти не пользуются звонками и смс, и не тратят весь доступный им лимит. Поэтому их средняя выручка равна ежемесячному платежу за тариф - 1950."
   ]
  }
 ],
 "metadata": {
  "ExecuteTimeLog": [
   {
    "duration": 2207,
    "start_time": "2022-05-11T16:11:25.735Z"
   },
   {
    "duration": 522,
    "start_time": "2022-05-11T16:11:54.304Z"
   },
   {
    "duration": 535,
    "start_time": "2022-05-11T16:13:45.148Z"
   },
   {
    "duration": 531,
    "start_time": "2022-05-11T16:19:38.331Z"
   },
   {
    "duration": 98,
    "start_time": "2022-05-11T16:21:38.024Z"
   },
   {
    "duration": 93,
    "start_time": "2022-05-11T16:21:42.833Z"
   },
   {
    "duration": 546,
    "start_time": "2022-05-11T16:22:00.466Z"
   },
   {
    "duration": 564,
    "start_time": "2022-05-11T16:22:18.339Z"
   },
   {
    "duration": 742,
    "start_time": "2022-05-11T16:22:31.764Z"
   },
   {
    "duration": 2328,
    "start_time": "2022-05-11T16:22:47.237Z"
   },
   {
    "duration": 100,
    "start_time": "2022-05-11T16:35:04.509Z"
   },
   {
    "duration": 101,
    "start_time": "2022-05-11T16:35:28.596Z"
   },
   {
    "duration": 128,
    "start_time": "2022-05-11T16:50:22.975Z"
   },
   {
    "duration": 110,
    "start_time": "2022-05-11T17:12:18.150Z"
   },
   {
    "duration": 96,
    "start_time": "2022-05-11T17:13:30.745Z"
   },
   {
    "duration": 89,
    "start_time": "2022-05-11T17:16:17.554Z"
   },
   {
    "duration": 67,
    "start_time": "2022-05-12T16:23:51.057Z"
   },
   {
    "duration": 9,
    "start_time": "2022-05-12T16:24:18.702Z"
   },
   {
    "duration": 1941,
    "start_time": "2022-05-12T16:25:55.630Z"
   },
   {
    "duration": 128,
    "start_time": "2022-05-12T16:25:57.574Z"
   },
   {
    "duration": 105,
    "start_time": "2022-05-12T16:25:57.704Z"
   },
   {
    "duration": 133,
    "start_time": "2022-05-12T16:25:57.812Z"
   },
   {
    "duration": 102,
    "start_time": "2022-05-12T16:25:57.947Z"
   },
   {
    "duration": 39,
    "start_time": "2022-05-12T16:26:36.462Z"
   },
   {
    "duration": 15,
    "start_time": "2022-05-12T16:44:12.571Z"
   },
   {
    "duration": 15,
    "start_time": "2022-05-12T16:45:15.926Z"
   },
   {
    "duration": 12,
    "start_time": "2022-05-12T16:45:22.440Z"
   },
   {
    "duration": 16,
    "start_time": "2022-05-12T16:45:34.241Z"
   },
   {
    "duration": 13,
    "start_time": "2022-05-12T16:45:54.674Z"
   },
   {
    "duration": 16,
    "start_time": "2022-05-12T16:46:12.043Z"
   },
   {
    "duration": 12,
    "start_time": "2022-05-12T16:50:28.453Z"
   },
   {
    "duration": 8,
    "start_time": "2022-05-12T16:51:58.200Z"
   },
   {
    "duration": 97,
    "start_time": "2022-05-12T16:54:52.514Z"
   },
   {
    "duration": 125,
    "start_time": "2022-05-12T16:55:24.516Z"
   },
   {
    "duration": 117,
    "start_time": "2022-05-12T17:04:23.137Z"
   },
   {
    "duration": 487,
    "start_time": "2022-05-12T17:04:40.257Z"
   },
   {
    "duration": 75,
    "start_time": "2022-05-12T17:04:40.746Z"
   },
   {
    "duration": 77,
    "start_time": "2022-05-12T17:04:40.823Z"
   },
   {
    "duration": 89,
    "start_time": "2022-05-12T17:04:40.902Z"
   },
   {
    "duration": 31,
    "start_time": "2022-05-12T17:04:40.994Z"
   },
   {
    "duration": 143,
    "start_time": "2022-05-12T17:04:41.027Z"
   },
   {
    "duration": 1756,
    "start_time": "2022-05-14T07:16:16.548Z"
   },
   {
    "duration": 73,
    "start_time": "2022-05-14T07:16:18.307Z"
   },
   {
    "duration": 72,
    "start_time": "2022-05-14T07:16:18.382Z"
   },
   {
    "duration": 89,
    "start_time": "2022-05-14T07:16:18.456Z"
   },
   {
    "duration": 31,
    "start_time": "2022-05-14T07:16:18.547Z"
   },
   {
    "duration": 133,
    "start_time": "2022-05-14T07:16:18.579Z"
   },
   {
    "duration": 141,
    "start_time": "2022-05-14T07:17:44.216Z"
   },
   {
    "duration": 57,
    "start_time": "2022-05-14T07:18:04.361Z"
   },
   {
    "duration": 101,
    "start_time": "2022-05-14T07:21:41.555Z"
   },
   {
    "duration": 123,
    "start_time": "2022-05-14T07:22:10.052Z"
   },
   {
    "duration": 128,
    "start_time": "2022-05-14T07:23:58.540Z"
   },
   {
    "duration": 111,
    "start_time": "2022-05-14T07:29:24.132Z"
   },
   {
    "duration": 64,
    "start_time": "2022-05-14T07:30:27.018Z"
   },
   {
    "duration": 55,
    "start_time": "2022-05-14T07:30:45.714Z"
   },
   {
    "duration": 50,
    "start_time": "2022-05-14T07:32:20.345Z"
   },
   {
    "duration": 35,
    "start_time": "2022-05-14T07:32:23.280Z"
   },
   {
    "duration": 44,
    "start_time": "2022-05-14T07:32:39.166Z"
   },
   {
    "duration": 13,
    "start_time": "2022-05-14T07:33:40.777Z"
   },
   {
    "duration": 14,
    "start_time": "2022-05-14T07:58:13.090Z"
   },
   {
    "duration": 16,
    "start_time": "2022-05-14T07:59:16.043Z"
   },
   {
    "duration": 17,
    "start_time": "2022-05-14T07:59:22.021Z"
   },
   {
    "duration": 30,
    "start_time": "2022-05-14T07:59:51.333Z"
   },
   {
    "duration": 30,
    "start_time": "2022-05-14T08:00:57.754Z"
   },
   {
    "duration": 1884,
    "start_time": "2022-05-14T08:01:23.243Z"
   },
   {
    "duration": 77,
    "start_time": "2022-05-14T08:02:53.079Z"
   },
   {
    "duration": 27,
    "start_time": "2022-05-14T08:03:27.040Z"
   },
   {
    "duration": 24,
    "start_time": "2022-05-14T08:03:42.319Z"
   },
   {
    "duration": 28,
    "start_time": "2022-05-14T08:04:11.466Z"
   },
   {
    "duration": 28,
    "start_time": "2022-05-14T08:04:15.210Z"
   },
   {
    "duration": 29,
    "start_time": "2022-05-14T08:05:38.294Z"
   },
   {
    "duration": 1893,
    "start_time": "2022-05-14T08:06:14.112Z"
   },
   {
    "duration": 32,
    "start_time": "2022-05-14T08:07:47.525Z"
   },
   {
    "duration": 23,
    "start_time": "2022-05-14T08:08:57.830Z"
   },
   {
    "duration": 27,
    "start_time": "2022-05-14T08:09:31.240Z"
   },
   {
    "duration": 52,
    "start_time": "2022-05-14T08:11:02.890Z"
   },
   {
    "duration": 59,
    "start_time": "2022-05-14T09:01:56.939Z"
   },
   {
    "duration": 29,
    "start_time": "2022-05-14T09:05:31.817Z"
   },
   {
    "duration": 28,
    "start_time": "2022-05-14T09:05:42.484Z"
   },
   {
    "duration": 31,
    "start_time": "2022-05-14T09:10:21.625Z"
   },
   {
    "duration": 29,
    "start_time": "2022-05-14T09:11:50.429Z"
   },
   {
    "duration": 18,
    "start_time": "2022-05-14T09:16:06.550Z"
   },
   {
    "duration": 22,
    "start_time": "2022-05-14T09:16:58.763Z"
   },
   {
    "duration": 18,
    "start_time": "2022-05-14T09:17:50.089Z"
   },
   {
    "duration": 16,
    "start_time": "2022-05-14T09:18:09.576Z"
   },
   {
    "duration": 33,
    "start_time": "2022-05-14T09:18:28.047Z"
   },
   {
    "duration": 24,
    "start_time": "2022-05-14T09:22:27.184Z"
   },
   {
    "duration": 27,
    "start_time": "2022-05-14T09:22:33.681Z"
   },
   {
    "duration": 25,
    "start_time": "2022-05-14T09:22:50.211Z"
   },
   {
    "duration": 27,
    "start_time": "2022-05-14T09:23:01.435Z"
   },
   {
    "duration": 27,
    "start_time": "2022-05-14T09:23:12.491Z"
   },
   {
    "duration": 15,
    "start_time": "2022-05-14T09:23:48.725Z"
   },
   {
    "duration": 7,
    "start_time": "2022-05-14T09:23:56.005Z"
   },
   {
    "duration": 9,
    "start_time": "2022-05-14T09:24:18.472Z"
   },
   {
    "duration": 4,
    "start_time": "2022-05-14T09:25:53.376Z"
   },
   {
    "duration": 6,
    "start_time": "2022-05-14T09:26:37.380Z"
   },
   {
    "duration": 6,
    "start_time": "2022-05-14T09:27:07.830Z"
   },
   {
    "duration": 6,
    "start_time": "2022-05-14T09:27:30.110Z"
   },
   {
    "duration": 5,
    "start_time": "2022-05-14T09:27:54.848Z"
   },
   {
    "duration": 6,
    "start_time": "2022-05-14T09:28:11.381Z"
   },
   {
    "duration": 5,
    "start_time": "2022-05-14T09:28:35.402Z"
   },
   {
    "duration": 9,
    "start_time": "2022-05-14T09:29:12.363Z"
   },
   {
    "duration": 5,
    "start_time": "2022-05-14T09:29:59.390Z"
   },
   {
    "duration": 6,
    "start_time": "2022-05-14T09:30:06.083Z"
   },
   {
    "duration": 14,
    "start_time": "2022-05-14T09:30:55.856Z"
   },
   {
    "duration": 3095,
    "start_time": "2022-05-14T09:34:00.519Z"
   },
   {
    "duration": 1477,
    "start_time": "2022-05-14T09:34:42.021Z"
   },
   {
    "duration": 268,
    "start_time": "2022-05-14T09:35:54.301Z"
   },
   {
    "duration": 288,
    "start_time": "2022-05-14T13:38:09.699Z"
   },
   {
    "duration": 403,
    "start_time": "2022-05-14T14:04:13.956Z"
   },
   {
    "duration": 175,
    "start_time": "2022-05-14T14:07:12.272Z"
   },
   {
    "duration": 165,
    "start_time": "2022-05-14T14:08:47.083Z"
   },
   {
    "duration": 129,
    "start_time": "2022-05-14T14:10:07.264Z"
   },
   {
    "duration": 22,
    "start_time": "2022-05-14T14:10:12.472Z"
   },
   {
    "duration": 18,
    "start_time": "2022-05-14T14:16:21.297Z"
   },
   {
    "duration": 198,
    "start_time": "2022-05-14T14:16:41.122Z"
   },
   {
    "duration": 154,
    "start_time": "2022-05-14T14:18:18.086Z"
   },
   {
    "duration": 2327,
    "start_time": "2022-05-14T14:19:15.689Z"
   },
   {
    "duration": 199,
    "start_time": "2022-05-14T14:19:45.666Z"
   },
   {
    "duration": 292,
    "start_time": "2022-05-14T14:20:30.289Z"
   },
   {
    "duration": 2387,
    "start_time": "2022-05-14T14:20:55.308Z"
   },
   {
    "duration": 357,
    "start_time": "2022-05-14T14:22:25.190Z"
   },
   {
    "duration": 154,
    "start_time": "2022-05-14T14:23:16.998Z"
   },
   {
    "duration": 794,
    "start_time": "2022-05-14T14:23:29.461Z"
   },
   {
    "duration": 710,
    "start_time": "2022-05-14T14:24:09.648Z"
   },
   {
    "duration": 643,
    "start_time": "2022-05-14T14:25:34.061Z"
   },
   {
    "duration": 886,
    "start_time": "2022-05-14T14:25:43.990Z"
   },
   {
    "duration": 10,
    "start_time": "2022-05-14T14:35:21.099Z"
   },
   {
    "duration": 11,
    "start_time": "2022-05-14T14:35:36.924Z"
   },
   {
    "duration": 769,
    "start_time": "2022-05-14T14:35:50.053Z"
   },
   {
    "duration": 972,
    "start_time": "2022-05-14T14:36:54.905Z"
   },
   {
    "duration": 870,
    "start_time": "2022-05-14T14:37:18.825Z"
   },
   {
    "duration": 198,
    "start_time": "2022-05-14T14:38:16.675Z"
   },
   {
    "duration": 1348,
    "start_time": "2022-05-14T14:38:22.803Z"
   },
   {
    "duration": 430,
    "start_time": "2022-05-14T14:45:45.004Z"
   },
   {
    "duration": 1,
    "start_time": "2022-05-14T14:45:45.470Z"
   },
   {
    "duration": 393,
    "start_time": "2022-05-14T14:45:58.439Z"
   },
   {
    "duration": 97,
    "start_time": "2022-05-14T14:45:58.835Z"
   },
   {
    "duration": 85,
    "start_time": "2022-05-14T14:45:58.934Z"
   },
   {
    "duration": 133,
    "start_time": "2022-05-14T14:45:59.021Z"
   },
   {
    "duration": 35,
    "start_time": "2022-05-14T14:45:59.166Z"
   },
   {
    "duration": 79,
    "start_time": "2022-05-14T14:45:59.203Z"
   },
   {
    "duration": 84,
    "start_time": "2022-05-14T14:45:59.285Z"
   },
   {
    "duration": 61,
    "start_time": "2022-05-14T14:45:59.371Z"
   },
   {
    "duration": 33,
    "start_time": "2022-05-14T14:45:59.434Z"
   },
   {
    "duration": 27,
    "start_time": "2022-05-14T14:45:59.469Z"
   },
   {
    "duration": 15,
    "start_time": "2022-05-14T14:45:59.498Z"
   },
   {
    "duration": 1956,
    "start_time": "2022-05-14T14:45:59.515Z"
   },
   {
    "duration": 0,
    "start_time": "2022-05-14T14:46:01.474Z"
   },
   {
    "duration": 395,
    "start_time": "2022-05-14T14:46:39.676Z"
   },
   {
    "duration": 410,
    "start_time": "2022-05-14T14:46:45.507Z"
   },
   {
    "duration": 80,
    "start_time": "2022-05-14T14:46:49.891Z"
   },
   {
    "duration": 72,
    "start_time": "2022-05-14T14:47:00.028Z"
   },
   {
    "duration": 77,
    "start_time": "2022-05-14T14:47:03.180Z"
   },
   {
    "duration": 29,
    "start_time": "2022-05-14T14:47:05.028Z"
   },
   {
    "duration": 44,
    "start_time": "2022-05-14T14:47:07.235Z"
   },
   {
    "duration": 57,
    "start_time": "2022-05-14T14:47:09.420Z"
   },
   {
    "duration": 52,
    "start_time": "2022-05-14T14:47:11.676Z"
   },
   {
    "duration": 12,
    "start_time": "2022-05-14T14:47:14.100Z"
   },
   {
    "duration": 29,
    "start_time": "2022-05-14T14:47:16.030Z"
   },
   {
    "duration": 17,
    "start_time": "2022-05-14T14:47:18.428Z"
   },
   {
    "duration": 2110,
    "start_time": "2022-05-14T14:47:21.278Z"
   },
   {
    "duration": 34,
    "start_time": "2022-05-14T14:48:55.854Z"
   },
   {
    "duration": 69,
    "start_time": "2022-05-14T14:49:33.467Z"
   },
   {
    "duration": 16895,
    "start_time": "2022-05-14T14:49:51.483Z"
   },
   {
    "duration": 29,
    "start_time": "2022-05-14T14:50:15.644Z"
   },
   {
    "duration": 289,
    "start_time": "2022-05-14T14:50:20.701Z"
   },
   {
    "duration": 304,
    "start_time": "2022-05-14T14:50:34.564Z"
   },
   {
    "duration": 3763,
    "start_time": "2022-05-14T14:51:12.566Z"
   },
   {
    "duration": 735,
    "start_time": "2022-05-14T14:51:27.975Z"
   },
   {
    "duration": 846,
    "start_time": "2022-05-14T14:51:52.144Z"
   },
   {
    "duration": 1271,
    "start_time": "2022-05-14T14:53:46.092Z"
   },
   {
    "duration": 438,
    "start_time": "2022-05-14T14:53:55.097Z"
   },
   {
    "duration": 16,
    "start_time": "2022-05-14T14:54:07.999Z"
   },
   {
    "duration": 425,
    "start_time": "2022-05-14T14:54:21.330Z"
   },
   {
    "duration": 112,
    "start_time": "2022-05-14T14:54:21.757Z"
   },
   {
    "duration": 79,
    "start_time": "2022-05-14T14:54:21.873Z"
   },
   {
    "duration": 119,
    "start_time": "2022-05-14T14:54:21.953Z"
   },
   {
    "duration": 34,
    "start_time": "2022-05-14T14:54:22.075Z"
   },
   {
    "duration": 79,
    "start_time": "2022-05-14T14:54:22.111Z"
   },
   {
    "duration": 60,
    "start_time": "2022-05-14T14:54:22.192Z"
   },
   {
    "duration": 70,
    "start_time": "2022-05-14T14:54:22.254Z"
   },
   {
    "duration": 14,
    "start_time": "2022-05-14T14:54:22.327Z"
   },
   {
    "duration": 1291,
    "start_time": "2022-05-14T14:54:22.343Z"
   },
   {
    "duration": 16,
    "start_time": "2022-05-14T14:54:23.636Z"
   },
   {
    "duration": 336,
    "start_time": "2022-05-14T14:54:23.670Z"
   },
   {
    "duration": 738,
    "start_time": "2022-05-14T14:54:24.008Z"
   },
   {
    "duration": 30,
    "start_time": "2022-05-14T14:55:19.892Z"
   },
   {
    "duration": 1626,
    "start_time": "2022-05-14T14:55:42.819Z"
   },
   {
    "duration": 1248,
    "start_time": "2022-05-14T14:56:14.695Z"
   },
   {
    "duration": 430,
    "start_time": "2022-05-14T14:59:50.689Z"
   },
   {
    "duration": 83,
    "start_time": "2022-05-14T14:59:53.096Z"
   },
   {
    "duration": 87,
    "start_time": "2022-05-14T14:59:55.688Z"
   },
   {
    "duration": 89,
    "start_time": "2022-05-14T14:59:59.419Z"
   },
   {
    "duration": 110,
    "start_time": "2022-05-14T15:01:00.130Z"
   },
   {
    "duration": 103,
    "start_time": "2022-05-14T15:01:56.308Z"
   },
   {
    "duration": 40,
    "start_time": "2022-05-14T15:05:18.038Z"
   },
   {
    "duration": 78,
    "start_time": "2022-05-14T15:05:33.283Z"
   },
   {
    "duration": 433,
    "start_time": "2022-05-14T15:05:36.262Z"
   },
   {
    "duration": 95,
    "start_time": "2022-05-14T15:05:36.697Z"
   },
   {
    "duration": 86,
    "start_time": "2022-05-14T15:05:36.794Z"
   },
   {
    "duration": 102,
    "start_time": "2022-05-14T15:05:36.883Z"
   },
   {
    "duration": 28,
    "start_time": "2022-05-14T15:05:36.988Z"
   },
   {
    "duration": 65,
    "start_time": "2022-05-14T15:05:37.018Z"
   },
   {
    "duration": 57,
    "start_time": "2022-05-14T15:05:37.085Z"
   },
   {
    "duration": 68,
    "start_time": "2022-05-14T15:05:37.144Z"
   },
   {
    "duration": 11,
    "start_time": "2022-05-14T15:05:37.213Z"
   },
   {
    "duration": 1227,
    "start_time": "2022-05-14T15:05:37.226Z"
   },
   {
    "duration": 27,
    "start_time": "2022-05-14T15:05:38.454Z"
   },
   {
    "duration": 294,
    "start_time": "2022-05-14T15:05:38.486Z"
   },
   {
    "duration": 703,
    "start_time": "2022-05-14T15:05:38.782Z"
   },
   {
    "duration": 29,
    "start_time": "2022-05-14T15:07:20.115Z"
   },
   {
    "duration": 1133,
    "start_time": "2022-05-14T15:07:25.420Z"
   },
   {
    "duration": 15,
    "start_time": "2022-05-14T15:07:28.693Z"
   },
   {
    "duration": 327,
    "start_time": "2022-05-14T15:07:30.473Z"
   },
   {
    "duration": 660,
    "start_time": "2022-05-14T15:07:33.652Z"
   },
   {
    "duration": 800,
    "start_time": "2022-05-14T15:08:57.208Z"
   },
   {
    "duration": 1314,
    "start_time": "2022-05-14T15:09:17.581Z"
   },
   {
    "duration": 967,
    "start_time": "2022-05-14T15:09:31.346Z"
   },
   {
    "duration": 804,
    "start_time": "2022-05-14T15:11:23.471Z"
   },
   {
    "duration": 1001,
    "start_time": "2022-05-14T15:11:43.231Z"
   },
   {
    "duration": 1039,
    "start_time": "2022-05-14T15:11:54.400Z"
   },
   {
    "duration": 690,
    "start_time": "2022-05-14T15:12:00.712Z"
   },
   {
    "duration": 959,
    "start_time": "2022-05-14T15:12:11.489Z"
   },
   {
    "duration": 807,
    "start_time": "2022-05-14T15:12:30.113Z"
   },
   {
    "duration": 931,
    "start_time": "2022-05-14T15:13:37.428Z"
   },
   {
    "duration": 145,
    "start_time": "2022-05-14T15:13:45.891Z"
   },
   {
    "duration": 175,
    "start_time": "2022-05-14T15:13:50.725Z"
   },
   {
    "duration": 797,
    "start_time": "2022-05-14T15:14:06.829Z"
   },
   {
    "duration": 859,
    "start_time": "2022-05-14T15:14:12.237Z"
   },
   {
    "duration": 798,
    "start_time": "2022-05-14T15:14:16.758Z"
   },
   {
    "duration": 879,
    "start_time": "2022-05-14T15:14:20.934Z"
   },
   {
    "duration": 1287,
    "start_time": "2022-05-14T15:14:41.385Z"
   },
   {
    "duration": 778,
    "start_time": "2022-05-14T15:14:53.386Z"
   },
   {
    "duration": 780,
    "start_time": "2022-05-14T15:15:22.256Z"
   },
   {
    "duration": 882,
    "start_time": "2022-05-14T15:15:48.530Z"
   },
   {
    "duration": 22,
    "start_time": "2022-05-14T15:16:30.475Z"
   },
   {
    "duration": 988,
    "start_time": "2022-05-14T15:16:42.012Z"
   },
   {
    "duration": 1003,
    "start_time": "2022-05-14T15:19:30.669Z"
   },
   {
    "duration": 829,
    "start_time": "2022-05-14T15:21:22.864Z"
   },
   {
    "duration": 131,
    "start_time": "2022-05-14T15:21:40.105Z"
   },
   {
    "duration": 865,
    "start_time": "2022-05-14T15:21:43.969Z"
   },
   {
    "duration": 815,
    "start_time": "2022-05-14T15:22:09.686Z"
   },
   {
    "duration": 951,
    "start_time": "2022-05-14T15:25:05.658Z"
   },
   {
    "duration": 835,
    "start_time": "2022-05-14T15:25:09.789Z"
   },
   {
    "duration": 934,
    "start_time": "2022-05-14T15:25:15.572Z"
   },
   {
    "duration": 938,
    "start_time": "2022-05-14T15:25:18.489Z"
   },
   {
    "duration": 907,
    "start_time": "2022-05-14T15:25:27.716Z"
   },
   {
    "duration": 907,
    "start_time": "2022-05-14T15:25:33.895Z"
   },
   {
    "duration": 161,
    "start_time": "2022-05-14T15:25:58.101Z"
   },
   {
    "duration": 821,
    "start_time": "2022-05-14T15:26:06.813Z"
   },
   {
    "duration": 169,
    "start_time": "2022-05-14T15:27:29.777Z"
   },
   {
    "duration": 843,
    "start_time": "2022-05-14T15:30:06.663Z"
   },
   {
    "duration": 988,
    "start_time": "2022-05-14T15:30:15.048Z"
   },
   {
    "duration": 946,
    "start_time": "2022-05-14T15:30:33.921Z"
   },
   {
    "duration": 833,
    "start_time": "2022-05-14T15:30:37.993Z"
   },
   {
    "duration": 930,
    "start_time": "2022-05-14T15:30:45.041Z"
   },
   {
    "duration": 1043,
    "start_time": "2022-05-14T15:30:51.929Z"
   },
   {
    "duration": 1675,
    "start_time": "2022-05-14T15:31:06.418Z"
   },
   {
    "duration": 1436,
    "start_time": "2022-05-14T15:32:24.638Z"
   },
   {
    "duration": 1389,
    "start_time": "2022-05-14T15:33:24.344Z"
   },
   {
    "duration": 821,
    "start_time": "2022-05-14T15:34:04.680Z"
   },
   {
    "duration": 873,
    "start_time": "2022-05-14T15:34:18.603Z"
   },
   {
    "duration": 134,
    "start_time": "2022-05-14T16:47:38.387Z"
   },
   {
    "duration": 1200,
    "start_time": "2022-05-14T16:50:34.352Z"
   },
   {
    "duration": 13,
    "start_time": "2022-05-14T16:50:41.179Z"
   },
   {
    "duration": 12,
    "start_time": "2022-05-14T16:50:44.518Z"
   },
   {
    "duration": 1149,
    "start_time": "2022-05-14T16:51:38.773Z"
   },
   {
    "duration": 12,
    "start_time": "2022-05-14T16:51:44.277Z"
   },
   {
    "duration": 410,
    "start_time": "2022-05-14T16:58:19.815Z"
   },
   {
    "duration": 13,
    "start_time": "2022-05-14T16:58:24.367Z"
   },
   {
    "duration": 65,
    "start_time": "2022-05-14T17:02:32.018Z"
   },
   {
    "duration": 30,
    "start_time": "2022-05-14T17:02:34.792Z"
   },
   {
    "duration": 69,
    "start_time": "2022-05-14T17:02:51.939Z"
   },
   {
    "duration": 360,
    "start_time": "2022-05-14T17:04:38.480Z"
   },
   {
    "duration": 18,
    "start_time": "2022-05-14T17:04:46.640Z"
   },
   {
    "duration": 358,
    "start_time": "2022-05-14T17:05:54.105Z"
   },
   {
    "duration": 76,
    "start_time": "2022-05-14T17:05:54.465Z"
   },
   {
    "duration": 85,
    "start_time": "2022-05-14T17:05:54.542Z"
   },
   {
    "duration": 85,
    "start_time": "2022-05-14T17:05:54.628Z"
   },
   {
    "duration": 23,
    "start_time": "2022-05-14T17:05:54.715Z"
   },
   {
    "duration": 60,
    "start_time": "2022-05-14T17:05:54.739Z"
   },
   {
    "duration": 54,
    "start_time": "2022-05-14T17:05:54.801Z"
   },
   {
    "duration": 43,
    "start_time": "2022-05-14T17:05:54.868Z"
   },
   {
    "duration": 13,
    "start_time": "2022-05-14T17:05:54.913Z"
   },
   {
    "duration": 1179,
    "start_time": "2022-05-14T17:05:54.928Z"
   },
   {
    "duration": 12,
    "start_time": "2022-05-14T17:05:56.109Z"
   },
   {
    "duration": 289,
    "start_time": "2022-05-14T17:05:56.123Z"
   },
   {
    "duration": 809,
    "start_time": "2022-05-14T17:05:56.414Z"
   },
   {
    "duration": 1047,
    "start_time": "2022-05-14T17:05:57.226Z"
   },
   {
    "duration": 722,
    "start_time": "2022-05-14T17:35:58.620Z"
   },
   {
    "duration": 850,
    "start_time": "2022-05-14T17:36:05.107Z"
   },
   {
    "duration": 6,
    "start_time": "2022-05-14T17:37:16.966Z"
   },
   {
    "duration": 10,
    "start_time": "2022-05-14T17:37:36.231Z"
   },
   {
    "duration": 8,
    "start_time": "2022-05-14T17:42:30.092Z"
   },
   {
    "duration": 8,
    "start_time": "2022-05-14T17:43:05.310Z"
   },
   {
    "duration": 8,
    "start_time": "2022-05-14T17:44:51.794Z"
   },
   {
    "duration": 8,
    "start_time": "2022-05-14T17:44:55.850Z"
   },
   {
    "duration": 9,
    "start_time": "2022-05-14T17:58:24.682Z"
   },
   {
    "duration": 9,
    "start_time": "2022-05-14T18:00:08.782Z"
   },
   {
    "duration": 447,
    "start_time": "2022-05-14T18:00:16.716Z"
   },
   {
    "duration": 80,
    "start_time": "2022-05-14T18:00:17.165Z"
   },
   {
    "duration": 74,
    "start_time": "2022-05-14T18:00:17.247Z"
   },
   {
    "duration": 93,
    "start_time": "2022-05-14T18:00:17.323Z"
   },
   {
    "duration": 28,
    "start_time": "2022-05-14T18:00:17.418Z"
   },
   {
    "duration": 68,
    "start_time": "2022-05-14T18:00:17.448Z"
   },
   {
    "duration": 63,
    "start_time": "2022-05-14T18:00:17.518Z"
   },
   {
    "duration": 46,
    "start_time": "2022-05-14T18:00:17.583Z"
   },
   {
    "duration": 11,
    "start_time": "2022-05-14T18:00:17.631Z"
   },
   {
    "duration": 1124,
    "start_time": "2022-05-14T18:00:17.644Z"
   },
   {
    "duration": 15,
    "start_time": "2022-05-14T18:00:18.771Z"
   },
   {
    "duration": 292,
    "start_time": "2022-05-14T18:00:18.788Z"
   },
   {
    "duration": 885,
    "start_time": "2022-05-14T18:00:19.082Z"
   },
   {
    "duration": 784,
    "start_time": "2022-05-14T18:00:19.978Z"
   },
   {
    "duration": 12,
    "start_time": "2022-05-14T18:00:20.771Z"
   },
   {
    "duration": 20,
    "start_time": "2022-05-14T18:00:20.784Z"
   },
   {
    "duration": 1948,
    "start_time": "2022-05-14T18:01:15.894Z"
   },
   {
    "duration": 161,
    "start_time": "2022-05-14T18:02:28.881Z"
   },
   {
    "duration": 166,
    "start_time": "2022-05-14T18:04:53.063Z"
   },
   {
    "duration": 26,
    "start_time": "2022-05-14T18:10:47.965Z"
   },
   {
    "duration": 166,
    "start_time": "2022-05-14T18:10:52.351Z"
   },
   {
    "duration": 189,
    "start_time": "2022-05-14T18:10:55.527Z"
   },
   {
    "duration": 9,
    "start_time": "2022-05-14T18:26:08.447Z"
   },
   {
    "duration": 93,
    "start_time": "2022-05-14T18:29:32.480Z"
   },
   {
    "duration": 264,
    "start_time": "2022-05-14T18:33:13.491Z"
   },
   {
    "duration": 15,
    "start_time": "2022-05-14T18:34:44.239Z"
   },
   {
    "duration": 393,
    "start_time": "2022-05-14T18:35:10.115Z"
   },
   {
    "duration": 85,
    "start_time": "2022-05-14T18:35:10.510Z"
   },
   {
    "duration": 73,
    "start_time": "2022-05-14T18:35:10.596Z"
   },
   {
    "duration": 84,
    "start_time": "2022-05-14T18:35:10.671Z"
   },
   {
    "duration": 39,
    "start_time": "2022-05-14T18:35:10.757Z"
   },
   {
    "duration": 46,
    "start_time": "2022-05-14T18:35:10.798Z"
   },
   {
    "duration": 78,
    "start_time": "2022-05-14T18:35:10.846Z"
   },
   {
    "duration": 49,
    "start_time": "2022-05-14T18:35:10.925Z"
   },
   {
    "duration": 12,
    "start_time": "2022-05-14T18:35:10.976Z"
   },
   {
    "duration": 1118,
    "start_time": "2022-05-14T18:35:10.990Z"
   },
   {
    "duration": 12,
    "start_time": "2022-05-14T18:35:12.110Z"
   },
   {
    "duration": 294,
    "start_time": "2022-05-14T18:35:12.123Z"
   },
   {
    "duration": 896,
    "start_time": "2022-05-14T18:35:12.419Z"
   },
   {
    "duration": 787,
    "start_time": "2022-05-14T18:35:13.318Z"
   },
   {
    "duration": 8,
    "start_time": "2022-05-14T18:35:14.106Z"
   },
   {
    "duration": 22,
    "start_time": "2022-05-14T18:35:14.115Z"
   },
   {
    "duration": 278,
    "start_time": "2022-05-14T18:35:40.961Z"
   },
   {
    "duration": 6,
    "start_time": "2022-05-14T18:39:39.220Z"
   },
   {
    "duration": 1478,
    "start_time": "2022-05-14T18:40:38.150Z"
   },
   {
    "duration": 1492,
    "start_time": "2022-05-14T18:40:48.311Z"
   },
   {
    "duration": 11,
    "start_time": "2022-05-14T18:52:42.543Z"
   },
   {
    "duration": 1842,
    "start_time": "2022-05-14T18:58:40.244Z"
   },
   {
    "duration": 78,
    "start_time": "2022-05-14T18:58:42.089Z"
   },
   {
    "duration": 80,
    "start_time": "2022-05-14T18:58:42.169Z"
   },
   {
    "duration": 90,
    "start_time": "2022-05-14T18:58:42.251Z"
   },
   {
    "duration": 23,
    "start_time": "2022-05-14T18:58:42.343Z"
   },
   {
    "duration": 74,
    "start_time": "2022-05-14T18:58:42.367Z"
   },
   {
    "duration": 64,
    "start_time": "2022-05-14T18:58:42.442Z"
   },
   {
    "duration": 57,
    "start_time": "2022-05-14T18:58:42.507Z"
   },
   {
    "duration": 14,
    "start_time": "2022-05-14T18:58:42.565Z"
   },
   {
    "duration": 1198,
    "start_time": "2022-05-14T18:58:42.581Z"
   },
   {
    "duration": 12,
    "start_time": "2022-05-14T18:58:43.781Z"
   },
   {
    "duration": 290,
    "start_time": "2022-05-14T18:58:43.795Z"
   },
   {
    "duration": 899,
    "start_time": "2022-05-14T18:58:44.087Z"
   },
   {
    "duration": 963,
    "start_time": "2022-05-14T18:58:44.987Z"
   },
   {
    "duration": 8,
    "start_time": "2022-05-14T18:58:45.952Z"
   },
   {
    "duration": 1820,
    "start_time": "2022-05-14T18:58:45.961Z"
   },
   {
    "duration": 1806,
    "start_time": "2022-05-14T19:00:05.674Z"
   },
   {
    "duration": 1679,
    "start_time": "2022-05-14T19:00:26.081Z"
   },
   {
    "duration": 132,
    "start_time": "2022-05-14T19:03:20.554Z"
   },
   {
    "duration": 172,
    "start_time": "2022-05-14T19:03:32.225Z"
   },
   {
    "duration": 173,
    "start_time": "2022-05-14T19:03:44.121Z"
   },
   {
    "duration": 401,
    "start_time": "2022-05-14T19:04:13.740Z"
   },
   {
    "duration": 261,
    "start_time": "2022-05-14T19:04:27.556Z"
   },
   {
    "duration": 173,
    "start_time": "2022-05-14T19:05:17.094Z"
   },
   {
    "duration": 199,
    "start_time": "2022-05-14T19:06:47.282Z"
   },
   {
    "duration": 205,
    "start_time": "2022-05-14T19:07:44.629Z"
   },
   {
    "duration": 186,
    "start_time": "2022-05-14T19:08:05.638Z"
   },
   {
    "duration": 164,
    "start_time": "2022-05-14T19:12:37.321Z"
   },
   {
    "duration": 210,
    "start_time": "2022-05-14T19:12:59.571Z"
   },
   {
    "duration": 307,
    "start_time": "2022-05-14T19:13:10.547Z"
   },
   {
    "duration": 9,
    "start_time": "2022-05-14T19:15:39.689Z"
   },
   {
    "duration": 570,
    "start_time": "2022-05-14T19:16:13.951Z"
   },
   {
    "duration": 90,
    "start_time": "2022-05-14T19:16:14.523Z"
   },
   {
    "duration": 86,
    "start_time": "2022-05-14T19:16:14.615Z"
   },
   {
    "duration": 102,
    "start_time": "2022-05-14T19:16:14.703Z"
   },
   {
    "duration": 33,
    "start_time": "2022-05-14T19:16:14.807Z"
   },
   {
    "duration": 52,
    "start_time": "2022-05-14T19:16:14.842Z"
   },
   {
    "duration": 93,
    "start_time": "2022-05-14T19:16:14.896Z"
   },
   {
    "duration": 68,
    "start_time": "2022-05-14T19:16:14.991Z"
   },
   {
    "duration": 14,
    "start_time": "2022-05-14T19:16:15.061Z"
   },
   {
    "duration": 1241,
    "start_time": "2022-05-14T19:16:15.077Z"
   },
   {
    "duration": 29,
    "start_time": "2022-05-14T19:16:16.320Z"
   },
   {
    "duration": 330,
    "start_time": "2022-05-14T19:16:16.351Z"
   },
   {
    "duration": 1132,
    "start_time": "2022-05-14T19:16:16.683Z"
   },
   {
    "duration": 987,
    "start_time": "2022-05-14T19:16:17.818Z"
   },
   {
    "duration": 9,
    "start_time": "2022-05-14T19:16:18.806Z"
   },
   {
    "duration": 486,
    "start_time": "2022-05-14T19:16:18.833Z"
   },
   {
    "duration": 545,
    "start_time": "2022-05-14T19:16:19.321Z"
   },
   {
    "duration": 107,
    "start_time": "2022-05-14T19:17:07.021Z"
   },
   {
    "duration": 102,
    "start_time": "2022-05-14T19:17:36.768Z"
   },
   {
    "duration": 87,
    "start_time": "2022-05-14T19:19:15.185Z"
   },
   {
    "duration": 11,
    "start_time": "2022-05-14T19:20:43.584Z"
   },
   {
    "duration": 105,
    "start_time": "2022-05-14T19:21:05.557Z"
   },
   {
    "duration": 102,
    "start_time": "2022-05-14T19:21:13.786Z"
   },
   {
    "duration": 54,
    "start_time": "2022-05-14T19:23:45.248Z"
   },
   {
    "duration": 423,
    "start_time": "2022-05-14T19:25:57.257Z"
   },
   {
    "duration": 321,
    "start_time": "2022-05-14T19:26:33.975Z"
   },
   {
    "duration": 321,
    "start_time": "2022-05-14T19:26:57.304Z"
   },
   {
    "duration": 320,
    "start_time": "2022-05-14T19:27:10.064Z"
   },
   {
    "duration": 307,
    "start_time": "2022-05-14T19:27:16.609Z"
   },
   {
    "duration": 317,
    "start_time": "2022-05-14T19:27:39.558Z"
   },
   {
    "duration": 474,
    "start_time": "2022-05-14T19:27:55.349Z"
   },
   {
    "duration": 333,
    "start_time": "2022-05-14T19:28:10.966Z"
   },
   {
    "duration": 326,
    "start_time": "2022-05-14T19:28:37.557Z"
   },
   {
    "duration": 326,
    "start_time": "2022-05-14T19:28:58.878Z"
   },
   {
    "duration": 320,
    "start_time": "2022-05-14T19:29:08.553Z"
   },
   {
    "duration": 388,
    "start_time": "2022-05-14T19:29:22.590Z"
   },
   {
    "duration": 618,
    "start_time": "2022-05-14T19:29:35.686Z"
   },
   {
    "duration": 387,
    "start_time": "2022-05-14T19:29:45.850Z"
   },
   {
    "duration": 934,
    "start_time": "2022-05-14T19:29:51.453Z"
   },
   {
    "duration": 530,
    "start_time": "2022-05-14T19:29:55.376Z"
   },
   {
    "duration": 306,
    "start_time": "2022-05-14T19:30:11.312Z"
   },
   {
    "duration": 504,
    "start_time": "2022-05-14T19:35:30.680Z"
   },
   {
    "duration": 336,
    "start_time": "2022-05-14T19:35:41.488Z"
   },
   {
    "duration": 496,
    "start_time": "2022-05-14T19:35:46.318Z"
   },
   {
    "duration": 636,
    "start_time": "2022-05-14T19:36:18.513Z"
   },
   {
    "duration": 460,
    "start_time": "2022-05-14T19:36:25.158Z"
   },
   {
    "duration": 309,
    "start_time": "2022-05-14T19:36:32.314Z"
   },
   {
    "duration": 1395,
    "start_time": "2022-05-14T19:38:02.958Z"
   },
   {
    "duration": 1147,
    "start_time": "2022-05-14T19:38:52.008Z"
   },
   {
    "duration": 1335,
    "start_time": "2022-05-14T19:39:14.762Z"
   },
   {
    "duration": 947,
    "start_time": "2022-05-14T19:39:30.658Z"
   },
   {
    "duration": 1396,
    "start_time": "2022-05-14T19:40:00.587Z"
   },
   {
    "duration": 904,
    "start_time": "2022-05-14T19:40:30.492Z"
   },
   {
    "duration": 922,
    "start_time": "2022-05-14T19:40:51.429Z"
   },
   {
    "duration": 1432,
    "start_time": "2022-05-14T19:41:01.559Z"
   },
   {
    "duration": 1054,
    "start_time": "2022-05-14T19:41:07.687Z"
   },
   {
    "duration": 1468,
    "start_time": "2022-05-14T19:42:03.112Z"
   },
   {
    "duration": 1281,
    "start_time": "2022-05-14T19:42:23.033Z"
   },
   {
    "duration": 1382,
    "start_time": "2022-05-14T19:42:30.961Z"
   },
   {
    "duration": 1487,
    "start_time": "2022-05-14T19:43:25.772Z"
   },
   {
    "duration": 1179,
    "start_time": "2022-05-14T19:43:47.917Z"
   },
   {
    "duration": 1167,
    "start_time": "2022-05-14T19:44:56.864Z"
   },
   {
    "duration": 1571,
    "start_time": "2022-05-14T19:45:07.558Z"
   },
   {
    "duration": 1201,
    "start_time": "2022-05-14T19:45:26.177Z"
   },
   {
    "duration": 1362,
    "start_time": "2022-05-14T19:45:53.130Z"
   },
   {
    "duration": 1100,
    "start_time": "2022-05-14T19:46:15.923Z"
   },
   {
    "duration": 1323,
    "start_time": "2022-05-14T19:46:41.797Z"
   },
   {
    "duration": 1014,
    "start_time": "2022-05-14T19:46:51.849Z"
   },
   {
    "duration": 1299,
    "start_time": "2022-05-14T19:47:12.486Z"
   },
   {
    "duration": 995,
    "start_time": "2022-05-14T19:47:21.358Z"
   },
   {
    "duration": 1379,
    "start_time": "2022-05-14T19:47:28.022Z"
   },
   {
    "duration": 999,
    "start_time": "2022-05-14T19:47:31.831Z"
   },
   {
    "duration": 1307,
    "start_time": "2022-05-14T19:47:37.031Z"
   },
   {
    "duration": 991,
    "start_time": "2022-05-14T19:47:55.505Z"
   },
   {
    "duration": 1440,
    "start_time": "2022-05-14T19:49:50.030Z"
   },
   {
    "duration": 1314,
    "start_time": "2022-05-14T19:49:59.103Z"
   },
   {
    "duration": 990,
    "start_time": "2022-05-14T19:50:28.767Z"
   },
   {
    "duration": 834,
    "start_time": "2022-05-14T19:50:44.748Z"
   },
   {
    "duration": 1052,
    "start_time": "2022-05-14T19:51:26.881Z"
   },
   {
    "duration": 759,
    "start_time": "2022-05-14T19:52:31.805Z"
   },
   {
    "duration": 483,
    "start_time": "2022-05-14T19:54:17.249Z"
   },
   {
    "duration": 501,
    "start_time": "2022-05-14T19:54:31.514Z"
   },
   {
    "duration": 216,
    "start_time": "2022-05-14T19:54:45.666Z"
   },
   {
    "duration": 218,
    "start_time": "2022-05-14T19:55:23.220Z"
   },
   {
    "duration": 235,
    "start_time": "2022-05-14T19:55:44.497Z"
   },
   {
    "duration": 467,
    "start_time": "2022-05-14T19:55:57.662Z"
   },
   {
    "duration": 14,
    "start_time": "2022-05-14T20:21:31.986Z"
   },
   {
    "duration": 50,
    "start_time": "2022-05-14T20:26:24.423Z"
   },
   {
    "duration": 12,
    "start_time": "2022-05-14T20:27:02.218Z"
   },
   {
    "duration": 12,
    "start_time": "2022-05-14T20:27:13.177Z"
   },
   {
    "duration": 16,
    "start_time": "2022-05-14T20:28:57.686Z"
   },
   {
    "duration": 30,
    "start_time": "2022-05-14T20:33:21.750Z"
   },
   {
    "duration": 30,
    "start_time": "2022-05-14T20:33:38.161Z"
   },
   {
    "duration": 419,
    "start_time": "2022-05-14T20:33:42.166Z"
   },
   {
    "duration": 70,
    "start_time": "2022-05-14T20:33:42.587Z"
   },
   {
    "duration": 74,
    "start_time": "2022-05-14T20:33:42.659Z"
   },
   {
    "duration": 77,
    "start_time": "2022-05-14T20:33:42.735Z"
   },
   {
    "duration": 35,
    "start_time": "2022-05-14T20:33:42.814Z"
   },
   {
    "duration": 54,
    "start_time": "2022-05-14T20:33:42.851Z"
   },
   {
    "duration": 85,
    "start_time": "2022-05-14T20:33:42.907Z"
   },
   {
    "duration": 57,
    "start_time": "2022-05-14T20:33:42.994Z"
   },
   {
    "duration": 13,
    "start_time": "2022-05-14T20:33:43.053Z"
   },
   {
    "duration": 32,
    "start_time": "2022-05-14T20:33:43.067Z"
   },
   {
    "duration": 39,
    "start_time": "2022-05-14T20:33:43.101Z"
   },
   {
    "duration": 269,
    "start_time": "2022-05-14T20:33:43.142Z"
   },
   {
    "duration": 857,
    "start_time": "2022-05-14T20:33:43.413Z"
   },
   {
    "duration": 853,
    "start_time": "2022-05-14T20:33:44.274Z"
   },
   {
    "duration": 9,
    "start_time": "2022-05-14T20:33:45.133Z"
   },
   {
    "duration": 592,
    "start_time": "2022-05-14T20:33:45.144Z"
   },
   {
    "duration": 14,
    "start_time": "2022-05-14T20:33:45.738Z"
   },
   {
    "duration": 16,
    "start_time": "2022-05-14T20:33:45.754Z"
   },
   {
    "duration": 31,
    "start_time": "2022-05-14T20:35:08.965Z"
   },
   {
    "duration": 1038,
    "start_time": "2022-05-14T20:35:25.430Z"
   },
   {
    "duration": 419,
    "start_time": "2022-05-14T20:35:36.632Z"
   },
   {
    "duration": 84,
    "start_time": "2022-05-14T20:35:37.054Z"
   },
   {
    "duration": 69,
    "start_time": "2022-05-14T20:35:37.141Z"
   },
   {
    "duration": 94,
    "start_time": "2022-05-14T20:35:37.212Z"
   },
   {
    "duration": 33,
    "start_time": "2022-05-14T20:35:37.309Z"
   },
   {
    "duration": 45,
    "start_time": "2022-05-14T20:35:37.345Z"
   },
   {
    "duration": 82,
    "start_time": "2022-05-14T20:35:37.392Z"
   },
   {
    "duration": 44,
    "start_time": "2022-05-14T20:35:37.476Z"
   },
   {
    "duration": 14,
    "start_time": "2022-05-14T20:35:37.534Z"
   },
   {
    "duration": 1070,
    "start_time": "2022-05-14T20:35:37.550Z"
   },
   {
    "duration": 20,
    "start_time": "2022-05-14T20:35:38.622Z"
   },
   {
    "duration": 280,
    "start_time": "2022-05-14T20:35:38.644Z"
   },
   {
    "duration": 848,
    "start_time": "2022-05-14T20:35:38.927Z"
   },
   {
    "duration": 845,
    "start_time": "2022-05-14T20:35:39.779Z"
   },
   {
    "duration": 8,
    "start_time": "2022-05-14T20:35:40.634Z"
   },
   {
    "duration": 323,
    "start_time": "2022-05-14T20:35:40.644Z"
   },
   {
    "duration": 14,
    "start_time": "2022-05-14T20:35:40.969Z"
   },
   {
    "duration": 21,
    "start_time": "2022-05-14T20:35:40.986Z"
   },
   {
    "duration": 12,
    "start_time": "2022-05-14T20:36:19.960Z"
   },
   {
    "duration": 428,
    "start_time": "2022-05-14T20:38:17.843Z"
   },
   {
    "duration": 77,
    "start_time": "2022-05-14T20:38:18.274Z"
   },
   {
    "duration": 82,
    "start_time": "2022-05-14T20:38:18.352Z"
   },
   {
    "duration": 81,
    "start_time": "2022-05-14T20:38:18.436Z"
   },
   {
    "duration": 28,
    "start_time": "2022-05-14T20:38:18.532Z"
   },
   {
    "duration": 49,
    "start_time": "2022-05-14T20:38:18.563Z"
   },
   {
    "duration": 63,
    "start_time": "2022-05-14T20:38:18.634Z"
   },
   {
    "duration": 63,
    "start_time": "2022-05-14T20:38:18.699Z"
   },
   {
    "duration": 12,
    "start_time": "2022-05-14T20:38:18.764Z"
   },
   {
    "duration": 1136,
    "start_time": "2022-05-14T20:38:18.778Z"
   },
   {
    "duration": 22,
    "start_time": "2022-05-14T20:38:19.915Z"
   },
   {
    "duration": 287,
    "start_time": "2022-05-14T20:38:19.939Z"
   },
   {
    "duration": 1115,
    "start_time": "2022-05-14T20:38:20.227Z"
   },
   {
    "duration": 851,
    "start_time": "2022-05-14T20:38:21.344Z"
   },
   {
    "duration": 8,
    "start_time": "2022-05-14T20:38:22.197Z"
   },
   {
    "duration": 304,
    "start_time": "2022-05-14T20:38:22.207Z"
   },
   {
    "duration": 22,
    "start_time": "2022-05-14T20:38:22.513Z"
   },
   {
    "duration": 1241,
    "start_time": "2022-05-14T20:38:22.537Z"
   },
   {
    "duration": 1232,
    "start_time": "2022-05-14T20:39:06.760Z"
   },
   {
    "duration": 1153,
    "start_time": "2022-05-14T20:39:26.833Z"
   },
   {
    "duration": 313,
    "start_time": "2022-05-14T20:39:51.153Z"
   },
   {
    "duration": 287,
    "start_time": "2022-05-14T20:43:20.699Z"
   },
   {
    "duration": 282,
    "start_time": "2022-05-14T20:43:31.756Z"
   },
   {
    "duration": 304,
    "start_time": "2022-05-14T20:45:02.647Z"
   },
   {
    "duration": 237,
    "start_time": "2022-05-14T20:45:29.833Z"
   },
   {
    "duration": 222,
    "start_time": "2022-05-14T20:45:52.385Z"
   },
   {
    "duration": 294,
    "start_time": "2022-05-14T20:46:10.074Z"
   },
   {
    "duration": 551,
    "start_time": "2022-05-14T20:46:35.051Z"
   },
   {
    "duration": 290,
    "start_time": "2022-05-14T20:46:43.684Z"
   },
   {
    "duration": 305,
    "start_time": "2022-05-14T20:46:59.244Z"
   },
   {
    "duration": 16,
    "start_time": "2022-05-14T20:47:56.463Z"
   },
   {
    "duration": 1134,
    "start_time": "2022-05-14T20:50:41.518Z"
   },
   {
    "duration": 24,
    "start_time": "2022-05-14T20:58:16.978Z"
   },
   {
    "duration": 1279,
    "start_time": "2022-05-14T20:58:29.876Z"
   },
   {
    "duration": 14,
    "start_time": "2022-05-14T21:06:38.583Z"
   },
   {
    "duration": 269,
    "start_time": "2022-05-14T21:28:41.132Z"
   },
   {
    "duration": 446,
    "start_time": "2022-05-14T21:32:43.647Z"
   },
   {
    "duration": 76,
    "start_time": "2022-05-14T21:32:44.095Z"
   },
   {
    "duration": 80,
    "start_time": "2022-05-14T21:32:44.173Z"
   },
   {
    "duration": 87,
    "start_time": "2022-05-14T21:32:44.256Z"
   },
   {
    "duration": 23,
    "start_time": "2022-05-14T21:32:44.346Z"
   },
   {
    "duration": 71,
    "start_time": "2022-05-14T21:32:44.371Z"
   },
   {
    "duration": 58,
    "start_time": "2022-05-14T21:32:44.444Z"
   },
   {
    "duration": 64,
    "start_time": "2022-05-14T21:32:44.504Z"
   },
   {
    "duration": 13,
    "start_time": "2022-05-14T21:32:44.570Z"
   },
   {
    "duration": 1141,
    "start_time": "2022-05-14T21:32:44.585Z"
   },
   {
    "duration": 16,
    "start_time": "2022-05-14T21:32:45.728Z"
   },
   {
    "duration": 282,
    "start_time": "2022-05-14T21:32:45.746Z"
   },
   {
    "duration": 870,
    "start_time": "2022-05-14T21:32:46.033Z"
   },
   {
    "duration": 872,
    "start_time": "2022-05-14T21:32:46.907Z"
   },
   {
    "duration": 10,
    "start_time": "2022-05-14T21:32:47.781Z"
   },
   {
    "duration": 314,
    "start_time": "2022-05-14T21:32:47.793Z"
   },
   {
    "duration": 25,
    "start_time": "2022-05-14T21:32:48.109Z"
   },
   {
    "duration": 1187,
    "start_time": "2022-05-14T21:32:48.137Z"
   },
   {
    "duration": 21,
    "start_time": "2022-05-14T21:32:49.326Z"
   },
   {
    "duration": 2503,
    "start_time": "2022-05-15T15:48:52.842Z"
   },
   {
    "duration": 115,
    "start_time": "2022-05-15T15:48:55.348Z"
   },
   {
    "duration": 121,
    "start_time": "2022-05-15T15:48:55.466Z"
   },
   {
    "duration": 136,
    "start_time": "2022-05-15T15:48:55.592Z"
   },
   {
    "duration": 32,
    "start_time": "2022-05-15T15:48:55.730Z"
   },
   {
    "duration": 99,
    "start_time": "2022-05-15T15:48:55.764Z"
   },
   {
    "duration": 140,
    "start_time": "2022-05-15T15:48:55.866Z"
   },
   {
    "duration": 105,
    "start_time": "2022-05-15T15:48:56.009Z"
   },
   {
    "duration": 20,
    "start_time": "2022-05-15T15:48:56.117Z"
   },
   {
    "duration": 2193,
    "start_time": "2022-05-15T15:48:56.142Z"
   },
   {
    "duration": 19,
    "start_time": "2022-05-15T15:48:58.338Z"
   },
   {
    "duration": 502,
    "start_time": "2022-05-15T15:48:58.381Z"
   },
   {
    "duration": 1429,
    "start_time": "2022-05-15T15:48:58.885Z"
   },
   {
    "duration": 1527,
    "start_time": "2022-05-15T15:49:00.316Z"
   },
   {
    "duration": 13,
    "start_time": "2022-05-15T15:49:01.845Z"
   },
   {
    "duration": 556,
    "start_time": "2022-05-15T15:49:01.860Z"
   },
   {
    "duration": 19,
    "start_time": "2022-05-15T15:49:02.418Z"
   },
   {
    "duration": 2182,
    "start_time": "2022-05-15T15:49:02.440Z"
   },
   {
    "duration": 29,
    "start_time": "2022-05-15T15:49:04.624Z"
   },
   {
    "duration": 22,
    "start_time": "2022-05-15T15:49:07.777Z"
   },
   {
    "duration": 23,
    "start_time": "2022-05-15T15:49:11.177Z"
   },
   {
    "duration": 19,
    "start_time": "2022-05-15T15:49:18.931Z"
   },
   {
    "duration": 34,
    "start_time": "2022-05-15T15:50:19.168Z"
   },
   {
    "duration": 20,
    "start_time": "2022-05-15T15:50:27.922Z"
   },
   {
    "duration": 20,
    "start_time": "2022-05-15T15:50:44.442Z"
   },
   {
    "duration": 20,
    "start_time": "2022-05-15T15:50:55.311Z"
   },
   {
    "duration": 21,
    "start_time": "2022-05-15T15:53:06.275Z"
   },
   {
    "duration": 25,
    "start_time": "2022-05-15T15:53:12.170Z"
   },
   {
    "duration": 36,
    "start_time": "2022-05-15T15:54:44.588Z"
   },
   {
    "duration": 45,
    "start_time": "2022-05-15T15:54:53.353Z"
   },
   {
    "duration": 70,
    "start_time": "2022-05-15T15:55:16.657Z"
   },
   {
    "duration": 38,
    "start_time": "2022-05-15T15:55:40.205Z"
   },
   {
    "duration": 2891,
    "start_time": "2022-05-15T15:56:48.927Z"
   },
   {
    "duration": 132,
    "start_time": "2022-05-15T15:56:51.821Z"
   },
   {
    "duration": 113,
    "start_time": "2022-05-15T15:56:51.955Z"
   },
   {
    "duration": 133,
    "start_time": "2022-05-15T15:56:52.088Z"
   },
   {
    "duration": 31,
    "start_time": "2022-05-15T15:56:52.223Z"
   },
   {
    "duration": 99,
    "start_time": "2022-05-15T15:56:52.257Z"
   },
   {
    "duration": 109,
    "start_time": "2022-05-15T15:56:52.359Z"
   },
   {
    "duration": 68,
    "start_time": "2022-05-15T15:56:52.482Z"
   },
   {
    "duration": 48,
    "start_time": "2022-05-15T15:56:52.553Z"
   },
   {
    "duration": 2450,
    "start_time": "2022-05-15T15:56:52.608Z"
   },
   {
    "duration": 37,
    "start_time": "2022-05-15T15:56:55.061Z"
   },
   {
    "duration": 515,
    "start_time": "2022-05-15T15:56:55.104Z"
   },
   {
    "duration": 1649,
    "start_time": "2022-05-15T15:56:55.621Z"
   },
   {
    "duration": 1524,
    "start_time": "2022-05-15T15:56:57.283Z"
   },
   {
    "duration": 12,
    "start_time": "2022-05-15T15:56:58.813Z"
   },
   {
    "duration": 593,
    "start_time": "2022-05-15T15:56:58.828Z"
   },
   {
    "duration": 20,
    "start_time": "2022-05-15T15:56:59.424Z"
   },
   {
    "duration": 2590,
    "start_time": "2022-05-15T15:56:59.447Z"
   },
   {
    "duration": 52,
    "start_time": "2022-05-15T15:57:02.040Z"
   },
   {
    "duration": 122,
    "start_time": "2022-05-15T15:58:28.152Z"
   },
   {
    "duration": 643,
    "start_time": "2022-05-15T16:04:28.111Z"
   },
   {
    "duration": 899,
    "start_time": "2022-05-15T16:04:42.027Z"
   },
   {
    "duration": 977,
    "start_time": "2022-05-15T16:04:57.351Z"
   },
   {
    "duration": 2029,
    "start_time": "2022-05-16T07:02:45.833Z"
   },
   {
    "duration": 80,
    "start_time": "2022-05-16T07:03:09.080Z"
   },
   {
    "duration": 82,
    "start_time": "2022-05-16T07:03:21.138Z"
   },
   {
    "duration": 109,
    "start_time": "2022-05-16T07:04:01.940Z"
   },
   {
    "duration": 226,
    "start_time": "2022-05-16T07:06:59.742Z"
   },
   {
    "duration": 75,
    "start_time": "2022-05-16T07:11:12.990Z"
   },
   {
    "duration": 125,
    "start_time": "2022-05-16T07:20:03.645Z"
   },
   {
    "duration": 43,
    "start_time": "2022-05-16T07:20:11.066Z"
   },
   {
    "duration": 506,
    "start_time": "2022-05-16T07:20:18.654Z"
   },
   {
    "duration": 81,
    "start_time": "2022-05-16T07:20:21.343Z"
   },
   {
    "duration": 72,
    "start_time": "2022-05-16T07:20:25.999Z"
   },
   {
    "duration": 79,
    "start_time": "2022-05-16T07:20:28.902Z"
   },
   {
    "duration": 54,
    "start_time": "2022-05-16T07:20:30.645Z"
   },
   {
    "duration": 70,
    "start_time": "2022-05-16T07:20:33.246Z"
   },
   {
    "duration": 48,
    "start_time": "2022-05-16T07:20:35.654Z"
   },
   {
    "duration": 12,
    "start_time": "2022-05-16T07:20:38.094Z"
   },
   {
    "duration": 505,
    "start_time": "2022-05-16T07:21:20.254Z"
   },
   {
    "duration": 81,
    "start_time": "2022-05-16T07:21:20.761Z"
   },
   {
    "duration": 94,
    "start_time": "2022-05-16T07:21:20.844Z"
   },
   {
    "duration": 94,
    "start_time": "2022-05-16T07:21:20.941Z"
   },
   {
    "duration": 48,
    "start_time": "2022-05-16T07:21:21.037Z"
   },
   {
    "duration": 83,
    "start_time": "2022-05-16T07:21:21.087Z"
   },
   {
    "duration": 44,
    "start_time": "2022-05-16T07:21:21.171Z"
   },
   {
    "duration": 30,
    "start_time": "2022-05-16T07:21:21.217Z"
   },
   {
    "duration": 1137,
    "start_time": "2022-05-16T07:21:21.250Z"
   },
   {
    "duration": 14,
    "start_time": "2022-05-16T07:21:26.593Z"
   },
   {
    "duration": 462,
    "start_time": "2022-05-16T07:34:53.313Z"
   },
   {
    "duration": 77,
    "start_time": "2022-05-16T07:34:53.777Z"
   },
   {
    "duration": 83,
    "start_time": "2022-05-16T07:34:53.857Z"
   },
   {
    "duration": 79,
    "start_time": "2022-05-16T07:34:53.942Z"
   },
   {
    "duration": 59,
    "start_time": "2022-05-16T07:34:54.023Z"
   },
   {
    "duration": 84,
    "start_time": "2022-05-16T07:34:54.084Z"
   },
   {
    "duration": 45,
    "start_time": "2022-05-16T07:34:54.170Z"
   },
   {
    "duration": 25,
    "start_time": "2022-05-16T07:34:54.218Z"
   },
   {
    "duration": 28,
    "start_time": "2022-05-16T07:34:58.628Z"
   },
   {
    "duration": 39,
    "start_time": "2022-05-16T07:35:06.068Z"
   },
   {
    "duration": 27,
    "start_time": "2022-05-16T07:35:28.742Z"
   },
   {
    "duration": 32,
    "start_time": "2022-05-16T07:37:31.347Z"
   },
   {
    "duration": 18,
    "start_time": "2022-05-16T07:45:29.956Z"
   },
   {
    "duration": 2199,
    "start_time": "2022-05-16T07:46:57.869Z"
   },
   {
    "duration": 13,
    "start_time": "2022-05-16T07:47:19.135Z"
   },
   {
    "duration": 14,
    "start_time": "2022-05-16T07:47:50.257Z"
   },
   {
    "duration": 13,
    "start_time": "2022-05-16T07:48:04.571Z"
   },
   {
    "duration": 2558,
    "start_time": "2022-05-16T07:49:55.418Z"
   },
   {
    "duration": 2195,
    "start_time": "2022-05-16T07:50:26.053Z"
   },
   {
    "duration": 1062,
    "start_time": "2022-05-16T07:51:16.962Z"
   },
   {
    "duration": 437,
    "start_time": "2022-05-16T07:52:15.188Z"
   },
   {
    "duration": 74,
    "start_time": "2022-05-16T07:52:15.627Z"
   },
   {
    "duration": 77,
    "start_time": "2022-05-16T07:52:15.704Z"
   },
   {
    "duration": 88,
    "start_time": "2022-05-16T07:52:15.784Z"
   },
   {
    "duration": 60,
    "start_time": "2022-05-16T07:52:15.874Z"
   },
   {
    "duration": 65,
    "start_time": "2022-05-16T07:52:15.936Z"
   },
   {
    "duration": 61,
    "start_time": "2022-05-16T07:52:16.003Z"
   },
   {
    "duration": 11,
    "start_time": "2022-05-16T07:52:16.066Z"
   },
   {
    "duration": 1113,
    "start_time": "2022-05-16T07:52:16.079Z"
   },
   {
    "duration": 13,
    "start_time": "2022-05-16T07:52:17.195Z"
   },
   {
    "duration": 269,
    "start_time": "2022-05-16T07:52:17.757Z"
   },
   {
    "duration": 450,
    "start_time": "2022-05-16T07:57:19.675Z"
   },
   {
    "duration": 77,
    "start_time": "2022-05-16T07:57:20.127Z"
   },
   {
    "duration": 80,
    "start_time": "2022-05-16T07:57:20.206Z"
   },
   {
    "duration": 87,
    "start_time": "2022-05-16T07:57:20.289Z"
   },
   {
    "duration": 58,
    "start_time": "2022-05-16T07:57:20.378Z"
   },
   {
    "duration": 60,
    "start_time": "2022-05-16T07:57:20.438Z"
   },
   {
    "duration": 58,
    "start_time": "2022-05-16T07:57:20.500Z"
   },
   {
    "duration": 13,
    "start_time": "2022-05-16T07:57:20.560Z"
   },
   {
    "duration": 1105,
    "start_time": "2022-05-16T07:57:20.574Z"
   },
   {
    "duration": 15,
    "start_time": "2022-05-16T07:57:21.681Z"
   },
   {
    "duration": 262,
    "start_time": "2022-05-16T07:57:22.024Z"
   },
   {
    "duration": 14,
    "start_time": "2022-05-16T07:59:17.501Z"
   },
   {
    "duration": 486,
    "start_time": "2022-05-16T07:59:43.109Z"
   },
   {
    "duration": 76,
    "start_time": "2022-05-16T07:59:43.597Z"
   },
   {
    "duration": 82,
    "start_time": "2022-05-16T07:59:43.674Z"
   },
   {
    "duration": 90,
    "start_time": "2022-05-16T07:59:43.758Z"
   },
   {
    "duration": 50,
    "start_time": "2022-05-16T07:59:43.850Z"
   },
   {
    "duration": 82,
    "start_time": "2022-05-16T07:59:43.902Z"
   },
   {
    "duration": 59,
    "start_time": "2022-05-16T07:59:43.986Z"
   },
   {
    "duration": 14,
    "start_time": "2022-05-16T07:59:44.047Z"
   },
   {
    "duration": 1105,
    "start_time": "2022-05-16T07:59:44.063Z"
   },
   {
    "duration": 15,
    "start_time": "2022-05-16T07:59:45.170Z"
   },
   {
    "duration": 294,
    "start_time": "2022-05-16T07:59:45.187Z"
   },
   {
    "duration": 960,
    "start_time": "2022-05-16T07:59:46.424Z"
   },
   {
    "duration": 892,
    "start_time": "2022-05-16T08:00:03.290Z"
   },
   {
    "duration": 951,
    "start_time": "2022-05-16T08:03:29.422Z"
   },
   {
    "duration": 1844,
    "start_time": "2022-05-16T08:04:19.233Z"
   },
   {
    "duration": 3783,
    "start_time": "2022-05-16T08:07:40.482Z"
   },
   {
    "duration": 3905,
    "start_time": "2022-05-16T08:11:19.790Z"
   },
   {
    "duration": 1633,
    "start_time": "2022-05-16T08:13:25.632Z"
   },
   {
    "duration": 1517,
    "start_time": "2022-05-16T08:15:44.942Z"
   },
   {
    "duration": 1509,
    "start_time": "2022-05-16T08:17:56.014Z"
   },
   {
    "duration": 456,
    "start_time": "2022-05-16T08:22:58.766Z"
   },
   {
    "duration": 1526,
    "start_time": "2022-05-16T08:24:32.298Z"
   },
   {
    "duration": 1436,
    "start_time": "2022-05-16T08:25:07.660Z"
   },
   {
    "duration": 12,
    "start_time": "2022-05-16T08:27:06.205Z"
   },
   {
    "duration": 15,
    "start_time": "2022-05-16T08:27:42.149Z"
   },
   {
    "duration": 1475,
    "start_time": "2022-05-16T08:27:55.397Z"
   },
   {
    "duration": 516,
    "start_time": "2022-05-16T08:28:57.782Z"
   },
   {
    "duration": 2399,
    "start_time": "2022-05-16T08:30:18.269Z"
   },
   {
    "duration": 2545,
    "start_time": "2022-05-16T08:30:55.643Z"
   },
   {
    "duration": 2527,
    "start_time": "2022-05-16T08:31:49.959Z"
   },
   {
    "duration": 2987,
    "start_time": "2022-05-16T08:38:27.100Z"
   },
   {
    "duration": 2066,
    "start_time": "2022-05-16T08:39:57.309Z"
   },
   {
    "duration": 1971,
    "start_time": "2022-05-16T08:43:02.585Z"
   },
   {
    "duration": 1817,
    "start_time": "2022-05-16T08:43:51.505Z"
   },
   {
    "duration": 1917,
    "start_time": "2022-05-16T08:43:57.888Z"
   },
   {
    "duration": 1981,
    "start_time": "2022-05-16T08:48:48.565Z"
   },
   {
    "duration": 1772,
    "start_time": "2022-05-16T08:50:10.791Z"
   },
   {
    "duration": 1851,
    "start_time": "2022-05-16T08:52:23.530Z"
   },
   {
    "duration": 1853,
    "start_time": "2022-05-16T08:53:35.963Z"
   },
   {
    "duration": 1864,
    "start_time": "2022-05-16T08:55:06.629Z"
   },
   {
    "duration": 1800,
    "start_time": "2022-05-16T08:55:17.967Z"
   },
   {
    "duration": 2022,
    "start_time": "2022-05-16T08:55:59.703Z"
   },
   {
    "duration": 1923,
    "start_time": "2022-05-16T08:59:15.626Z"
   },
   {
    "duration": 3324,
    "start_time": "2022-05-16T19:28:28.150Z"
   },
   {
    "duration": 99,
    "start_time": "2022-05-16T19:28:31.477Z"
   },
   {
    "duration": 107,
    "start_time": "2022-05-16T19:28:31.578Z"
   },
   {
    "duration": 132,
    "start_time": "2022-05-16T19:28:31.688Z"
   },
   {
    "duration": 78,
    "start_time": "2022-05-16T19:28:31.823Z"
   },
   {
    "duration": 99,
    "start_time": "2022-05-16T19:28:31.904Z"
   },
   {
    "duration": 70,
    "start_time": "2022-05-16T19:28:32.005Z"
   },
   {
    "duration": 18,
    "start_time": "2022-05-16T19:28:32.077Z"
   },
   {
    "duration": 1929,
    "start_time": "2022-05-16T19:28:32.125Z"
   },
   {
    "duration": 17,
    "start_time": "2022-05-16T19:28:34.057Z"
   },
   {
    "duration": 497,
    "start_time": "2022-05-16T19:28:34.076Z"
   },
   {
    "duration": 2684,
    "start_time": "2022-05-16T19:28:34.575Z"
   },
   {
    "duration": 106,
    "start_time": "2022-05-16T19:29:25.079Z"
   },
   {
    "duration": 2695,
    "start_time": "2022-05-16T19:29:44.257Z"
   },
   {
    "duration": 2855,
    "start_time": "2022-05-16T19:30:04.170Z"
   },
   {
    "duration": 2688,
    "start_time": "2022-05-16T19:36:47.780Z"
   },
   {
    "duration": 2654,
    "start_time": "2022-05-16T19:38:14.767Z"
   },
   {
    "duration": 3222,
    "start_time": "2022-05-16T19:38:33.664Z"
   },
   {
    "duration": 3203,
    "start_time": "2022-05-16T19:41:51.530Z"
   },
   {
    "duration": 3164,
    "start_time": "2022-05-16T19:42:16.067Z"
   },
   {
    "duration": 146,
    "start_time": "2022-05-16T19:56:01.807Z"
   },
   {
    "duration": 16,
    "start_time": "2022-05-16T19:56:08.262Z"
   },
   {
    "duration": 19,
    "start_time": "2022-05-16T19:57:05.571Z"
   },
   {
    "duration": 25,
    "start_time": "2022-05-16T20:07:55.838Z"
   },
   {
    "duration": 23,
    "start_time": "2022-05-16T20:08:21.552Z"
   },
   {
    "duration": 23,
    "start_time": "2022-05-16T20:08:45.506Z"
   },
   {
    "duration": 14,
    "start_time": "2022-05-16T20:09:13.148Z"
   },
   {
    "duration": 3380,
    "start_time": "2022-05-16T20:12:32.769Z"
   },
   {
    "duration": 3292,
    "start_time": "2022-05-16T20:13:01.508Z"
   },
   {
    "duration": 690,
    "start_time": "2022-05-16T20:16:09.409Z"
   },
   {
    "duration": 29,
    "start_time": "2022-05-16T20:17:13.111Z"
   },
   {
    "duration": 29,
    "start_time": "2022-05-16T20:18:28.926Z"
   },
   {
    "duration": 28,
    "start_time": "2022-05-16T20:19:40.452Z"
   },
   {
    "duration": 27,
    "start_time": "2022-05-16T20:19:45.996Z"
   },
   {
    "duration": 35,
    "start_time": "2022-05-16T20:21:04.152Z"
   },
   {
    "duration": 565,
    "start_time": "2022-05-16T20:29:25.382Z"
   },
   {
    "duration": 115,
    "start_time": "2022-05-16T20:29:25.950Z"
   },
   {
    "duration": 104,
    "start_time": "2022-05-16T20:29:26.067Z"
   },
   {
    "duration": 125,
    "start_time": "2022-05-16T20:29:26.173Z"
   },
   {
    "duration": 76,
    "start_time": "2022-05-16T20:29:26.301Z"
   },
   {
    "duration": 108,
    "start_time": "2022-05-16T20:29:26.379Z"
   },
   {
    "duration": 75,
    "start_time": "2022-05-16T20:29:26.489Z"
   },
   {
    "duration": 17,
    "start_time": "2022-05-16T20:29:26.566Z"
   },
   {
    "duration": 1996,
    "start_time": "2022-05-16T20:29:26.585Z"
   },
   {
    "duration": 18,
    "start_time": "2022-05-16T20:29:28.583Z"
   },
   {
    "duration": 546,
    "start_time": "2022-05-16T20:29:28.603Z"
   },
   {
    "duration": 3647,
    "start_time": "2022-05-16T20:29:29.151Z"
   },
   {
    "duration": 33,
    "start_time": "2022-05-16T20:29:32.800Z"
   },
   {
    "duration": 534,
    "start_time": "2022-05-16T20:29:32.840Z"
   },
   {
    "duration": 20,
    "start_time": "2022-05-16T20:29:33.376Z"
   },
   {
    "duration": 2205,
    "start_time": "2022-05-16T20:29:33.398Z"
   },
   {
    "duration": 40,
    "start_time": "2022-05-16T20:29:35.605Z"
   },
   {
    "duration": 28,
    "start_time": "2022-05-16T20:29:35.648Z"
   },
   {
    "duration": 2423,
    "start_time": "2022-05-17T02:12:51.423Z"
   },
   {
    "duration": 106,
    "start_time": "2022-05-17T02:12:53.849Z"
   },
   {
    "duration": 100,
    "start_time": "2022-05-17T02:12:53.958Z"
   },
   {
    "duration": 122,
    "start_time": "2022-05-17T02:12:54.061Z"
   },
   {
    "duration": 84,
    "start_time": "2022-05-17T02:12:54.186Z"
   },
   {
    "duration": 111,
    "start_time": "2022-05-17T02:12:54.272Z"
   },
   {
    "duration": 73,
    "start_time": "2022-05-17T02:12:54.386Z"
   },
   {
    "duration": 17,
    "start_time": "2022-05-17T02:12:54.462Z"
   },
   {
    "duration": 1853,
    "start_time": "2022-05-17T02:12:54.481Z"
   },
   {
    "duration": 21,
    "start_time": "2022-05-17T02:12:56.338Z"
   },
   {
    "duration": 465,
    "start_time": "2022-05-17T02:12:56.362Z"
   },
   {
    "duration": 3045,
    "start_time": "2022-05-17T02:12:56.829Z"
   },
   {
    "duration": 11,
    "start_time": "2022-05-17T02:12:59.876Z"
   },
   {
    "duration": 488,
    "start_time": "2022-05-17T02:12:59.889Z"
   },
   {
    "duration": 19,
    "start_time": "2022-05-17T02:13:00.379Z"
   },
   {
    "duration": 1848,
    "start_time": "2022-05-17T02:13:00.400Z"
   },
   {
    "duration": 20,
    "start_time": "2022-05-17T02:13:02.250Z"
   },
   {
    "duration": 28,
    "start_time": "2022-05-17T02:13:02.273Z"
   },
   {
    "duration": 33,
    "start_time": "2022-05-17T02:13:22.861Z"
   },
   {
    "duration": 30,
    "start_time": "2022-05-17T02:13:32.070Z"
   },
   {
    "duration": 40,
    "start_time": "2022-05-17T02:13:51.960Z"
   },
   {
    "duration": 30,
    "start_time": "2022-05-17T02:13:59.902Z"
   },
   {
    "duration": 40,
    "start_time": "2022-05-17T02:14:27.114Z"
   },
   {
    "duration": 39,
    "start_time": "2022-05-17T02:15:18.058Z"
   },
   {
    "duration": 219,
    "start_time": "2022-05-17T02:20:39.470Z"
   }
  ],
  "kernelspec": {
   "display_name": "Python 3 (ipykernel)",
   "language": "python",
   "name": "python3"
  },
  "language_info": {
   "codemirror_mode": {
    "name": "ipython",
    "version": 3
   },
   "file_extension": ".py",
   "mimetype": "text/x-python",
   "name": "python",
   "nbconvert_exporter": "python",
   "pygments_lexer": "ipython3",
   "version": "3.9.7"
  },
  "toc": {
   "base_numbering": 1,
   "nav_menu": {},
   "number_sections": true,
   "sideBar": true,
   "skip_h1_title": true,
   "title_cell": "Table of Contents",
   "title_sidebar": "Contents",
   "toc_cell": false,
   "toc_position": {},
   "toc_section_display": true,
   "toc_window_display": false
  }
 },
 "nbformat": 4,
 "nbformat_minor": 2
}
