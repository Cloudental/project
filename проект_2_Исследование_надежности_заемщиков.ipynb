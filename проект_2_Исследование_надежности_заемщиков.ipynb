{
 "cells": [
  {
   "cell_type": "markdown",
   "id": "ec104f7b",
   "metadata": {},
   "source": [
    "## Исследование надежности заемщиков."
   ]
  },
  {
   "cell_type": "markdown",
   "id": "13c47190",
   "metadata": {},
   "source": [
    "\n",
    "Заказчик — кредитный отдел банка. Нужно разобраться, влияет ли семейное положение и количество детей клиента на факт погашения кредита в срок.\n",
    "\n",
    "Входные данные от банка — статистика о платёжеспособности клиентов.\n",
    "Результаты исследования будут учтены при построении модели кредитного скоринга — специальной системы, которая оценивает способность потенциального заёмщика вернуть кредит банку."
   ]
  },
  {
   "cell_type": "markdown",
   "id": "7929074a",
   "metadata": {},
   "source": [
    "### Шаг 1. Обзор данных"
   ]
  },
  {
   "cell_type": "code",
   "execution_count": 1,
   "id": "6bbb546e",
   "metadata": {},
   "outputs": [
    {
     "data": {
      "text/html": [
       "<div>\n",
       "<style scoped>\n",
       "    .dataframe tbody tr th:only-of-type {\n",
       "        vertical-align: middle;\n",
       "    }\n",
       "\n",
       "    .dataframe tbody tr th {\n",
       "        vertical-align: top;\n",
       "    }\n",
       "\n",
       "    .dataframe thead th {\n",
       "        text-align: right;\n",
       "    }\n",
       "</style>\n",
       "<table border=\"1\" class=\"dataframe\">\n",
       "  <thead>\n",
       "    <tr style=\"text-align: right;\">\n",
       "      <th></th>\n",
       "      <th>children</th>\n",
       "      <th>days_employed</th>\n",
       "      <th>dob_years</th>\n",
       "      <th>education</th>\n",
       "      <th>education_id</th>\n",
       "      <th>family_status</th>\n",
       "      <th>family_status_id</th>\n",
       "      <th>gender</th>\n",
       "      <th>income_type</th>\n",
       "      <th>debt</th>\n",
       "      <th>total_income</th>\n",
       "      <th>purpose</th>\n",
       "    </tr>\n",
       "  </thead>\n",
       "  <tbody>\n",
       "    <tr>\n",
       "      <th>0</th>\n",
       "      <td>1</td>\n",
       "      <td>-8437.673028</td>\n",
       "      <td>42</td>\n",
       "      <td>высшее</td>\n",
       "      <td>0</td>\n",
       "      <td>женат / замужем</td>\n",
       "      <td>0</td>\n",
       "      <td>F</td>\n",
       "      <td>сотрудник</td>\n",
       "      <td>0</td>\n",
       "      <td>253875.639453</td>\n",
       "      <td>покупка жилья</td>\n",
       "    </tr>\n",
       "    <tr>\n",
       "      <th>1</th>\n",
       "      <td>1</td>\n",
       "      <td>-4024.803754</td>\n",
       "      <td>36</td>\n",
       "      <td>среднее</td>\n",
       "      <td>1</td>\n",
       "      <td>женат / замужем</td>\n",
       "      <td>0</td>\n",
       "      <td>F</td>\n",
       "      <td>сотрудник</td>\n",
       "      <td>0</td>\n",
       "      <td>112080.014102</td>\n",
       "      <td>приобретение автомобиля</td>\n",
       "    </tr>\n",
       "    <tr>\n",
       "      <th>2</th>\n",
       "      <td>0</td>\n",
       "      <td>-5623.422610</td>\n",
       "      <td>33</td>\n",
       "      <td>Среднее</td>\n",
       "      <td>1</td>\n",
       "      <td>женат / замужем</td>\n",
       "      <td>0</td>\n",
       "      <td>M</td>\n",
       "      <td>сотрудник</td>\n",
       "      <td>0</td>\n",
       "      <td>145885.952297</td>\n",
       "      <td>покупка жилья</td>\n",
       "    </tr>\n",
       "    <tr>\n",
       "      <th>3</th>\n",
       "      <td>3</td>\n",
       "      <td>-4124.747207</td>\n",
       "      <td>32</td>\n",
       "      <td>среднее</td>\n",
       "      <td>1</td>\n",
       "      <td>женат / замужем</td>\n",
       "      <td>0</td>\n",
       "      <td>M</td>\n",
       "      <td>сотрудник</td>\n",
       "      <td>0</td>\n",
       "      <td>267628.550329</td>\n",
       "      <td>дополнительное образование</td>\n",
       "    </tr>\n",
       "    <tr>\n",
       "      <th>4</th>\n",
       "      <td>0</td>\n",
       "      <td>340266.072047</td>\n",
       "      <td>53</td>\n",
       "      <td>среднее</td>\n",
       "      <td>1</td>\n",
       "      <td>гражданский брак</td>\n",
       "      <td>1</td>\n",
       "      <td>F</td>\n",
       "      <td>пенсионер</td>\n",
       "      <td>0</td>\n",
       "      <td>158616.077870</td>\n",
       "      <td>сыграть свадьбу</td>\n",
       "    </tr>\n",
       "    <tr>\n",
       "      <th>5</th>\n",
       "      <td>0</td>\n",
       "      <td>-926.185831</td>\n",
       "      <td>27</td>\n",
       "      <td>высшее</td>\n",
       "      <td>0</td>\n",
       "      <td>гражданский брак</td>\n",
       "      <td>1</td>\n",
       "      <td>M</td>\n",
       "      <td>компаньон</td>\n",
       "      <td>0</td>\n",
       "      <td>255763.565419</td>\n",
       "      <td>покупка жилья</td>\n",
       "    </tr>\n",
       "    <tr>\n",
       "      <th>6</th>\n",
       "      <td>0</td>\n",
       "      <td>-2879.202052</td>\n",
       "      <td>43</td>\n",
       "      <td>высшее</td>\n",
       "      <td>0</td>\n",
       "      <td>женат / замужем</td>\n",
       "      <td>0</td>\n",
       "      <td>F</td>\n",
       "      <td>компаньон</td>\n",
       "      <td>0</td>\n",
       "      <td>240525.971920</td>\n",
       "      <td>операции с жильем</td>\n",
       "    </tr>\n",
       "    <tr>\n",
       "      <th>7</th>\n",
       "      <td>0</td>\n",
       "      <td>-152.779569</td>\n",
       "      <td>50</td>\n",
       "      <td>СРЕДНЕЕ</td>\n",
       "      <td>1</td>\n",
       "      <td>женат / замужем</td>\n",
       "      <td>0</td>\n",
       "      <td>M</td>\n",
       "      <td>сотрудник</td>\n",
       "      <td>0</td>\n",
       "      <td>135823.934197</td>\n",
       "      <td>образование</td>\n",
       "    </tr>\n",
       "    <tr>\n",
       "      <th>8</th>\n",
       "      <td>2</td>\n",
       "      <td>-6929.865299</td>\n",
       "      <td>35</td>\n",
       "      <td>ВЫСШЕЕ</td>\n",
       "      <td>0</td>\n",
       "      <td>гражданский брак</td>\n",
       "      <td>1</td>\n",
       "      <td>F</td>\n",
       "      <td>сотрудник</td>\n",
       "      <td>0</td>\n",
       "      <td>95856.832424</td>\n",
       "      <td>на проведение свадьбы</td>\n",
       "    </tr>\n",
       "    <tr>\n",
       "      <th>9</th>\n",
       "      <td>0</td>\n",
       "      <td>-2188.756445</td>\n",
       "      <td>41</td>\n",
       "      <td>среднее</td>\n",
       "      <td>1</td>\n",
       "      <td>женат / замужем</td>\n",
       "      <td>0</td>\n",
       "      <td>M</td>\n",
       "      <td>сотрудник</td>\n",
       "      <td>0</td>\n",
       "      <td>144425.938277</td>\n",
       "      <td>покупка жилья для семьи</td>\n",
       "    </tr>\n",
       "  </tbody>\n",
       "</table>\n",
       "</div>"
      ],
      "text/plain": [
       "   children  days_employed  dob_years education  education_id  \\\n",
       "0         1   -8437.673028         42    высшее             0   \n",
       "1         1   -4024.803754         36   среднее             1   \n",
       "2         0   -5623.422610         33   Среднее             1   \n",
       "3         3   -4124.747207         32   среднее             1   \n",
       "4         0  340266.072047         53   среднее             1   \n",
       "5         0    -926.185831         27    высшее             0   \n",
       "6         0   -2879.202052         43    высшее             0   \n",
       "7         0    -152.779569         50   СРЕДНЕЕ             1   \n",
       "8         2   -6929.865299         35    ВЫСШЕЕ             0   \n",
       "9         0   -2188.756445         41   среднее             1   \n",
       "\n",
       "      family_status  family_status_id gender income_type  debt   total_income  \\\n",
       "0   женат / замужем                 0      F   сотрудник     0  253875.639453   \n",
       "1   женат / замужем                 0      F   сотрудник     0  112080.014102   \n",
       "2   женат / замужем                 0      M   сотрудник     0  145885.952297   \n",
       "3   женат / замужем                 0      M   сотрудник     0  267628.550329   \n",
       "4  гражданский брак                 1      F   пенсионер     0  158616.077870   \n",
       "5  гражданский брак                 1      M   компаньон     0  255763.565419   \n",
       "6   женат / замужем                 0      F   компаньон     0  240525.971920   \n",
       "7   женат / замужем                 0      M   сотрудник     0  135823.934197   \n",
       "8  гражданский брак                 1      F   сотрудник     0   95856.832424   \n",
       "9   женат / замужем                 0      M   сотрудник     0  144425.938277   \n",
       "\n",
       "                      purpose  \n",
       "0               покупка жилья  \n",
       "1     приобретение автомобиля  \n",
       "2               покупка жилья  \n",
       "3  дополнительное образование  \n",
       "4             сыграть свадьбу  \n",
       "5               покупка жилья  \n",
       "6           операции с жильем  \n",
       "7                 образование  \n",
       "8       на проведение свадьбы  \n",
       "9     покупка жилья для семьи  "
      ]
     },
     "execution_count": 1,
     "metadata": {},
     "output_type": "execute_result"
    }
   ],
   "source": [
    "# импорт библиотеки pandas\n",
    "# чтение файла с данными и сохранение в data\n",
    "# получение первых 10 строк таблицы data\n",
    "import pandas as pd\n",
    "\n",
    "data = pd.read_csv('/datasets/data.csv')\n",
    "data.head(10)"
   ]
  },
  {
   "cell_type": "code",
   "execution_count": 2,
   "id": "0345da55",
   "metadata": {},
   "outputs": [
    {
     "name": "stdout",
     "output_type": "stream",
     "text": [
      "<class 'pandas.core.frame.DataFrame'>\n",
      "RangeIndex: 21525 entries, 0 to 21524\n",
      "Data columns (total 12 columns):\n",
      " #   Column            Non-Null Count  Dtype  \n",
      "---  ------            --------------  -----  \n",
      " 0   children          21525 non-null  int64  \n",
      " 1   days_employed     19351 non-null  float64\n",
      " 2   dob_years         21525 non-null  int64  \n",
      " 3   education         21525 non-null  object \n",
      " 4   education_id      21525 non-null  int64  \n",
      " 5   family_status     21525 non-null  object \n",
      " 6   family_status_id  21525 non-null  int64  \n",
      " 7   gender            21525 non-null  object \n",
      " 8   income_type       21525 non-null  object \n",
      " 9   debt              21525 non-null  int64  \n",
      " 10  total_income      19351 non-null  float64\n",
      " 11  purpose           21525 non-null  object \n",
      "dtypes: float64(2), int64(5), object(5)\n",
      "memory usage: 2.0+ MB\n"
     ]
    }
   ],
   "source": [
    "# получение общей информации о данных в таблице data\n",
    "data.info()"
   ]
  },
  {
   "cell_type": "markdown",
   "id": "d53f0163",
   "metadata": {},
   "source": [
    "В таблице 12 столбцов.\n",
    "\n",
    "Описание данных\n",
    "* `children` — количество детей в семье\n",
    "* `days_employed` — общий трудовой стаж в днях\n",
    "* `dob_years` — возраст клиента в годах\n",
    "* `education` — уровень образования клиента\n",
    "* `education_id` — идентификатор уровня образования\n",
    "* `family_status` — семейное положение\n",
    "* `family_status_id` — идентификатор семейного положения\n",
    "* `gender` — пол клиента\n",
    "* `income_type` — тип занятости\n",
    "* `debt` — имел ли задолженность по возврату кредитов\n",
    "* `total_income` — ежемесячный доход\n",
    "* `purpose` — цель получения кредита\n",
    "    \n",
    "В данных есть некоторые нарушения:\n",
    "1. Общий трудовой стаж в днях указан с отрицательным значением.\n",
    "2. Трудовой стаж в днях, поэтому тип данных должен быть int, а не float.\n",
    "3. В столбце уровень образования клиента указаны значения с разными регистрами.\n",
    "    \n",
    "Количество значений в столбцах различается. Значит, в данных есть пропущенные значения."
   ]
  },
  {
   "cell_type": "markdown",
   "id": "0d6601e8",
   "metadata": {},
   "source": [
    "Предварительно можно утверждать, что, данных достаточно для проверки гипотез. Но встречаются пропуски в данных, неявные дубликаты и анамальные значения.\n",
    "\n",
    "Чтобы двигаться дальше, нужно устранить проблемы в данных."
   ]
  },
  {
   "cell_type": "markdown",
   "id": "30ca758a",
   "metadata": {},
   "source": [
    "### Шаг 2.1 Заполнение пропусков"
   ]
  },
  {
   "cell_type": "code",
   "execution_count": 3,
   "id": "f3ee0133",
   "metadata": {},
   "outputs": [
    {
     "data": {
      "text/plain": [
       "children               0\n",
       "days_employed       2174\n",
       "dob_years              0\n",
       "education              0\n",
       "education_id           0\n",
       "family_status          0\n",
       "family_status_id       0\n",
       "gender                 0\n",
       "income_type            0\n",
       "debt                   0\n",
       "total_income        2174\n",
       "purpose                0\n",
       "dtype: int64"
      ]
     },
     "execution_count": 3,
     "metadata": {},
     "output_type": "execute_result"
    }
   ],
   "source": [
    "# количество пропусков\n",
    "data.isna().sum()"
   ]
  },
  {
   "cell_type": "code",
   "execution_count": 4,
   "id": "e5b98da9",
   "metadata": {},
   "outputs": [
    {
     "name": "stdout",
     "output_type": "stream",
     "text": [
      "Пропущено 10% от всех данных\n"
     ]
    }
   ],
   "source": [
    "# доля пропусков\n",
    "d = data['days_employed'].isna().sum() / len(data['income_type'])\n",
    "print(f'Пропущено {d:.0%} от всех данных')"
   ]
  },
  {
   "cell_type": "markdown",
   "id": "93177015",
   "metadata": {},
   "source": [
    "В столбцах `days_employed` и `total_income` одинаковое количество пропущенных значений, возможно они безработные, студенты или пенсионеры. Значения стажа и доходов пропущено 2174 раза, это 10% от всех значений датафрейма в котором 21525 строк. Это довольно большая часть данных и их удаление может повлиять на результат. Поэтому лучше заменить их на средние или медианное значение. В столбце со стажем присутствуют как слишком большие значения, так и слишком маленькие, поэтому предпочтительней заменить пропуски медианной."
   ]
  },
  {
   "cell_type": "code",
   "execution_count": 5,
   "id": "88211057",
   "metadata": {},
   "outputs": [
    {
     "data": {
      "text/plain": [
       "children            0\n",
       "days_employed       0\n",
       "dob_years           0\n",
       "education           0\n",
       "education_id        0\n",
       "family_status       0\n",
       "family_status_id    0\n",
       "gender              0\n",
       "income_type         0\n",
       "debt                0\n",
       "total_income        0\n",
       "purpose             0\n",
       "dtype: int64"
      ]
     },
     "execution_count": 5,
     "metadata": {},
     "output_type": "execute_result"
    }
   ],
   "source": [
    "# присвоение пропускам значение медианны и проверка результата\n",
    "data.loc[data['days_employed'].isna(), 'days_employed'] = data.groupby('dob_years')['days_employed'].transform('median')\n",
    "data.loc[data['total_income'].isna(), 'total_income'] = data.groupby('income_type')['total_income'].transform('median')\n",
    "data.isna().sum()"
   ]
  },
  {
   "cell_type": "markdown",
   "id": "21f63efe",
   "metadata": {},
   "source": [
    "Пропусков в данных больше нет."
   ]
  },
  {
   "cell_type": "markdown",
   "id": "265dfd36",
   "metadata": {},
   "source": [
    "<a id='2.2'></a>\n",
    "### Шаг 2.2 Проверка данных на аномалии и исправления."
   ]
  },
  {
   "cell_type": "markdown",
   "id": "b0de4a7f",
   "metadata": {},
   "source": [
    "Мы уже заметили, что в данных есть аномалии.\n",
    "\n",
    "* В `days_employed` отрицательные значения.\n",
    "* В столбце `education` указаны значения с разными регистрами.\n",
    "* Общий трудовой стаж в днях `days_employed` и `total_income` указан в **float**, а не в **int**.\n",
    "\n",
    "Нужно проверить другие значения столбцов."
   ]
  },
  {
   "cell_type": "code",
   "execution_count": 38,
   "id": "b1c30bf9",
   "metadata": {
    "scrolled": true
   },
   "outputs": [
    {
     "name": "stdout",
     "output_type": "stream",
     "text": [
      "children [ 1  0  3  2 -1  4 20  5]\n",
      "days_employed [-8437.67302776 -4024.80375385 -5623.42261023 ... -2113.3468877\n",
      " -3112.4817052  -1984.50758853]\n",
      "dob_years [42 36 33 32 53 27 43 50 35 41 40 65 54 56 26 48 24 21 57 67 28 63 62 47\n",
      " 34 68 25 31 30 20 49 37 45 61 64 44 52 46 23 38 39 51  0 59 29 60 55 58\n",
      " 71 22 73 66 69 19 72 70 74 75]\n",
      "education ['высшее' 'среднее' 'Среднее' 'СРЕДНЕЕ' 'ВЫСШЕЕ' 'неоконченное высшее'\n",
      " 'начальное' 'Высшее' 'НЕОКОНЧЕННОЕ ВЫСШЕЕ' 'Неоконченное высшее'\n",
      " 'НАЧАЛЬНОЕ' 'Начальное' 'Ученая степень' 'УЧЕНАЯ СТЕПЕНЬ'\n",
      " 'ученая степень']\n",
      "education_id [0 1 2 3 4]\n",
      "family_status ['женат / замужем' 'гражданский брак' 'вдовец / вдова' 'в разводе'\n",
      " 'Не женат / не замужем']\n",
      "family_status_id [0 1 2 3 4]\n",
      "gender ['F' 'M' 'XNA']\n",
      "income_type ['сотрудник' 'пенсионер' 'компаньон' 'госслужащий' 'безработный'\n",
      " 'предприниматель' 'студент' 'в декрете']\n",
      "debt [0 1]\n",
      "total_income [253875.6394526  112080.01410244 145885.95229686 ...  89672.56115303\n",
      " 244093.05050043  82047.41889948]\n",
      "purpose ['покупка жилья' 'приобретение автомобиля' 'дополнительное образование'\n",
      " 'сыграть свадьбу' 'операции с жильем' 'образование'\n",
      " 'на проведение свадьбы' 'покупка жилья для семьи' 'покупка недвижимости'\n",
      " 'покупка коммерческой недвижимости' 'покупка жилой недвижимости'\n",
      " 'строительство собственной недвижимости' 'недвижимость'\n",
      " 'строительство недвижимости' 'на покупку подержанного автомобиля'\n",
      " 'на покупку своего автомобиля' 'операции с коммерческой недвижимостью'\n",
      " 'строительство жилой недвижимости' 'жилье'\n",
      " 'операции со своей недвижимостью' 'автомобили' 'заняться образованием'\n",
      " 'сделка с подержанным автомобилем' 'получение образования' 'автомобиль'\n",
      " 'свадьба' 'получение дополнительного образования' 'покупка своего жилья'\n",
      " 'операции с недвижимостью' 'получение высшего образования'\n",
      " 'свой автомобиль' 'сделка с автомобилем' 'профильное образование'\n",
      " 'высшее образование' 'покупка жилья для сдачи' 'на покупку автомобиля'\n",
      " 'ремонт жилью' 'заняться высшим образованием']\n"
     ]
    }
   ],
   "source": [
    "# вывод уникальных значений каждого столбца\n",
    "data_columns = ['children', 'days_employed', 'dob_years', 'education', 'education_id', 'family_status', \n",
    "                'family_status_id', 'gender', 'income_type', 'debt', 'total_income', 'purpose']\n",
    "\n",
    "for i in data_columns:\n",
    "    print( i, data[i].unique())"
   ]
  },
  {
   "cell_type": "markdown",
   "id": "d1f707a4",
   "metadata": {},
   "source": [
    "Уникальных значений в столбцах `days_employed` и `total_income` слишком много, посмотрим их описательную статистику."
   ]
  },
  {
   "cell_type": "code",
   "execution_count": 39,
   "id": "4aeb7e07",
   "metadata": {
    "scrolled": false
   },
   "outputs": [
    {
     "data": {
      "text/plain": [
       "count     21525.000000\n",
       "mean      63148.314919\n",
       "std      140396.274477\n",
       "min      -18388.949901\n",
       "25%       -2518.168900\n",
       "50%       -1264.627031\n",
       "75%        -316.741572\n",
       "max      401755.400475\n",
       "Name: days_employed, dtype: float64"
      ]
     },
     "execution_count": 39,
     "metadata": {},
     "output_type": "execute_result"
    },
    {
     "data": {
      "image/png": "[encoded data removed]",
      "text/plain": [
       "<Figure size 432x288 with 1 Axes>"
      ]
     },
     "metadata": {
      "needs_background": "light"
     },
     "output_type": "display_data"
    }
   ],
   "source": [
    "data['days_employed'].hist(bins=100)\n",
    "data['days_employed'].describe()"
   ]
  },
  {
   "cell_type": "code",
   "execution_count": 40,
   "id": "78922938",
   "metadata": {},
   "outputs": [
    {
     "data": {
      "text/plain": [
       "count    2.152500e+04\n",
       "mean     1.652253e+05\n",
       "std      9.804367e+04\n",
       "min      2.066726e+04\n",
       "25%      1.077982e+05\n",
       "50%      1.425944e+05\n",
       "75%      1.955499e+05\n",
       "max      2.265604e+06\n",
       "Name: total_income, dtype: float64"
      ]
     },
     "execution_count": 40,
     "metadata": {},
     "output_type": "execute_result"
    },
    {
     "data": {
      "image/png": "[encoded data removed]",
      "text/plain": [
       "<Figure size 432x288 with 1 Axes>"
      ]
     },
     "metadata": {
      "needs_background": "light"
     },
     "output_type": "display_data"
    }
   ],
   "source": [
    "data['total_income'].hist(bins=100)\n",
    "data['total_income'].describe()"
   ]
  },
  {
   "cell_type": "markdown",
   "id": "50bd3eef",
   "metadata": {},
   "source": [
    "Помимо [ранее](#2.2) описанных аномалий, после просмотра всех уникальных значений столбцов, были выевлены следующие:\n",
    "1. Количество детей не может быть -1 и 20 детей маловероятно.\n",
    "2. Имеются клиенты с возростом 0.\n",
    "\n",
    "Сейчас мы это тоже исправим."
   ]
  },
  {
   "cell_type": "markdown",
   "id": "059ac9cf",
   "metadata": {},
   "source": [
    "В столбце `children` встречается значение 20. Заменим на 2 и проверим результат."
   ]
  },
  {
   "cell_type": "code",
   "execution_count": 41,
   "id": "2cb4e95b",
   "metadata": {},
   "outputs": [
    {
     "data": {
      "text/plain": [
       "array([ 1,  0,  3,  2, -1,  4,  5])"
      ]
     },
     "execution_count": 41,
     "metadata": {},
     "output_type": "execute_result"
    }
   ],
   "source": [
    "# замена значения дети с 20 на 2\n",
    "data['children'] = data['children'].replace(20, 2)\n",
    "data['children'].unique()"
   ]
  },
  {
   "cell_type": "code",
   "execution_count": 42,
   "id": "d3115ad1",
   "metadata": {
    "scrolled": true
   },
   "outputs": [
    {
     "data": {
      "text/html": [
       "<div>\n",
       "<style scoped>\n",
       "    .dataframe tbody tr th:only-of-type {\n",
       "        vertical-align: middle;\n",
       "    }\n",
       "\n",
       "    .dataframe tbody tr th {\n",
       "        vertical-align: top;\n",
       "    }\n",
       "\n",
       "    .dataframe thead th {\n",
       "        text-align: right;\n",
       "    }\n",
       "</style>\n",
       "<table border=\"1\" class=\"dataframe\">\n",
       "  <thead>\n",
       "    <tr style=\"text-align: right;\">\n",
       "      <th></th>\n",
       "      <th>children</th>\n",
       "      <th>days_employed</th>\n",
       "      <th>dob_years</th>\n",
       "      <th>education</th>\n",
       "      <th>education_id</th>\n",
       "      <th>family_status</th>\n",
       "      <th>family_status_id</th>\n",
       "      <th>gender</th>\n",
       "      <th>income_type</th>\n",
       "      <th>debt</th>\n",
       "      <th>total_income</th>\n",
       "      <th>purpose</th>\n",
       "    </tr>\n",
       "  </thead>\n",
       "  <tbody>\n",
       "    <tr>\n",
       "      <th>0</th>\n",
       "      <td>1</td>\n",
       "      <td>8437.673028</td>\n",
       "      <td>42</td>\n",
       "      <td>высшее</td>\n",
       "      <td>0</td>\n",
       "      <td>женат / замужем</td>\n",
       "      <td>0</td>\n",
       "      <td>F</td>\n",
       "      <td>сотрудник</td>\n",
       "      <td>0</td>\n",
       "      <td>253875.639453</td>\n",
       "      <td>покупка жилья</td>\n",
       "    </tr>\n",
       "    <tr>\n",
       "      <th>1</th>\n",
       "      <td>1</td>\n",
       "      <td>4024.803754</td>\n",
       "      <td>36</td>\n",
       "      <td>среднее</td>\n",
       "      <td>1</td>\n",
       "      <td>женат / замужем</td>\n",
       "      <td>0</td>\n",
       "      <td>F</td>\n",
       "      <td>сотрудник</td>\n",
       "      <td>0</td>\n",
       "      <td>112080.014102</td>\n",
       "      <td>приобретение автомобиля</td>\n",
       "    </tr>\n",
       "    <tr>\n",
       "      <th>2</th>\n",
       "      <td>0</td>\n",
       "      <td>5623.422610</td>\n",
       "      <td>33</td>\n",
       "      <td>Среднее</td>\n",
       "      <td>1</td>\n",
       "      <td>женат / замужем</td>\n",
       "      <td>0</td>\n",
       "      <td>M</td>\n",
       "      <td>сотрудник</td>\n",
       "      <td>0</td>\n",
       "      <td>145885.952297</td>\n",
       "      <td>покупка жилья</td>\n",
       "    </tr>\n",
       "    <tr>\n",
       "      <th>3</th>\n",
       "      <td>3</td>\n",
       "      <td>4124.747207</td>\n",
       "      <td>32</td>\n",
       "      <td>среднее</td>\n",
       "      <td>1</td>\n",
       "      <td>женат / замужем</td>\n",
       "      <td>0</td>\n",
       "      <td>M</td>\n",
       "      <td>сотрудник</td>\n",
       "      <td>0</td>\n",
       "      <td>267628.550329</td>\n",
       "      <td>дополнительное образование</td>\n",
       "    </tr>\n",
       "    <tr>\n",
       "      <th>4</th>\n",
       "      <td>0</td>\n",
       "      <td>340266.072047</td>\n",
       "      <td>53</td>\n",
       "      <td>среднее</td>\n",
       "      <td>1</td>\n",
       "      <td>гражданский брак</td>\n",
       "      <td>1</td>\n",
       "      <td>F</td>\n",
       "      <td>пенсионер</td>\n",
       "      <td>0</td>\n",
       "      <td>158616.077870</td>\n",
       "      <td>сыграть свадьбу</td>\n",
       "    </tr>\n",
       "  </tbody>\n",
       "</table>\n",
       "</div>"
      ],
      "text/plain": [
       "   children  days_employed  dob_years education  education_id  \\\n",
       "0         1    8437.673028         42    высшее             0   \n",
       "1         1    4024.803754         36   среднее             1   \n",
       "2         0    5623.422610         33   Среднее             1   \n",
       "3         3    4124.747207         32   среднее             1   \n",
       "4         0  340266.072047         53   среднее             1   \n",
       "\n",
       "      family_status  family_status_id gender income_type  debt   total_income  \\\n",
       "0   женат / замужем                 0      F   сотрудник     0  253875.639453   \n",
       "1   женат / замужем                 0      F   сотрудник     0  112080.014102   \n",
       "2   женат / замужем                 0      M   сотрудник     0  145885.952297   \n",
       "3   женат / замужем                 0      M   сотрудник     0  267628.550329   \n",
       "4  гражданский брак                 1      F   пенсионер     0  158616.077870   \n",
       "\n",
       "                      purpose  \n",
       "0               покупка жилья  \n",
       "1     приобретение автомобиля  \n",
       "2               покупка жилья  \n",
       "3  дополнительное образование  \n",
       "4             сыграть свадьбу  "
      ]
     },
     "execution_count": 42,
     "metadata": {},
     "output_type": "execute_result"
    }
   ],
   "source": [
    "# исправим отрицательные значения в стаже и количестве детей\n",
    "data[['days_employed', 'children']] = data[['days_employed', 'children']].abs()\n",
    "data.head()"
   ]
  },
  {
   "cell_type": "markdown",
   "id": "097c3f4e",
   "metadata": {},
   "source": [
    "Столбец `dob_years` содержит ноль. Посчитаем их количество и заменим средним значением."
   ]
  },
  {
   "cell_type": "code",
   "execution_count": 43,
   "id": "e88660c3",
   "metadata": {},
   "outputs": [
    {
     "data": {
      "text/plain": [
       "101"
      ]
     },
     "execution_count": 43,
     "metadata": {},
     "output_type": "execute_result"
    }
   ],
   "source": [
    "#количество 0\n",
    "data[data['dob_years'] == 0]['dob_years'].count()"
   ]
  },
  {
   "cell_type": "code",
   "execution_count": 44,
   "id": "98bd8b1f",
   "metadata": {},
   "outputs": [
    {
     "data": {
      "text/html": [
       "<div>\n",
       "<style scoped>\n",
       "    .dataframe tbody tr th:only-of-type {\n",
       "        vertical-align: middle;\n",
       "    }\n",
       "\n",
       "    .dataframe tbody tr th {\n",
       "        vertical-align: top;\n",
       "    }\n",
       "\n",
       "    .dataframe thead th {\n",
       "        text-align: right;\n",
       "    }\n",
       "</style>\n",
       "<table border=\"1\" class=\"dataframe\">\n",
       "  <thead>\n",
       "    <tr style=\"text-align: right;\">\n",
       "      <th></th>\n",
       "      <th>dob_years</th>\n",
       "    </tr>\n",
       "    <tr>\n",
       "      <th>income_type</th>\n",
       "      <th></th>\n",
       "    </tr>\n",
       "  </thead>\n",
       "  <tbody>\n",
       "    <tr>\n",
       "      <th>безработный</th>\n",
       "      <td>38.000000</td>\n",
       "    </tr>\n",
       "    <tr>\n",
       "      <th>в декрете</th>\n",
       "      <td>39.000000</td>\n",
       "    </tr>\n",
       "    <tr>\n",
       "      <th>госслужащий</th>\n",
       "      <td>40.636737</td>\n",
       "    </tr>\n",
       "    <tr>\n",
       "      <th>компаньон</th>\n",
       "      <td>39.697542</td>\n",
       "    </tr>\n",
       "    <tr>\n",
       "      <th>пенсионер</th>\n",
       "      <td>59.063019</td>\n",
       "    </tr>\n",
       "    <tr>\n",
       "      <th>предприниматель</th>\n",
       "      <td>42.500000</td>\n",
       "    </tr>\n",
       "    <tr>\n",
       "      <th>сотрудник</th>\n",
       "      <td>39.821027</td>\n",
       "    </tr>\n",
       "    <tr>\n",
       "      <th>студент</th>\n",
       "      <td>22.000000</td>\n",
       "    </tr>\n",
       "  </tbody>\n",
       "</table>\n",
       "</div>"
      ],
      "text/plain": [
       "                 dob_years\n",
       "income_type               \n",
       "безработный      38.000000\n",
       "в декрете        39.000000\n",
       "госслужащий      40.636737\n",
       "компаньон        39.697542\n",
       "пенсионер        59.063019\n",
       "предприниматель  42.500000\n",
       "сотрудник        39.821027\n",
       "студент          22.000000"
      ]
     },
     "execution_count": 44,
     "metadata": {},
     "output_type": "execute_result"
    }
   ],
   "source": [
    "# узнаем среднее значение возраста в каждом типе занятости\n",
    "data.pivot_table(index='income_type', values='dob_years', aggfunc='mean')"
   ]
  },
  {
   "cell_type": "markdown",
   "id": "25f51377",
   "metadata": {},
   "source": [
    "Столбец `dob_years` типа **int**, поэтому впишем целые числа. Обычно считаются полные года, а не 39.6 лет. Поэтому смело округлим в меньшую сторону."
   ]
  },
  {
   "cell_type": "code",
   "execution_count": 45,
   "id": "769a639c",
   "metadata": {},
   "outputs": [
    {
     "data": {
      "text/plain": [
       "0"
      ]
     },
     "execution_count": 45,
     "metadata": {},
     "output_type": "execute_result"
    }
   ],
   "source": [
    "# заменяем 0 на среднее значение и проверим результат\n",
    "data.loc[(data['income_type'] == 'безработный ') & (data['dob_years'] == 0), 'dob_years'] = 38\n",
    "data.loc[(data['income_type'] == 'в декрете') & (data['dob_years'] == 0), 'dob_years'] = 39\n",
    "data.loc[(data['income_type'] == 'госслужащий') & (data['dob_years'] == 0), 'dob_years'] = 40\n",
    "data.loc[(data['income_type'] == 'компаньон') & (data['dob_years'] == 0), 'dob_years'] = 39\n",
    "data.loc[(data['income_type'] == 'пенсионер') & (data['dob_years'] == 0), 'dob_years'] = 60\n",
    "data.loc[(data['income_type'] == 'предприниматель') & (data['dob_years'] == 0), 'dob_years'] = 42\n",
    "data.loc[(data['income_type'] == 'сотрудник') & (data['dob_years'] == 0), 'dob_years'] = 39\n",
    "data.loc[(data['income_type'] == 'студент') & (data['dob_years'] == 0), 'dob_years'] = 22\n",
    "\n",
    "\n",
    "data[data['dob_years'] == 0]['dob_years'].count()"
   ]
  },
  {
   "cell_type": "markdown",
   "id": "d52d658c",
   "metadata": {},
   "source": [
    "В столбце `days_employed` есть значения стажа больше 800 лет. Посчитаем их количество и решим, что с ними делать."
   ]
  },
  {
   "cell_type": "code",
   "execution_count": 46,
   "id": "81b8e9a9",
   "metadata": {},
   "outputs": [
    {
     "data": {
      "text/plain": [
       "3853"
      ]
     },
     "execution_count": 46,
     "metadata": {},
     "output_type": "execute_result"
    }
   ],
   "source": [
    "data[data['days_employed'] > 30000]['days_employed'].count()"
   ]
  },
  {
   "cell_type": "markdown",
   "id": "ab4e240d",
   "metadata": {},
   "source": [
    "Аномальных значений слишком много, что бы от них отказаться. Заменим медианными значениями."
   ]
  },
  {
   "cell_type": "code",
   "execution_count": 47,
   "id": "36b6e435",
   "metadata": {},
   "outputs": [],
   "source": [
    "# уберем значения больше 30000 дней\n",
    "# появившиеся пустые значения, заменим медианным\n",
    "data['days_employed'] = (\n",
    "    data['days_employed']\n",
    "    .where(data['days_employed'] < 30000)\n",
    ")\n",
    "data.loc[data['days_employed'].isna(), 'days_employed'] = (\n",
    "    data.groupby('dob_years')['days_employed']\n",
    "    .transform('median')\n",
    ")"
   ]
  },
  {
   "cell_type": "markdown",
   "id": "bf71564e",
   "metadata": {},
   "source": [
    "Проверим результат."
   ]
  },
  {
   "cell_type": "code",
   "execution_count": 48,
   "id": "93ca7c7e",
   "metadata": {},
   "outputs": [
    {
     "data": {
      "text/plain": [
       "count    21525.000000\n",
       "mean      2299.522173\n",
       "std       2027.354247\n",
       "min         24.141633\n",
       "25%        974.845642\n",
       "50%       1832.564621\n",
       "75%       2911.913670\n",
       "max      18388.949901\n",
       "Name: days_employed, dtype: float64"
      ]
     },
     "execution_count": 48,
     "metadata": {},
     "output_type": "execute_result"
    },
    {
     "data": {
      "image/png": "[encoded data removed]",
      "text/plain": [
       "<Figure size 432x288 with 1 Axes>"
      ]
     },
     "metadata": {
      "needs_background": "light"
     },
     "output_type": "display_data"
    }
   ],
   "source": [
    "data['days_employed'].hist(bins=100)\n",
    "data['days_employed'].describe()"
   ]
  },
  {
   "cell_type": "markdown",
   "id": "01294e7b",
   "metadata": {},
   "source": [
    "Теперь максимальный стаж около 50 лет. Выглядит правдоподобно."
   ]
  },
  {
   "cell_type": "markdown",
   "id": "18298aad",
   "metadata": {},
   "source": [
    "В столбцах `education` и `family_status` значение с разными регистрами. Приведем к единому строчному регистру и проверим результат."
   ]
  },
  {
   "cell_type": "code",
   "execution_count": 49,
   "id": "c5338353",
   "metadata": {},
   "outputs": [
    {
     "data": {
      "text/plain": [
       "array(['высшее', 'среднее', 'неоконченное высшее', 'начальное',\n",
       "       'ученая степень'], dtype=object)"
      ]
     },
     "metadata": {},
     "output_type": "display_data"
    },
    {
     "data": {
      "text/plain": [
       "array(['женат / замужем', 'гражданский брак', 'вдовец / вдова',\n",
       "       'в разводе', 'не женат / не замужем'], dtype=object)"
      ]
     },
     "metadata": {},
     "output_type": "display_data"
    }
   ],
   "source": [
    "# строчный регистр и вывод результата\n",
    "data['education'] = data['education'].str.lower()\n",
    "data['family_status'] = data['family_status'].str.lower()\n",
    "display(data['education'].unique(), data['family_status'].unique())"
   ]
  },
  {
   "cell_type": "markdown",
   "id": "b06165d0",
   "metadata": {},
   "source": [
    "Столбец `gender` содержит значение **XNA**. Узнаем количество пропущенных значений."
   ]
  },
  {
   "cell_type": "code",
   "execution_count": 50,
   "id": "d714d449",
   "metadata": {},
   "outputs": [
    {
     "data": {
      "text/plain": [
       "1"
      ]
     },
     "execution_count": 50,
     "metadata": {},
     "output_type": "execute_result"
    }
   ],
   "source": [
    "data[data['gender'] == 'XNA']['gender'].count()"
   ]
  },
  {
   "cell_type": "markdown",
   "id": "2bc25acb",
   "metadata": {},
   "source": [
    "Значение встречается только один раз. Можно его исключить из анализа, на результат это не повлияет."
   ]
  },
  {
   "cell_type": "code",
   "execution_count": 51,
   "id": "e3a6667b",
   "metadata": {},
   "outputs": [
    {
     "data": {
      "text/plain": [
       "array(['F', 'M'], dtype=object)"
      ]
     },
     "execution_count": 51,
     "metadata": {},
     "output_type": "execute_result"
    }
   ],
   "source": [
    "data = data[data['gender'] != 'XNA']\n",
    "data['gender'].unique()"
   ]
  },
  {
   "cell_type": "markdown",
   "id": "8f75672c",
   "metadata": {},
   "source": [
    "### Шаг 2.3. Изменение типов данных."
   ]
  },
  {
   "cell_type": "markdown",
   "id": "0dc2aaff",
   "metadata": {},
   "source": [
    "Столбцы `days_employed` и `total_income` приведем к целочисленным значениям."
   ]
  },
  {
   "cell_type": "code",
   "execution_count": 52,
   "id": "c32957ea",
   "metadata": {},
   "outputs": [
    {
     "data": {
      "text/plain": [
       "children             int64\n",
       "days_employed        int64\n",
       "dob_years            int64\n",
       "education           object\n",
       "education_id         int64\n",
       "family_status       object\n",
       "family_status_id     int64\n",
       "gender              object\n",
       "income_type         object\n",
       "debt                 int64\n",
       "total_income         int64\n",
       "purpose             object\n",
       "dtype: object"
      ]
     },
     "execution_count": 52,
     "metadata": {},
     "output_type": "execute_result"
    }
   ],
   "source": [
    "# изменим тип данных и проверим результат\n",
    "data['days_employed'] = data['days_employed'].astype('int')\n",
    "data['total_income'] = data['total_income'].astype('int')\n",
    "data.dtypes"
   ]
  },
  {
   "cell_type": "markdown",
   "id": "b73b842f",
   "metadata": {},
   "source": [
    "### Шаг 2.4. Удаление дубликатов."
   ]
  },
  {
   "cell_type": "markdown",
   "id": "6114624b",
   "metadata": {},
   "source": [
    "Посчитаем количество дубликатов."
   ]
  },
  {
   "cell_type": "code",
   "execution_count": 53,
   "id": "2d444332",
   "metadata": {},
   "outputs": [
    {
     "data": {
      "text/plain": [
       "71"
      ]
     },
     "execution_count": 53,
     "metadata": {},
     "output_type": "execute_result"
    }
   ],
   "source": [
    "data.duplicated().sum()"
   ]
  },
  {
   "cell_type": "markdown",
   "id": "7527be7b",
   "metadata": {},
   "source": [
    "Дубликаты могли появиться из-за технических ошибок или человеческого фактора.\n",
    "Но если мы говорим о кредите, то клиент мог его рефинансировать. В таком случае все данные, из преставленных нам, остануться прежними, а его сново занесут в базу данных.\n",
    "\n",
    "Избавимся от дубликатов и проверим результат."
   ]
  },
  {
   "cell_type": "code",
   "execution_count": 54,
   "id": "e2ef64a2",
   "metadata": {},
   "outputs": [
    {
     "data": {
      "text/plain": [
       "0"
      ]
     },
     "execution_count": 54,
     "metadata": {},
     "output_type": "execute_result"
    }
   ],
   "source": [
    "data = data.drop_duplicates().reset_index(drop=True)\n",
    "data.duplicated().sum()"
   ]
  },
  {
   "cell_type": "markdown",
   "id": "a60fb9f8",
   "metadata": {},
   "source": [
    "### Шаг 2.5. Формирование дополнительных датафреймов словарей, декомпозиция исходного датафрейма."
   ]
  },
  {
   "cell_type": "markdown",
   "id": "9f91331a",
   "metadata": {},
   "source": [
    "Создадим два новых датафрейма со столбцами:\n",
    "\n",
    "* `education_id` и `education` — в первом;\n",
    "* `family_status_id` и `family_status` — во втором."
   ]
  },
  {
   "cell_type": "code",
   "execution_count": 55,
   "id": "7dee4855",
   "metadata": {},
   "outputs": [
    {
     "data": {
      "text/html": [
       "<div>\n",
       "<style scoped>\n",
       "    .dataframe tbody tr th:only-of-type {\n",
       "        vertical-align: middle;\n",
       "    }\n",
       "\n",
       "    .dataframe tbody tr th {\n",
       "        vertical-align: top;\n",
       "    }\n",
       "\n",
       "    .dataframe thead th {\n",
       "        text-align: right;\n",
       "    }\n",
       "</style>\n",
       "<table border=\"1\" class=\"dataframe\">\n",
       "  <thead>\n",
       "    <tr style=\"text-align: right;\">\n",
       "      <th></th>\n",
       "      <th>education_id</th>\n",
       "      <th>education</th>\n",
       "    </tr>\n",
       "  </thead>\n",
       "  <tbody>\n",
       "    <tr>\n",
       "      <th>0</th>\n",
       "      <td>0</td>\n",
       "      <td>высшее</td>\n",
       "    </tr>\n",
       "    <tr>\n",
       "      <th>1</th>\n",
       "      <td>1</td>\n",
       "      <td>среднее</td>\n",
       "    </tr>\n",
       "    <tr>\n",
       "      <th>2</th>\n",
       "      <td>2</td>\n",
       "      <td>неоконченное высшее</td>\n",
       "    </tr>\n",
       "    <tr>\n",
       "      <th>3</th>\n",
       "      <td>3</td>\n",
       "      <td>начальное</td>\n",
       "    </tr>\n",
       "    <tr>\n",
       "      <th>4</th>\n",
       "      <td>4</td>\n",
       "      <td>ученая степень</td>\n",
       "    </tr>\n",
       "  </tbody>\n",
       "</table>\n",
       "</div>"
      ],
      "text/plain": [
       "   education_id            education\n",
       "0             0               высшее\n",
       "1             1              среднее\n",
       "2             2  неоконченное высшее\n",
       "3             3            начальное\n",
       "4             4       ученая степень"
      ]
     },
     "metadata": {},
     "output_type": "display_data"
    },
    {
     "data": {
      "text/html": [
       "<div>\n",
       "<style scoped>\n",
       "    .dataframe tbody tr th:only-of-type {\n",
       "        vertical-align: middle;\n",
       "    }\n",
       "\n",
       "    .dataframe tbody tr th {\n",
       "        vertical-align: top;\n",
       "    }\n",
       "\n",
       "    .dataframe thead th {\n",
       "        text-align: right;\n",
       "    }\n",
       "</style>\n",
       "<table border=\"1\" class=\"dataframe\">\n",
       "  <thead>\n",
       "    <tr style=\"text-align: right;\">\n",
       "      <th></th>\n",
       "      <th>family_status_id</th>\n",
       "      <th>family_status</th>\n",
       "    </tr>\n",
       "  </thead>\n",
       "  <tbody>\n",
       "    <tr>\n",
       "      <th>0</th>\n",
       "      <td>0</td>\n",
       "      <td>женат / замужем</td>\n",
       "    </tr>\n",
       "    <tr>\n",
       "      <th>1</th>\n",
       "      <td>1</td>\n",
       "      <td>гражданский брак</td>\n",
       "    </tr>\n",
       "    <tr>\n",
       "      <th>2</th>\n",
       "      <td>2</td>\n",
       "      <td>вдовец / вдова</td>\n",
       "    </tr>\n",
       "    <tr>\n",
       "      <th>3</th>\n",
       "      <td>3</td>\n",
       "      <td>в разводе</td>\n",
       "    </tr>\n",
       "    <tr>\n",
       "      <th>4</th>\n",
       "      <td>4</td>\n",
       "      <td>не женат / не замужем</td>\n",
       "    </tr>\n",
       "  </tbody>\n",
       "</table>\n",
       "</div>"
      ],
      "text/plain": [
       "   family_status_id          family_status\n",
       "0                 0        женат / замужем\n",
       "1                 1       гражданский брак\n",
       "2                 2         вдовец / вдова\n",
       "3                 3              в разводе\n",
       "4                 4  не женат / не замужем"
      ]
     },
     "metadata": {},
     "output_type": "display_data"
    }
   ],
   "source": [
    "education = data[['education_id', 'education']]\n",
    "education = education.drop_duplicates().reset_index(drop=True)\n",
    "display(education)\n",
    "family_status = data[['family_status_id', 'family_status']]\n",
    "family_status = family_status.drop_duplicates().reset_index(drop=True)\n",
    "display(family_status)"
   ]
  },
  {
   "cell_type": "markdown",
   "id": "7120365f",
   "metadata": {},
   "source": [
    "Удалим из исходного датафрейма столбцы `education` и `family_status`, оставив только их идентификаторы: `education_id` и `family_status_id`."
   ]
  },
  {
   "cell_type": "code",
   "execution_count": 56,
   "id": "dcec6be1",
   "metadata": {},
   "outputs": [],
   "source": [
    "data = data.drop('education', axis=1)\n",
    "data = data.drop('family_status', axis=1)"
   ]
  },
  {
   "cell_type": "markdown",
   "id": "8055e450",
   "metadata": {},
   "source": [
    "Проверим результат."
   ]
  },
  {
   "cell_type": "code",
   "execution_count": 57,
   "id": "ab8ae025",
   "metadata": {},
   "outputs": [
    {
     "data": {
      "text/html": [
       "<div>\n",
       "<style scoped>\n",
       "    .dataframe tbody tr th:only-of-type {\n",
       "        vertical-align: middle;\n",
       "    }\n",
       "\n",
       "    .dataframe tbody tr th {\n",
       "        vertical-align: top;\n",
       "    }\n",
       "\n",
       "    .dataframe thead th {\n",
       "        text-align: right;\n",
       "    }\n",
       "</style>\n",
       "<table border=\"1\" class=\"dataframe\">\n",
       "  <thead>\n",
       "    <tr style=\"text-align: right;\">\n",
       "      <th></th>\n",
       "      <th>children</th>\n",
       "      <th>days_employed</th>\n",
       "      <th>dob_years</th>\n",
       "      <th>education_id</th>\n",
       "      <th>family_status_id</th>\n",
       "      <th>gender</th>\n",
       "      <th>income_type</th>\n",
       "      <th>debt</th>\n",
       "      <th>total_income</th>\n",
       "      <th>purpose</th>\n",
       "    </tr>\n",
       "  </thead>\n",
       "  <tbody>\n",
       "    <tr>\n",
       "      <th>0</th>\n",
       "      <td>1</td>\n",
       "      <td>8437</td>\n",
       "      <td>42</td>\n",
       "      <td>0</td>\n",
       "      <td>0</td>\n",
       "      <td>F</td>\n",
       "      <td>сотрудник</td>\n",
       "      <td>0</td>\n",
       "      <td>253875</td>\n",
       "      <td>покупка жилья</td>\n",
       "    </tr>\n",
       "    <tr>\n",
       "      <th>1</th>\n",
       "      <td>1</td>\n",
       "      <td>4024</td>\n",
       "      <td>36</td>\n",
       "      <td>1</td>\n",
       "      <td>0</td>\n",
       "      <td>F</td>\n",
       "      <td>сотрудник</td>\n",
       "      <td>0</td>\n",
       "      <td>112080</td>\n",
       "      <td>приобретение автомобиля</td>\n",
       "    </tr>\n",
       "    <tr>\n",
       "      <th>2</th>\n",
       "      <td>0</td>\n",
       "      <td>5623</td>\n",
       "      <td>33</td>\n",
       "      <td>1</td>\n",
       "      <td>0</td>\n",
       "      <td>M</td>\n",
       "      <td>сотрудник</td>\n",
       "      <td>0</td>\n",
       "      <td>145885</td>\n",
       "      <td>покупка жилья</td>\n",
       "    </tr>\n",
       "    <tr>\n",
       "      <th>3</th>\n",
       "      <td>3</td>\n",
       "      <td>4124</td>\n",
       "      <td>32</td>\n",
       "      <td>1</td>\n",
       "      <td>0</td>\n",
       "      <td>M</td>\n",
       "      <td>сотрудник</td>\n",
       "      <td>0</td>\n",
       "      <td>267628</td>\n",
       "      <td>дополнительное образование</td>\n",
       "    </tr>\n",
       "    <tr>\n",
       "      <th>4</th>\n",
       "      <td>0</td>\n",
       "      <td>1846</td>\n",
       "      <td>53</td>\n",
       "      <td>1</td>\n",
       "      <td>1</td>\n",
       "      <td>F</td>\n",
       "      <td>пенсионер</td>\n",
       "      <td>0</td>\n",
       "      <td>158616</td>\n",
       "      <td>сыграть свадьбу</td>\n",
       "    </tr>\n",
       "  </tbody>\n",
       "</table>\n",
       "</div>"
      ],
      "text/plain": [
       "   children  days_employed  dob_years  education_id  family_status_id gender  \\\n",
       "0         1           8437         42             0                 0      F   \n",
       "1         1           4024         36             1                 0      F   \n",
       "2         0           5623         33             1                 0      M   \n",
       "3         3           4124         32             1                 0      M   \n",
       "4         0           1846         53             1                 1      F   \n",
       "\n",
       "  income_type  debt  total_income                     purpose  \n",
       "0   сотрудник     0        253875               покупка жилья  \n",
       "1   сотрудник     0        112080     приобретение автомобиля  \n",
       "2   сотрудник     0        145885               покупка жилья  \n",
       "3   сотрудник     0        267628  дополнительное образование  \n",
       "4   пенсионер     0        158616             сыграть свадьбу  "
      ]
     },
     "execution_count": 57,
     "metadata": {},
     "output_type": "execute_result"
    }
   ],
   "source": [
    "data.head()"
   ]
  },
  {
   "cell_type": "markdown",
   "id": "3b43538c",
   "metadata": {},
   "source": [
    "### Шаг 2.6. Категоризация дохода."
   ]
  },
  {
   "cell_type": "markdown",
   "id": "162af1f4",
   "metadata": {},
   "source": [
    "На основании диапазонов, указанных ниже, создадим столбец `total_income_category` с категориями:\n",
    "* 0–30000 — 'E';\n",
    "* 30001–50000 — 'D';\n",
    "* 50001–200000 — 'C';\n",
    "* 200001–1000000 — 'B';\n",
    "* 1000001 и выше — 'A'."
   ]
  },
  {
   "cell_type": "code",
   "execution_count": 58,
   "id": "38dc3df3",
   "metadata": {},
   "outputs": [
    {
     "data": {
      "text/html": [
       "<div>\n",
       "<style scoped>\n",
       "    .dataframe tbody tr th:only-of-type {\n",
       "        vertical-align: middle;\n",
       "    }\n",
       "\n",
       "    .dataframe tbody tr th {\n",
       "        vertical-align: top;\n",
       "    }\n",
       "\n",
       "    .dataframe thead th {\n",
       "        text-align: right;\n",
       "    }\n",
       "</style>\n",
       "<table border=\"1\" class=\"dataframe\">\n",
       "  <thead>\n",
       "    <tr style=\"text-align: right;\">\n",
       "      <th></th>\n",
       "      <th>children</th>\n",
       "      <th>days_employed</th>\n",
       "      <th>dob_years</th>\n",
       "      <th>education_id</th>\n",
       "      <th>family_status_id</th>\n",
       "      <th>gender</th>\n",
       "      <th>income_type</th>\n",
       "      <th>debt</th>\n",
       "      <th>total_income</th>\n",
       "      <th>purpose</th>\n",
       "      <th>total_income_category</th>\n",
       "    </tr>\n",
       "  </thead>\n",
       "  <tbody>\n",
       "    <tr>\n",
       "      <th>0</th>\n",
       "      <td>1</td>\n",
       "      <td>8437</td>\n",
       "      <td>42</td>\n",
       "      <td>0</td>\n",
       "      <td>0</td>\n",
       "      <td>F</td>\n",
       "      <td>сотрудник</td>\n",
       "      <td>0</td>\n",
       "      <td>253875</td>\n",
       "      <td>покупка жилья</td>\n",
       "      <td>B</td>\n",
       "    </tr>\n",
       "    <tr>\n",
       "      <th>1</th>\n",
       "      <td>1</td>\n",
       "      <td>4024</td>\n",
       "      <td>36</td>\n",
       "      <td>1</td>\n",
       "      <td>0</td>\n",
       "      <td>F</td>\n",
       "      <td>сотрудник</td>\n",
       "      <td>0</td>\n",
       "      <td>112080</td>\n",
       "      <td>приобретение автомобиля</td>\n",
       "      <td>C</td>\n",
       "    </tr>\n",
       "    <tr>\n",
       "      <th>2</th>\n",
       "      <td>0</td>\n",
       "      <td>5623</td>\n",
       "      <td>33</td>\n",
       "      <td>1</td>\n",
       "      <td>0</td>\n",
       "      <td>M</td>\n",
       "      <td>сотрудник</td>\n",
       "      <td>0</td>\n",
       "      <td>145885</td>\n",
       "      <td>покупка жилья</td>\n",
       "      <td>C</td>\n",
       "    </tr>\n",
       "    <tr>\n",
       "      <th>3</th>\n",
       "      <td>3</td>\n",
       "      <td>4124</td>\n",
       "      <td>32</td>\n",
       "      <td>1</td>\n",
       "      <td>0</td>\n",
       "      <td>M</td>\n",
       "      <td>сотрудник</td>\n",
       "      <td>0</td>\n",
       "      <td>267628</td>\n",
       "      <td>дополнительное образование</td>\n",
       "      <td>B</td>\n",
       "    </tr>\n",
       "    <tr>\n",
       "      <th>4</th>\n",
       "      <td>0</td>\n",
       "      <td>1846</td>\n",
       "      <td>53</td>\n",
       "      <td>1</td>\n",
       "      <td>1</td>\n",
       "      <td>F</td>\n",
       "      <td>пенсионер</td>\n",
       "      <td>0</td>\n",
       "      <td>158616</td>\n",
       "      <td>сыграть свадьбу</td>\n",
       "      <td>C</td>\n",
       "    </tr>\n",
       "  </tbody>\n",
       "</table>\n",
       "</div>"
      ],
      "text/plain": [
       "   children  days_employed  dob_years  education_id  family_status_id gender  \\\n",
       "0         1           8437         42             0                 0      F   \n",
       "1         1           4024         36             1                 0      F   \n",
       "2         0           5623         33             1                 0      M   \n",
       "3         3           4124         32             1                 0      M   \n",
       "4         0           1846         53             1                 1      F   \n",
       "\n",
       "  income_type  debt  total_income                     purpose  \\\n",
       "0   сотрудник     0        253875               покупка жилья   \n",
       "1   сотрудник     0        112080     приобретение автомобиля   \n",
       "2   сотрудник     0        145885               покупка жилья   \n",
       "3   сотрудник     0        267628  дополнительное образование   \n",
       "4   пенсионер     0        158616             сыграть свадьбу   \n",
       "\n",
       "  total_income_category  \n",
       "0                     B  \n",
       "1                     C  \n",
       "2                     C  \n",
       "3                     B  \n",
       "4                     C  "
      ]
     },
     "execution_count": 58,
     "metadata": {},
     "output_type": "execute_result"
    }
   ],
   "source": [
    "# создадим функцию, для присвоения категорий\n",
    "# создадим новый столбец и запишим в него данные категорий\n",
    "def total_income_category(income):\n",
    "    try:\n",
    "        if income <= 30000:\n",
    "            return 'E'\n",
    "        if income >= 30001 and income <= 50000:\n",
    "            return 'D'\n",
    "        if income >= 50001 and income <= 200000:\n",
    "            return 'C'\n",
    "        if income >= 200001 and income <= 1000000:\n",
    "            return 'B'\n",
    "        if income >= 1000001:\n",
    "            return 'A'\n",
    "    except:\n",
    "        print('Значение не входит ни в один диапозон')\n",
    "\n",
    "data['total_income_category'] = data['total_income'].apply(total_income_category)\n",
    "data.head()"
   ]
  },
  {
   "cell_type": "markdown",
   "id": "b73c0b80",
   "metadata": {},
   "source": [
    "### Шаг 2.7. Категоризация целей кредита."
   ]
  },
  {
   "cell_type": "markdown",
   "id": "02e16cfd",
   "metadata": {},
   "source": [
    "Создайте функцию, которая на основании данных из столбца purpose сформирует новый столбец `purpose_category`, в который войдут следующие категории:\n",
    "* операции с автомобилем,\n",
    "* операции с недвижимостью,\n",
    "* проведение свадьбы,\n",
    "* получение образования."
   ]
  },
  {
   "cell_type": "code",
   "execution_count": 59,
   "id": "c32a9238",
   "metadata": {},
   "outputs": [
    {
     "data": {
      "text/html": [
       "<div>\n",
       "<style scoped>\n",
       "    .dataframe tbody tr th:only-of-type {\n",
       "        vertical-align: middle;\n",
       "    }\n",
       "\n",
       "    .dataframe tbody tr th {\n",
       "        vertical-align: top;\n",
       "    }\n",
       "\n",
       "    .dataframe thead th {\n",
       "        text-align: right;\n",
       "    }\n",
       "</style>\n",
       "<table border=\"1\" class=\"dataframe\">\n",
       "  <thead>\n",
       "    <tr style=\"text-align: right;\">\n",
       "      <th></th>\n",
       "      <th>children</th>\n",
       "      <th>days_employed</th>\n",
       "      <th>dob_years</th>\n",
       "      <th>education_id</th>\n",
       "      <th>family_status_id</th>\n",
       "      <th>gender</th>\n",
       "      <th>income_type</th>\n",
       "      <th>debt</th>\n",
       "      <th>total_income</th>\n",
       "      <th>purpose</th>\n",
       "      <th>total_income_category</th>\n",
       "      <th>purpose_category</th>\n",
       "    </tr>\n",
       "  </thead>\n",
       "  <tbody>\n",
       "    <tr>\n",
       "      <th>0</th>\n",
       "      <td>1</td>\n",
       "      <td>8437</td>\n",
       "      <td>42</td>\n",
       "      <td>0</td>\n",
       "      <td>0</td>\n",
       "      <td>F</td>\n",
       "      <td>сотрудник</td>\n",
       "      <td>0</td>\n",
       "      <td>253875</td>\n",
       "      <td>покупка жилья</td>\n",
       "      <td>B</td>\n",
       "      <td>операции с недвижимостью</td>\n",
       "    </tr>\n",
       "    <tr>\n",
       "      <th>1</th>\n",
       "      <td>1</td>\n",
       "      <td>4024</td>\n",
       "      <td>36</td>\n",
       "      <td>1</td>\n",
       "      <td>0</td>\n",
       "      <td>F</td>\n",
       "      <td>сотрудник</td>\n",
       "      <td>0</td>\n",
       "      <td>112080</td>\n",
       "      <td>приобретение автомобиля</td>\n",
       "      <td>C</td>\n",
       "      <td>операции с автомобилем</td>\n",
       "    </tr>\n",
       "    <tr>\n",
       "      <th>2</th>\n",
       "      <td>0</td>\n",
       "      <td>5623</td>\n",
       "      <td>33</td>\n",
       "      <td>1</td>\n",
       "      <td>0</td>\n",
       "      <td>M</td>\n",
       "      <td>сотрудник</td>\n",
       "      <td>0</td>\n",
       "      <td>145885</td>\n",
       "      <td>покупка жилья</td>\n",
       "      <td>C</td>\n",
       "      <td>операции с недвижимостью</td>\n",
       "    </tr>\n",
       "    <tr>\n",
       "      <th>3</th>\n",
       "      <td>3</td>\n",
       "      <td>4124</td>\n",
       "      <td>32</td>\n",
       "      <td>1</td>\n",
       "      <td>0</td>\n",
       "      <td>M</td>\n",
       "      <td>сотрудник</td>\n",
       "      <td>0</td>\n",
       "      <td>267628</td>\n",
       "      <td>дополнительное образование</td>\n",
       "      <td>B</td>\n",
       "      <td>получение образования</td>\n",
       "    </tr>\n",
       "    <tr>\n",
       "      <th>4</th>\n",
       "      <td>0</td>\n",
       "      <td>1846</td>\n",
       "      <td>53</td>\n",
       "      <td>1</td>\n",
       "      <td>1</td>\n",
       "      <td>F</td>\n",
       "      <td>пенсионер</td>\n",
       "      <td>0</td>\n",
       "      <td>158616</td>\n",
       "      <td>сыграть свадьбу</td>\n",
       "      <td>C</td>\n",
       "      <td>проведение свадьбы</td>\n",
       "    </tr>\n",
       "  </tbody>\n",
       "</table>\n",
       "</div>"
      ],
      "text/plain": [
       "   children  days_employed  dob_years  education_id  family_status_id gender  \\\n",
       "0         1           8437         42             0                 0      F   \n",
       "1         1           4024         36             1                 0      F   \n",
       "2         0           5623         33             1                 0      M   \n",
       "3         3           4124         32             1                 0      M   \n",
       "4         0           1846         53             1                 1      F   \n",
       "\n",
       "  income_type  debt  total_income                     purpose  \\\n",
       "0   сотрудник     0        253875               покупка жилья   \n",
       "1   сотрудник     0        112080     приобретение автомобиля   \n",
       "2   сотрудник     0        145885               покупка жилья   \n",
       "3   сотрудник     0        267628  дополнительное образование   \n",
       "4   пенсионер     0        158616             сыграть свадьбу   \n",
       "\n",
       "  total_income_category          purpose_category  \n",
       "0                     B  операции с недвижимостью  \n",
       "1                     C    операции с автомобилем  \n",
       "2                     C  операции с недвижимостью  \n",
       "3                     B     получение образования  \n",
       "4                     C        проведение свадьбы  "
      ]
     },
     "execution_count": 59,
     "metadata": {},
     "output_type": "execute_result"
    }
   ],
   "source": [
    "def purpose_category(purpose):\n",
    "    if 'автомоб' in purpose :\n",
    "        return 'операции с автомобилем'\n",
    "    if 'жиль' in purpose :\n",
    "        return 'операции с недвижимостью'\n",
    "    if 'недвиж' in purpose :\n",
    "        return 'операции с недвижимостью'\n",
    "    if 'свадь' in purpose :\n",
    "        return 'проведение свадьбы'\n",
    "    if 'образов' in purpose :\n",
    "        return 'получение образования'\n",
    "    \n",
    "data['purpose_category'] = data['purpose'].apply(purpose_category)\n",
    "data.head()"
   ]
  },
  {
   "cell_type": "markdown",
   "id": "7e884902",
   "metadata": {},
   "source": [
    "### Ответы на вопросы."
   ]
  },
  {
   "cell_type": "markdown",
   "id": "69efadb5",
   "metadata": {},
   "source": [
    "##### Вопрос 1:"
   ]
  },
  {
   "cell_type": "markdown",
   "id": "242f8210",
   "metadata": {},
   "source": [
    "Есть ли зависимость между количеством детей и возвратом кредита в срок?"
   ]
  },
  {
   "cell_type": "code",
   "execution_count": 60,
   "id": "268b2ed2",
   "metadata": {
    "scrolled": true
   },
   "outputs": [
    {
     "data": {
      "text/html": [
       "<div>\n",
       "<style scoped>\n",
       "    .dataframe tbody tr th:only-of-type {\n",
       "        vertical-align: middle;\n",
       "    }\n",
       "\n",
       "    .dataframe tbody tr th {\n",
       "        vertical-align: top;\n",
       "    }\n",
       "\n",
       "    .dataframe thead th {\n",
       "        text-align: right;\n",
       "    }\n",
       "</style>\n",
       "<table border=\"1\" class=\"dataframe\">\n",
       "  <thead>\n",
       "    <tr style=\"text-align: right;\">\n",
       "      <th></th>\n",
       "      <th>total_borrowers</th>\n",
       "      <th>total_debtors</th>\n",
       "      <th>share_of_debtors</th>\n",
       "    </tr>\n",
       "    <tr>\n",
       "      <th>children</th>\n",
       "      <th></th>\n",
       "      <th></th>\n",
       "      <th></th>\n",
       "    </tr>\n",
       "  </thead>\n",
       "  <tbody>\n",
       "    <tr>\n",
       "      <th>0</th>\n",
       "      <td>14090</td>\n",
       "      <td>1063</td>\n",
       "      <td>0.075444</td>\n",
       "    </tr>\n",
       "    <tr>\n",
       "      <th>1</th>\n",
       "      <td>4855</td>\n",
       "      <td>445</td>\n",
       "      <td>0.091658</td>\n",
       "    </tr>\n",
       "    <tr>\n",
       "      <th>2</th>\n",
       "      <td>2128</td>\n",
       "      <td>202</td>\n",
       "      <td>0.094925</td>\n",
       "    </tr>\n",
       "    <tr>\n",
       "      <th>3</th>\n",
       "      <td>330</td>\n",
       "      <td>27</td>\n",
       "      <td>0.081818</td>\n",
       "    </tr>\n",
       "    <tr>\n",
       "      <th>4</th>\n",
       "      <td>41</td>\n",
       "      <td>4</td>\n",
       "      <td>0.097561</td>\n",
       "    </tr>\n",
       "    <tr>\n",
       "      <th>5</th>\n",
       "      <td>9</td>\n",
       "      <td>0</td>\n",
       "      <td>0.000000</td>\n",
       "    </tr>\n",
       "  </tbody>\n",
       "</table>\n",
       "</div>"
      ],
      "text/plain": [
       "          total_borrowers  total_debtors  share_of_debtors\n",
       "children                                                  \n",
       "0                   14090           1063          0.075444\n",
       "1                    4855            445          0.091658\n",
       "2                    2128            202          0.094925\n",
       "3                     330             27          0.081818\n",
       "4                      41              4          0.097561\n",
       "5                       9              0          0.000000"
      ]
     },
     "metadata": {},
     "output_type": "display_data"
    }
   ],
   "source": [
    "children_stat = data.pivot_table(index='children', values=['debt'], aggfunc=['count', 'sum', 'mean'])\n",
    "children_stat.columns = ['total_borrowers', 'total_debtors', 'share_of_debtors']\n",
    "display(children_stat)"
   ]
  },
  {
   "cell_type": "markdown",
   "id": "263ddfe1",
   "metadata": {},
   "source": [
    "##### Вывод 1:"
   ]
  },
  {
   "cell_type": "markdown",
   "id": "5b256399",
   "metadata": {},
   "source": [
    "Самые ответственные клиенты без детей (из 14090 кредитополучателей, 7.5% невозврата в срок), а самые безответственные с 4-мя детьми (из 41 кредитополучателя, 9.7% невозврата в срок). \n",
    "\n",
    "Выборка с 5 детьми состоит всего из 9 человек, соответственно, по ней нельзя делать выводы, поскольку она слишком маленькая."
   ]
  },
  {
   "cell_type": "markdown",
   "id": "658ebf46",
   "metadata": {},
   "source": [
    "##### Вопрос 2:"
   ]
  },
  {
   "cell_type": "markdown",
   "id": "f07a5a6b",
   "metadata": {},
   "source": [
    "Есть ли зависимость между семейным положением и возвратом кредита в срок?"
   ]
  },
  {
   "cell_type": "code",
   "execution_count": 61,
   "id": "0dfceb1b",
   "metadata": {},
   "outputs": [
    {
     "data": {
      "text/html": [
       "<div>\n",
       "<style scoped>\n",
       "    .dataframe tbody tr th:only-of-type {\n",
       "        vertical-align: middle;\n",
       "    }\n",
       "\n",
       "    .dataframe tbody tr th {\n",
       "        vertical-align: top;\n",
       "    }\n",
       "\n",
       "    .dataframe thead th {\n",
       "        text-align: right;\n",
       "    }\n",
       "</style>\n",
       "<table border=\"1\" class=\"dataframe\">\n",
       "  <thead>\n",
       "    <tr style=\"text-align: right;\">\n",
       "      <th></th>\n",
       "      <th>family_status</th>\n",
       "      <th>total_borrowers</th>\n",
       "      <th>total_debtors</th>\n",
       "      <th>share_of_debtors</th>\n",
       "    </tr>\n",
       "  </thead>\n",
       "  <tbody>\n",
       "    <tr>\n",
       "      <th>0</th>\n",
       "      <td>женат / замужем</td>\n",
       "      <td>12339</td>\n",
       "      <td>931</td>\n",
       "      <td>0.075452</td>\n",
       "    </tr>\n",
       "    <tr>\n",
       "      <th>1</th>\n",
       "      <td>гражданский брак</td>\n",
       "      <td>4150</td>\n",
       "      <td>388</td>\n",
       "      <td>0.093494</td>\n",
       "    </tr>\n",
       "    <tr>\n",
       "      <th>2</th>\n",
       "      <td>вдовец / вдова</td>\n",
       "      <td>959</td>\n",
       "      <td>63</td>\n",
       "      <td>0.065693</td>\n",
       "    </tr>\n",
       "    <tr>\n",
       "      <th>3</th>\n",
       "      <td>в разводе</td>\n",
       "      <td>1195</td>\n",
       "      <td>85</td>\n",
       "      <td>0.071130</td>\n",
       "    </tr>\n",
       "    <tr>\n",
       "      <th>4</th>\n",
       "      <td>не женат / не замужем</td>\n",
       "      <td>2810</td>\n",
       "      <td>274</td>\n",
       "      <td>0.097509</td>\n",
       "    </tr>\n",
       "  </tbody>\n",
       "</table>\n",
       "</div>"
      ],
      "text/plain": [
       "           family_status  total_borrowers  total_debtors  share_of_debtors\n",
       "0        женат / замужем            12339            931          0.075452\n",
       "1       гражданский брак             4150            388          0.093494\n",
       "2         вдовец / вдова              959             63          0.065693\n",
       "3              в разводе             1195             85          0.071130\n",
       "4  не женат / не замужем             2810            274          0.097509"
      ]
     },
     "metadata": {},
     "output_type": "display_data"
    }
   ],
   "source": [
    "# обьединим две таблицы и удалим лишний столбец\n",
    "family_stat = data.pivot_table(index='family_status_id', values=['debt'], aggfunc=['count', 'sum', 'mean'])\n",
    "family_stat.columns = ['total_borrowers', 'total_debtors', 'share_of_debtors']\n",
    "family_stat_new = pd.merge(family_status, family_stat, on='family_status_id', how='inner')\n",
    "family_stat_final = family_stat_new.drop(columns='family_status_id')\n",
    "\n",
    "display(family_stat_final)"
   ]
  },
  {
   "cell_type": "markdown",
   "id": "b1136b87",
   "metadata": {},
   "source": [
    "##### Вывод 2:"
   ]
  },
  {
   "cell_type": "markdown",
   "id": "90c5e591",
   "metadata": {},
   "source": [
    "Самые ответственные клиенты с семейным положением \"вдовец / вдова\" (из 959 кредитополучателей, 6.5% невозврата в срок), а самые безответственные с семейным положением \"не женат / не замужем\" (из 2810 кредитополучателей, 9.7% невозврата в срок)."
   ]
  },
  {
   "cell_type": "markdown",
   "id": "ddb8390a",
   "metadata": {},
   "source": [
    "##### Вопрос 3:"
   ]
  },
  {
   "cell_type": "markdown",
   "id": "67cb4a3a",
   "metadata": {},
   "source": [
    "Есть ли зависимость между уровнем дохода и возвратом кредита в срок?"
   ]
  },
  {
   "cell_type": "code",
   "execution_count": 62,
   "id": "a5169f49",
   "metadata": {
    "scrolled": true
   },
   "outputs": [
    {
     "data": {
      "text/html": [
       "<div>\n",
       "<style scoped>\n",
       "    .dataframe tbody tr th:only-of-type {\n",
       "        vertical-align: middle;\n",
       "    }\n",
       "\n",
       "    .dataframe tbody tr th {\n",
       "        vertical-align: top;\n",
       "    }\n",
       "\n",
       "    .dataframe thead th {\n",
       "        text-align: right;\n",
       "    }\n",
       "</style>\n",
       "<table border=\"1\" class=\"dataframe\">\n",
       "  <thead>\n",
       "    <tr style=\"text-align: right;\">\n",
       "      <th></th>\n",
       "      <th>total_borrowers</th>\n",
       "      <th>total_debtors</th>\n",
       "      <th>share_of_debtors</th>\n",
       "    </tr>\n",
       "    <tr>\n",
       "      <th>total_income_category</th>\n",
       "      <th></th>\n",
       "      <th></th>\n",
       "      <th></th>\n",
       "    </tr>\n",
       "  </thead>\n",
       "  <tbody>\n",
       "    <tr>\n",
       "      <th>A</th>\n",
       "      <td>25</td>\n",
       "      <td>2</td>\n",
       "      <td>0.080000</td>\n",
       "    </tr>\n",
       "    <tr>\n",
       "      <th>B</th>\n",
       "      <td>5041</td>\n",
       "      <td>356</td>\n",
       "      <td>0.070621</td>\n",
       "    </tr>\n",
       "    <tr>\n",
       "      <th>C</th>\n",
       "      <td>16015</td>\n",
       "      <td>1360</td>\n",
       "      <td>0.084920</td>\n",
       "    </tr>\n",
       "    <tr>\n",
       "      <th>D</th>\n",
       "      <td>350</td>\n",
       "      <td>21</td>\n",
       "      <td>0.060000</td>\n",
       "    </tr>\n",
       "    <tr>\n",
       "      <th>E</th>\n",
       "      <td>22</td>\n",
       "      <td>2</td>\n",
       "      <td>0.090909</td>\n",
       "    </tr>\n",
       "  </tbody>\n",
       "</table>\n",
       "</div>"
      ],
      "text/plain": [
       "                       total_borrowers  total_debtors  share_of_debtors\n",
       "total_income_category                                                  \n",
       "A                                   25              2          0.080000\n",
       "B                                 5041            356          0.070621\n",
       "C                                16015           1360          0.084920\n",
       "D                                  350             21          0.060000\n",
       "E                                   22              2          0.090909"
      ]
     },
     "metadata": {},
     "output_type": "display_data"
    }
   ],
   "source": [
    "total_income_category_stat = data.pivot_table(index='total_income_category', values=['debt'], aggfunc=['count', 'sum', 'mean'])\n",
    "total_income_category_stat.columns = ['total_borrowers', 'total_debtors', 'share_of_debtors']\n",
    "display(total_income_category_stat)"
   ]
  },
  {
   "cell_type": "markdown",
   "id": "7685092c",
   "metadata": {},
   "source": [
    "* 0–30000 — 'E';\n",
    "* 30001–50000 — 'D';\n",
    "* 50001–200000 — 'C';\n",
    "* 200001–1000000 — 'B';\n",
    "* 1000001 и выше — 'A'."
   ]
  },
  {
   "cell_type": "markdown",
   "id": "4d40612f",
   "metadata": {},
   "source": [
    "##### Вывод 3:"
   ]
  },
  {
   "cell_type": "markdown",
   "id": "bbed1671",
   "metadata": {},
   "source": [
    "Самые ответственные клиенты с доходами 30001–50000 (из 350\tкредитополучателей, 6% невозврата в срок), а самые безответственные с доходами 0–30000 (из 22 кредитополучателей, 9% невозврата в срок)."
   ]
  },
  {
   "cell_type": "markdown",
   "id": "c96e0e02",
   "metadata": {},
   "source": [
    "##### Вопрос 4:"
   ]
  },
  {
   "cell_type": "markdown",
   "id": "e4978507",
   "metadata": {},
   "source": [
    "Как разные цели кредита влияют на его возврат в срок?"
   ]
  },
  {
   "cell_type": "code",
   "execution_count": 63,
   "id": "1e7241ee",
   "metadata": {},
   "outputs": [
    {
     "data": {
      "text/html": [
       "<div>\n",
       "<style scoped>\n",
       "    .dataframe tbody tr th:only-of-type {\n",
       "        vertical-align: middle;\n",
       "    }\n",
       "\n",
       "    .dataframe tbody tr th {\n",
       "        vertical-align: top;\n",
       "    }\n",
       "\n",
       "    .dataframe thead th {\n",
       "        text-align: right;\n",
       "    }\n",
       "</style>\n",
       "<table border=\"1\" class=\"dataframe\">\n",
       "  <thead>\n",
       "    <tr style=\"text-align: right;\">\n",
       "      <th></th>\n",
       "      <th>total_borrowers</th>\n",
       "      <th>total_debtors</th>\n",
       "      <th>share_of_debtors</th>\n",
       "    </tr>\n",
       "    <tr>\n",
       "      <th>purpose_category</th>\n",
       "      <th></th>\n",
       "      <th></th>\n",
       "      <th></th>\n",
       "    </tr>\n",
       "  </thead>\n",
       "  <tbody>\n",
       "    <tr>\n",
       "      <th>операции с автомобилем</th>\n",
       "      <td>4306</td>\n",
       "      <td>403</td>\n",
       "      <td>0.093590</td>\n",
       "    </tr>\n",
       "    <tr>\n",
       "      <th>операции с недвижимостью</th>\n",
       "      <td>10810</td>\n",
       "      <td>782</td>\n",
       "      <td>0.072340</td>\n",
       "    </tr>\n",
       "    <tr>\n",
       "      <th>получение образования</th>\n",
       "      <td>4013</td>\n",
       "      <td>370</td>\n",
       "      <td>0.092200</td>\n",
       "    </tr>\n",
       "    <tr>\n",
       "      <th>проведение свадьбы</th>\n",
       "      <td>2324</td>\n",
       "      <td>186</td>\n",
       "      <td>0.080034</td>\n",
       "    </tr>\n",
       "  </tbody>\n",
       "</table>\n",
       "</div>"
      ],
      "text/plain": [
       "                          total_borrowers  total_debtors  share_of_debtors\n",
       "purpose_category                                                          \n",
       "операции с автомобилем               4306            403          0.093590\n",
       "операции с недвижимостью            10810            782          0.072340\n",
       "получение образования                4013            370          0.092200\n",
       "проведение свадьбы                   2324            186          0.080034"
      ]
     },
     "metadata": {},
     "output_type": "display_data"
    }
   ],
   "source": [
    "purpose_category_stat = data.pivot_table(index='purpose_category', values=['debt'], aggfunc=['count', 'sum', 'mean'])\n",
    "purpose_category_stat.columns = ['total_borrowers', 'total_debtors', 'share_of_debtors']\n",
    "display(purpose_category_stat)"
   ]
  },
  {
   "cell_type": "markdown",
   "id": "4c9b5b44",
   "metadata": {},
   "source": [
    "##### Вывод 4:"
   ]
  },
  {
   "cell_type": "markdown",
   "id": "1c549c30",
   "metadata": {},
   "source": [
    "\n",
    "Самые надежные клиенты берущие кредит для покупки недвижимости (из 10810 кредитополучателей, 7.2% невозврата в срок), а самые безответственные те, кто взял кредит для покупки автомобиля (из 4306 кредитополучателей, 9.3% невозврата в срок)."
   ]
  },
  {
   "cell_type": "markdown",
   "id": "6b94f86c",
   "metadata": {},
   "source": [
    "## Общий вывод:"
   ]
  },
  {
   "cell_type": "markdown",
   "id": "3db7c5a3",
   "metadata": {},
   "source": [
    "Семейное положение и количество детей клиента влияет на факт погашения кредита в срок. \n",
    "\n",
    "Самые ответственные клиенты:\n",
    "* с семейным положением \"вдовец / вдова\" (из 959 кредитополучателей, 6.5% невозврата в срок) \n",
    "* без детей (из 14090 кредитополучателей, 7.5% невозврата в срок). \n",
    "\n",
    "Самые безответственные:\n",
    "* с семейным положением \"не женат / не замужем\" (из 2810 кредитополучателей, 9.7% невозврата в срок) \n",
    "* с 4-мя детьми (из 41 кредитополучателя, 9.7% невозврата в срок).\n",
    "\n",
    "Самый лучший клиент для банка, это клиент с семейным положением \"вдовец / вдова\", без детей, с уровнем дохода 30 001 – 50 000 и целью преобретения недвижимости."
   ]
  },
  {
   "cell_type": "code",
   "execution_count": null,
   "id": "7ee0cb48",
   "metadata": {},
   "outputs": [],
   "source": []
  }
 ],
 "metadata": {
  "ExecuteTimeLog": [
   {
    "duration": 8,
    "start_time": "2022-04-11T13:15:55.795Z"
   },
   {
    "duration": 486,
    "start_time": "2022-04-11T13:20:58.173Z"
   },
   {
    "duration": 22,
    "start_time": "2022-04-11T13:31:30.781Z"
   },
   {
    "duration": 17,
    "start_time": "2022-04-11T13:34:58.142Z"
   },
   {
    "duration": 18,
    "start_time": "2022-04-11T13:35:07.855Z"
   },
   {
    "duration": 21,
    "start_time": "2022-04-11T13:35:33.773Z"
   },
   {
    "duration": 15,
    "start_time": "2022-04-11T13:35:49.786Z"
   },
   {
    "duration": 16,
    "start_time": "2022-04-11T13:36:22.302Z"
   },
   {
    "duration": 21,
    "start_time": "2022-04-11T13:42:08.782Z"
   },
   {
    "duration": 20,
    "start_time": "2022-04-11T13:42:11.918Z"
   },
   {
    "duration": 16,
    "start_time": "2022-04-11T14:07:52.819Z"
   },
   {
    "duration": 150,
    "start_time": "2022-04-11T14:19:19.202Z"
   },
   {
    "duration": 9,
    "start_time": "2022-04-11T14:25:49.459Z"
   },
   {
    "duration": 10,
    "start_time": "2022-04-11T14:25:58.896Z"
   },
   {
    "duration": 133,
    "start_time": "2022-04-11T14:26:59.714Z"
   },
   {
    "duration": 114,
    "start_time": "2022-04-11T14:27:06.161Z"
   },
   {
    "duration": 1796,
    "start_time": "2022-04-11T14:28:05.779Z"
   },
   {
    "duration": 15,
    "start_time": "2022-04-11T14:28:26.693Z"
   },
   {
    "duration": 120,
    "start_time": "2022-04-11T14:29:36.372Z"
   },
   {
    "duration": 4,
    "start_time": "2022-04-11T14:32:14.610Z"
   },
   {
    "duration": 10,
    "start_time": "2022-04-11T14:32:27.793Z"
   },
   {
    "duration": 7,
    "start_time": "2022-04-11T14:33:08.002Z"
   },
   {
    "duration": 11,
    "start_time": "2022-04-11T14:34:10.162Z"
   },
   {
    "duration": 12,
    "start_time": "2022-04-11T14:37:11.139Z"
   },
   {
    "duration": 13,
    "start_time": "2022-04-11T14:38:06.725Z"
   },
   {
    "duration": 4,
    "start_time": "2022-04-11T14:38:56.211Z"
   },
   {
    "duration": 6,
    "start_time": "2022-04-11T14:39:05.348Z"
   },
   {
    "duration": 7,
    "start_time": "2022-04-11T14:39:22.005Z"
   },
   {
    "duration": 5,
    "start_time": "2022-04-11T14:39:58.340Z"
   },
   {
    "duration": 6,
    "start_time": "2022-04-11T14:40:12.276Z"
   },
   {
    "duration": 6,
    "start_time": "2022-04-11T14:40:31.108Z"
   },
   {
    "duration": 9,
    "start_time": "2022-04-11T14:41:24.388Z"
   },
   {
    "duration": 10,
    "start_time": "2022-04-11T14:41:29.653Z"
   },
   {
    "duration": 10,
    "start_time": "2022-04-11T14:41:34.163Z"
   },
   {
    "duration": 9,
    "start_time": "2022-04-11T14:41:46.596Z"
   },
   {
    "duration": 7,
    "start_time": "2022-04-11T14:42:05.460Z"
   },
   {
    "duration": 5,
    "start_time": "2022-04-11T14:43:27.267Z"
   },
   {
    "duration": 10,
    "start_time": "2022-04-11T14:43:40.932Z"
   },
   {
    "duration": 7,
    "start_time": "2022-04-11T14:43:52.372Z"
   },
   {
    "duration": 8,
    "start_time": "2022-04-11T14:45:26.981Z"
   },
   {
    "duration": 12,
    "start_time": "2022-04-11T14:45:47.587Z"
   },
   {
    "duration": 10,
    "start_time": "2022-04-11T14:51:49.716Z"
   },
   {
    "duration": 11,
    "start_time": "2022-04-11T14:53:16.550Z"
   },
   {
    "duration": 6,
    "start_time": "2022-04-11T14:53:36.716Z"
   },
   {
    "duration": 4,
    "start_time": "2022-04-11T14:53:50.614Z"
   },
   {
    "duration": 6,
    "start_time": "2022-04-11T14:54:38.103Z"
   },
   {
    "duration": 6,
    "start_time": "2022-04-11T14:55:58.725Z"
   },
   {
    "duration": 6,
    "start_time": "2022-04-11T14:56:18.087Z"
   },
   {
    "duration": 6,
    "start_time": "2022-04-11T14:57:22.214Z"
   },
   {
    "duration": 7,
    "start_time": "2022-04-11T14:57:43.047Z"
   },
   {
    "duration": 8,
    "start_time": "2022-04-11T14:58:03.670Z"
   },
   {
    "duration": 8,
    "start_time": "2022-04-11T14:58:51.768Z"
   },
   {
    "duration": 7,
    "start_time": "2022-04-11T15:00:46.694Z"
   },
   {
    "duration": 3,
    "start_time": "2022-04-11T15:00:49.397Z"
   },
   {
    "duration": 67,
    "start_time": "2022-04-11T15:00:53.396Z"
   },
   {
    "duration": 20,
    "start_time": "2022-04-11T15:00:53.466Z"
   },
   {
    "duration": 6,
    "start_time": "2022-04-11T15:00:53.487Z"
   },
   {
    "duration": 9,
    "start_time": "2022-04-11T15:00:53.494Z"
   },
   {
    "duration": 5,
    "start_time": "2022-04-11T15:00:53.505Z"
   },
   {
    "duration": 10,
    "start_time": "2022-04-11T15:01:42.554Z"
   },
   {
    "duration": 8,
    "start_time": "2022-04-11T15:01:55.958Z"
   },
   {
    "duration": 1084,
    "start_time": "2022-04-11T15:02:11.063Z"
   },
   {
    "duration": 4,
    "start_time": "2022-04-11T15:03:04.391Z"
   },
   {
    "duration": 5,
    "start_time": "2022-04-11T15:03:27.894Z"
   },
   {
    "duration": 4,
    "start_time": "2022-04-11T15:03:38.888Z"
   },
   {
    "duration": 17,
    "start_time": "2022-04-11T15:04:06.614Z"
   },
   {
    "duration": 5,
    "start_time": "2022-04-11T15:04:16.326Z"
   },
   {
    "duration": 4,
    "start_time": "2022-04-11T15:04:36.103Z"
   },
   {
    "duration": 8,
    "start_time": "2022-04-11T15:04:55.751Z"
   },
   {
    "duration": 5,
    "start_time": "2022-04-11T15:05:06.024Z"
   },
   {
    "duration": 4,
    "start_time": "2022-04-11T15:05:47.400Z"
   },
   {
    "duration": 58,
    "start_time": "2022-04-11T15:06:47.383Z"
   },
   {
    "duration": 55,
    "start_time": "2022-04-11T15:06:54.070Z"
   },
   {
    "duration": 76,
    "start_time": "2022-04-11T15:07:08.293Z"
   },
   {
    "duration": 4,
    "start_time": "2022-04-11T15:08:46.183Z"
   },
   {
    "duration": 4,
    "start_time": "2022-04-11T15:08:54.534Z"
   },
   {
    "duration": 5,
    "start_time": "2022-04-11T15:08:56.791Z"
   },
   {
    "duration": 8,
    "start_time": "2022-04-11T15:12:48.087Z"
   },
   {
    "duration": 7,
    "start_time": "2022-04-11T15:15:24.664Z"
   },
   {
    "duration": 12,
    "start_time": "2022-04-11T15:16:44.810Z"
   },
   {
    "duration": 14,
    "start_time": "2022-04-11T15:16:51.455Z"
   },
   {
    "duration": 7,
    "start_time": "2022-04-11T15:17:17.180Z"
   },
   {
    "duration": 10,
    "start_time": "2022-04-11T15:18:11.177Z"
   },
   {
    "duration": 10,
    "start_time": "2022-04-11T15:18:19.499Z"
   },
   {
    "duration": 9,
    "start_time": "2022-04-11T15:19:21.977Z"
   },
   {
    "duration": 10,
    "start_time": "2022-04-11T15:19:35.769Z"
   },
   {
    "duration": 4,
    "start_time": "2022-04-11T15:27:12.489Z"
   },
   {
    "duration": 4,
    "start_time": "2022-04-11T15:27:56.183Z"
   },
   {
    "duration": 6,
    "start_time": "2022-04-11T15:28:00.357Z"
   },
   {
    "duration": 5,
    "start_time": "2022-04-11T15:28:19.574Z"
   },
   {
    "duration": 6,
    "start_time": "2022-04-11T15:31:58.007Z"
   },
   {
    "duration": 7,
    "start_time": "2022-04-11T15:32:17.189Z"
   },
   {
    "duration": 4,
    "start_time": "2022-04-11T15:35:47.511Z"
   },
   {
    "duration": 6,
    "start_time": "2022-04-11T15:36:12.086Z"
   },
   {
    "duration": 8,
    "start_time": "2022-04-11T15:36:29.205Z"
   },
   {
    "duration": 5,
    "start_time": "2022-04-11T15:36:55.094Z"
   },
   {
    "duration": 8,
    "start_time": "2022-04-11T15:37:52.248Z"
   },
   {
    "duration": 9,
    "start_time": "2022-04-11T15:39:35.799Z"
   },
   {
    "duration": 31,
    "start_time": "2022-04-11T15:41:02.455Z"
   },
   {
    "duration": 6,
    "start_time": "2022-04-11T15:41:36.745Z"
   },
   {
    "duration": 7,
    "start_time": "2022-04-11T15:42:09.304Z"
   },
   {
    "duration": 6,
    "start_time": "2022-04-11T15:42:23.096Z"
   },
   {
    "duration": 4,
    "start_time": "2022-04-11T15:42:58.792Z"
   },
   {
    "duration": 9,
    "start_time": "2022-04-11T15:46:14.793Z"
   },
   {
    "duration": 6,
    "start_time": "2022-04-11T15:46:47.113Z"
   },
   {
    "duration": 61,
    "start_time": "2022-04-11T15:48:26.251Z"
   },
   {
    "duration": 62,
    "start_time": "2022-04-11T15:48:38.763Z"
   },
   {
    "duration": 14,
    "start_time": "2022-04-11T15:50:05.449Z"
   },
   {
    "duration": 15,
    "start_time": "2022-04-11T15:53:00.040Z"
   },
   {
    "duration": 16,
    "start_time": "2022-04-11T15:53:18.505Z"
   },
   {
    "duration": 12,
    "start_time": "2022-04-11T15:54:18.600Z"
   },
   {
    "duration": 18,
    "start_time": "2022-04-11T15:54:22.073Z"
   },
   {
    "duration": 17,
    "start_time": "2022-04-11T15:54:32.426Z"
   },
   {
    "duration": 112,
    "start_time": "2022-04-11T15:58:47.481Z"
   },
   {
    "duration": 31,
    "start_time": "2022-04-11T16:02:53.004Z"
   },
   {
    "duration": 29,
    "start_time": "2022-04-11T16:03:33.592Z"
   },
   {
    "duration": 106,
    "start_time": "2022-04-11T16:04:45.959Z"
   },
   {
    "duration": 8,
    "start_time": "2022-04-11T16:05:57.752Z"
   },
   {
    "duration": 6,
    "start_time": "2022-04-11T16:06:40.906Z"
   },
   {
    "duration": 6,
    "start_time": "2022-04-11T16:07:48.394Z"
   },
   {
    "duration": 203,
    "start_time": "2022-04-11T16:08:34.939Z"
   },
   {
    "duration": 9,
    "start_time": "2022-04-11T16:11:41.652Z"
   },
   {
    "duration": 6,
    "start_time": "2022-04-11T16:14:38.542Z"
   },
   {
    "duration": 19,
    "start_time": "2022-04-11T16:16:12.512Z"
   },
   {
    "duration": 35,
    "start_time": "2022-04-11T16:18:06.271Z"
   },
   {
    "duration": 35,
    "start_time": "2022-04-11T16:39:07.301Z"
   },
   {
    "duration": 12,
    "start_time": "2022-04-11T16:39:23.438Z"
   },
   {
    "duration": 12,
    "start_time": "2022-04-11T16:39:31.116Z"
   },
   {
    "duration": 16,
    "start_time": "2022-04-11T16:39:43.155Z"
   },
   {
    "duration": 17,
    "start_time": "2022-04-11T16:40:24.525Z"
   },
   {
    "duration": 120,
    "start_time": "2022-04-11T16:40:35.169Z"
   },
   {
    "duration": 22,
    "start_time": "2022-04-11T16:40:35.291Z"
   },
   {
    "duration": 22,
    "start_time": "2022-04-11T16:40:35.323Z"
   },
   {
    "duration": 7,
    "start_time": "2022-04-11T16:40:35.348Z"
   },
   {
    "duration": 8,
    "start_time": "2022-04-11T16:40:35.356Z"
   },
   {
    "duration": 15,
    "start_time": "2022-04-11T16:40:35.365Z"
   },
   {
    "duration": 45,
    "start_time": "2022-04-11T16:40:35.381Z"
   },
   {
    "duration": 30,
    "start_time": "2022-04-11T16:40:35.428Z"
   },
   {
    "duration": 7,
    "start_time": "2022-04-11T16:40:35.459Z"
   },
   {
    "duration": 12,
    "start_time": "2022-04-11T16:40:35.468Z"
   },
   {
    "duration": 14,
    "start_time": "2022-04-11T16:40:35.482Z"
   },
   {
    "duration": 8,
    "start_time": "2022-04-11T16:45:46.912Z"
   },
   {
    "duration": 1776,
    "start_time": "2022-04-11T16:47:54.270Z"
   },
   {
    "duration": 2016,
    "start_time": "2022-04-11T16:49:59.502Z"
   },
   {
    "duration": 64,
    "start_time": "2022-04-11T16:50:11.127Z"
   },
   {
    "duration": 12,
    "start_time": "2022-04-11T16:50:11.194Z"
   },
   {
    "duration": 30,
    "start_time": "2022-04-11T16:50:11.207Z"
   },
   {
    "duration": 5,
    "start_time": "2022-04-11T16:50:11.239Z"
   },
   {
    "duration": 5,
    "start_time": "2022-04-11T16:50:11.246Z"
   },
   {
    "duration": 12,
    "start_time": "2022-04-11T16:50:11.252Z"
   },
   {
    "duration": 65,
    "start_time": "2022-04-11T16:50:11.266Z"
   },
   {
    "duration": 29,
    "start_time": "2022-04-11T16:50:11.332Z"
   },
   {
    "duration": 5,
    "start_time": "2022-04-11T16:50:11.363Z"
   },
   {
    "duration": 9,
    "start_time": "2022-04-11T16:50:11.370Z"
   },
   {
    "duration": 2020,
    "start_time": "2022-04-11T16:50:11.380Z"
   },
   {
    "duration": 648,
    "start_time": "2022-04-11T20:55:33.002Z"
   },
   {
    "duration": 25,
    "start_time": "2022-04-11T20:55:47.600Z"
   },
   {
    "duration": 16,
    "start_time": "2022-04-11T21:01:55.642Z"
   },
   {
    "duration": 5,
    "start_time": "2022-04-11T21:02:18.129Z"
   },
   {
    "duration": 15,
    "start_time": "2022-04-11T21:08:25.178Z"
   },
   {
    "duration": 6,
    "start_time": "2022-04-11T21:08:28.016Z"
   },
   {
    "duration": 10,
    "start_time": "2022-04-11T21:09:00.810Z"
   },
   {
    "duration": 11,
    "start_time": "2022-04-11T21:10:09.229Z"
   },
   {
    "duration": 20,
    "start_time": "2022-04-11T21:10:29.651Z"
   },
   {
    "duration": 175,
    "start_time": "2022-04-11T21:10:43.966Z"
   },
   {
    "duration": 29,
    "start_time": "2022-04-11T21:10:51.886Z"
   },
   {
    "duration": 10,
    "start_time": "2022-04-11T21:13:56.065Z"
   },
   {
    "duration": 9,
    "start_time": "2022-04-11T21:14:17.681Z"
   },
   {
    "duration": 22,
    "start_time": "2022-04-11T21:15:27.132Z"
   },
   {
    "duration": 12,
    "start_time": "2022-04-11T21:21:59.195Z"
   },
   {
    "duration": 15,
    "start_time": "2022-04-11T21:22:08.780Z"
   },
   {
    "duration": 185,
    "start_time": "2022-04-11T21:49:52.308Z"
   },
   {
    "duration": 8,
    "start_time": "2022-04-11T21:49:58.064Z"
   },
   {
    "duration": 8,
    "start_time": "2022-04-11T21:50:00.623Z"
   },
   {
    "duration": 7,
    "start_time": "2022-04-11T21:50:36.641Z"
   },
   {
    "duration": 17,
    "start_time": "2022-04-11T21:51:06.116Z"
   },
   {
    "duration": 189,
    "start_time": "2022-04-11T21:52:24.983Z"
   },
   {
    "duration": 103,
    "start_time": "2022-04-11T21:53:28.411Z"
   },
   {
    "duration": 14,
    "start_time": "2022-04-11T21:54:15.988Z"
   },
   {
    "duration": 28,
    "start_time": "2022-04-11T21:54:34.245Z"
   },
   {
    "duration": 13,
    "start_time": "2022-04-11T21:58:17.020Z"
   },
   {
    "duration": 10,
    "start_time": "2022-04-11T21:58:21.751Z"
   },
   {
    "duration": 20,
    "start_time": "2022-04-11T21:59:54.258Z"
   },
   {
    "duration": 19,
    "start_time": "2022-04-11T22:01:37.075Z"
   },
   {
    "duration": 244,
    "start_time": "2022-04-11T22:04:02.213Z"
   },
   {
    "duration": 246,
    "start_time": "2022-04-11T22:04:17.037Z"
   },
   {
    "duration": 385,
    "start_time": "2022-04-11T22:06:42.066Z"
   },
   {
    "duration": 245,
    "start_time": "2022-04-11T22:06:56.046Z"
   },
   {
    "duration": 42,
    "start_time": "2022-04-11T22:07:05.926Z"
   },
   {
    "duration": 395,
    "start_time": "2022-04-11T22:07:22.726Z"
   },
   {
    "duration": 238,
    "start_time": "2022-04-11T22:07:28.286Z"
   },
   {
    "duration": 8,
    "start_time": "2022-04-11T22:07:33.607Z"
   },
   {
    "duration": 15,
    "start_time": "2022-04-11T22:07:35.606Z"
   },
   {
    "duration": 15,
    "start_time": "2022-04-11T22:07:55.151Z"
   },
   {
    "duration": 2724,
    "start_time": "2022-04-11T22:08:03.784Z"
   },
   {
    "duration": 10,
    "start_time": "2022-04-11T22:09:15.716Z"
   },
   {
    "duration": 7,
    "start_time": "2022-04-11T22:09:36.148Z"
   },
   {
    "duration": 711,
    "start_time": "2022-04-11T22:09:53.981Z"
   },
   {
    "duration": 2697,
    "start_time": "2022-04-11T22:10:24.735Z"
   },
   {
    "duration": 7,
    "start_time": "2022-04-11T22:10:51.327Z"
   },
   {
    "duration": 15,
    "start_time": "2022-04-11T22:11:46.666Z"
   },
   {
    "duration": 17,
    "start_time": "2022-04-11T22:12:04.515Z"
   },
   {
    "duration": 15,
    "start_time": "2022-04-11T22:12:07.660Z"
   },
   {
    "duration": 12,
    "start_time": "2022-04-11T22:12:10.819Z"
   },
   {
    "duration": 93,
    "start_time": "2022-04-11T22:12:15.189Z"
   },
   {
    "duration": 21,
    "start_time": "2022-04-11T22:12:15.285Z"
   },
   {
    "duration": 43,
    "start_time": "2022-04-11T22:12:15.308Z"
   },
   {
    "duration": 7,
    "start_time": "2022-04-11T22:12:15.353Z"
   },
   {
    "duration": 30,
    "start_time": "2022-04-11T22:12:15.364Z"
   },
   {
    "duration": 64,
    "start_time": "2022-04-11T22:12:15.396Z"
   },
   {
    "duration": 8,
    "start_time": "2022-04-11T22:12:15.463Z"
   },
   {
    "duration": 22,
    "start_time": "2022-04-11T22:12:15.474Z"
   },
   {
    "duration": 7,
    "start_time": "2022-04-11T22:12:15.498Z"
   },
   {
    "duration": 46,
    "start_time": "2022-04-11T22:12:15.507Z"
   },
   {
    "duration": 306,
    "start_time": "2022-04-11T22:12:15.555Z"
   },
   {
    "duration": 83,
    "start_time": "2022-04-11T22:12:15.864Z"
   },
   {
    "duration": 12,
    "start_time": "2022-04-11T22:12:15.950Z"
   },
   {
    "duration": 62,
    "start_time": "2022-04-11T22:12:15.967Z"
   },
   {
    "duration": 12,
    "start_time": "2022-04-11T22:12:16.032Z"
   },
   {
    "duration": 180,
    "start_time": "2022-04-11T22:13:38.686Z"
   },
   {
    "duration": 16,
    "start_time": "2022-04-11T22:13:42.816Z"
   },
   {
    "duration": 16,
    "start_time": "2022-04-11T22:14:06.952Z"
   },
   {
    "duration": 15,
    "start_time": "2022-04-11T22:14:13.688Z"
   },
   {
    "duration": 94,
    "start_time": "2022-04-11T22:14:17.556Z"
   },
   {
    "duration": 20,
    "start_time": "2022-04-11T22:14:17.653Z"
   },
   {
    "duration": 13,
    "start_time": "2022-04-11T22:14:17.675Z"
   },
   {
    "duration": 6,
    "start_time": "2022-04-11T22:14:17.690Z"
   },
   {
    "duration": 57,
    "start_time": "2022-04-11T22:14:17.700Z"
   },
   {
    "duration": 28,
    "start_time": "2022-04-11T22:14:17.759Z"
   },
   {
    "duration": 7,
    "start_time": "2022-04-11T22:14:17.790Z"
   },
   {
    "duration": 57,
    "start_time": "2022-04-11T22:14:17.799Z"
   },
   {
    "duration": 20,
    "start_time": "2022-04-11T22:14:17.858Z"
   },
   {
    "duration": 16,
    "start_time": "2022-04-11T22:14:17.880Z"
   },
   {
    "duration": 257,
    "start_time": "2022-04-11T22:14:17.899Z"
   },
   {
    "duration": 42,
    "start_time": "2022-04-11T22:14:18.158Z"
   },
   {
    "duration": 8,
    "start_time": "2022-04-11T22:14:18.203Z"
   },
   {
    "duration": 14,
    "start_time": "2022-04-11T22:14:18.243Z"
   },
   {
    "duration": 6,
    "start_time": "2022-04-11T22:14:18.259Z"
   },
   {
    "duration": 12,
    "start_time": "2022-04-11T22:14:39.681Z"
   },
   {
    "duration": 13,
    "start_time": "2022-04-11T22:14:49.209Z"
   },
   {
    "duration": 95,
    "start_time": "2022-04-11T22:14:53.548Z"
   },
   {
    "duration": 21,
    "start_time": "2022-04-11T22:14:53.646Z"
   },
   {
    "duration": 13,
    "start_time": "2022-04-11T22:14:53.670Z"
   },
   {
    "duration": 12,
    "start_time": "2022-04-11T22:14:53.685Z"
   },
   {
    "duration": 62,
    "start_time": "2022-04-11T22:14:53.701Z"
   },
   {
    "duration": 33,
    "start_time": "2022-04-11T22:14:53.766Z"
   },
   {
    "duration": 11,
    "start_time": "2022-04-11T22:14:53.801Z"
   },
   {
    "duration": 27,
    "start_time": "2022-04-11T22:14:53.843Z"
   },
   {
    "duration": 8,
    "start_time": "2022-04-11T22:14:53.873Z"
   },
   {
    "duration": 14,
    "start_time": "2022-04-11T22:14:53.884Z"
   },
   {
    "duration": 287,
    "start_time": "2022-04-11T22:14:53.901Z"
   },
   {
    "duration": 55,
    "start_time": "2022-04-11T22:14:54.191Z"
   },
   {
    "duration": 9,
    "start_time": "2022-04-11T22:14:54.248Z"
   },
   {
    "duration": 13,
    "start_time": "2022-04-11T22:14:54.261Z"
   },
   {
    "duration": 6,
    "start_time": "2022-04-11T22:14:54.276Z"
   },
   {
    "duration": 344,
    "start_time": "2022-04-11T22:16:56.855Z"
   },
   {
    "duration": 69,
    "start_time": "2022-04-11T22:17:05.273Z"
   },
   {
    "duration": 14,
    "start_time": "2022-04-11T22:18:03.683Z"
   },
   {
    "duration": 11,
    "start_time": "2022-04-11T22:18:11.667Z"
   },
   {
    "duration": 1679,
    "start_time": "2022-04-11T22:20:05.289Z"
   },
   {
    "duration": 1970,
    "start_time": "2022-04-11T22:20:15.568Z"
   },
   {
    "duration": 999,
    "start_time": "2022-04-11T22:20:32.786Z"
   },
   {
    "duration": 14,
    "start_time": "2022-04-11T22:21:41.316Z"
   },
   {
    "duration": 89,
    "start_time": "2022-04-11T22:23:59.579Z"
   },
   {
    "duration": 24,
    "start_time": "2022-04-11T22:23:59.671Z"
   },
   {
    "duration": 19,
    "start_time": "2022-04-11T22:23:59.697Z"
   },
   {
    "duration": 6,
    "start_time": "2022-04-11T22:23:59.744Z"
   },
   {
    "duration": 18,
    "start_time": "2022-04-11T22:23:59.761Z"
   },
   {
    "duration": 63,
    "start_time": "2022-04-11T22:23:59.781Z"
   },
   {
    "duration": 8,
    "start_time": "2022-04-11T22:23:59.846Z"
   },
   {
    "duration": 21,
    "start_time": "2022-04-11T22:23:59.856Z"
   },
   {
    "duration": 7,
    "start_time": "2022-04-11T22:23:59.879Z"
   },
   {
    "duration": 56,
    "start_time": "2022-04-11T22:23:59.888Z"
   },
   {
    "duration": 707,
    "start_time": "2022-04-11T22:23:59.946Z"
   },
   {
    "duration": 0,
    "start_time": "2022-04-11T22:24:00.655Z"
   },
   {
    "duration": 0,
    "start_time": "2022-04-11T22:24:00.657Z"
   },
   {
    "duration": 0,
    "start_time": "2022-04-11T22:24:00.658Z"
   },
   {
    "duration": 0,
    "start_time": "2022-04-11T22:24:00.660Z"
   },
   {
    "duration": 0,
    "start_time": "2022-04-11T22:24:00.661Z"
   },
   {
    "duration": 241,
    "start_time": "2022-04-11T22:24:24.132Z"
   },
   {
    "duration": 720,
    "start_time": "2022-04-11T22:24:54.669Z"
   },
   {
    "duration": 702,
    "start_time": "2022-04-11T22:25:11.493Z"
   },
   {
    "duration": 18,
    "start_time": "2022-04-11T22:35:50.489Z"
   },
   {
    "duration": 85,
    "start_time": "2022-04-11T22:35:57.068Z"
   },
   {
    "duration": 21,
    "start_time": "2022-04-11T22:35:57.156Z"
   },
   {
    "duration": 13,
    "start_time": "2022-04-11T22:35:57.179Z"
   },
   {
    "duration": 6,
    "start_time": "2022-04-11T22:35:57.194Z"
   },
   {
    "duration": 18,
    "start_time": "2022-04-11T22:35:57.243Z"
   },
   {
    "duration": 26,
    "start_time": "2022-04-11T22:35:57.264Z"
   },
   {
    "duration": 8,
    "start_time": "2022-04-11T22:35:57.292Z"
   },
   {
    "duration": 52,
    "start_time": "2022-04-11T22:35:57.302Z"
   },
   {
    "duration": 9,
    "start_time": "2022-04-11T22:35:57.357Z"
   },
   {
    "duration": 13,
    "start_time": "2022-04-11T22:35:57.368Z"
   },
   {
    "duration": 85,
    "start_time": "2022-04-11T22:35:57.383Z"
   },
   {
    "duration": 15,
    "start_time": "2022-04-11T22:35:57.470Z"
   },
   {
    "duration": 64,
    "start_time": "2022-04-11T22:35:57.488Z"
   },
   {
    "duration": 8,
    "start_time": "2022-04-11T22:35:57.556Z"
   },
   {
    "duration": 14,
    "start_time": "2022-04-11T22:35:57.567Z"
   },
   {
    "duration": 1533,
    "start_time": "2022-04-11T22:35:57.583Z"
   },
   {
    "duration": 10,
    "start_time": "2022-04-11T22:36:20.002Z"
   },
   {
    "duration": 41,
    "start_time": "2022-04-11T22:36:42.155Z"
   },
   {
    "duration": 88,
    "start_time": "2022-04-11T22:36:47.509Z"
   },
   {
    "duration": 21,
    "start_time": "2022-04-11T22:36:47.600Z"
   },
   {
    "duration": 27,
    "start_time": "2022-04-11T22:36:47.624Z"
   },
   {
    "duration": 7,
    "start_time": "2022-04-11T22:36:47.653Z"
   },
   {
    "duration": 19,
    "start_time": "2022-04-11T22:36:47.663Z"
   },
   {
    "duration": 67,
    "start_time": "2022-04-11T22:36:47.684Z"
   },
   {
    "duration": 8,
    "start_time": "2022-04-11T22:36:47.753Z"
   },
   {
    "duration": 20,
    "start_time": "2022-04-11T22:36:47.763Z"
   },
   {
    "duration": 7,
    "start_time": "2022-04-11T22:36:47.785Z"
   },
   {
    "duration": 51,
    "start_time": "2022-04-11T22:36:47.793Z"
   },
   {
    "duration": 50,
    "start_time": "2022-04-11T22:36:47.846Z"
   },
   {
    "duration": 13,
    "start_time": "2022-04-11T22:36:47.898Z"
   },
   {
    "duration": 63,
    "start_time": "2022-04-11T22:36:47.914Z"
   },
   {
    "duration": 9,
    "start_time": "2022-04-11T22:36:47.981Z"
   },
   {
    "duration": 22,
    "start_time": "2022-04-11T22:36:47.992Z"
   },
   {
    "duration": 34,
    "start_time": "2022-04-11T22:36:48.017Z"
   },
   {
    "duration": 10,
    "start_time": "2022-04-11T22:41:15.766Z"
   },
   {
    "duration": 28,
    "start_time": "2022-04-11T22:41:24.200Z"
   },
   {
    "duration": 34,
    "start_time": "2022-04-11T22:43:26.596Z"
   },
   {
    "duration": 50,
    "start_time": "2022-04-11T22:43:35.309Z"
   },
   {
    "duration": 49,
    "start_time": "2022-04-11T22:45:07.265Z"
   },
   {
    "duration": 49,
    "start_time": "2022-04-11T22:45:29.419Z"
   },
   {
    "duration": 9,
    "start_time": "2022-04-11T22:57:09.370Z"
   },
   {
    "duration": 10,
    "start_time": "2022-04-11T23:02:00.261Z"
   },
   {
    "duration": 173,
    "start_time": "2022-04-11T23:02:31.943Z"
   },
   {
    "duration": 15,
    "start_time": "2022-04-11T23:02:51.042Z"
   },
   {
    "duration": 5,
    "start_time": "2022-04-11T23:10:51.678Z"
   },
   {
    "duration": 30,
    "start_time": "2022-04-11T23:14:50.072Z"
   },
   {
    "duration": 28,
    "start_time": "2022-04-11T23:28:25.049Z"
   },
   {
    "duration": 14,
    "start_time": "2022-04-11T23:32:00.811Z"
   },
   {
    "duration": 15,
    "start_time": "2022-04-11T23:33:34.215Z"
   },
   {
    "duration": 13,
    "start_time": "2022-04-11T23:34:51.371Z"
   },
   {
    "duration": 13,
    "start_time": "2022-04-11T23:35:18.972Z"
   },
   {
    "duration": 15,
    "start_time": "2022-04-11T23:38:16.004Z"
   },
   {
    "duration": 13,
    "start_time": "2022-04-11T23:38:27.132Z"
   },
   {
    "duration": 9,
    "start_time": "2022-04-11T23:38:56.238Z"
   },
   {
    "duration": 48,
    "start_time": "2022-04-11T23:39:23.287Z"
   },
   {
    "duration": 16,
    "start_time": "2022-04-11T23:40:58.379Z"
   },
   {
    "duration": 12,
    "start_time": "2022-04-11T23:41:04.116Z"
   },
   {
    "duration": 28,
    "start_time": "2022-04-11T23:42:30.431Z"
   },
   {
    "duration": 15,
    "start_time": "2022-04-11T23:44:08.932Z"
   },
   {
    "duration": 13,
    "start_time": "2022-04-11T23:44:26.571Z"
   },
   {
    "duration": 10,
    "start_time": "2022-04-11T23:45:56.249Z"
   },
   {
    "duration": 10,
    "start_time": "2022-04-11T23:46:17.442Z"
   },
   {
    "duration": 13,
    "start_time": "2022-04-11T23:46:53.770Z"
   },
   {
    "duration": 13,
    "start_time": "2022-04-11T23:53:11.328Z"
   },
   {
    "duration": 4,
    "start_time": "2022-04-11T23:57:20.933Z"
   },
   {
    "duration": 20,
    "start_time": "2022-04-12T00:00:33.501Z"
   },
   {
    "duration": 13,
    "start_time": "2022-04-12T00:00:48.950Z"
   },
   {
    "duration": 15,
    "start_time": "2022-04-12T00:01:49.672Z"
   },
   {
    "duration": 14,
    "start_time": "2022-04-12T00:02:09.737Z"
   },
   {
    "duration": 14,
    "start_time": "2022-04-12T00:02:12.201Z"
   },
   {
    "duration": 97,
    "start_time": "2022-04-12T00:02:17.578Z"
   },
   {
    "duration": 20,
    "start_time": "2022-04-12T00:02:17.677Z"
   },
   {
    "duration": 20,
    "start_time": "2022-04-12T00:02:17.699Z"
   },
   {
    "duration": 22,
    "start_time": "2022-04-12T00:02:17.722Z"
   },
   {
    "duration": 19,
    "start_time": "2022-04-12T00:02:17.747Z"
   },
   {
    "duration": 26,
    "start_time": "2022-04-12T00:02:17.768Z"
   },
   {
    "duration": 7,
    "start_time": "2022-04-12T00:02:17.796Z"
   },
   {
    "duration": 57,
    "start_time": "2022-04-12T00:02:17.805Z"
   },
   {
    "duration": 10,
    "start_time": "2022-04-12T00:02:17.864Z"
   },
   {
    "duration": 12,
    "start_time": "2022-04-12T00:02:17.876Z"
   },
   {
    "duration": 76,
    "start_time": "2022-04-12T00:02:17.890Z"
   },
   {
    "duration": 39,
    "start_time": "2022-04-12T00:02:17.968Z"
   },
   {
    "duration": 9,
    "start_time": "2022-04-12T00:02:18.009Z"
   },
   {
    "duration": 13,
    "start_time": "2022-04-12T00:02:18.045Z"
   },
   {
    "duration": 10,
    "start_time": "2022-04-12T00:02:18.060Z"
   },
   {
    "duration": 34,
    "start_time": "2022-04-12T00:02:18.072Z"
   },
   {
    "duration": 67,
    "start_time": "2022-04-12T00:02:18.108Z"
   },
   {
    "duration": 7,
    "start_time": "2022-04-12T00:02:18.177Z"
   },
   {
    "duration": 11,
    "start_time": "2022-04-12T00:02:18.186Z"
   },
   {
    "duration": 16,
    "start_time": "2022-04-12T00:02:18.199Z"
   },
   {
    "duration": 53,
    "start_time": "2022-04-12T00:02:18.217Z"
   },
   {
    "duration": 29,
    "start_time": "2022-04-12T00:02:18.272Z"
   },
   {
    "duration": 40,
    "start_time": "2022-04-12T00:02:18.303Z"
   },
   {
    "duration": 13,
    "start_time": "2022-04-12T00:02:18.345Z"
   },
   {
    "duration": 14,
    "start_time": "2022-04-12T00:03:28.485Z"
   },
   {
    "duration": 91,
    "start_time": "2022-04-12T00:03:39.081Z"
   },
   {
    "duration": 21,
    "start_time": "2022-04-12T00:03:39.175Z"
   },
   {
    "duration": 19,
    "start_time": "2022-04-12T00:03:39.198Z"
   },
   {
    "duration": 27,
    "start_time": "2022-04-12T00:03:39.219Z"
   },
   {
    "duration": 20,
    "start_time": "2022-04-12T00:03:39.249Z"
   },
   {
    "duration": 27,
    "start_time": "2022-04-12T00:03:39.271Z"
   },
   {
    "duration": 44,
    "start_time": "2022-04-12T00:03:39.300Z"
   },
   {
    "duration": 22,
    "start_time": "2022-04-12T00:03:39.346Z"
   },
   {
    "duration": 12,
    "start_time": "2022-04-12T00:03:39.370Z"
   },
   {
    "duration": 12,
    "start_time": "2022-04-12T00:03:39.384Z"
   },
   {
    "duration": 72,
    "start_time": "2022-04-12T00:03:39.398Z"
   },
   {
    "duration": 42,
    "start_time": "2022-04-12T00:03:39.473Z"
   },
   {
    "duration": 30,
    "start_time": "2022-04-12T00:03:39.517Z"
   },
   {
    "duration": 15,
    "start_time": "2022-04-12T00:03:39.551Z"
   },
   {
    "duration": 10,
    "start_time": "2022-04-12T00:03:39.568Z"
   },
   {
    "duration": 62,
    "start_time": "2022-04-12T00:03:39.580Z"
   },
   {
    "duration": 53,
    "start_time": "2022-04-12T00:03:39.645Z"
   },
   {
    "duration": 51,
    "start_time": "2022-04-12T00:03:39.700Z"
   },
   {
    "duration": 10,
    "start_time": "2022-04-12T00:03:39.754Z"
   },
   {
    "duration": 18,
    "start_time": "2022-04-12T00:03:39.766Z"
   },
   {
    "duration": 59,
    "start_time": "2022-04-12T00:03:39.786Z"
   },
   {
    "duration": 28,
    "start_time": "2022-04-12T00:03:39.847Z"
   },
   {
    "duration": 15,
    "start_time": "2022-04-12T00:03:39.878Z"
   },
   {
    "duration": 12,
    "start_time": "2022-04-12T00:03:39.895Z"
   },
   {
    "duration": 88,
    "start_time": "2022-04-12T00:05:10.134Z"
   },
   {
    "duration": 35,
    "start_time": "2022-04-12T00:05:10.226Z"
   },
   {
    "duration": 15,
    "start_time": "2022-04-12T00:05:10.263Z"
   },
   {
    "duration": 7,
    "start_time": "2022-04-12T00:05:10.280Z"
   },
   {
    "duration": 55,
    "start_time": "2022-04-12T00:05:10.290Z"
   },
   {
    "duration": 26,
    "start_time": "2022-04-12T00:05:10.347Z"
   },
   {
    "duration": 7,
    "start_time": "2022-04-12T00:05:10.375Z"
   },
   {
    "duration": 20,
    "start_time": "2022-04-12T00:05:10.385Z"
   },
   {
    "duration": 7,
    "start_time": "2022-04-12T00:05:10.443Z"
   },
   {
    "duration": 15,
    "start_time": "2022-04-12T00:05:10.452Z"
   },
   {
    "duration": 36,
    "start_time": "2022-04-12T00:05:10.469Z"
   },
   {
    "duration": 70,
    "start_time": "2022-04-12T00:05:10.507Z"
   },
   {
    "duration": 10,
    "start_time": "2022-04-12T00:05:10.579Z"
   },
   {
    "duration": 13,
    "start_time": "2022-04-12T00:05:10.595Z"
   },
   {
    "duration": 12,
    "start_time": "2022-04-12T00:05:10.643Z"
   },
   {
    "duration": 34,
    "start_time": "2022-04-12T00:05:10.658Z"
   },
   {
    "duration": 74,
    "start_time": "2022-04-12T00:05:10.695Z"
   },
   {
    "duration": 26,
    "start_time": "2022-04-12T00:05:10.771Z"
   },
   {
    "duration": 0,
    "start_time": "2022-04-12T00:05:10.800Z"
   },
   {
    "duration": 0,
    "start_time": "2022-04-12T00:05:10.802Z"
   },
   {
    "duration": 0,
    "start_time": "2022-04-12T00:05:10.804Z"
   },
   {
    "duration": 0,
    "start_time": "2022-04-12T00:05:10.807Z"
   },
   {
    "duration": 0,
    "start_time": "2022-04-12T00:05:10.808Z"
   },
   {
    "duration": 0,
    "start_time": "2022-04-12T00:05:10.810Z"
   },
   {
    "duration": 102,
    "start_time": "2022-04-12T00:05:37.942Z"
   },
   {
    "duration": 21,
    "start_time": "2022-04-12T00:05:38.048Z"
   },
   {
    "duration": 13,
    "start_time": "2022-04-12T00:05:38.071Z"
   },
   {
    "duration": 5,
    "start_time": "2022-04-12T00:05:38.087Z"
   },
   {
    "duration": 57,
    "start_time": "2022-04-12T00:05:38.095Z"
   },
   {
    "duration": 26,
    "start_time": "2022-04-12T00:05:38.155Z"
   },
   {
    "duration": 7,
    "start_time": "2022-04-12T00:05:38.183Z"
   },
   {
    "duration": 53,
    "start_time": "2022-04-12T00:05:38.192Z"
   },
   {
    "duration": 13,
    "start_time": "2022-04-12T00:05:38.247Z"
   },
   {
    "duration": 12,
    "start_time": "2022-04-12T00:05:38.262Z"
   },
   {
    "duration": 38,
    "start_time": "2022-04-12T00:05:38.276Z"
   },
   {
    "duration": 43,
    "start_time": "2022-04-12T00:05:38.344Z"
   },
   {
    "duration": 9,
    "start_time": "2022-04-12T00:05:38.389Z"
   },
   {
    "duration": 45,
    "start_time": "2022-04-12T00:05:38.402Z"
   },
   {
    "duration": 11,
    "start_time": "2022-04-12T00:05:38.449Z"
   },
   {
    "duration": 25,
    "start_time": "2022-04-12T00:05:38.462Z"
   },
   {
    "duration": 82,
    "start_time": "2022-04-12T00:05:38.489Z"
   },
   {
    "duration": 24,
    "start_time": "2022-04-12T00:05:38.573Z"
   },
   {
    "duration": 0,
    "start_time": "2022-04-12T00:05:38.600Z"
   },
   {
    "duration": 0,
    "start_time": "2022-04-12T00:05:38.601Z"
   },
   {
    "duration": 0,
    "start_time": "2022-04-12T00:05:38.603Z"
   },
   {
    "duration": 0,
    "start_time": "2022-04-12T00:05:38.604Z"
   },
   {
    "duration": 1,
    "start_time": "2022-04-12T00:05:38.605Z"
   },
   {
    "duration": 0,
    "start_time": "2022-04-12T00:05:38.607Z"
   },
   {
    "duration": 87,
    "start_time": "2022-04-12T00:05:57.463Z"
   },
   {
    "duration": 21,
    "start_time": "2022-04-12T00:05:57.553Z"
   },
   {
    "duration": 13,
    "start_time": "2022-04-12T00:05:57.576Z"
   },
   {
    "duration": 9,
    "start_time": "2022-04-12T00:05:57.591Z"
   },
   {
    "duration": 49,
    "start_time": "2022-04-12T00:05:57.603Z"
   },
   {
    "duration": 26,
    "start_time": "2022-04-12T00:05:57.654Z"
   },
   {
    "duration": 7,
    "start_time": "2022-04-12T00:05:57.682Z"
   },
   {
    "duration": 57,
    "start_time": "2022-04-12T00:05:57.691Z"
   },
   {
    "duration": 8,
    "start_time": "2022-04-12T00:05:57.750Z"
   },
   {
    "duration": 12,
    "start_time": "2022-04-12T00:05:57.760Z"
   },
   {
    "duration": 70,
    "start_time": "2022-04-12T00:05:57.774Z"
   },
   {
    "duration": 40,
    "start_time": "2022-04-12T00:05:57.846Z"
   },
   {
    "duration": 10,
    "start_time": "2022-04-12T00:05:57.888Z"
   },
   {
    "duration": 45,
    "start_time": "2022-04-12T00:05:57.901Z"
   },
   {
    "duration": 10,
    "start_time": "2022-04-12T00:05:57.949Z"
   },
   {
    "duration": 28,
    "start_time": "2022-04-12T00:05:57.961Z"
   },
   {
    "duration": 80,
    "start_time": "2022-04-12T00:05:57.991Z"
   },
   {
    "duration": 19,
    "start_time": "2022-04-12T00:05:58.073Z"
   },
   {
    "duration": 10,
    "start_time": "2022-04-12T00:05:58.094Z"
   },
   {
    "duration": 44,
    "start_time": "2022-04-12T00:05:58.107Z"
   },
   {
    "duration": 39,
    "start_time": "2022-04-12T00:05:58.153Z"
   },
   {
    "duration": 31,
    "start_time": "2022-04-12T00:05:58.195Z"
   },
   {
    "duration": 24,
    "start_time": "2022-04-12T00:05:58.229Z"
   },
   {
    "duration": 12,
    "start_time": "2022-04-12T00:05:58.256Z"
   },
   {
    "duration": 14,
    "start_time": "2022-04-12T00:10:30.921Z"
   },
   {
    "duration": 88,
    "start_time": "2022-04-12T00:10:36.931Z"
   },
   {
    "duration": 32,
    "start_time": "2022-04-12T00:10:37.022Z"
   },
   {
    "duration": 12,
    "start_time": "2022-04-12T00:10:37.056Z"
   },
   {
    "duration": 6,
    "start_time": "2022-04-12T00:10:37.070Z"
   },
   {
    "duration": 19,
    "start_time": "2022-04-12T00:10:37.079Z"
   },
   {
    "duration": 65,
    "start_time": "2022-04-12T00:10:37.100Z"
   },
   {
    "duration": 19,
    "start_time": "2022-04-12T00:10:37.167Z"
   },
   {
    "duration": 24,
    "start_time": "2022-04-12T00:10:37.188Z"
   },
   {
    "duration": 31,
    "start_time": "2022-04-12T00:10:37.214Z"
   },
   {
    "duration": 16,
    "start_time": "2022-04-12T00:10:37.247Z"
   },
   {
    "duration": 35,
    "start_time": "2022-04-12T00:10:37.265Z"
   },
   {
    "duration": 69,
    "start_time": "2022-04-12T00:10:37.302Z"
   },
   {
    "duration": 8,
    "start_time": "2022-04-12T00:10:37.373Z"
   },
   {
    "duration": 13,
    "start_time": "2022-04-12T00:10:37.386Z"
   },
   {
    "duration": 43,
    "start_time": "2022-04-12T00:10:37.401Z"
   },
   {
    "duration": 27,
    "start_time": "2022-04-12T00:10:37.446Z"
   },
   {
    "duration": 69,
    "start_time": "2022-04-12T00:10:37.475Z"
   },
   {
    "duration": 20,
    "start_time": "2022-04-12T00:10:37.546Z"
   },
   {
    "duration": 43,
    "start_time": "2022-04-12T00:10:37.568Z"
   },
   {
    "duration": 24,
    "start_time": "2022-04-12T00:10:37.614Z"
   },
   {
    "duration": 30,
    "start_time": "2022-04-12T00:10:37.640Z"
   },
   {
    "duration": 32,
    "start_time": "2022-04-12T00:10:37.672Z"
   },
   {
    "duration": 13,
    "start_time": "2022-04-12T00:10:37.706Z"
   },
   {
    "duration": 33,
    "start_time": "2022-04-12T00:10:37.721Z"
   },
   {
    "duration": 87,
    "start_time": "2022-04-12T00:13:42.140Z"
   },
   {
    "duration": 27,
    "start_time": "2022-04-12T00:13:42.230Z"
   },
   {
    "duration": 18,
    "start_time": "2022-04-12T00:13:42.259Z"
   },
   {
    "duration": 6,
    "start_time": "2022-04-12T00:13:42.279Z"
   },
   {
    "duration": 18,
    "start_time": "2022-04-12T00:13:42.288Z"
   },
   {
    "duration": 56,
    "start_time": "2022-04-12T00:13:42.308Z"
   },
   {
    "duration": 7,
    "start_time": "2022-04-12T00:13:42.366Z"
   },
   {
    "duration": 19,
    "start_time": "2022-04-12T00:13:42.375Z"
   },
   {
    "duration": 7,
    "start_time": "2022-04-12T00:13:42.396Z"
   },
   {
    "duration": 48,
    "start_time": "2022-04-12T00:13:42.405Z"
   },
   {
    "duration": 37,
    "start_time": "2022-04-12T00:13:42.455Z"
   },
   {
    "duration": 69,
    "start_time": "2022-04-12T00:13:42.494Z"
   },
   {
    "duration": 8,
    "start_time": "2022-04-12T00:13:42.566Z"
   },
   {
    "duration": 13,
    "start_time": "2022-04-12T00:13:42.577Z"
   },
   {
    "duration": 9,
    "start_time": "2022-04-12T00:13:42.592Z"
   },
   {
    "duration": 61,
    "start_time": "2022-04-12T00:13:42.603Z"
   },
   {
    "duration": 50,
    "start_time": "2022-04-12T00:13:42.666Z"
   },
   {
    "duration": 40,
    "start_time": "2022-04-12T00:13:42.718Z"
   },
   {
    "duration": 11,
    "start_time": "2022-04-12T00:13:42.760Z"
   },
   {
    "duration": 19,
    "start_time": "2022-04-12T00:13:42.773Z"
   },
   {
    "duration": 59,
    "start_time": "2022-04-12T00:13:42.794Z"
   },
   {
    "duration": 30,
    "start_time": "2022-04-12T00:13:42.856Z"
   },
   {
    "duration": 12,
    "start_time": "2022-04-12T00:13:42.889Z"
   },
   {
    "duration": 39,
    "start_time": "2022-04-12T00:13:42.904Z"
   },
   {
    "duration": 92,
    "start_time": "2022-04-12T00:18:48.088Z"
   },
   {
    "duration": 19,
    "start_time": "2022-04-12T00:18:48.183Z"
   },
   {
    "duration": 14,
    "start_time": "2022-04-12T00:18:48.205Z"
   },
   {
    "duration": 6,
    "start_time": "2022-04-12T00:18:48.245Z"
   },
   {
    "duration": 20,
    "start_time": "2022-04-12T00:18:48.254Z"
   },
   {
    "duration": 67,
    "start_time": "2022-04-12T00:18:48.276Z"
   },
   {
    "duration": 10,
    "start_time": "2022-04-12T00:18:48.346Z"
   },
   {
    "duration": 23,
    "start_time": "2022-04-12T00:18:48.358Z"
   },
   {
    "duration": 8,
    "start_time": "2022-04-12T00:18:48.383Z"
   },
   {
    "duration": 58,
    "start_time": "2022-04-12T00:18:48.397Z"
   },
   {
    "duration": 38,
    "start_time": "2022-04-12T00:18:48.458Z"
   },
   {
    "duration": 71,
    "start_time": "2022-04-12T00:18:48.499Z"
   },
   {
    "duration": 10,
    "start_time": "2022-04-12T00:18:48.573Z"
   },
   {
    "duration": 16,
    "start_time": "2022-04-12T00:18:48.585Z"
   },
   {
    "duration": 47,
    "start_time": "2022-04-12T00:18:48.604Z"
   },
   {
    "duration": 30,
    "start_time": "2022-04-12T00:18:48.653Z"
   },
   {
    "duration": 81,
    "start_time": "2022-04-12T00:18:48.686Z"
   },
   {
    "duration": 13,
    "start_time": "2022-04-12T00:18:48.770Z"
   },
   {
    "duration": 0,
    "start_time": "2022-04-12T00:18:48.786Z"
   },
   {
    "duration": 0,
    "start_time": "2022-04-12T00:18:48.788Z"
   },
   {
    "duration": 0,
    "start_time": "2022-04-12T00:18:48.790Z"
   },
   {
    "duration": 0,
    "start_time": "2022-04-12T00:18:48.793Z"
   },
   {
    "duration": 0,
    "start_time": "2022-04-12T00:18:48.795Z"
   },
   {
    "duration": 0,
    "start_time": "2022-04-12T00:18:48.797Z"
   },
   {
    "duration": 12,
    "start_time": "2022-04-12T00:19:41.088Z"
   },
   {
    "duration": 8,
    "start_time": "2022-04-12T00:19:47.227Z"
   },
   {
    "duration": 34,
    "start_time": "2022-04-12T00:19:47.238Z"
   },
   {
    "duration": 41,
    "start_time": "2022-04-12T00:19:47.274Z"
   },
   {
    "duration": 25,
    "start_time": "2022-04-12T00:19:47.317Z"
   },
   {
    "duration": 15,
    "start_time": "2022-04-12T00:19:47.345Z"
   },
   {
    "duration": 11,
    "start_time": "2022-04-12T00:19:47.362Z"
   },
   {
    "duration": 12,
    "start_time": "2022-04-12T00:19:54.800Z"
   },
   {
    "duration": 509,
    "start_time": "2022-04-12T06:51:34.900Z"
   },
   {
    "duration": 14,
    "start_time": "2022-04-12T06:51:35.411Z"
   },
   {
    "duration": 18,
    "start_time": "2022-04-12T06:51:35.427Z"
   },
   {
    "duration": 10,
    "start_time": "2022-04-12T06:51:35.447Z"
   },
   {
    "duration": 26,
    "start_time": "2022-04-12T06:51:35.459Z"
   },
   {
    "duration": 19,
    "start_time": "2022-04-12T06:51:35.486Z"
   },
   {
    "duration": 18,
    "start_time": "2022-04-12T06:51:35.506Z"
   },
   {
    "duration": 16,
    "start_time": "2022-04-12T06:51:35.525Z"
   },
   {
    "duration": 12,
    "start_time": "2022-04-12T06:51:35.543Z"
   },
   {
    "duration": 18,
    "start_time": "2022-04-12T06:51:35.557Z"
   },
   {
    "duration": 27,
    "start_time": "2022-04-12T06:51:35.577Z"
   },
   {
    "duration": 44,
    "start_time": "2022-04-12T06:51:35.606Z"
   },
   {
    "duration": 7,
    "start_time": "2022-04-12T06:51:35.652Z"
   },
   {
    "duration": 17,
    "start_time": "2022-04-12T06:51:35.663Z"
   },
   {
    "duration": 20,
    "start_time": "2022-04-12T06:51:35.682Z"
   },
   {
    "duration": 37,
    "start_time": "2022-04-12T06:51:35.704Z"
   },
   {
    "duration": 50,
    "start_time": "2022-04-12T06:51:35.743Z"
   },
   {
    "duration": 83,
    "start_time": "2022-04-12T06:51:35.794Z"
   },
   {
    "duration": 0,
    "start_time": "2022-04-12T06:51:35.879Z"
   },
   {
    "duration": 0,
    "start_time": "2022-04-12T06:51:35.880Z"
   },
   {
    "duration": 0,
    "start_time": "2022-04-12T06:51:35.881Z"
   },
   {
    "duration": 0,
    "start_time": "2022-04-12T06:51:35.882Z"
   },
   {
    "duration": 0,
    "start_time": "2022-04-12T06:51:35.883Z"
   },
   {
    "duration": 0,
    "start_time": "2022-04-12T06:51:35.885Z"
   },
   {
    "duration": 69,
    "start_time": "2022-04-12T06:51:59.711Z"
   },
   {
    "duration": 14,
    "start_time": "2022-04-12T06:51:59.782Z"
   },
   {
    "duration": 25,
    "start_time": "2022-04-12T06:51:59.798Z"
   },
   {
    "duration": 11,
    "start_time": "2022-04-12T06:51:59.825Z"
   },
   {
    "duration": 24,
    "start_time": "2022-04-12T06:51:59.838Z"
   },
   {
    "duration": 22,
    "start_time": "2022-04-12T06:51:59.864Z"
   },
   {
    "duration": 5,
    "start_time": "2022-04-12T06:51:59.887Z"
   },
   {
    "duration": 24,
    "start_time": "2022-04-12T06:51:59.893Z"
   },
   {
    "duration": 18,
    "start_time": "2022-04-12T06:51:59.919Z"
   },
   {
    "duration": 13,
    "start_time": "2022-04-12T06:51:59.939Z"
   },
   {
    "duration": 30,
    "start_time": "2022-04-12T06:51:59.954Z"
   },
   {
    "duration": 38,
    "start_time": "2022-04-12T06:51:59.986Z"
   },
   {
    "duration": 6,
    "start_time": "2022-04-12T06:52:00.026Z"
   },
   {
    "duration": 24,
    "start_time": "2022-04-12T06:52:00.035Z"
   },
   {
    "duration": 22,
    "start_time": "2022-04-12T06:52:00.060Z"
   },
   {
    "duration": 19,
    "start_time": "2022-04-12T06:52:00.084Z"
   },
   {
    "duration": 46,
    "start_time": "2022-04-12T06:52:00.105Z"
   },
   {
    "duration": 12,
    "start_time": "2022-04-12T06:52:00.153Z"
   },
   {
    "duration": 25,
    "start_time": "2022-04-12T06:52:00.167Z"
   },
   {
    "duration": 17,
    "start_time": "2022-04-12T06:52:00.194Z"
   },
   {
    "duration": 42,
    "start_time": "2022-04-12T06:52:00.213Z"
   },
   {
    "duration": 34,
    "start_time": "2022-04-12T06:52:00.257Z"
   },
   {
    "duration": 23,
    "start_time": "2022-04-12T06:52:00.293Z"
   },
   {
    "duration": 24,
    "start_time": "2022-04-12T06:52:00.318Z"
   },
   {
    "duration": 12,
    "start_time": "2022-04-12T06:57:10.356Z"
   },
   {
    "duration": 72,
    "start_time": "2022-04-12T06:57:15.184Z"
   },
   {
    "duration": 15,
    "start_time": "2022-04-12T06:57:15.258Z"
   },
   {
    "duration": 13,
    "start_time": "2022-04-12T06:57:15.274Z"
   },
   {
    "duration": 4,
    "start_time": "2022-04-12T06:57:15.289Z"
   },
   {
    "duration": 36,
    "start_time": "2022-04-12T06:57:15.295Z"
   },
   {
    "duration": 19,
    "start_time": "2022-04-12T06:57:15.332Z"
   },
   {
    "duration": 5,
    "start_time": "2022-04-12T06:57:15.353Z"
   },
   {
    "duration": 16,
    "start_time": "2022-04-12T06:57:15.360Z"
   },
   {
    "duration": 6,
    "start_time": "2022-04-12T06:57:15.377Z"
   },
   {
    "duration": 41,
    "start_time": "2022-04-12T06:57:15.384Z"
   },
   {
    "duration": 26,
    "start_time": "2022-04-12T06:57:15.427Z"
   },
   {
    "duration": 31,
    "start_time": "2022-04-12T06:57:15.455Z"
   },
   {
    "duration": 7,
    "start_time": "2022-04-12T06:57:15.487Z"
   },
   {
    "duration": 11,
    "start_time": "2022-04-12T06:57:15.524Z"
   },
   {
    "duration": 8,
    "start_time": "2022-04-12T06:57:15.536Z"
   },
   {
    "duration": 20,
    "start_time": "2022-04-12T06:57:15.545Z"
   },
   {
    "duration": 65,
    "start_time": "2022-04-12T06:57:15.567Z"
   },
   {
    "duration": 15,
    "start_time": "2022-04-12T06:57:15.633Z"
   },
   {
    "duration": 11,
    "start_time": "2022-04-12T06:57:48.456Z"
   },
   {
    "duration": 13,
    "start_time": "2022-04-12T06:59:11.828Z"
   },
   {
    "duration": 2640,
    "start_time": "2022-04-12T06:59:48.037Z"
   },
   {
    "duration": 2586,
    "start_time": "2022-04-12T07:00:04.151Z"
   },
   {
    "duration": 2668,
    "start_time": "2022-04-12T07:01:28.667Z"
   },
   {
    "duration": 0,
    "start_time": "2022-04-12T07:01:31.337Z"
   },
   {
    "duration": 0,
    "start_time": "2022-04-12T07:01:31.338Z"
   },
   {
    "duration": 0,
    "start_time": "2022-04-12T07:01:31.340Z"
   },
   {
    "duration": 0,
    "start_time": "2022-04-12T07:01:31.341Z"
   },
   {
    "duration": 0,
    "start_time": "2022-04-12T07:01:31.342Z"
   },
   {
    "duration": 0,
    "start_time": "2022-04-12T07:01:31.343Z"
   },
   {
    "duration": 79,
    "start_time": "2022-04-12T07:01:37.340Z"
   },
   {
    "duration": 12,
    "start_time": "2022-04-12T07:01:37.421Z"
   },
   {
    "duration": 28,
    "start_time": "2022-04-12T07:01:37.435Z"
   },
   {
    "duration": 22,
    "start_time": "2022-04-12T07:01:37.464Z"
   },
   {
    "duration": 42,
    "start_time": "2022-04-12T07:01:37.488Z"
   },
   {
    "duration": 27,
    "start_time": "2022-04-12T07:01:37.531Z"
   },
   {
    "duration": 20,
    "start_time": "2022-04-12T07:01:37.559Z"
   },
   {
    "duration": 45,
    "start_time": "2022-04-12T07:01:37.581Z"
   },
   {
    "duration": 20,
    "start_time": "2022-04-12T07:01:37.628Z"
   },
   {
    "duration": 35,
    "start_time": "2022-04-12T07:01:37.649Z"
   },
   {
    "duration": 54,
    "start_time": "2022-04-12T07:01:37.685Z"
   },
   {
    "duration": 32,
    "start_time": "2022-04-12T07:01:37.741Z"
   },
   {
    "duration": 23,
    "start_time": "2022-04-12T07:01:37.776Z"
   },
   {
    "duration": 28,
    "start_time": "2022-04-12T07:01:37.803Z"
   },
   {
    "duration": 31,
    "start_time": "2022-04-12T07:01:37.833Z"
   },
   {
    "duration": 47,
    "start_time": "2022-04-12T07:01:37.866Z"
   },
   {
    "duration": 36,
    "start_time": "2022-04-12T07:01:37.915Z"
   },
   {
    "duration": 2752,
    "start_time": "2022-04-12T07:01:55.403Z"
   },
   {
    "duration": 9,
    "start_time": "2022-04-12T07:02:00.959Z"
   },
   {
    "duration": 19,
    "start_time": "2022-04-12T07:02:00.971Z"
   },
   {
    "duration": 23,
    "start_time": "2022-04-12T07:02:00.991Z"
   },
   {
    "duration": 24,
    "start_time": "2022-04-12T07:02:01.016Z"
   },
   {
    "duration": 27,
    "start_time": "2022-04-12T07:02:01.042Z"
   },
   {
    "duration": 47,
    "start_time": "2022-04-12T07:02:01.071Z"
   },
   {
    "duration": 12,
    "start_time": "2022-04-12T07:02:11.965Z"
   },
   {
    "duration": 0,
    "start_time": "2022-04-12T07:02:11.979Z"
   },
   {
    "duration": 0,
    "start_time": "2022-04-12T07:02:11.980Z"
   },
   {
    "duration": 0,
    "start_time": "2022-04-12T07:02:11.982Z"
   },
   {
    "duration": 0,
    "start_time": "2022-04-12T07:02:11.983Z"
   },
   {
    "duration": 0,
    "start_time": "2022-04-12T07:02:11.983Z"
   },
   {
    "duration": 0,
    "start_time": "2022-04-12T07:02:11.984Z"
   },
   {
    "duration": 9,
    "start_time": "2022-04-12T07:05:18.356Z"
   },
   {
    "duration": 81,
    "start_time": "2022-04-12T07:05:23.806Z"
   },
   {
    "duration": 15,
    "start_time": "2022-04-12T07:05:23.889Z"
   },
   {
    "duration": 19,
    "start_time": "2022-04-12T07:05:23.905Z"
   },
   {
    "duration": 8,
    "start_time": "2022-04-12T07:05:23.925Z"
   },
   {
    "duration": 14,
    "start_time": "2022-04-12T07:05:23.936Z"
   },
   {
    "duration": 19,
    "start_time": "2022-04-12T07:05:23.952Z"
   },
   {
    "duration": 6,
    "start_time": "2022-04-12T07:05:23.972Z"
   },
   {
    "duration": 50,
    "start_time": "2022-04-12T07:05:23.980Z"
   },
   {
    "duration": 6,
    "start_time": "2022-04-12T07:05:24.032Z"
   },
   {
    "duration": 9,
    "start_time": "2022-04-12T07:05:24.039Z"
   },
   {
    "duration": 27,
    "start_time": "2022-04-12T07:05:24.050Z"
   },
   {
    "duration": 56,
    "start_time": "2022-04-12T07:05:24.078Z"
   },
   {
    "duration": 6,
    "start_time": "2022-04-12T07:05:24.136Z"
   },
   {
    "duration": 10,
    "start_time": "2022-04-12T07:05:24.145Z"
   },
   {
    "duration": 7,
    "start_time": "2022-04-12T07:05:24.156Z"
   },
   {
    "duration": 19,
    "start_time": "2022-04-12T07:05:24.165Z"
   },
   {
    "duration": 66,
    "start_time": "2022-04-12T07:05:24.185Z"
   },
   {
    "duration": 9,
    "start_time": "2022-04-12T07:05:24.252Z"
   },
   {
    "duration": 0,
    "start_time": "2022-04-12T07:05:24.262Z"
   },
   {
    "duration": 0,
    "start_time": "2022-04-12T07:05:24.264Z"
   },
   {
    "duration": 0,
    "start_time": "2022-04-12T07:05:24.266Z"
   },
   {
    "duration": 0,
    "start_time": "2022-04-12T07:05:24.267Z"
   },
   {
    "duration": 0,
    "start_time": "2022-04-12T07:05:24.269Z"
   },
   {
    "duration": 0,
    "start_time": "2022-04-12T07:05:24.270Z"
   },
   {
    "duration": 69,
    "start_time": "2022-04-12T07:06:12.753Z"
   },
   {
    "duration": 15,
    "start_time": "2022-04-12T07:06:15.216Z"
   },
   {
    "duration": 12,
    "start_time": "2022-04-12T07:06:17.752Z"
   },
   {
    "duration": 4,
    "start_time": "2022-04-12T07:06:19.521Z"
   },
   {
    "duration": 14,
    "start_time": "2022-04-12T07:06:22.009Z"
   },
   {
    "duration": 17,
    "start_time": "2022-04-12T07:06:24.377Z"
   },
   {
    "duration": 6,
    "start_time": "2022-04-12T07:06:26.921Z"
   },
   {
    "duration": 14,
    "start_time": "2022-04-12T07:06:28.729Z"
   },
   {
    "duration": 5,
    "start_time": "2022-04-12T07:06:39.001Z"
   },
   {
    "duration": 8,
    "start_time": "2022-04-12T07:06:40.497Z"
   },
   {
    "duration": 26,
    "start_time": "2022-04-12T07:06:43.073Z"
   },
   {
    "duration": 30,
    "start_time": "2022-04-12T07:06:45.354Z"
   },
   {
    "duration": 6,
    "start_time": "2022-04-12T07:06:50.226Z"
   },
   {
    "duration": 10,
    "start_time": "2022-04-12T07:06:51.785Z"
   },
   {
    "duration": 8,
    "start_time": "2022-04-12T07:06:54.185Z"
   },
   {
    "duration": 17,
    "start_time": "2022-04-12T07:06:56.890Z"
   },
   {
    "duration": 40,
    "start_time": "2022-04-12T07:06:58.626Z"
   },
   {
    "duration": 8,
    "start_time": "2022-04-12T07:07:01.378Z"
   },
   {
    "duration": 8,
    "start_time": "2022-04-12T07:07:12.832Z"
   },
   {
    "duration": 7,
    "start_time": "2022-04-12T07:09:40.426Z"
   },
   {
    "duration": 8,
    "start_time": "2022-04-12T07:10:03.466Z"
   },
   {
    "duration": 8,
    "start_time": "2022-04-12T07:10:44.117Z"
   },
   {
    "duration": 10,
    "start_time": "2022-04-12T07:15:02.783Z"
   },
   {
    "duration": 13,
    "start_time": "2022-04-12T07:16:46.193Z"
   },
   {
    "duration": 12,
    "start_time": "2022-04-12T07:16:53.508Z"
   },
   {
    "duration": 21,
    "start_time": "2022-04-12T07:17:16.950Z"
   },
   {
    "duration": 13,
    "start_time": "2022-04-12T07:17:39.268Z"
   },
   {
    "duration": 12,
    "start_time": "2022-04-12T07:18:41.954Z"
   },
   {
    "duration": 12,
    "start_time": "2022-04-12T07:18:57.250Z"
   },
   {
    "duration": 8,
    "start_time": "2022-04-12T07:21:05.456Z"
   },
   {
    "duration": 13,
    "start_time": "2022-04-12T07:21:27.405Z"
   },
   {
    "duration": 25,
    "start_time": "2022-04-12T07:26:23.436Z"
   },
   {
    "duration": 23,
    "start_time": "2022-04-12T07:26:41.224Z"
   },
   {
    "duration": 22,
    "start_time": "2022-04-12T07:26:53.487Z"
   },
   {
    "duration": 8,
    "start_time": "2022-04-12T07:26:57.742Z"
   },
   {
    "duration": 13,
    "start_time": "2022-04-12T07:26:59.998Z"
   },
   {
    "duration": 20,
    "start_time": "2022-04-12T07:27:03.952Z"
   },
   {
    "duration": 19,
    "start_time": "2022-04-12T07:27:06.640Z"
   },
   {
    "duration": 11,
    "start_time": "2022-04-12T07:27:09.567Z"
   },
   {
    "duration": 11,
    "start_time": "2022-04-12T07:27:46.560Z"
   },
   {
    "duration": 12,
    "start_time": "2022-04-12T07:31:17.655Z"
   },
   {
    "duration": 10,
    "start_time": "2022-04-12T07:31:50.331Z"
   },
   {
    "duration": 15,
    "start_time": "2022-04-12T07:35:57.783Z"
   },
   {
    "duration": 15,
    "start_time": "2022-04-12T07:37:13.963Z"
   },
   {
    "duration": 16,
    "start_time": "2022-04-12T07:38:02.845Z"
   },
   {
    "duration": 14,
    "start_time": "2022-04-12T07:39:59.450Z"
   },
   {
    "duration": 12,
    "start_time": "2022-04-12T07:42:06.600Z"
   },
   {
    "duration": 17,
    "start_time": "2022-04-12T07:44:05.268Z"
   },
   {
    "duration": 17,
    "start_time": "2022-04-12T07:55:06.959Z"
   },
   {
    "duration": 19,
    "start_time": "2022-04-12T07:56:23.676Z"
   },
   {
    "duration": 37,
    "start_time": "2022-04-12T07:56:53.421Z"
   },
   {
    "duration": 306,
    "start_time": "2022-04-12T07:57:33.206Z"
   },
   {
    "duration": 16,
    "start_time": "2022-04-12T07:57:48.216Z"
   },
   {
    "duration": 14,
    "start_time": "2022-04-12T07:57:52.584Z"
   },
   {
    "duration": 14,
    "start_time": "2022-04-12T07:58:16.786Z"
   },
   {
    "duration": 5,
    "start_time": "2022-04-12T07:58:30.970Z"
   },
   {
    "duration": 9,
    "start_time": "2022-04-12T07:58:35.766Z"
   },
   {
    "duration": 13,
    "start_time": "2022-04-12T08:03:14.740Z"
   },
   {
    "duration": 13,
    "start_time": "2022-04-12T08:06:57.496Z"
   },
   {
    "duration": 11,
    "start_time": "2022-04-12T08:10:27.660Z"
   },
   {
    "duration": 8,
    "start_time": "2022-04-12T08:10:31.731Z"
   },
   {
    "duration": 20,
    "start_time": "2022-04-12T08:10:36.539Z"
   },
   {
    "duration": 16,
    "start_time": "2022-04-12T08:11:00.313Z"
   },
   {
    "duration": 71,
    "start_time": "2022-04-12T08:13:19.282Z"
   },
   {
    "duration": 8,
    "start_time": "2022-04-12T08:14:35.413Z"
   },
   {
    "duration": 20,
    "start_time": "2022-04-12T08:15:07.838Z"
   },
   {
    "duration": 18,
    "start_time": "2022-04-12T08:15:16.239Z"
   },
   {
    "duration": 18,
    "start_time": "2022-04-12T08:16:34.931Z"
   },
   {
    "duration": 12,
    "start_time": "2022-04-12T08:22:09.647Z"
   },
   {
    "duration": 81,
    "start_time": "2022-04-12T08:22:12.897Z"
   },
   {
    "duration": 15,
    "start_time": "2022-04-12T08:22:12.980Z"
   },
   {
    "duration": 26,
    "start_time": "2022-04-12T08:22:12.997Z"
   },
   {
    "duration": 7,
    "start_time": "2022-04-12T08:22:13.025Z"
   },
   {
    "duration": 21,
    "start_time": "2022-04-12T08:22:13.034Z"
   },
   {
    "duration": 21,
    "start_time": "2022-04-12T08:22:13.056Z"
   },
   {
    "duration": 6,
    "start_time": "2022-04-12T08:22:13.079Z"
   },
   {
    "duration": 20,
    "start_time": "2022-04-12T08:22:13.127Z"
   },
   {
    "duration": 6,
    "start_time": "2022-04-12T08:22:13.148Z"
   },
   {
    "duration": 8,
    "start_time": "2022-04-12T08:22:13.157Z"
   },
   {
    "duration": 64,
    "start_time": "2022-04-12T08:22:13.167Z"
   },
   {
    "duration": 34,
    "start_time": "2022-04-12T08:22:13.233Z"
   },
   {
    "duration": 7,
    "start_time": "2022-04-12T08:22:13.268Z"
   },
   {
    "duration": 11,
    "start_time": "2022-04-12T08:22:13.276Z"
   },
   {
    "duration": 8,
    "start_time": "2022-04-12T08:22:13.288Z"
   },
   {
    "duration": 52,
    "start_time": "2022-04-12T08:22:13.297Z"
   },
   {
    "duration": 36,
    "start_time": "2022-04-12T08:22:13.350Z"
   },
   {
    "duration": 57,
    "start_time": "2022-04-12T08:22:13.388Z"
   },
   {
    "duration": 8,
    "start_time": "2022-04-12T08:22:13.446Z"
   },
   {
    "duration": 11,
    "start_time": "2022-04-12T08:22:13.456Z"
   },
   {
    "duration": 19,
    "start_time": "2022-04-12T08:22:13.469Z"
   },
   {
    "duration": 50,
    "start_time": "2022-04-12T08:22:13.490Z"
   },
   {
    "duration": 10,
    "start_time": "2022-04-12T08:22:13.541Z"
   },
   {
    "duration": 18,
    "start_time": "2022-04-12T08:22:13.552Z"
   },
   {
    "duration": 11,
    "start_time": "2022-04-12T08:24:21.143Z"
   },
   {
    "duration": 76,
    "start_time": "2022-04-12T08:24:25.164Z"
   },
   {
    "duration": 15,
    "start_time": "2022-04-12T08:24:25.242Z"
   },
   {
    "duration": 10,
    "start_time": "2022-04-12T08:24:25.259Z"
   },
   {
    "duration": 3,
    "start_time": "2022-04-12T08:24:25.271Z"
   },
   {
    "duration": 13,
    "start_time": "2022-04-12T08:24:25.276Z"
   },
   {
    "duration": 53,
    "start_time": "2022-04-12T08:24:25.290Z"
   },
   {
    "duration": 5,
    "start_time": "2022-04-12T08:24:25.346Z"
   },
   {
    "duration": 13,
    "start_time": "2022-04-12T08:24:25.352Z"
   },
   {
    "duration": 5,
    "start_time": "2022-04-12T08:24:25.366Z"
   },
   {
    "duration": 7,
    "start_time": "2022-04-12T08:24:25.373Z"
   },
   {
    "duration": 62,
    "start_time": "2022-04-12T08:24:25.382Z"
   },
   {
    "duration": 28,
    "start_time": "2022-04-12T08:24:25.445Z"
   },
   {
    "duration": 6,
    "start_time": "2022-04-12T08:24:25.474Z"
   },
   {
    "duration": 8,
    "start_time": "2022-04-12T08:24:25.482Z"
   },
   {
    "duration": 34,
    "start_time": "2022-04-12T08:24:25.491Z"
   },
   {
    "duration": 23,
    "start_time": "2022-04-12T08:24:25.528Z"
   },
   {
    "duration": 32,
    "start_time": "2022-04-12T08:24:25.552Z"
   },
   {
    "duration": 3,
    "start_time": "2022-04-12T08:24:25.585Z"
   },
   {
    "duration": 32,
    "start_time": "2022-04-12T08:24:25.589Z"
   },
   {
    "duration": 23,
    "start_time": "2022-04-12T08:24:25.623Z"
   },
   {
    "duration": 36,
    "start_time": "2022-04-12T08:24:25.648Z"
   },
   {
    "duration": 20,
    "start_time": "2022-04-12T08:24:25.686Z"
   },
   {
    "duration": 10,
    "start_time": "2022-04-12T08:24:25.708Z"
   },
   {
    "duration": 36,
    "start_time": "2022-04-12T08:24:25.719Z"
   },
   {
    "duration": 77,
    "start_time": "2022-04-12T08:25:32.284Z"
   },
   {
    "duration": 13,
    "start_time": "2022-04-12T08:25:32.363Z"
   },
   {
    "duration": 9,
    "start_time": "2022-04-12T08:25:32.378Z"
   },
   {
    "duration": 4,
    "start_time": "2022-04-12T08:25:32.389Z"
   },
   {
    "duration": 39,
    "start_time": "2022-04-12T08:25:32.394Z"
   },
   {
    "duration": 21,
    "start_time": "2022-04-12T08:25:32.436Z"
   },
   {
    "duration": 5,
    "start_time": "2022-04-12T08:25:32.459Z"
   },
   {
    "duration": 20,
    "start_time": "2022-04-12T08:25:32.465Z"
   },
   {
    "duration": 37,
    "start_time": "2022-04-12T08:25:32.487Z"
   },
   {
    "duration": 13,
    "start_time": "2022-04-12T08:25:32.529Z"
   },
   {
    "duration": 31,
    "start_time": "2022-04-12T08:25:32.544Z"
   },
   {
    "duration": 64,
    "start_time": "2022-04-12T08:25:32.577Z"
   },
   {
    "duration": 7,
    "start_time": "2022-04-12T08:25:32.643Z"
   },
   {
    "duration": 18,
    "start_time": "2022-04-12T08:25:32.652Z"
   },
   {
    "duration": 7,
    "start_time": "2022-04-12T08:25:32.671Z"
   },
   {
    "duration": 29,
    "start_time": "2022-04-12T08:25:32.680Z"
   },
   {
    "duration": 41,
    "start_time": "2022-04-12T08:25:32.724Z"
   },
   {
    "duration": 7,
    "start_time": "2022-04-12T08:25:32.767Z"
   },
   {
    "duration": 6,
    "start_time": "2022-04-12T08:25:32.776Z"
   },
   {
    "duration": 18,
    "start_time": "2022-04-12T08:25:32.784Z"
   },
   {
    "duration": 43,
    "start_time": "2022-04-12T08:25:32.803Z"
   },
   {
    "duration": 19,
    "start_time": "2022-04-12T08:25:32.847Z"
   },
   {
    "duration": 11,
    "start_time": "2022-04-12T08:25:32.868Z"
   },
   {
    "duration": 268,
    "start_time": "2022-04-12T08:25:32.881Z"
   },
   {
    "duration": 74,
    "start_time": "2022-04-12T08:26:11.804Z"
   },
   {
    "duration": 14,
    "start_time": "2022-04-12T08:26:11.880Z"
   },
   {
    "duration": 12,
    "start_time": "2022-04-12T08:26:11.896Z"
   },
   {
    "duration": 12,
    "start_time": "2022-04-12T08:26:11.925Z"
   },
   {
    "duration": 14,
    "start_time": "2022-04-12T08:26:11.940Z"
   },
   {
    "duration": 17,
    "start_time": "2022-04-12T08:26:11.956Z"
   },
   {
    "duration": 5,
    "start_time": "2022-04-12T08:26:11.975Z"
   },
   {
    "duration": 50,
    "start_time": "2022-04-12T08:26:11.982Z"
   },
   {
    "duration": 6,
    "start_time": "2022-04-12T08:26:12.034Z"
   },
   {
    "duration": 8,
    "start_time": "2022-04-12T08:26:12.041Z"
   },
   {
    "duration": 27,
    "start_time": "2022-04-12T08:26:12.051Z"
   },
   {
    "duration": 58,
    "start_time": "2022-04-12T08:26:12.080Z"
   },
   {
    "duration": 6,
    "start_time": "2022-04-12T08:26:12.140Z"
   },
   {
    "duration": 10,
    "start_time": "2022-04-12T08:26:12.149Z"
   },
   {
    "duration": 8,
    "start_time": "2022-04-12T08:26:12.161Z"
   },
   {
    "duration": 19,
    "start_time": "2022-04-12T08:26:12.171Z"
   },
   {
    "duration": 39,
    "start_time": "2022-04-12T08:26:12.231Z"
   },
   {
    "duration": 22,
    "start_time": "2022-04-12T08:26:12.271Z"
   },
   {
    "duration": 7,
    "start_time": "2022-04-12T08:26:12.295Z"
   },
   {
    "duration": 13,
    "start_time": "2022-04-12T08:26:12.322Z"
   },
   {
    "duration": 22,
    "start_time": "2022-04-12T08:26:12.339Z"
   },
   {
    "duration": 19,
    "start_time": "2022-04-12T08:26:12.362Z"
   },
   {
    "duration": 50,
    "start_time": "2022-04-12T08:26:12.382Z"
   },
   {
    "duration": 16,
    "start_time": "2022-04-12T08:26:12.434Z"
   },
   {
    "duration": 80,
    "start_time": "2022-04-12T08:27:02.257Z"
   },
   {
    "duration": 14,
    "start_time": "2022-04-12T08:27:02.340Z"
   },
   {
    "duration": 10,
    "start_time": "2022-04-12T08:27:02.356Z"
   },
   {
    "duration": 4,
    "start_time": "2022-04-12T08:27:02.368Z"
   },
   {
    "duration": 15,
    "start_time": "2022-04-12T08:27:02.374Z"
   },
   {
    "duration": 52,
    "start_time": "2022-04-12T08:27:02.391Z"
   },
   {
    "duration": 5,
    "start_time": "2022-04-12T08:27:02.445Z"
   },
   {
    "duration": 19,
    "start_time": "2022-04-12T08:27:02.451Z"
   },
   {
    "duration": 6,
    "start_time": "2022-04-12T08:27:02.471Z"
   },
   {
    "duration": 20,
    "start_time": "2022-04-12T08:27:02.478Z"
   },
   {
    "duration": 48,
    "start_time": "2022-04-12T08:27:02.499Z"
   },
   {
    "duration": 29,
    "start_time": "2022-04-12T08:27:02.549Z"
   },
   {
    "duration": 6,
    "start_time": "2022-04-12T08:27:02.579Z"
   },
   {
    "duration": 8,
    "start_time": "2022-04-12T08:27:02.588Z"
   },
   {
    "duration": 32,
    "start_time": "2022-04-12T08:27:02.598Z"
   },
   {
    "duration": 27,
    "start_time": "2022-04-12T08:27:02.632Z"
   },
   {
    "duration": 35,
    "start_time": "2022-04-12T08:27:02.660Z"
   },
   {
    "duration": 51,
    "start_time": "2022-04-12T08:27:02.696Z"
   },
   {
    "duration": 8,
    "start_time": "2022-04-12T08:27:02.748Z"
   },
   {
    "duration": 11,
    "start_time": "2022-04-12T08:27:02.758Z"
   },
   {
    "duration": 19,
    "start_time": "2022-04-12T08:27:02.770Z"
   },
   {
    "duration": 49,
    "start_time": "2022-04-12T08:27:02.790Z"
   },
   {
    "duration": 11,
    "start_time": "2022-04-12T08:27:02.841Z"
   },
   {
    "duration": 15,
    "start_time": "2022-04-12T08:27:02.853Z"
   },
   {
    "duration": 70,
    "start_time": "2022-04-12T08:27:15.648Z"
   },
   {
    "duration": 24,
    "start_time": "2022-04-12T08:27:15.721Z"
   },
   {
    "duration": 10,
    "start_time": "2022-04-12T08:27:15.747Z"
   },
   {
    "duration": 7,
    "start_time": "2022-04-12T08:27:15.759Z"
   },
   {
    "duration": 32,
    "start_time": "2022-04-12T08:27:15.768Z"
   },
   {
    "duration": 43,
    "start_time": "2022-04-12T08:27:15.803Z"
   },
   {
    "duration": 6,
    "start_time": "2022-04-12T08:27:15.847Z"
   },
   {
    "duration": 14,
    "start_time": "2022-04-12T08:27:15.855Z"
   },
   {
    "duration": 6,
    "start_time": "2022-04-12T08:27:15.870Z"
   },
   {
    "duration": 50,
    "start_time": "2022-04-12T08:27:15.878Z"
   },
   {
    "duration": 33,
    "start_time": "2022-04-12T08:27:15.931Z"
   },
   {
    "duration": 31,
    "start_time": "2022-04-12T08:27:15.965Z"
   },
   {
    "duration": 30,
    "start_time": "2022-04-12T08:27:15.997Z"
   },
   {
    "duration": 11,
    "start_time": "2022-04-12T08:27:16.032Z"
   },
   {
    "duration": 7,
    "start_time": "2022-04-12T08:27:16.045Z"
   },
   {
    "duration": 17,
    "start_time": "2022-04-12T08:27:16.054Z"
   },
   {
    "duration": 67,
    "start_time": "2022-04-12T08:27:16.073Z"
   },
   {
    "duration": 11,
    "start_time": "2022-04-12T08:27:16.142Z"
   },
   {
    "duration": 0,
    "start_time": "2022-04-12T08:27:16.155Z"
   },
   {
    "duration": 0,
    "start_time": "2022-04-12T08:27:16.156Z"
   },
   {
    "duration": 0,
    "start_time": "2022-04-12T08:27:16.157Z"
   },
   {
    "duration": 0,
    "start_time": "2022-04-12T08:27:16.159Z"
   },
   {
    "duration": 0,
    "start_time": "2022-04-12T08:27:16.160Z"
   },
   {
    "duration": 0,
    "start_time": "2022-04-12T08:27:16.161Z"
   },
   {
    "duration": 78,
    "start_time": "2022-04-12T08:27:27.704Z"
   },
   {
    "duration": 14,
    "start_time": "2022-04-12T08:27:27.784Z"
   },
   {
    "duration": 30,
    "start_time": "2022-04-12T08:27:27.799Z"
   },
   {
    "duration": 6,
    "start_time": "2022-04-12T08:27:27.832Z"
   },
   {
    "duration": 15,
    "start_time": "2022-04-12T08:27:27.841Z"
   },
   {
    "duration": 19,
    "start_time": "2022-04-12T08:27:27.858Z"
   },
   {
    "duration": 6,
    "start_time": "2022-04-12T08:27:27.879Z"
   },
   {
    "duration": 55,
    "start_time": "2022-04-12T08:27:27.886Z"
   },
   {
    "duration": 5,
    "start_time": "2022-04-12T08:27:27.943Z"
   },
   {
    "duration": 10,
    "start_time": "2022-04-12T08:27:27.949Z"
   },
   {
    "duration": 26,
    "start_time": "2022-04-12T08:27:27.960Z"
   },
   {
    "duration": 60,
    "start_time": "2022-04-12T08:27:27.987Z"
   },
   {
    "duration": 6,
    "start_time": "2022-04-12T08:27:28.049Z"
   },
   {
    "duration": 9,
    "start_time": "2022-04-12T08:27:28.058Z"
   },
   {
    "duration": 7,
    "start_time": "2022-04-12T08:27:28.068Z"
   },
   {
    "duration": 17,
    "start_time": "2022-04-12T08:27:28.076Z"
   },
   {
    "duration": 71,
    "start_time": "2022-04-12T08:27:28.095Z"
   },
   {
    "duration": 9,
    "start_time": "2022-04-12T08:27:28.167Z"
   },
   {
    "duration": 0,
    "start_time": "2022-04-12T08:27:28.178Z"
   },
   {
    "duration": 0,
    "start_time": "2022-04-12T08:27:28.179Z"
   },
   {
    "duration": 0,
    "start_time": "2022-04-12T08:27:28.180Z"
   },
   {
    "duration": 0,
    "start_time": "2022-04-12T08:27:28.181Z"
   },
   {
    "duration": 0,
    "start_time": "2022-04-12T08:27:28.182Z"
   },
   {
    "duration": 0,
    "start_time": "2022-04-12T08:27:28.183Z"
   },
   {
    "duration": 79,
    "start_time": "2022-04-12T08:28:24.192Z"
   },
   {
    "duration": 15,
    "start_time": "2022-04-12T08:28:24.274Z"
   },
   {
    "duration": 11,
    "start_time": "2022-04-12T08:28:24.291Z"
   },
   {
    "duration": 11,
    "start_time": "2022-04-12T08:28:24.321Z"
   },
   {
    "duration": 15,
    "start_time": "2022-04-12T08:28:24.337Z"
   },
   {
    "duration": 17,
    "start_time": "2022-04-12T08:28:24.354Z"
   },
   {
    "duration": 5,
    "start_time": "2022-04-12T08:28:24.372Z"
   },
   {
    "duration": 48,
    "start_time": "2022-04-12T08:28:24.379Z"
   },
   {
    "duration": 11,
    "start_time": "2022-04-12T08:28:24.429Z"
   },
   {
    "duration": 10,
    "start_time": "2022-04-12T08:28:24.441Z"
   },
   {
    "duration": 27,
    "start_time": "2022-04-12T08:28:24.452Z"
   },
   {
    "duration": 60,
    "start_time": "2022-04-12T08:28:24.480Z"
   },
   {
    "duration": 7,
    "start_time": "2022-04-12T08:28:24.542Z"
   },
   {
    "duration": 10,
    "start_time": "2022-04-12T08:28:24.552Z"
   },
   {
    "duration": 7,
    "start_time": "2022-04-12T08:28:24.564Z"
   },
   {
    "duration": 18,
    "start_time": "2022-04-12T08:28:24.572Z"
   },
   {
    "duration": 72,
    "start_time": "2022-04-12T08:28:24.592Z"
   },
   {
    "duration": 3,
    "start_time": "2022-04-12T08:28:24.666Z"
   },
   {
    "duration": 10,
    "start_time": "2022-04-12T08:28:24.670Z"
   },
   {
    "duration": 12,
    "start_time": "2022-04-12T08:28:24.682Z"
   },
   {
    "duration": 42,
    "start_time": "2022-04-12T08:28:24.696Z"
   },
   {
    "duration": 18,
    "start_time": "2022-04-12T08:28:24.741Z"
   },
   {
    "duration": 9,
    "start_time": "2022-04-12T08:28:24.761Z"
   },
   {
    "duration": 14,
    "start_time": "2022-04-12T08:28:24.772Z"
   },
   {
    "duration": 73,
    "start_time": "2022-04-12T08:28:54.056Z"
   },
   {
    "duration": 17,
    "start_time": "2022-04-12T08:28:54.131Z"
   },
   {
    "duration": 11,
    "start_time": "2022-04-12T08:28:54.150Z"
   },
   {
    "duration": 11,
    "start_time": "2022-04-12T08:28:54.163Z"
   },
   {
    "duration": 19,
    "start_time": "2022-04-12T08:28:54.177Z"
   },
   {
    "duration": 41,
    "start_time": "2022-04-12T08:28:54.198Z"
   },
   {
    "duration": 5,
    "start_time": "2022-04-12T08:28:54.241Z"
   },
   {
    "duration": 23,
    "start_time": "2022-04-12T08:28:54.248Z"
   },
   {
    "duration": 5,
    "start_time": "2022-04-12T08:28:54.273Z"
   },
   {
    "duration": 13,
    "start_time": "2022-04-12T08:28:54.280Z"
   },
   {
    "duration": 49,
    "start_time": "2022-04-12T08:28:54.295Z"
   },
   {
    "duration": 28,
    "start_time": "2022-04-12T08:28:54.345Z"
   },
   {
    "duration": 6,
    "start_time": "2022-04-12T08:28:54.375Z"
   },
   {
    "duration": 11,
    "start_time": "2022-04-12T08:28:54.383Z"
   },
   {
    "duration": 33,
    "start_time": "2022-04-12T08:28:54.396Z"
   },
   {
    "duration": 23,
    "start_time": "2022-04-12T08:28:54.431Z"
   },
   {
    "duration": 36,
    "start_time": "2022-04-12T08:28:54.455Z"
   },
   {
    "duration": 3,
    "start_time": "2022-04-12T08:28:54.494Z"
   },
   {
    "duration": 9,
    "start_time": "2022-04-12T08:28:54.524Z"
   },
   {
    "duration": 12,
    "start_time": "2022-04-12T08:28:54.536Z"
   },
   {
    "duration": 31,
    "start_time": "2022-04-12T08:28:54.550Z"
   },
   {
    "duration": 21,
    "start_time": "2022-04-12T08:28:54.583Z"
   },
   {
    "duration": 28,
    "start_time": "2022-04-12T08:28:54.606Z"
   },
   {
    "duration": 14,
    "start_time": "2022-04-12T08:28:54.636Z"
   },
   {
    "duration": 74,
    "start_time": "2022-04-12T08:29:31.018Z"
   },
   {
    "duration": 15,
    "start_time": "2022-04-12T08:29:31.095Z"
   },
   {
    "duration": 27,
    "start_time": "2022-04-12T08:29:31.112Z"
   },
   {
    "duration": 4,
    "start_time": "2022-04-12T08:29:31.142Z"
   },
   {
    "duration": 21,
    "start_time": "2022-04-12T08:29:31.149Z"
   },
   {
    "duration": 23,
    "start_time": "2022-04-12T08:29:31.171Z"
   },
   {
    "duration": 30,
    "start_time": "2022-04-12T08:29:31.195Z"
   },
   {
    "duration": 18,
    "start_time": "2022-04-12T08:29:31.230Z"
   },
   {
    "duration": 5,
    "start_time": "2022-04-12T08:29:31.250Z"
   },
   {
    "duration": 9,
    "start_time": "2022-04-12T08:29:31.257Z"
   },
   {
    "duration": 59,
    "start_time": "2022-04-12T08:29:31.267Z"
   },
   {
    "duration": 36,
    "start_time": "2022-04-12T08:29:31.328Z"
   },
   {
    "duration": 6,
    "start_time": "2022-04-12T08:29:31.365Z"
   },
   {
    "duration": 16,
    "start_time": "2022-04-12T08:29:31.374Z"
   },
   {
    "duration": 7,
    "start_time": "2022-04-12T08:29:31.391Z"
   },
   {
    "duration": 49,
    "start_time": "2022-04-12T08:29:31.399Z"
   },
   {
    "duration": 34,
    "start_time": "2022-04-12T08:29:31.449Z"
   },
   {
    "duration": 5,
    "start_time": "2022-04-12T08:29:31.485Z"
   },
   {
    "duration": 32,
    "start_time": "2022-04-12T08:29:31.491Z"
   },
   {
    "duration": 15,
    "start_time": "2022-04-12T08:29:31.536Z"
   },
   {
    "duration": 26,
    "start_time": "2022-04-12T08:29:31.553Z"
   },
   {
    "duration": 35,
    "start_time": "2022-04-12T08:29:31.581Z"
   },
   {
    "duration": 25,
    "start_time": "2022-04-12T08:29:31.618Z"
   },
   {
    "duration": 17,
    "start_time": "2022-04-12T08:29:31.644Z"
   },
   {
    "duration": 11,
    "start_time": "2022-04-12T08:30:39.239Z"
   },
   {
    "duration": 19,
    "start_time": "2022-04-12T08:31:56.282Z"
   },
   {
    "duration": 18,
    "start_time": "2022-04-12T08:32:57.486Z"
   },
   {
    "duration": 21,
    "start_time": "2022-04-12T08:34:17.712Z"
   },
   {
    "duration": 19,
    "start_time": "2022-04-12T08:34:26.344Z"
   },
   {
    "duration": 11,
    "start_time": "2022-04-12T08:34:34.657Z"
   },
   {
    "duration": 18,
    "start_time": "2022-04-12T08:34:40.057Z"
   },
   {
    "duration": 16,
    "start_time": "2022-04-12T08:34:46.746Z"
   },
   {
    "duration": 13,
    "start_time": "2022-04-12T08:36:56.031Z"
   },
   {
    "duration": 7,
    "start_time": "2022-04-12T08:37:00.958Z"
   },
   {
    "duration": 9,
    "start_time": "2022-04-12T08:37:20.911Z"
   },
   {
    "duration": 154,
    "start_time": "2022-04-12T08:49:15.200Z"
   },
   {
    "duration": 9,
    "start_time": "2022-04-12T08:49:25.135Z"
   },
   {
    "duration": 34,
    "start_time": "2022-04-12T08:50:02.402Z"
   },
   {
    "duration": 16,
    "start_time": "2022-04-12T08:50:10.562Z"
   },
   {
    "duration": 22,
    "start_time": "2022-04-12T08:51:05.244Z"
   },
   {
    "duration": 34,
    "start_time": "2022-04-12T08:51:15.718Z"
   },
   {
    "duration": 7,
    "start_time": "2022-04-12T08:51:52.423Z"
   },
   {
    "duration": 17,
    "start_time": "2022-04-12T08:54:06.437Z"
   },
   {
    "duration": 17,
    "start_time": "2022-04-12T09:04:22.584Z"
   },
   {
    "duration": 588,
    "start_time": "2022-04-21T19:01:41.903Z"
   },
   {
    "duration": 22,
    "start_time": "2022-04-21T19:01:42.493Z"
   },
   {
    "duration": 12,
    "start_time": "2022-04-21T19:01:42.518Z"
   },
   {
    "duration": 6,
    "start_time": "2022-04-21T19:01:42.533Z"
   },
   {
    "duration": 59,
    "start_time": "2022-04-21T19:01:42.541Z"
   },
   {
    "duration": 26,
    "start_time": "2022-04-21T19:01:42.602Z"
   },
   {
    "duration": 7,
    "start_time": "2022-04-21T19:01:42.630Z"
   },
   {
    "duration": 51,
    "start_time": "2022-04-21T19:01:42.639Z"
   },
   {
    "duration": 11,
    "start_time": "2022-04-21T19:01:42.692Z"
   },
   {
    "duration": 18,
    "start_time": "2022-04-21T19:01:42.707Z"
   },
   {
    "duration": 66,
    "start_time": "2022-04-21T19:01:42.727Z"
   },
   {
    "duration": 41,
    "start_time": "2022-04-21T19:01:42.795Z"
   },
   {
    "duration": 8,
    "start_time": "2022-04-21T19:01:42.838Z"
   },
   {
    "duration": 44,
    "start_time": "2022-04-21T19:01:42.849Z"
   },
   {
    "duration": 22,
    "start_time": "2022-04-21T19:01:57.721Z"
   },
   {
    "duration": 50,
    "start_time": "2022-04-22T20:21:54.999Z"
   },
   {
    "duration": 565,
    "start_time": "2022-04-22T20:22:00.155Z"
   },
   {
    "duration": 14,
    "start_time": "2022-04-22T20:22:03.397Z"
   },
   {
    "duration": 10,
    "start_time": "2022-04-22T20:22:06.484Z"
   },
   {
    "duration": 4,
    "start_time": "2022-04-22T20:22:09.536Z"
   },
   {
    "duration": 14,
    "start_time": "2022-04-22T20:22:12.233Z"
   },
   {
    "duration": 5,
    "start_time": "2022-04-22T20:30:06.837Z"
   },
   {
    "duration": 10,
    "start_time": "2022-04-22T20:30:09.817Z"
   },
   {
    "duration": 54,
    "start_time": "2022-04-22T20:30:14.137Z"
   },
   {
    "duration": 8,
    "start_time": "2022-04-22T20:30:17.507Z"
   },
   {
    "duration": 4,
    "start_time": "2022-04-22T20:30:20.451Z"
   },
   {
    "duration": 24,
    "start_time": "2022-04-22T20:33:22.813Z"
   },
   {
    "duration": 21,
    "start_time": "2022-04-22T20:34:03.221Z"
   },
   {
    "duration": 13,
    "start_time": "2022-04-22T20:34:32.937Z"
   },
   {
    "duration": 36,
    "start_time": "2022-04-22T20:38:30.287Z"
   },
   {
    "duration": 15,
    "start_time": "2022-04-22T20:39:49.356Z"
   },
   {
    "duration": 15,
    "start_time": "2022-04-22T20:40:00.492Z"
   },
   {
    "duration": 18,
    "start_time": "2022-04-22T20:40:31.070Z"
   },
   {
    "duration": 17,
    "start_time": "2022-04-22T20:40:34.254Z"
   },
   {
    "duration": 19,
    "start_time": "2022-04-22T20:40:49.015Z"
   },
   {
    "duration": 19,
    "start_time": "2022-04-22T20:40:51.486Z"
   },
   {
    "duration": 4,
    "start_time": "2022-04-22T20:40:55.551Z"
   },
   {
    "duration": 17,
    "start_time": "2022-04-22T20:40:58.591Z"
   },
   {
    "duration": 18,
    "start_time": "2022-04-22T20:43:17.093Z"
   },
   {
    "duration": 16,
    "start_time": "2022-04-22T20:43:29.838Z"
   },
   {
    "duration": 115,
    "start_time": "2022-04-22T20:45:19.955Z"
   },
   {
    "duration": 26,
    "start_time": "2022-04-22T20:45:35.939Z"
   },
   {
    "duration": 115,
    "start_time": "2022-04-22T20:52:00.196Z"
   },
   {
    "duration": 106,
    "start_time": "2022-04-22T20:52:10.880Z"
   },
   {
    "duration": 99,
    "start_time": "2022-04-22T20:52:29.229Z"
   },
   {
    "duration": 18,
    "start_time": "2022-04-22T20:52:52.451Z"
   },
   {
    "duration": 18,
    "start_time": "2022-04-22T20:56:36.137Z"
   },
   {
    "duration": 17,
    "start_time": "2022-04-22T20:56:39.088Z"
   },
   {
    "duration": 18,
    "start_time": "2022-04-22T21:09:38.713Z"
   },
   {
    "duration": 57,
    "start_time": "2022-04-22T21:09:42.649Z"
   },
   {
    "duration": 9,
    "start_time": "2022-04-22T21:09:47.059Z"
   },
   {
    "duration": 20,
    "start_time": "2022-04-22T21:09:50.531Z"
   },
   {
    "duration": 13,
    "start_time": "2022-04-22T21:17:11.621Z"
   },
   {
    "duration": 12,
    "start_time": "2022-04-22T21:17:42.745Z"
   },
   {
    "duration": 16,
    "start_time": "2022-04-22T21:18:54.659Z"
   },
   {
    "duration": 7,
    "start_time": "2022-04-22T21:37:31.980Z"
   },
   {
    "duration": 8,
    "start_time": "2022-04-22T21:37:42.197Z"
   },
   {
    "duration": 17,
    "start_time": "2022-04-22T21:37:58.647Z"
   },
   {
    "duration": 7,
    "start_time": "2022-04-22T21:40:17.957Z"
   },
   {
    "duration": 7,
    "start_time": "2022-04-22T21:41:23.160Z"
   },
   {
    "duration": 7,
    "start_time": "2022-04-22T21:42:44.427Z"
   },
   {
    "duration": 17,
    "start_time": "2022-04-22T21:42:51.948Z"
   },
   {
    "duration": 502,
    "start_time": "2022-04-22T21:45:27.970Z"
   },
   {
    "duration": 135,
    "start_time": "2022-04-22T21:46:24.165Z"
   },
   {
    "duration": 16,
    "start_time": "2022-04-22T21:48:42.115Z"
   },
   {
    "duration": 8,
    "start_time": "2022-04-22T21:48:47.539Z"
   },
   {
    "duration": 15,
    "start_time": "2022-04-22T21:48:52.483Z"
   },
   {
    "duration": 135,
    "start_time": "2022-04-22T21:49:57.326Z"
   },
   {
    "duration": 9,
    "start_time": "2022-04-22T21:51:53.172Z"
   },
   {
    "duration": 6,
    "start_time": "2022-04-22T21:52:02.892Z"
   },
   {
    "duration": 494,
    "start_time": "2022-04-22T21:53:12.160Z"
   },
   {
    "duration": 117,
    "start_time": "2022-04-22T21:53:47.625Z"
   },
   {
    "duration": 112,
    "start_time": "2022-04-22T21:55:55.590Z"
   },
   {
    "duration": 114,
    "start_time": "2022-04-22T21:56:01.774Z"
   },
   {
    "duration": 123,
    "start_time": "2022-04-22T21:58:02.620Z"
   },
   {
    "duration": 114,
    "start_time": "2022-04-22T21:58:07.636Z"
   },
   {
    "duration": 141,
    "start_time": "2022-04-22T22:05:12.615Z"
   },
   {
    "duration": 7,
    "start_time": "2022-04-22T22:11:15.455Z"
   },
   {
    "duration": 15,
    "start_time": "2022-04-22T22:11:25.048Z"
   },
   {
    "duration": 160,
    "start_time": "2022-04-22T22:22:30.482Z"
   },
   {
    "duration": 164,
    "start_time": "2022-04-22T22:22:38.576Z"
   },
   {
    "duration": 317,
    "start_time": "2022-04-22T22:23:10.439Z"
   },
   {
    "duration": 172,
    "start_time": "2022-04-22T22:23:17.975Z"
   },
   {
    "duration": 313,
    "start_time": "2022-04-22T22:23:22.063Z"
   },
   {
    "duration": 169,
    "start_time": "2022-04-22T22:23:36.281Z"
   },
   {
    "duration": 176,
    "start_time": "2022-04-22T22:23:54.737Z"
   },
   {
    "duration": 2003,
    "start_time": "2022-04-22T22:24:00.353Z"
   },
   {
    "duration": 325,
    "start_time": "2022-04-22T22:24:10.577Z"
   },
   {
    "duration": 411,
    "start_time": "2022-04-22T22:24:19.465Z"
   },
   {
    "duration": 330,
    "start_time": "2022-04-22T22:24:38.267Z"
   },
   {
    "duration": 144,
    "start_time": "2022-04-22T22:26:31.639Z"
   },
   {
    "duration": 130,
    "start_time": "2022-04-22T22:26:50.777Z"
   },
   {
    "duration": 111,
    "start_time": "2022-04-22T22:31:12.029Z"
   },
   {
    "duration": 138,
    "start_time": "2022-04-22T22:31:23.261Z"
   },
   {
    "duration": 12,
    "start_time": "2022-04-22T22:33:41.339Z"
   },
   {
    "duration": 9,
    "start_time": "2022-04-22T22:39:15.465Z"
   },
   {
    "duration": 8,
    "start_time": "2022-04-22T22:39:26.921Z"
   },
   {
    "duration": 8,
    "start_time": "2022-04-22T22:39:37.163Z"
   },
   {
    "duration": 136,
    "start_time": "2022-04-22T22:40:17.324Z"
   },
   {
    "duration": 138,
    "start_time": "2022-04-22T22:40:32.973Z"
   },
   {
    "duration": 190,
    "start_time": "2022-04-22T22:40:57.757Z"
   },
   {
    "duration": 306,
    "start_time": "2022-04-22T22:41:55.288Z"
   },
   {
    "duration": 182,
    "start_time": "2022-04-22T22:42:00.808Z"
   },
   {
    "duration": 183,
    "start_time": "2022-04-22T22:42:05.657Z"
   },
   {
    "duration": 177,
    "start_time": "2022-04-22T22:42:09.216Z"
   },
   {
    "duration": 178,
    "start_time": "2022-04-22T22:42:12.681Z"
   },
   {
    "duration": 189,
    "start_time": "2022-04-22T22:42:16.385Z"
   },
   {
    "duration": 193,
    "start_time": "2022-04-22T22:42:19.105Z"
   },
   {
    "duration": 198,
    "start_time": "2022-04-22T22:42:27.937Z"
   },
   {
    "duration": 365,
    "start_time": "2022-04-22T22:42:31.801Z"
   },
   {
    "duration": 150,
    "start_time": "2022-04-22T22:42:43.018Z"
   },
   {
    "duration": 121,
    "start_time": "2022-04-22T22:42:53.962Z"
   },
   {
    "duration": 191,
    "start_time": "2022-04-22T22:42:58.459Z"
   },
   {
    "duration": 277,
    "start_time": "2022-04-22T22:43:05.035Z"
   },
   {
    "duration": 549,
    "start_time": "2022-04-22T22:43:12.635Z"
   },
   {
    "duration": 350,
    "start_time": "2022-04-22T22:43:22.557Z"
   },
   {
    "duration": 195,
    "start_time": "2022-04-22T22:43:29.444Z"
   },
   {
    "duration": 185,
    "start_time": "2022-04-22T22:43:39.380Z"
   },
   {
    "duration": 190,
    "start_time": "2022-04-22T22:43:45.164Z"
   },
   {
    "duration": 188,
    "start_time": "2022-04-22T22:43:53.524Z"
   },
   {
    "duration": 201,
    "start_time": "2022-04-22T22:43:58.925Z"
   },
   {
    "duration": 136,
    "start_time": "2022-04-22T22:44:39.271Z"
   },
   {
    "duration": 197,
    "start_time": "2022-04-22T22:44:51.671Z"
   },
   {
    "duration": 200,
    "start_time": "2022-04-22T22:46:46.325Z"
   },
   {
    "duration": 189,
    "start_time": "2022-04-22T22:47:05.382Z"
   },
   {
    "duration": 1271,
    "start_time": "2022-04-22T22:47:13.645Z"
   },
   {
    "duration": 557,
    "start_time": "2022-04-22T22:47:27.631Z"
   },
   {
    "duration": 1336,
    "start_time": "2022-04-22T22:47:33.814Z"
   },
   {
    "duration": 191,
    "start_time": "2022-04-22T22:47:52.936Z"
   },
   {
    "duration": 458,
    "start_time": "2022-04-23T07:49:56.071Z"
   },
   {
    "duration": 73,
    "start_time": "2022-04-23T07:50:09.748Z"
   },
   {
    "duration": 41,
    "start_time": "2022-04-23T07:50:16.886Z"
   },
   {
    "duration": 17,
    "start_time": "2022-04-23T07:52:09.234Z"
   },
   {
    "duration": 70,
    "start_time": "2022-04-23T07:52:26.155Z"
   },
   {
    "duration": 16,
    "start_time": "2022-04-23T07:52:33.019Z"
   },
   {
    "duration": 81,
    "start_time": "2022-04-23T07:52:42.692Z"
   },
   {
    "duration": 9,
    "start_time": "2022-04-23T07:52:46.683Z"
   },
   {
    "duration": 5,
    "start_time": "2022-04-23T07:52:49.044Z"
   },
   {
    "duration": 17,
    "start_time": "2022-04-23T07:53:07.371Z"
   },
   {
    "duration": 17,
    "start_time": "2022-04-23T07:53:16.084Z"
   },
   {
    "duration": 19,
    "start_time": "2022-04-23T07:56:16.724Z"
   },
   {
    "duration": 840,
    "start_time": "2022-04-23T07:56:19.316Z"
   },
   {
    "duration": 216,
    "start_time": "2022-04-23T07:56:22.485Z"
   },
   {
    "duration": 85,
    "start_time": "2022-04-23T07:57:18.199Z"
   },
   {
    "duration": 101,
    "start_time": "2022-04-23T07:57:23.583Z"
   },
   {
    "duration": 14,
    "start_time": "2022-04-23T07:57:45.993Z"
   },
   {
    "duration": 158,
    "start_time": "2022-04-23T07:59:01.324Z"
   },
   {
    "duration": 156,
    "start_time": "2022-04-23T07:59:05.758Z"
   },
   {
    "duration": 168,
    "start_time": "2022-04-23T07:59:12.484Z"
   },
   {
    "duration": 213,
    "start_time": "2022-04-23T07:59:21.100Z"
   },
   {
    "duration": 15,
    "start_time": "2022-04-23T08:29:22.706Z"
   },
   {
    "duration": 6,
    "start_time": "2022-04-23T08:29:25.708Z"
   },
   {
    "duration": 81,
    "start_time": "2022-04-23T08:29:48.493Z"
   },
   {
    "duration": 15,
    "start_time": "2022-04-23T08:29:50.861Z"
   },
   {
    "duration": 10,
    "start_time": "2022-04-23T08:29:53.765Z"
   },
   {
    "duration": 4,
    "start_time": "2022-04-23T08:29:55.470Z"
   },
   {
    "duration": 18,
    "start_time": "2022-04-23T08:29:58.030Z"
   },
   {
    "duration": 19,
    "start_time": "2022-04-23T08:30:00.693Z"
   },
   {
    "duration": 148,
    "start_time": "2022-04-23T08:30:03.174Z"
   },
   {
    "duration": 212,
    "start_time": "2022-04-23T08:30:05.206Z"
   },
   {
    "duration": 6,
    "start_time": "2022-04-23T08:30:08.694Z"
   },
   {
    "duration": 15,
    "start_time": "2022-04-23T08:30:11.518Z"
   },
   {
    "duration": 9,
    "start_time": "2022-04-23T08:30:15.231Z"
   },
   {
    "duration": 16,
    "start_time": "2022-04-23T08:30:17.246Z"
   },
   {
    "duration": 24,
    "start_time": "2022-04-23T08:30:22.431Z"
   },
   {
    "duration": 31,
    "start_time": "2022-04-23T08:30:29.375Z"
   },
   {
    "duration": 7,
    "start_time": "2022-04-23T08:30:36.271Z"
   },
   {
    "duration": 10,
    "start_time": "2022-04-23T08:30:41.024Z"
   },
   {
    "duration": 7,
    "start_time": "2022-04-23T08:30:50.721Z"
   },
   {
    "duration": 19,
    "start_time": "2022-04-23T08:30:54.344Z"
   },
   {
    "duration": 38,
    "start_time": "2022-04-23T08:30:56.912Z"
   },
   {
    "duration": 12,
    "start_time": "2022-04-23T08:52:12.953Z"
   },
   {
    "duration": 16,
    "start_time": "2022-04-23T08:53:22.965Z"
   },
   {
    "duration": 15,
    "start_time": "2022-04-23T08:53:36.148Z"
   },
   {
    "duration": 21,
    "start_time": "2022-04-23T08:53:56.023Z"
   },
   {
    "duration": 673,
    "start_time": "2022-04-24T15:49:55.108Z"
   },
   {
    "duration": 26,
    "start_time": "2022-04-24T15:49:55.784Z"
   },
   {
    "duration": 15,
    "start_time": "2022-04-24T15:49:55.813Z"
   },
   {
    "duration": 7,
    "start_time": "2022-04-24T15:49:55.830Z"
   },
   {
    "duration": 67,
    "start_time": "2022-04-24T15:49:55.841Z"
   },
   {
    "duration": 27,
    "start_time": "2022-04-24T15:49:55.911Z"
   },
   {
    "duration": 939,
    "start_time": "2022-04-24T15:49:55.941Z"
   },
   {
    "duration": 472,
    "start_time": "2022-04-24T15:49:56.882Z"
   },
   {
    "duration": 11,
    "start_time": "2022-04-24T15:49:57.357Z"
   },
   {
    "duration": 45,
    "start_time": "2022-04-24T15:49:57.370Z"
   },
   {
    "duration": 8,
    "start_time": "2022-04-24T15:49:57.418Z"
   },
   {
    "duration": 22,
    "start_time": "2022-04-24T15:49:57.429Z"
   },
   {
    "duration": 169,
    "start_time": "2022-04-24T15:49:57.453Z"
   },
   {
    "duration": 74,
    "start_time": "2022-04-24T15:49:57.627Z"
   },
   {
    "duration": 9,
    "start_time": "2022-04-24T15:49:57.705Z"
   },
   {
    "duration": 17,
    "start_time": "2022-04-24T15:49:57.716Z"
   },
   {
    "duration": 13,
    "start_time": "2022-04-24T15:50:19.183Z"
   },
   {
    "duration": 9,
    "start_time": "2022-04-24T15:51:10.839Z"
   },
   {
    "duration": 10879,
    "start_time": "2022-04-24T15:51:41.605Z"
   },
   {
    "duration": 80,
    "start_time": "2022-04-24T15:51:52.591Z"
   },
   {
    "duration": 37,
    "start_time": "2022-04-24T15:51:52.675Z"
   },
   {
    "duration": 90,
    "start_time": "2022-04-24T15:51:57.251Z"
   },
   {
    "duration": 24,
    "start_time": "2022-04-24T15:52:02.187Z"
   },
   {
    "duration": 90,
    "start_time": "2022-04-24T15:52:06.810Z"
   },
   {
    "duration": 23,
    "start_time": "2022-04-24T15:52:06.903Z"
   },
   {
    "duration": 16,
    "start_time": "2022-04-24T15:52:06.928Z"
   },
   {
    "duration": 46,
    "start_time": "2022-04-24T15:52:06.947Z"
   },
   {
    "duration": 38,
    "start_time": "2022-04-24T15:52:06.999Z"
   },
   {
    "duration": 69,
    "start_time": "2022-04-24T15:52:07.039Z"
   },
   {
    "duration": 11097,
    "start_time": "2022-04-24T15:52:07.112Z"
   },
   {
    "duration": 399,
    "start_time": "2022-04-24T15:52:18.211Z"
   },
   {
    "duration": 9,
    "start_time": "2022-04-24T15:52:18.612Z"
   },
   {
    "duration": 22,
    "start_time": "2022-04-24T15:52:18.623Z"
   },
   {
    "duration": 8,
    "start_time": "2022-04-24T15:52:18.647Z"
   },
   {
    "duration": 61,
    "start_time": "2022-04-24T15:52:18.657Z"
   },
   {
    "duration": 38,
    "start_time": "2022-04-24T15:52:18.721Z"
   },
   {
    "duration": 63,
    "start_time": "2022-04-24T15:52:18.764Z"
   },
   {
    "duration": 9,
    "start_time": "2022-04-24T15:52:18.829Z"
   },
   {
    "duration": 18,
    "start_time": "2022-04-24T15:52:18.841Z"
   },
   {
    "duration": 41,
    "start_time": "2022-04-24T15:52:18.861Z"
   },
   {
    "duration": 29,
    "start_time": "2022-04-24T15:52:18.905Z"
   },
   {
    "duration": 82,
    "start_time": "2022-04-24T15:52:18.937Z"
   },
   {
    "duration": 29,
    "start_time": "2022-04-24T15:52:19.022Z"
   },
   {
    "duration": 11,
    "start_time": "2022-04-24T15:52:19.053Z"
   },
   {
    "duration": 44,
    "start_time": "2022-04-24T15:52:19.066Z"
   },
   {
    "duration": 31,
    "start_time": "2022-04-24T15:52:19.112Z"
   },
   {
    "duration": 51,
    "start_time": "2022-04-24T15:52:19.146Z"
   },
   {
    "duration": 28,
    "start_time": "2022-04-24T15:52:19.199Z"
   },
   {
    "duration": 31,
    "start_time": "2022-04-24T15:52:19.230Z"
   },
   {
    "duration": 51,
    "start_time": "2022-04-24T15:52:19.263Z"
   },
   {
    "duration": 24,
    "start_time": "2022-04-24T15:52:19.316Z"
   },
   {
    "duration": 502,
    "start_time": "2022-04-24T15:52:47.293Z"
   },
   {
    "duration": 1761,
    "start_time": "2022-04-24T15:52:59.270Z"
   },
   {
    "duration": 406,
    "start_time": "2022-04-24T15:53:07.679Z"
   },
   {
    "duration": 319,
    "start_time": "2022-04-24T15:54:27.498Z"
   },
   {
    "duration": 564,
    "start_time": "2022-04-24T15:54:37.298Z"
   },
   {
    "duration": 125,
    "start_time": "2022-04-24T15:55:37.375Z"
   },
   {
    "duration": 124,
    "start_time": "2022-04-24T15:55:49.682Z"
   },
   {
    "duration": 127,
    "start_time": "2022-04-24T15:55:51.847Z"
   },
   {
    "duration": 127,
    "start_time": "2022-04-24T15:56:05.348Z"
   },
   {
    "duration": 37,
    "start_time": "2022-04-24T15:56:05.478Z"
   },
   {
    "duration": 19,
    "start_time": "2022-04-24T15:56:05.518Z"
   },
   {
    "duration": 15,
    "start_time": "2022-04-24T15:56:05.539Z"
   },
   {
    "duration": 189,
    "start_time": "2022-04-24T15:56:05.558Z"
   },
   {
    "duration": 58,
    "start_time": "2022-04-24T15:56:05.750Z"
   },
   {
    "duration": 665,
    "start_time": "2022-04-24T15:56:05.811Z"
   },
   {
    "duration": 403,
    "start_time": "2022-04-24T15:56:06.479Z"
   },
   {
    "duration": 14,
    "start_time": "2022-04-24T15:56:06.885Z"
   },
   {
    "duration": 26,
    "start_time": "2022-04-24T15:56:06.901Z"
   },
   {
    "duration": 7,
    "start_time": "2022-04-24T15:56:06.930Z"
   },
   {
    "duration": 64,
    "start_time": "2022-04-24T15:56:06.939Z"
   },
   {
    "duration": 38,
    "start_time": "2022-04-24T15:56:07.005Z"
   },
   {
    "duration": 61,
    "start_time": "2022-04-24T15:56:07.047Z"
   },
   {
    "duration": 9,
    "start_time": "2022-04-24T15:56:07.110Z"
   },
   {
    "duration": 15,
    "start_time": "2022-04-24T15:56:07.122Z"
   },
   {
    "duration": 11,
    "start_time": "2022-04-24T15:56:07.140Z"
   },
   {
    "duration": 38,
    "start_time": "2022-04-24T15:56:07.194Z"
   },
   {
    "duration": 104,
    "start_time": "2022-04-24T15:56:07.234Z"
   },
   {
    "duration": 52,
    "start_time": "2022-04-24T15:56:07.340Z"
   },
   {
    "duration": 12,
    "start_time": "2022-04-24T15:56:07.395Z"
   },
   {
    "duration": 21,
    "start_time": "2022-04-24T15:56:07.409Z"
   },
   {
    "duration": 32,
    "start_time": "2022-04-24T15:56:07.433Z"
   },
   {
    "duration": 28,
    "start_time": "2022-04-24T15:56:07.493Z"
   },
   {
    "duration": 27,
    "start_time": "2022-04-24T15:56:07.524Z"
   },
   {
    "duration": 62,
    "start_time": "2022-04-24T15:56:07.554Z"
   },
   {
    "duration": 28,
    "start_time": "2022-04-24T15:56:07.618Z"
   },
   {
    "duration": 50,
    "start_time": "2022-04-24T15:56:07.648Z"
   },
   {
    "duration": 89,
    "start_time": "2022-04-24T15:56:19.639Z"
   },
   {
    "duration": 394,
    "start_time": "2022-04-24T15:56:30.385Z"
   },
   {
    "duration": 30,
    "start_time": "2022-04-24T16:08:35.046Z"
   },
   {
    "duration": 40,
    "start_time": "2022-04-24T16:08:45.894Z"
   },
   {
    "duration": 29,
    "start_time": "2022-04-24T16:08:48.753Z"
   },
   {
    "duration": 30,
    "start_time": "2022-04-24T16:09:14.210Z"
   },
   {
    "duration": 28,
    "start_time": "2022-04-24T16:10:06.172Z"
   },
   {
    "duration": 28,
    "start_time": "2022-04-24T16:10:30.654Z"
   },
   {
    "duration": 25,
    "start_time": "2022-04-24T16:10:40.165Z"
   },
   {
    "duration": 16,
    "start_time": "2022-04-24T16:11:25.888Z"
   },
   {
    "duration": 26,
    "start_time": "2022-04-24T16:12:19.546Z"
   },
   {
    "duration": 24,
    "start_time": "2022-04-24T16:12:39.276Z"
   },
   {
    "duration": 20,
    "start_time": "2022-04-24T16:14:06.736Z"
   },
   {
    "duration": 11,
    "start_time": "2022-04-24T16:14:15.457Z"
   },
   {
    "duration": 12,
    "start_time": "2022-04-24T16:51:45.817Z"
   },
   {
    "duration": 12,
    "start_time": "2022-04-24T16:51:52.819Z"
   },
   {
    "duration": 254,
    "start_time": "2022-04-24T16:52:41.694Z"
   },
   {
    "duration": 15,
    "start_time": "2022-04-24T16:53:03.591Z"
   },
   {
    "duration": 440,
    "start_time": "2022-04-24T16:53:05.367Z"
   },
   {
    "duration": 152,
    "start_time": "2022-04-24T16:55:16.515Z"
   },
   {
    "duration": 22,
    "start_time": "2022-04-24T16:55:23.914Z"
   },
   {
    "duration": 13,
    "start_time": "2022-04-24T16:55:27.475Z"
   },
   {
    "duration": 6,
    "start_time": "2022-04-24T16:55:29.771Z"
   },
   {
    "duration": 27,
    "start_time": "2022-04-24T16:55:31.971Z"
   },
   {
    "duration": 29,
    "start_time": "2022-04-24T16:55:35.283Z"
   },
   {
    "duration": 373,
    "start_time": "2022-04-24T16:55:37.795Z"
   },
   {
    "duration": 497,
    "start_time": "2022-04-24T16:55:41.091Z"
   },
   {
    "duration": 10,
    "start_time": "2022-04-24T16:55:44.067Z"
   },
   {
    "duration": 22,
    "start_time": "2022-04-24T16:55:46.708Z"
   },
   {
    "duration": 9,
    "start_time": "2022-04-24T16:55:49.619Z"
   },
   {
    "duration": 34,
    "start_time": "2022-04-24T16:55:51.420Z"
   },
   {
    "duration": 42,
    "start_time": "2022-04-24T16:55:55.452Z"
   },
   {
    "duration": 10,
    "start_time": "2022-04-24T16:55:59.243Z"
   },
   {
    "duration": 12,
    "start_time": "2022-04-24T16:56:01.603Z"
   },
   {
    "duration": 227,
    "start_time": "2022-04-24T16:56:05.427Z"
   },
   {
    "duration": 25,
    "start_time": "2022-04-24T17:07:12.985Z"
   },
   {
    "duration": 158,
    "start_time": "2022-04-24T17:07:20.423Z"
   },
   {
    "duration": 50,
    "start_time": "2022-04-24T17:07:24.507Z"
   },
   {
    "duration": 817,
    "start_time": "2022-04-24T17:07:29.667Z"
   },
   {
    "duration": 12,
    "start_time": "2022-04-24T17:07:37.412Z"
   },
   {
    "duration": 24,
    "start_time": "2022-04-24T17:07:40.442Z"
   },
   {
    "duration": 9,
    "start_time": "2022-04-24T17:07:43.378Z"
   },
   {
    "duration": 24,
    "start_time": "2022-04-24T17:07:45.330Z"
   },
   {
    "duration": 42,
    "start_time": "2022-04-24T17:07:49.675Z"
   },
   {
    "duration": 10,
    "start_time": "2022-04-24T17:07:52.930Z"
   },
   {
    "duration": 253,
    "start_time": "2022-04-24T17:07:55.459Z"
   },
   {
    "duration": 87,
    "start_time": "2022-04-24T17:08:42.470Z"
   },
   {
    "duration": 14,
    "start_time": "2022-04-24T17:08:47.397Z"
   },
   {
    "duration": 28,
    "start_time": "2022-04-24T17:08:50.693Z"
   },
   {
    "duration": 385,
    "start_time": "2022-04-24T17:08:54.677Z"
   },
   {
    "duration": 214,
    "start_time": "2022-04-24T17:09:33.287Z"
   },
   {
    "duration": 349,
    "start_time": "2022-04-24T17:09:47.584Z"
   },
   {
    "duration": 42,
    "start_time": "2022-04-24T17:10:02.393Z"
   },
   {
    "duration": 13,
    "start_time": "2022-04-24T17:10:07.545Z"
   },
   {
    "duration": 18,
    "start_time": "2022-04-24T17:10:09.658Z"
   },
   {
    "duration": 1159,
    "start_time": "2022-04-24T17:10:11.874Z"
   },
   {
    "duration": 165,
    "start_time": "2022-04-24T17:10:37.132Z"
   },
   {
    "duration": 50,
    "start_time": "2022-04-24T17:10:42.347Z"
   },
   {
    "duration": 377,
    "start_time": "2022-04-24T17:10:46.499Z"
   },
   {
    "duration": 9,
    "start_time": "2022-04-24T17:10:55.307Z"
   },
   {
    "duration": 24,
    "start_time": "2022-04-24T17:11:03.924Z"
   },
   {
    "duration": 25,
    "start_time": "2022-04-24T17:11:08.062Z"
   },
   {
    "duration": 42,
    "start_time": "2022-04-24T17:11:10.460Z"
   },
   {
    "duration": 9,
    "start_time": "2022-04-24T17:11:12.564Z"
   },
   {
    "duration": 399,
    "start_time": "2022-04-24T17:11:15.916Z"
   },
   {
    "duration": 12,
    "start_time": "2022-04-24T17:11:21.348Z"
   },
   {
    "duration": 407,
    "start_time": "2022-04-24T17:11:23.444Z"
   },
   {
    "duration": 99,
    "start_time": "2022-04-24T17:11:45.782Z"
   },
   {
    "duration": 27,
    "start_time": "2022-04-24T17:11:50.429Z"
   },
   {
    "duration": 22,
    "start_time": "2022-04-24T17:11:59.910Z"
   },
   {
    "duration": 39,
    "start_time": "2022-04-24T17:12:06.671Z"
   },
   {
    "duration": 11,
    "start_time": "2022-04-24T17:15:12.847Z"
   },
   {
    "duration": 427,
    "start_time": "2022-04-24T17:15:14.871Z"
   },
   {
    "duration": 9,
    "start_time": "2022-04-24T17:15:38.344Z"
   },
   {
    "duration": 403,
    "start_time": "2022-04-24T17:15:40.312Z"
   },
   {
    "duration": 8,
    "start_time": "2022-04-24T17:15:48.183Z"
   },
   {
    "duration": 490,
    "start_time": "2022-04-24T17:15:49.825Z"
   },
   {
    "duration": 98,
    "start_time": "2022-04-24T17:17:29.664Z"
   },
   {
    "duration": 38,
    "start_time": "2022-04-24T17:17:29.765Z"
   },
   {
    "duration": 16,
    "start_time": "2022-04-24T17:17:29.805Z"
   },
   {
    "duration": 7,
    "start_time": "2022-04-24T17:17:29.825Z"
   },
   {
    "duration": 72,
    "start_time": "2022-04-24T17:17:29.835Z"
   },
   {
    "duration": 28,
    "start_time": "2022-04-24T17:17:29.910Z"
   },
   {
    "duration": 401,
    "start_time": "2022-04-24T17:17:29.941Z"
   },
   {
    "duration": 405,
    "start_time": "2022-04-24T17:17:30.345Z"
   },
   {
    "duration": 9,
    "start_time": "2022-04-24T17:17:30.752Z"
   },
   {
    "duration": 41,
    "start_time": "2022-04-24T17:17:30.766Z"
   },
   {
    "duration": 28,
    "start_time": "2022-04-24T17:17:30.810Z"
   },
   {
    "duration": 30,
    "start_time": "2022-04-24T17:17:30.840Z"
   },
   {
    "duration": 51,
    "start_time": "2022-04-24T17:17:30.873Z"
   },
   {
    "duration": 9,
    "start_time": "2022-04-24T17:17:30.927Z"
   },
   {
    "duration": 54,
    "start_time": "2022-04-24T17:17:30.939Z"
   },
   {
    "duration": 411,
    "start_time": "2022-04-24T17:17:30.996Z"
   },
   {
    "duration": 42,
    "start_time": "2022-04-24T17:17:31.410Z"
   },
   {
    "duration": 37,
    "start_time": "2022-04-24T17:17:31.455Z"
   },
   {
    "duration": 16,
    "start_time": "2022-04-24T17:17:31.496Z"
   },
   {
    "duration": 12,
    "start_time": "2022-04-24T17:17:31.514Z"
   },
   {
    "duration": 72,
    "start_time": "2022-04-24T17:17:31.528Z"
   },
   {
    "duration": 55,
    "start_time": "2022-04-24T17:17:31.602Z"
   },
   {
    "duration": 56,
    "start_time": "2022-04-24T17:17:31.659Z"
   },
   {
    "duration": 11,
    "start_time": "2022-04-24T17:17:31.717Z"
   },
   {
    "duration": 18,
    "start_time": "2022-04-24T17:17:31.731Z"
   },
   {
    "duration": 67,
    "start_time": "2022-04-24T17:17:31.752Z"
   },
   {
    "duration": 78,
    "start_time": "2022-04-24T17:17:31.822Z"
   },
   {
    "duration": 42,
    "start_time": "2022-04-24T17:17:31.910Z"
   },
   {
    "duration": 82,
    "start_time": "2022-04-24T17:17:31.955Z"
   },
   {
    "duration": 69,
    "start_time": "2022-04-24T17:17:32.041Z"
   },
   {
    "duration": 27,
    "start_time": "2022-04-24T17:17:32.112Z"
   },
   {
    "duration": 404,
    "start_time": "2022-04-24T17:22:09.626Z"
   },
   {
    "duration": 117,
    "start_time": "2022-04-24T17:22:15.665Z"
   },
   {
    "duration": 22,
    "start_time": "2022-04-24T17:22:44.483Z"
   },
   {
    "duration": 32,
    "start_time": "2022-04-24T17:23:22.301Z"
   },
   {
    "duration": 19,
    "start_time": "2022-04-24T17:23:34.237Z"
   },
   {
    "duration": 8,
    "start_time": "2022-04-24T17:24:17.527Z"
   },
   {
    "duration": 631,
    "start_time": "2022-04-24T17:24:26.216Z"
   },
   {
    "duration": 25,
    "start_time": "2022-04-24T17:27:21.841Z"
   },
   {
    "duration": 93,
    "start_time": "2022-04-24T17:27:29.934Z"
   },
   {
    "duration": 22,
    "start_time": "2022-04-24T17:27:30.030Z"
   },
   {
    "duration": 44,
    "start_time": "2022-04-24T17:27:30.055Z"
   },
   {
    "duration": 8,
    "start_time": "2022-04-24T17:27:30.102Z"
   },
   {
    "duration": 33,
    "start_time": "2022-04-24T17:27:30.114Z"
   },
   {
    "duration": 87,
    "start_time": "2022-04-24T17:27:30.151Z"
   },
   {
    "duration": 537,
    "start_time": "2022-04-24T17:27:30.242Z"
   },
   {
    "duration": 420,
    "start_time": "2022-04-24T17:27:30.782Z"
   },
   {
    "duration": 8,
    "start_time": "2022-04-24T17:27:31.204Z"
   },
   {
    "duration": 37,
    "start_time": "2022-04-24T17:27:31.215Z"
   },
   {
    "duration": 41,
    "start_time": "2022-04-24T17:27:31.254Z"
   },
   {
    "duration": 26,
    "start_time": "2022-04-24T17:27:31.297Z"
   },
   {
    "duration": 81,
    "start_time": "2022-04-24T17:27:31.325Z"
   },
   {
    "duration": 9,
    "start_time": "2022-04-24T17:27:31.411Z"
   },
   {
    "duration": 25,
    "start_time": "2022-04-24T17:27:31.422Z"
   },
   {
    "duration": 406,
    "start_time": "2022-04-24T17:27:31.450Z"
   },
   {
    "duration": 52,
    "start_time": "2022-04-24T17:27:31.859Z"
   },
   {
    "duration": 16,
    "start_time": "2022-04-24T17:27:31.913Z"
   },
   {
    "duration": 26,
    "start_time": "2022-04-24T17:27:31.931Z"
   },
   {
    "duration": 20,
    "start_time": "2022-04-24T17:27:31.959Z"
   },
   {
    "duration": 37,
    "start_time": "2022-04-24T17:27:31.981Z"
   },
   {
    "duration": 116,
    "start_time": "2022-04-24T17:27:32.020Z"
   },
   {
    "duration": 33,
    "start_time": "2022-04-24T17:27:32.140Z"
   },
   {
    "duration": 28,
    "start_time": "2022-04-24T17:27:32.175Z"
   },
   {
    "duration": 23,
    "start_time": "2022-04-24T17:27:32.205Z"
   },
   {
    "duration": 34,
    "start_time": "2022-04-24T17:27:32.230Z"
   },
   {
    "duration": 29,
    "start_time": "2022-04-24T17:27:32.293Z"
   },
   {
    "duration": 26,
    "start_time": "2022-04-24T17:27:32.325Z"
   },
   {
    "duration": 56,
    "start_time": "2022-04-24T17:27:32.353Z"
   },
   {
    "duration": 27,
    "start_time": "2022-04-24T17:27:32.411Z"
   },
   {
    "duration": 54,
    "start_time": "2022-04-24T17:27:32.441Z"
   },
   {
    "duration": 25,
    "start_time": "2022-04-24T17:28:13.569Z"
   },
   {
    "duration": 401,
    "start_time": "2022-04-24T17:28:15.466Z"
   },
   {
    "duration": 21,
    "start_time": "2022-04-24T17:28:46.701Z"
   },
   {
    "duration": 399,
    "start_time": "2022-04-24T17:28:48.515Z"
   },
   {
    "duration": 30,
    "start_time": "2022-04-24T17:29:18.909Z"
   },
   {
    "duration": 60,
    "start_time": "2022-04-24T17:30:26.634Z"
   },
   {
    "duration": 12,
    "start_time": "2022-04-24T17:30:42.857Z"
   },
   {
    "duration": 19,
    "start_time": "2022-04-24T17:30:58.097Z"
   },
   {
    "duration": 28,
    "start_time": "2022-04-24T17:31:06.186Z"
   },
   {
    "duration": 26,
    "start_time": "2022-04-24T17:31:52.429Z"
   },
   {
    "duration": 178,
    "start_time": "2022-04-24T17:32:17.669Z"
   },
   {
    "duration": 31,
    "start_time": "2022-04-24T17:32:39.054Z"
   },
   {
    "duration": 34,
    "start_time": "2022-04-24T17:33:04.543Z"
   },
   {
    "duration": 27,
    "start_time": "2022-04-24T17:33:13.560Z"
   },
   {
    "duration": 404,
    "start_time": "2022-04-24T17:33:16.967Z"
   },
   {
    "duration": 26,
    "start_time": "2022-04-24T17:36:28.607Z"
   },
   {
    "duration": 26,
    "start_time": "2022-04-24T17:36:33.023Z"
   },
   {
    "duration": 375,
    "start_time": "2022-04-24T17:36:34.728Z"
   },
   {
    "duration": 26,
    "start_time": "2022-04-24T17:38:31.837Z"
   },
   {
    "duration": 393,
    "start_time": "2022-04-24T17:38:33.462Z"
   },
   {
    "duration": 25,
    "start_time": "2022-04-24T17:42:28.192Z"
   },
   {
    "duration": 399,
    "start_time": "2022-04-24T17:42:29.928Z"
   },
   {
    "duration": 894,
    "start_time": "2022-04-24T17:46:58.325Z"
   },
   {
    "duration": 581,
    "start_time": "2022-04-24T17:47:10.645Z"
   },
   {
    "duration": 25,
    "start_time": "2022-04-24T17:56:34.808Z"
   },
   {
    "duration": 436,
    "start_time": "2022-04-24T17:56:36.733Z"
   },
   {
    "duration": 151,
    "start_time": "2022-04-24T17:58:36.752Z"
   },
   {
    "duration": 34,
    "start_time": "2022-04-24T17:58:36.907Z"
   },
   {
    "duration": 22,
    "start_time": "2022-04-24T17:58:36.943Z"
   },
   {
    "duration": 24,
    "start_time": "2022-04-24T17:58:36.996Z"
   },
   {
    "duration": 47,
    "start_time": "2022-04-24T17:58:37.024Z"
   },
   {
    "duration": 47,
    "start_time": "2022-04-24T17:58:37.075Z"
   },
   {
    "duration": 471,
    "start_time": "2022-04-24T17:58:37.126Z"
   },
   {
    "duration": 447,
    "start_time": "2022-04-24T17:58:37.600Z"
   },
   {
    "duration": 9,
    "start_time": "2022-04-24T17:58:38.051Z"
   },
   {
    "duration": 53,
    "start_time": "2022-04-24T17:58:38.063Z"
   },
   {
    "duration": 8,
    "start_time": "2022-04-24T17:58:38.119Z"
   },
   {
    "duration": 25,
    "start_time": "2022-04-24T17:58:38.130Z"
   },
   {
    "duration": 48,
    "start_time": "2022-04-24T17:58:38.194Z"
   },
   {
    "duration": 9,
    "start_time": "2022-04-24T17:58:38.246Z"
   },
   {
    "duration": 58,
    "start_time": "2022-04-24T17:58:38.258Z"
   },
   {
    "duration": 466,
    "start_time": "2022-04-24T17:58:38.319Z"
   },
   {
    "duration": 61,
    "start_time": "2022-04-24T17:58:38.787Z"
   },
   {
    "duration": 9,
    "start_time": "2022-04-24T17:58:38.850Z"
   },
   {
    "duration": 39,
    "start_time": "2022-04-24T17:58:38.862Z"
   },
   {
    "duration": 25,
    "start_time": "2022-04-24T17:58:38.904Z"
   },
   {
    "duration": 0,
    "start_time": "2022-04-24T17:58:38.932Z"
   },
   {
    "duration": 0,
    "start_time": "2022-04-24T17:58:38.935Z"
   },
   {
    "duration": 0,
    "start_time": "2022-04-24T17:58:38.937Z"
   },
   {
    "duration": 0,
    "start_time": "2022-04-24T17:58:38.939Z"
   },
   {
    "duration": 0,
    "start_time": "2022-04-24T17:58:38.941Z"
   },
   {
    "duration": 0,
    "start_time": "2022-04-24T17:58:38.943Z"
   },
   {
    "duration": 0,
    "start_time": "2022-04-24T17:58:38.945Z"
   },
   {
    "duration": 0,
    "start_time": "2022-04-24T17:58:38.948Z"
   },
   {
    "duration": 0,
    "start_time": "2022-04-24T17:58:38.993Z"
   },
   {
    "duration": 0,
    "start_time": "2022-04-24T17:58:38.998Z"
   },
   {
    "duration": 0,
    "start_time": "2022-04-24T17:58:39.001Z"
   },
   {
    "duration": 20,
    "start_time": "2022-04-24T17:58:55.115Z"
   },
   {
    "duration": 585,
    "start_time": "2022-04-24T18:01:03.608Z"
   },
   {
    "duration": 28,
    "start_time": "2022-04-24T18:02:16.862Z"
   },
   {
    "duration": 605,
    "start_time": "2022-04-24T18:02:19.605Z"
   },
   {
    "duration": 30,
    "start_time": "2022-04-24T18:02:32.918Z"
   },
   {
    "duration": 824,
    "start_time": "2022-04-24T18:02:34.694Z"
   },
   {
    "duration": 126,
    "start_time": "2022-04-24T18:02:43.839Z"
   },
   {
    "duration": 92,
    "start_time": "2022-04-24T18:02:47.946Z"
   },
   {
    "duration": 20,
    "start_time": "2022-04-24T18:02:48.042Z"
   },
   {
    "duration": 31,
    "start_time": "2022-04-24T18:02:48.064Z"
   },
   {
    "duration": 15,
    "start_time": "2022-04-24T18:02:48.097Z"
   },
   {
    "duration": 32,
    "start_time": "2022-04-24T18:02:48.116Z"
   },
   {
    "duration": 42,
    "start_time": "2022-04-24T18:02:48.151Z"
   },
   {
    "duration": 369,
    "start_time": "2022-04-24T18:02:48.195Z"
   },
   {
    "duration": 388,
    "start_time": "2022-04-24T18:02:48.567Z"
   },
   {
    "duration": 8,
    "start_time": "2022-04-24T18:02:48.958Z"
   },
   {
    "duration": 36,
    "start_time": "2022-04-24T18:02:48.968Z"
   },
   {
    "duration": 8,
    "start_time": "2022-04-24T18:02:49.006Z"
   },
   {
    "duration": 22,
    "start_time": "2022-04-24T18:02:49.016Z"
   },
   {
    "duration": 65,
    "start_time": "2022-04-24T18:02:49.040Z"
   },
   {
    "duration": 8,
    "start_time": "2022-04-24T18:02:49.109Z"
   },
   {
    "duration": 21,
    "start_time": "2022-04-24T18:02:49.119Z"
   },
   {
    "duration": 416,
    "start_time": "2022-04-24T18:02:49.142Z"
   },
   {
    "duration": 46,
    "start_time": "2022-04-24T18:02:49.560Z"
   },
   {
    "duration": 8,
    "start_time": "2022-04-24T18:02:49.608Z"
   },
   {
    "duration": 14,
    "start_time": "2022-04-24T18:02:49.618Z"
   },
   {
    "duration": 22,
    "start_time": "2022-04-24T18:02:49.633Z"
   },
   {
    "duration": 1,
    "start_time": "2022-04-24T18:02:49.657Z"
   },
   {
    "duration": 0,
    "start_time": "2022-04-24T18:02:49.692Z"
   },
   {
    "duration": 0,
    "start_time": "2022-04-24T18:02:49.694Z"
   },
   {
    "duration": 0,
    "start_time": "2022-04-24T18:02:49.696Z"
   },
   {
    "duration": 0,
    "start_time": "2022-04-24T18:02:49.698Z"
   },
   {
    "duration": 0,
    "start_time": "2022-04-24T18:02:49.700Z"
   },
   {
    "duration": 0,
    "start_time": "2022-04-24T18:02:49.701Z"
   },
   {
    "duration": 0,
    "start_time": "2022-04-24T18:02:49.703Z"
   },
   {
    "duration": 0,
    "start_time": "2022-04-24T18:02:49.705Z"
   },
   {
    "duration": 0,
    "start_time": "2022-04-24T18:02:49.707Z"
   },
   {
    "duration": 0,
    "start_time": "2022-04-24T18:02:49.709Z"
   },
   {
    "duration": 22,
    "start_time": "2022-04-24T18:03:27.089Z"
   },
   {
    "duration": 9,
    "start_time": "2022-04-24T18:03:30.648Z"
   },
   {
    "duration": 27,
    "start_time": "2022-04-24T18:03:33.400Z"
   },
   {
    "duration": 130,
    "start_time": "2022-04-24T18:03:43.569Z"
   },
   {
    "duration": 25,
    "start_time": "2022-04-24T18:03:46.209Z"
   },
   {
    "duration": 14,
    "start_time": "2022-04-24T18:03:49.329Z"
   },
   {
    "duration": 8,
    "start_time": "2022-04-24T18:03:51.761Z"
   },
   {
    "duration": 42,
    "start_time": "2022-04-24T18:03:54.290Z"
   },
   {
    "duration": 36,
    "start_time": "2022-04-24T18:03:58.489Z"
   },
   {
    "duration": 627,
    "start_time": "2022-04-24T18:04:00.625Z"
   },
   {
    "duration": 706,
    "start_time": "2022-04-24T18:04:03.266Z"
   },
   {
    "duration": 12,
    "start_time": "2022-04-24T18:04:06.490Z"
   },
   {
    "duration": 22,
    "start_time": "2022-04-24T18:04:08.866Z"
   },
   {
    "duration": 9,
    "start_time": "2022-04-24T18:04:11.625Z"
   },
   {
    "duration": 22,
    "start_time": "2022-04-24T18:04:14.626Z"
   },
   {
    "duration": 43,
    "start_time": "2022-04-24T18:04:26.090Z"
   },
   {
    "duration": 9,
    "start_time": "2022-04-24T18:04:30.066Z"
   },
   {
    "duration": 605,
    "start_time": "2022-04-24T18:04:37.771Z"
   },
   {
    "duration": 25,
    "start_time": "2022-04-24T18:04:40.706Z"
   },
   {
    "duration": 429,
    "start_time": "2022-04-24T18:04:42.867Z"
   },
   {
    "duration": 26,
    "start_time": "2022-04-24T18:05:26.901Z"
   },
   {
    "duration": 33,
    "start_time": "2022-04-24T18:08:02.676Z"
   },
   {
    "duration": 2105,
    "start_time": "2022-04-24T18:09:15.735Z"
   },
   {
    "duration": 17,
    "start_time": "2022-04-24T18:09:33.080Z"
   },
   {
    "duration": 20,
    "start_time": "2022-04-24T18:10:26.906Z"
   },
   {
    "duration": 17,
    "start_time": "2022-04-24T18:10:34.834Z"
   },
   {
    "duration": 396,
    "start_time": "2022-04-24T18:10:37.347Z"
   },
   {
    "duration": 93,
    "start_time": "2022-04-24T18:10:46.691Z"
   },
   {
    "duration": 15,
    "start_time": "2022-04-24T18:10:51.154Z"
   },
   {
    "duration": 28,
    "start_time": "2022-04-24T18:10:54.602Z"
   },
   {
    "duration": 369,
    "start_time": "2022-04-24T18:10:59.843Z"
   },
   {
    "duration": 25,
    "start_time": "2022-04-24T18:11:07.395Z"
   },
   {
    "duration": 24,
    "start_time": "2022-04-24T18:11:12.116Z"
   },
   {
    "duration": 43,
    "start_time": "2022-04-24T18:11:14.780Z"
   },
   {
    "duration": 9,
    "start_time": "2022-04-24T18:11:16.772Z"
   },
   {
    "duration": 16,
    "start_time": "2022-04-24T18:11:22.260Z"
   },
   {
    "duration": 397,
    "start_time": "2022-04-24T18:11:24.141Z"
   },
   {
    "duration": 29,
    "start_time": "2022-04-24T18:12:29.704Z"
   },
   {
    "duration": 402,
    "start_time": "2022-04-24T18:12:31.767Z"
   },
   {
    "duration": 851,
    "start_time": "2022-04-24T18:12:42.777Z"
   },
   {
    "duration": 165,
    "start_time": "2022-04-24T18:13:50.230Z"
   },
   {
    "duration": 42,
    "start_time": "2022-04-24T18:13:50.400Z"
   },
   {
    "duration": 49,
    "start_time": "2022-04-24T18:13:50.446Z"
   },
   {
    "duration": 6,
    "start_time": "2022-04-24T18:13:50.500Z"
   },
   {
    "duration": 41,
    "start_time": "2022-04-24T18:13:50.509Z"
   },
   {
    "duration": 70,
    "start_time": "2022-04-24T18:13:50.554Z"
   },
   {
    "duration": 635,
    "start_time": "2022-04-24T18:13:50.628Z"
   },
   {
    "duration": 840,
    "start_time": "2022-04-24T18:13:51.267Z"
   },
   {
    "duration": 14,
    "start_time": "2022-04-24T18:13:52.111Z"
   },
   {
    "duration": 68,
    "start_time": "2022-04-24T18:13:52.133Z"
   },
   {
    "duration": 9,
    "start_time": "2022-04-24T18:13:52.205Z"
   },
   {
    "duration": 54,
    "start_time": "2022-04-24T18:13:52.217Z"
   },
   {
    "duration": 51,
    "start_time": "2022-04-24T18:13:52.293Z"
   },
   {
    "duration": 10,
    "start_time": "2022-04-24T18:13:52.346Z"
   },
   {
    "duration": 59,
    "start_time": "2022-04-24T18:13:52.359Z"
   },
   {
    "duration": 458,
    "start_time": "2022-04-24T18:13:52.420Z"
   },
   {
    "duration": 51,
    "start_time": "2022-04-24T18:13:52.880Z"
   },
   {
    "duration": 12,
    "start_time": "2022-04-24T18:13:52.933Z"
   },
   {
    "duration": 46,
    "start_time": "2022-04-24T18:13:52.948Z"
   },
   {
    "duration": 14,
    "start_time": "2022-04-24T18:13:52.996Z"
   },
   {
    "duration": 42,
    "start_time": "2022-04-24T18:13:53.014Z"
   },
   {
    "duration": 94,
    "start_time": "2022-04-24T18:13:53.059Z"
   },
   {
    "duration": 59,
    "start_time": "2022-04-24T18:13:53.155Z"
   },
   {
    "duration": 13,
    "start_time": "2022-04-24T18:13:53.216Z"
   },
   {
    "duration": 23,
    "start_time": "2022-04-24T18:13:53.231Z"
   },
   {
    "duration": 65,
    "start_time": "2022-04-24T18:13:53.256Z"
   },
   {
    "duration": 31,
    "start_time": "2022-04-24T18:13:53.324Z"
   },
   {
    "duration": 30,
    "start_time": "2022-04-24T18:13:53.394Z"
   },
   {
    "duration": 66,
    "start_time": "2022-04-24T18:13:53.427Z"
   },
   {
    "duration": 27,
    "start_time": "2022-04-24T18:13:53.495Z"
   },
   {
    "duration": 27,
    "start_time": "2022-04-24T18:13:53.524Z"
   },
   {
    "duration": 40,
    "start_time": "2022-04-24T18:16:56.812Z"
   },
   {
    "duration": 26,
    "start_time": "2022-04-24T18:17:03.721Z"
   },
   {
    "duration": 416,
    "start_time": "2022-04-24T18:18:33.503Z"
   },
   {
    "duration": 408,
    "start_time": "2022-04-24T18:18:44.256Z"
   },
   {
    "duration": 416,
    "start_time": "2022-04-24T18:19:45.427Z"
   },
   {
    "duration": 116,
    "start_time": "2022-04-24T18:20:11.983Z"
   },
   {
    "duration": 25,
    "start_time": "2022-04-24T18:20:12.103Z"
   },
   {
    "duration": 16,
    "start_time": "2022-04-24T18:20:12.131Z"
   },
   {
    "duration": 41,
    "start_time": "2022-04-24T18:20:12.152Z"
   },
   {
    "duration": 30,
    "start_time": "2022-04-24T18:20:12.197Z"
   },
   {
    "duration": 28,
    "start_time": "2022-04-24T18:20:12.230Z"
   },
   {
    "duration": 587,
    "start_time": "2022-04-24T18:20:12.294Z"
   },
   {
    "duration": 414,
    "start_time": "2022-04-24T18:20:12.884Z"
   },
   {
    "duration": 12,
    "start_time": "2022-04-24T18:20:13.301Z"
   },
   {
    "duration": 23,
    "start_time": "2022-04-24T18:20:13.317Z"
   },
   {
    "duration": 8,
    "start_time": "2022-04-24T18:20:13.342Z"
   },
   {
    "duration": 62,
    "start_time": "2022-04-24T18:20:13.352Z"
   },
   {
    "duration": 40,
    "start_time": "2022-04-24T18:20:13.416Z"
   },
   {
    "duration": 40,
    "start_time": "2022-04-24T18:20:13.458Z"
   },
   {
    "duration": 10,
    "start_time": "2022-04-24T18:20:13.500Z"
   },
   {
    "duration": 425,
    "start_time": "2022-04-24T18:20:13.512Z"
   },
   {
    "duration": 59,
    "start_time": "2022-04-24T18:20:13.939Z"
   },
   {
    "duration": 11,
    "start_time": "2022-04-24T18:20:14.001Z"
   },
   {
    "duration": 17,
    "start_time": "2022-04-24T18:20:14.016Z"
   },
   {
    "duration": 59,
    "start_time": "2022-04-24T18:20:14.036Z"
   },
   {
    "duration": 0,
    "start_time": "2022-04-24T18:20:14.098Z"
   },
   {
    "duration": 0,
    "start_time": "2022-04-24T18:20:14.099Z"
   },
   {
    "duration": 0,
    "start_time": "2022-04-24T18:20:14.101Z"
   },
   {
    "duration": 0,
    "start_time": "2022-04-24T18:20:14.103Z"
   },
   {
    "duration": 0,
    "start_time": "2022-04-24T18:20:14.104Z"
   },
   {
    "duration": 0,
    "start_time": "2022-04-24T18:20:14.106Z"
   },
   {
    "duration": 0,
    "start_time": "2022-04-24T18:20:14.108Z"
   },
   {
    "duration": 0,
    "start_time": "2022-04-24T18:20:14.109Z"
   },
   {
    "duration": 0,
    "start_time": "2022-04-24T18:20:14.110Z"
   },
   {
    "duration": 0,
    "start_time": "2022-04-24T18:20:14.112Z"
   },
   {
    "duration": 0,
    "start_time": "2022-04-24T18:20:14.113Z"
   },
   {
    "duration": 416,
    "start_time": "2022-04-24T18:20:44.557Z"
   },
   {
    "duration": 24,
    "start_time": "2022-04-24T18:21:00.743Z"
   },
   {
    "duration": 945,
    "start_time": "2022-04-24T18:21:03.781Z"
   },
   {
    "duration": 13,
    "start_time": "2022-04-24T18:22:15.434Z"
   },
   {
    "duration": 817,
    "start_time": "2022-04-24T18:22:21.211Z"
   },
   {
    "duration": 157,
    "start_time": "2022-04-24T18:22:26.453Z"
   },
   {
    "duration": 41,
    "start_time": "2022-04-24T18:22:26.615Z"
   },
   {
    "duration": 40,
    "start_time": "2022-04-24T18:22:26.660Z"
   },
   {
    "duration": 8,
    "start_time": "2022-04-24T18:22:26.703Z"
   },
   {
    "duration": 28,
    "start_time": "2022-04-24T18:22:26.714Z"
   },
   {
    "duration": 73,
    "start_time": "2022-04-24T18:22:26.744Z"
   },
   {
    "duration": 626,
    "start_time": "2022-04-24T18:22:26.821Z"
   },
   {
    "duration": 410,
    "start_time": "2022-04-24T18:22:27.449Z"
   },
   {
    "duration": 8,
    "start_time": "2022-04-24T18:22:27.861Z"
   },
   {
    "duration": 40,
    "start_time": "2022-04-24T18:22:27.874Z"
   },
   {
    "duration": 11,
    "start_time": "2022-04-24T18:22:27.917Z"
   },
   {
    "duration": 61,
    "start_time": "2022-04-24T18:22:27.931Z"
   },
   {
    "duration": 41,
    "start_time": "2022-04-24T18:22:27.995Z"
   },
   {
    "duration": 9,
    "start_time": "2022-04-24T18:22:28.039Z"
   },
   {
    "duration": 45,
    "start_time": "2022-04-24T18:22:28.050Z"
   },
   {
    "duration": 441,
    "start_time": "2022-04-24T18:22:28.097Z"
   },
   {
    "duration": 56,
    "start_time": "2022-04-24T18:22:28.541Z"
   },
   {
    "duration": 10,
    "start_time": "2022-04-24T18:22:28.599Z"
   },
   {
    "duration": 15,
    "start_time": "2022-04-24T18:22:28.611Z"
   },
   {
    "duration": 11,
    "start_time": "2022-04-24T18:22:28.628Z"
   },
   {
    "duration": 68,
    "start_time": "2022-04-24T18:22:28.641Z"
   },
   {
    "duration": 57,
    "start_time": "2022-04-24T18:22:28.711Z"
   },
   {
    "duration": 48,
    "start_time": "2022-04-24T18:22:28.770Z"
   },
   {
    "duration": 10,
    "start_time": "2022-04-24T18:22:28.820Z"
   },
   {
    "duration": 17,
    "start_time": "2022-04-24T18:22:28.832Z"
   },
   {
    "duration": 70,
    "start_time": "2022-04-24T18:22:28.851Z"
   },
   {
    "duration": 30,
    "start_time": "2022-04-24T18:22:28.923Z"
   },
   {
    "duration": 55,
    "start_time": "2022-04-24T18:22:28.958Z"
   },
   {
    "duration": 32,
    "start_time": "2022-04-24T18:22:29.015Z"
   },
   {
    "duration": 51,
    "start_time": "2022-04-24T18:22:29.050Z"
   },
   {
    "duration": 27,
    "start_time": "2022-04-24T18:22:29.103Z"
   },
   {
    "duration": 13,
    "start_time": "2022-04-24T18:24:47.170Z"
   },
   {
    "duration": 167,
    "start_time": "2022-04-24T18:24:54.179Z"
   },
   {
    "duration": 58,
    "start_time": "2022-04-24T18:24:54.351Z"
   },
   {
    "duration": 16,
    "start_time": "2022-04-24T18:24:54.411Z"
   },
   {
    "duration": 8,
    "start_time": "2022-04-24T18:24:54.432Z"
   },
   {
    "duration": 78,
    "start_time": "2022-04-24T18:24:54.442Z"
   },
   {
    "duration": 37,
    "start_time": "2022-04-24T18:24:54.523Z"
   },
   {
    "duration": 543,
    "start_time": "2022-04-24T18:24:54.562Z"
   },
   {
    "duration": 446,
    "start_time": "2022-04-24T18:24:55.108Z"
   },
   {
    "duration": 10,
    "start_time": "2022-04-24T18:24:55.558Z"
   },
   {
    "duration": 24,
    "start_time": "2022-04-24T18:24:55.595Z"
   },
   {
    "duration": 9,
    "start_time": "2022-04-24T18:24:55.621Z"
   },
   {
    "duration": 29,
    "start_time": "2022-04-24T18:24:55.633Z"
   },
   {
    "duration": 45,
    "start_time": "2022-04-24T18:24:55.693Z"
   },
   {
    "duration": 12,
    "start_time": "2022-04-24T18:24:55.741Z"
   },
   {
    "duration": 45,
    "start_time": "2022-04-24T18:24:55.755Z"
   },
   {
    "duration": 480,
    "start_time": "2022-04-24T18:24:55.803Z"
   },
   {
    "duration": 78,
    "start_time": "2022-04-24T18:24:56.295Z"
   },
   {
    "duration": 10,
    "start_time": "2022-04-24T18:24:56.394Z"
   },
   {
    "duration": 25,
    "start_time": "2022-04-24T18:24:56.407Z"
   },
   {
    "duration": 12,
    "start_time": "2022-04-24T18:24:56.435Z"
   },
   {
    "duration": 71,
    "start_time": "2022-04-24T18:24:56.449Z"
   },
   {
    "duration": 82,
    "start_time": "2022-04-24T18:24:56.522Z"
   },
   {
    "duration": 38,
    "start_time": "2022-04-24T18:24:56.607Z"
   },
   {
    "duration": 13,
    "start_time": "2022-04-24T18:24:56.648Z"
   },
   {
    "duration": 18,
    "start_time": "2022-04-24T18:24:56.694Z"
   },
   {
    "duration": 49,
    "start_time": "2022-04-24T18:24:56.716Z"
   },
   {
    "duration": 50,
    "start_time": "2022-04-24T18:24:56.798Z"
   },
   {
    "duration": 47,
    "start_time": "2022-04-24T18:24:56.858Z"
   },
   {
    "duration": 33,
    "start_time": "2022-04-24T18:24:56.908Z"
   },
   {
    "duration": 54,
    "start_time": "2022-04-24T18:24:56.944Z"
   },
   {
    "duration": 26,
    "start_time": "2022-04-24T18:24:57.001Z"
   },
   {
    "duration": 12,
    "start_time": "2022-04-24T18:47:13.068Z"
   },
   {
    "duration": 28,
    "start_time": "2022-04-24T18:47:25.036Z"
   },
   {
    "duration": 155,
    "start_time": "2022-04-24T18:47:29.027Z"
   },
   {
    "duration": 25,
    "start_time": "2022-04-24T18:47:29.192Z"
   },
   {
    "duration": 15,
    "start_time": "2022-04-24T18:47:29.219Z"
   },
   {
    "duration": 7,
    "start_time": "2022-04-24T18:47:29.237Z"
   },
   {
    "duration": 28,
    "start_time": "2022-04-24T18:47:29.295Z"
   },
   {
    "duration": 69,
    "start_time": "2022-04-24T18:47:29.326Z"
   },
   {
    "duration": 408,
    "start_time": "2022-04-24T18:47:29.397Z"
   },
   {
    "duration": 718,
    "start_time": "2022-04-24T18:47:29.808Z"
   },
   {
    "duration": 9,
    "start_time": "2022-04-24T18:47:30.528Z"
   },
   {
    "duration": 50,
    "start_time": "2022-04-24T18:47:30.539Z"
   },
   {
    "duration": 24,
    "start_time": "2022-04-24T18:47:30.592Z"
   },
   {
    "duration": 68,
    "start_time": "2022-04-24T18:47:30.618Z"
   },
   {
    "duration": 44,
    "start_time": "2022-04-24T18:47:30.688Z"
   },
   {
    "duration": 11,
    "start_time": "2022-04-24T18:47:30.737Z"
   },
   {
    "duration": 49,
    "start_time": "2022-04-24T18:47:30.752Z"
   },
   {
    "duration": 422,
    "start_time": "2022-04-24T18:47:30.804Z"
   },
   {
    "duration": 43,
    "start_time": "2022-04-24T18:47:31.229Z"
   },
   {
    "duration": 12,
    "start_time": "2022-04-24T18:47:31.294Z"
   },
   {
    "duration": 18,
    "start_time": "2022-04-24T18:47:31.308Z"
   },
   {
    "duration": 13,
    "start_time": "2022-04-24T18:47:31.328Z"
   },
   {
    "duration": 74,
    "start_time": "2022-04-24T18:47:31.344Z"
   },
   {
    "duration": 81,
    "start_time": "2022-04-24T18:47:31.421Z"
   },
   {
    "duration": 34,
    "start_time": "2022-04-24T18:47:31.504Z"
   },
   {
    "duration": 12,
    "start_time": "2022-04-24T18:47:31.540Z"
   },
   {
    "duration": 44,
    "start_time": "2022-04-24T18:47:31.554Z"
   },
   {
    "duration": 31,
    "start_time": "2022-04-24T18:47:31.600Z"
   },
   {
    "duration": 28,
    "start_time": "2022-04-24T18:47:31.633Z"
   },
   {
    "duration": 50,
    "start_time": "2022-04-24T18:47:31.664Z"
   },
   {
    "duration": 29,
    "start_time": "2022-04-24T18:47:31.717Z"
   },
   {
    "duration": 55,
    "start_time": "2022-04-24T18:47:31.748Z"
   },
   {
    "duration": 43,
    "start_time": "2022-04-24T18:47:31.807Z"
   },
   {
    "duration": 21,
    "start_time": "2022-04-24T18:51:06.158Z"
   },
   {
    "duration": 109,
    "start_time": "2022-04-24T18:51:13.324Z"
   },
   {
    "duration": 25,
    "start_time": "2022-04-24T18:51:13.437Z"
   },
   {
    "duration": 49,
    "start_time": "2022-04-24T18:51:13.466Z"
   },
   {
    "duration": 9,
    "start_time": "2022-04-24T18:51:13.519Z"
   },
   {
    "duration": 30,
    "start_time": "2022-04-24T18:51:13.533Z"
   },
   {
    "duration": 29,
    "start_time": "2022-04-24T18:51:13.593Z"
   },
   {
    "duration": 400,
    "start_time": "2022-04-24T18:51:13.624Z"
   },
   {
    "duration": 420,
    "start_time": "2022-04-24T18:51:14.026Z"
   },
   {
    "duration": 9,
    "start_time": "2022-04-24T18:51:14.448Z"
   },
   {
    "duration": 44,
    "start_time": "2022-04-24T18:51:14.459Z"
   },
   {
    "duration": 9,
    "start_time": "2022-04-24T18:51:14.505Z"
   },
   {
    "duration": 28,
    "start_time": "2022-04-24T18:51:14.517Z"
   },
   {
    "duration": 71,
    "start_time": "2022-04-24T18:51:14.548Z"
   },
   {
    "duration": 9,
    "start_time": "2022-04-24T18:51:14.624Z"
   },
   {
    "duration": 13,
    "start_time": "2022-04-24T18:51:14.636Z"
   },
   {
    "duration": 459,
    "start_time": "2022-04-24T18:51:14.651Z"
   },
   {
    "duration": 46,
    "start_time": "2022-04-24T18:51:15.113Z"
   },
   {
    "duration": 37,
    "start_time": "2022-04-24T18:51:15.162Z"
   },
   {
    "duration": 16,
    "start_time": "2022-04-24T18:51:15.201Z"
   },
   {
    "duration": 17,
    "start_time": "2022-04-24T18:51:15.220Z"
   },
   {
    "duration": 73,
    "start_time": "2022-04-24T18:51:15.241Z"
   },
   {
    "duration": 56,
    "start_time": "2022-04-24T18:51:15.316Z"
   },
   {
    "duration": 34,
    "start_time": "2022-04-24T18:51:15.393Z"
   },
   {
    "duration": 13,
    "start_time": "2022-04-24T18:51:15.429Z"
   },
   {
    "duration": 60,
    "start_time": "2022-04-24T18:51:15.444Z"
   },
   {
    "duration": 32,
    "start_time": "2022-04-24T18:51:15.506Z"
   },
   {
    "duration": 58,
    "start_time": "2022-04-24T18:51:15.540Z"
   },
   {
    "duration": 25,
    "start_time": "2022-04-24T18:51:15.600Z"
   },
   {
    "duration": 67,
    "start_time": "2022-04-24T18:51:15.628Z"
   },
   {
    "duration": 34,
    "start_time": "2022-04-24T18:51:15.698Z"
   },
   {
    "duration": 66,
    "start_time": "2022-04-24T18:51:15.735Z"
   },
   {
    "duration": 21,
    "start_time": "2022-04-24T18:57:19.278Z"
   },
   {
    "duration": 19,
    "start_time": "2022-04-24T18:59:18.349Z"
   },
   {
    "duration": 21,
    "start_time": "2022-04-24T18:59:29.756Z"
   },
   {
    "duration": 24,
    "start_time": "2022-04-24T18:59:55.822Z"
   },
   {
    "duration": 19,
    "start_time": "2022-04-24T19:00:02.558Z"
   },
   {
    "duration": 37,
    "start_time": "2022-04-24T19:01:22.506Z"
   },
   {
    "duration": 34,
    "start_time": "2022-04-24T19:01:48.267Z"
   },
   {
    "duration": 53,
    "start_time": "2022-04-24T19:01:55.164Z"
   },
   {
    "duration": 25,
    "start_time": "2022-04-24T19:04:39.082Z"
   },
   {
    "duration": 40,
    "start_time": "2022-04-24T19:04:54.971Z"
   },
   {
    "duration": 33,
    "start_time": "2022-04-24T19:05:11.787Z"
   },
   {
    "duration": 30,
    "start_time": "2022-04-24T19:05:45.524Z"
   },
   {
    "duration": 20,
    "start_time": "2022-04-24T19:06:19.694Z"
   },
   {
    "duration": 25,
    "start_time": "2022-04-24T19:08:14.924Z"
   },
   {
    "duration": 26,
    "start_time": "2022-04-24T19:08:56.895Z"
   },
   {
    "duration": 23,
    "start_time": "2022-04-24T19:12:20.791Z"
   },
   {
    "duration": 40,
    "start_time": "2022-04-24T19:13:24.579Z"
   },
   {
    "duration": 32,
    "start_time": "2022-04-24T19:13:40.442Z"
   },
   {
    "duration": 25,
    "start_time": "2022-04-24T19:19:10.233Z"
   },
   {
    "duration": 13,
    "start_time": "2022-04-24T19:19:23.090Z"
   },
   {
    "duration": 13,
    "start_time": "2022-04-24T19:19:36.042Z"
   },
   {
    "duration": 13,
    "start_time": "2022-04-24T19:19:47.196Z"
   },
   {
    "duration": 20,
    "start_time": "2022-04-24T19:21:14.471Z"
   },
   {
    "duration": 31,
    "start_time": "2022-04-24T19:21:18.718Z"
   },
   {
    "duration": 38,
    "start_time": "2022-04-24T19:21:31.719Z"
   },
   {
    "duration": 34,
    "start_time": "2022-04-24T19:21:42.753Z"
   },
   {
    "duration": 36,
    "start_time": "2022-04-24T19:23:42.189Z"
   },
   {
    "duration": 46,
    "start_time": "2022-04-24T19:25:26.210Z"
   },
   {
    "duration": 49,
    "start_time": "2022-04-24T19:26:05.228Z"
   },
   {
    "duration": 71,
    "start_time": "2022-04-24T19:26:16.293Z"
   },
   {
    "duration": 13,
    "start_time": "2022-04-24T19:28:55.891Z"
   },
   {
    "duration": 16,
    "start_time": "2022-04-24T19:29:09.349Z"
   },
   {
    "duration": 51,
    "start_time": "2022-04-24T19:29:18.652Z"
   },
   {
    "duration": 28,
    "start_time": "2022-04-24T19:29:26.694Z"
   },
   {
    "duration": 40,
    "start_time": "2022-04-24T19:37:52.589Z"
   },
   {
    "duration": 52,
    "start_time": "2022-04-24T19:38:31.741Z"
   },
   {
    "duration": 20,
    "start_time": "2022-04-24T19:38:44.326Z"
   },
   {
    "duration": 51,
    "start_time": "2022-04-24T19:38:52.414Z"
   },
   {
    "duration": 45,
    "start_time": "2022-04-24T19:39:17.400Z"
   },
   {
    "duration": 25,
    "start_time": "2022-04-24T19:39:40.583Z"
   },
   {
    "duration": 32,
    "start_time": "2022-04-24T19:40:21.641Z"
   },
   {
    "duration": 31,
    "start_time": "2022-04-24T19:41:04.299Z"
   },
   {
    "duration": 32,
    "start_time": "2022-04-24T19:41:14.756Z"
   },
   {
    "duration": 183,
    "start_time": "2022-04-24T19:43:18.515Z"
   },
   {
    "duration": 11,
    "start_time": "2022-04-24T19:43:24.297Z"
   },
   {
    "duration": 26,
    "start_time": "2022-04-24T19:43:34.498Z"
   },
   {
    "duration": 16,
    "start_time": "2022-04-24T19:44:02.196Z"
   },
   {
    "duration": 49,
    "start_time": "2022-04-24T19:44:08.995Z"
   },
   {
    "duration": 32,
    "start_time": "2022-04-24T19:45:08.374Z"
   },
   {
    "duration": 28,
    "start_time": "2022-04-24T19:45:38.863Z"
   },
   {
    "duration": 41,
    "start_time": "2022-04-24T19:45:58.776Z"
   },
   {
    "duration": 50,
    "start_time": "2022-04-24T19:46:15.113Z"
   },
   {
    "duration": 34,
    "start_time": "2022-04-24T19:46:19.458Z"
   },
   {
    "duration": 42,
    "start_time": "2022-04-24T19:50:16.692Z"
   },
   {
    "duration": 48,
    "start_time": "2022-04-24T19:51:59.624Z"
   },
   {
    "duration": 40,
    "start_time": "2022-04-24T19:52:11.017Z"
   },
   {
    "duration": 39,
    "start_time": "2022-04-24T19:52:33.451Z"
   },
   {
    "duration": 40,
    "start_time": "2022-04-24T19:56:19.979Z"
   },
   {
    "duration": 52,
    "start_time": "2022-04-24T20:08:35.526Z"
   },
   {
    "duration": 64,
    "start_time": "2022-04-24T20:10:17.960Z"
   },
   {
    "duration": 46,
    "start_time": "2022-04-24T20:11:20.051Z"
   },
   {
    "duration": 27,
    "start_time": "2022-04-24T20:11:31.467Z"
   },
   {
    "duration": 51,
    "start_time": "2022-04-24T20:13:36.280Z"
   },
   {
    "duration": 45,
    "start_time": "2022-04-24T20:14:21.219Z"
   },
   {
    "duration": 48,
    "start_time": "2022-04-24T20:15:14.053Z"
   },
   {
    "duration": 36,
    "start_time": "2022-04-24T20:15:34.853Z"
   },
   {
    "duration": 37,
    "start_time": "2022-04-24T20:16:01.191Z"
   },
   {
    "duration": 43,
    "start_time": "2022-04-24T20:16:53.993Z"
   },
   {
    "duration": 41,
    "start_time": "2022-04-24T20:19:31.432Z"
   },
   {
    "duration": 42,
    "start_time": "2022-04-24T20:19:37.364Z"
   },
   {
    "duration": 42,
    "start_time": "2022-04-24T20:20:19.507Z"
   },
   {
    "duration": 42,
    "start_time": "2022-04-24T20:32:09.578Z"
   },
   {
    "duration": 50,
    "start_time": "2022-04-25T07:18:44.203Z"
   },
   {
    "duration": 528,
    "start_time": "2022-04-25T07:18:56.217Z"
   },
   {
    "duration": 16,
    "start_time": "2022-04-25T07:18:56.747Z"
   },
   {
    "duration": 11,
    "start_time": "2022-04-25T07:18:56.765Z"
   },
   {
    "duration": 4,
    "start_time": "2022-04-25T07:18:56.778Z"
   },
   {
    "duration": 25,
    "start_time": "2022-04-25T07:18:56.784Z"
   },
   {
    "duration": 41,
    "start_time": "2022-04-25T07:18:56.811Z"
   },
   {
    "duration": 721,
    "start_time": "2022-04-25T07:18:56.855Z"
   },
   {
    "duration": 274,
    "start_time": "2022-04-25T07:18:57.578Z"
   },
   {
    "duration": 6,
    "start_time": "2022-04-25T07:18:57.854Z"
   },
   {
    "duration": 19,
    "start_time": "2022-04-25T07:18:57.862Z"
   },
   {
    "duration": 7,
    "start_time": "2022-04-25T07:18:57.883Z"
   },
   {
    "duration": 43,
    "start_time": "2022-04-25T07:18:57.892Z"
   },
   {
    "duration": 97,
    "start_time": "2022-04-25T07:18:57.937Z"
   },
   {
    "duration": 6,
    "start_time": "2022-04-25T07:18:58.038Z"
   },
   {
    "duration": 8,
    "start_time": "2022-04-25T07:18:58.046Z"
   },
   {
    "duration": 300,
    "start_time": "2022-04-25T07:18:58.056Z"
   },
   {
    "duration": 32,
    "start_time": "2022-04-25T07:18:58.358Z"
   },
   {
    "duration": 7,
    "start_time": "2022-04-25T07:18:58.392Z"
   },
   {
    "duration": 34,
    "start_time": "2022-04-25T07:18:58.400Z"
   },
   {
    "duration": 8,
    "start_time": "2022-04-25T07:18:58.436Z"
   },
   {
    "duration": 21,
    "start_time": "2022-04-25T07:18:58.446Z"
   },
   {
    "duration": 65,
    "start_time": "2022-04-25T07:18:58.469Z"
   },
   {
    "duration": 24,
    "start_time": "2022-04-25T07:18:58.536Z"
   },
   {
    "duration": 8,
    "start_time": "2022-04-25T07:18:58.562Z"
   },
   {
    "duration": 13,
    "start_time": "2022-04-25T07:18:58.572Z"
   },
   {
    "duration": 53,
    "start_time": "2022-04-25T07:18:58.587Z"
   },
   {
    "duration": 19,
    "start_time": "2022-04-25T07:18:58.642Z"
   },
   {
    "duration": 31,
    "start_time": "2022-04-25T07:18:58.663Z"
   },
   {
    "duration": 64,
    "start_time": "2022-04-25T07:18:58.696Z"
   },
   {
    "duration": 34,
    "start_time": "2022-04-25T07:18:58.762Z"
   },
   {
    "duration": 47,
    "start_time": "2022-04-25T07:18:58.798Z"
   },
   {
    "duration": 83,
    "start_time": "2022-04-25T07:39:17.527Z"
   },
   {
    "duration": 22,
    "start_time": "2022-04-25T07:39:17.612Z"
   },
   {
    "duration": 10,
    "start_time": "2022-04-25T07:39:17.636Z"
   },
   {
    "duration": 4,
    "start_time": "2022-04-25T07:39:17.648Z"
   },
   {
    "duration": 21,
    "start_time": "2022-04-25T07:39:17.654Z"
   },
   {
    "duration": 19,
    "start_time": "2022-04-25T07:39:17.676Z"
   },
   {
    "duration": 282,
    "start_time": "2022-04-25T07:39:17.697Z"
   },
   {
    "duration": 261,
    "start_time": "2022-04-25T07:39:17.981Z"
   },
   {
    "duration": 6,
    "start_time": "2022-04-25T07:39:18.243Z"
   },
   {
    "duration": 16,
    "start_time": "2022-04-25T07:39:18.251Z"
   },
   {
    "duration": 6,
    "start_time": "2022-04-25T07:39:18.268Z"
   },
   {
    "duration": 18,
    "start_time": "2022-04-25T07:39:18.275Z"
   },
   {
    "duration": 56,
    "start_time": "2022-04-25T07:39:18.295Z"
   },
   {
    "duration": 6,
    "start_time": "2022-04-25T07:39:18.354Z"
   },
   {
    "duration": 8,
    "start_time": "2022-04-25T07:39:18.362Z"
   },
   {
    "duration": 283,
    "start_time": "2022-04-25T07:39:18.371Z"
   },
   {
    "duration": 33,
    "start_time": "2022-04-25T07:39:18.656Z"
   },
   {
    "duration": 7,
    "start_time": "2022-04-25T07:39:18.691Z"
   },
   {
    "duration": 38,
    "start_time": "2022-04-25T07:39:18.699Z"
   },
   {
    "duration": 8,
    "start_time": "2022-04-25T07:39:18.739Z"
   },
   {
    "duration": 19,
    "start_time": "2022-04-25T07:39:18.749Z"
   },
   {
    "duration": 37,
    "start_time": "2022-04-25T07:39:18.770Z"
   },
   {
    "duration": 22,
    "start_time": "2022-04-25T07:39:18.834Z"
   },
   {
    "duration": 8,
    "start_time": "2022-04-25T07:39:18.858Z"
   },
   {
    "duration": 16,
    "start_time": "2022-04-25T07:39:18.868Z"
   },
   {
    "duration": 21,
    "start_time": "2022-04-25T07:39:18.886Z"
   },
   {
    "duration": 44,
    "start_time": "2022-04-25T07:39:18.908Z"
   },
   {
    "duration": 44,
    "start_time": "2022-04-25T07:39:18.953Z"
   },
   {
    "duration": 38,
    "start_time": "2022-04-25T07:39:18.998Z"
   },
   {
    "duration": 28,
    "start_time": "2022-04-25T07:39:19.038Z"
   },
   {
    "duration": 32,
    "start_time": "2022-04-25T07:39:19.068Z"
   },
   {
    "duration": 834,
    "start_time": "2022-04-25T09:56:40.250Z"
   },
   {
    "duration": 24,
    "start_time": "2022-04-25T09:56:41.087Z"
   },
   {
    "duration": 39,
    "start_time": "2022-04-25T09:56:41.114Z"
   },
   {
    "duration": 6,
    "start_time": "2022-04-25T09:56:41.157Z"
   },
   {
    "duration": 26,
    "start_time": "2022-04-25T09:56:45.399Z"
   },
   {
    "duration": 21,
    "start_time": "2022-04-25T09:57:03.767Z"
   }
  ],
  "kernelspec": {
   "display_name": "Python 3 (ipykernel)",
   "language": "python",
   "name": "python3"
  },
  "language_info": {
   "codemirror_mode": {
    "name": "ipython",
    "version": 3
   },
   "file_extension": ".py",
   "mimetype": "text/x-python",
   "name": "python",
   "nbconvert_exporter": "python",
   "pygments_lexer": "ipython3",
   "version": "3.9.7"
  },
  "toc": {
   "base_numbering": 1,
   "nav_menu": {
    "height": "253px",
    "width": "353px"
   },
   "number_sections": true,
   "sideBar": true,
   "skip_h1_title": true,
   "title_cell": "Table of Contents",
   "title_sidebar": "Contents",
   "toc_cell": false,
   "toc_position": {},
   "toc_section_display": true,
   "toc_window_display": false
  }
 },
 "nbformat": 4,
 "nbformat_minor": 5
}
